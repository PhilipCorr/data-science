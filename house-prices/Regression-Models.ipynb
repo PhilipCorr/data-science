{
 "cells": [
  {
   "cell_type": "markdown",
   "metadata": {},
   "source": [
    "This kernel cleans the data and applies various regression algorithms to the processed dataset. The preprocessing is mostly from the following link and I built on this to learn more about the various regression algorithms:\n",
    "\n",
    "https://www.kaggle.com/juliencs/a-study-on-regression-applied-to-the-ames-dataset\n",
    "\n"
   ]
  },
  {
   "cell_type": "code",
   "execution_count": 1,
   "metadata": {
    "collapsed": false
   },
   "outputs": [
    {
     "name": "stderr",
     "output_type": "stream",
     "text": [
      "/home/phil/anaconda2/envs/p35/lib/python3.5/site-packages/sklearn/cross_validation.py:41: DeprecationWarning: This module was deprecated in version 0.18 in favor of the model_selection module into which all the refactored classes and functions are moved. Also note that the interface of the new CV iterators are different from that of this module. This module will be removed in 0.20.\n",
      "  \"This module will be removed in 0.20.\", DeprecationWarning)\n"
     ]
    }
   ],
   "source": [
    "# Imports\n",
    "import pandas as pd\n",
    "import numpy as np\n",
    "from sklearn.model_selection import cross_val_score, train_test_split, GridSearchCV\n",
    "from sklearn.preprocessing import StandardScaler\n",
    "from sklearn.linear_model import LinearRegression, RidgeCV, LassoCV, ElasticNetCV\n",
    "from sklearn.metrics import mean_squared_error, make_scorer\n",
    "from IPython.display import display\n",
    "import matplotlib.pyplot as plt\n",
    "import xgboost as xgb\n",
    "import seaborn as sns\n",
    "\n"
   ]
  },
  {
   "cell_type": "markdown",
   "metadata": {},
   "source": [
    "### Definitions"
   ]
  },
  {
   "cell_type": "code",
   "execution_count": 2,
   "metadata": {
    "collapsed": true
   },
   "outputs": [],
   "source": [
    "pd.set_option('display.float_format', lambda x: '%.3f' % x)\n",
    "%matplotlib inline\n"
   ]
  },
  {
   "cell_type": "markdown",
   "metadata": {},
   "source": [
    "## Read In Data"
   ]
  },
  {
   "cell_type": "markdown",
   "metadata": {},
   "source": [
    "The training set has one extra column, the target variable.\n",
    "In this case this is the SalePrice.  \n",
    "It also has one extra row.\n",
    "This second fact isn't significant though."
   ]
  },
  {
   "cell_type": "code",
   "execution_count": 3,
   "metadata": {
    "collapsed": false
   },
   "outputs": [
    {
     "name": "stdout",
     "output_type": "stream",
     "text": [
      "train : (1460, 81)\n",
      "test : (1459, 80)\n"
     ]
    }
   ],
   "source": [
    "train = pd.read_csv(\"data/train.csv\")\n",
    "print(\"train : \" + str(train.shape))\n",
    "\n",
    "test = pd.read_csv(\"data/test.csv\")\n",
    "print(\"test : \" + str(test.shape))"
   ]
  },
  {
   "cell_type": "code",
   "execution_count": 4,
   "metadata": {
    "collapsed": false
   },
   "outputs": [
    {
     "data": {
      "text/html": [
       "<div>\n",
       "<table border=\"1\" class=\"dataframe\">\n",
       "  <thead>\n",
       "    <tr style=\"text-align: right;\">\n",
       "      <th></th>\n",
       "      <th>Id</th>\n",
       "      <th>MSSubClass</th>\n",
       "      <th>MSZoning</th>\n",
       "      <th>LotFrontage</th>\n",
       "      <th>LotArea</th>\n",
       "      <th>Street</th>\n",
       "      <th>Alley</th>\n",
       "      <th>LotShape</th>\n",
       "      <th>LandContour</th>\n",
       "      <th>Utilities</th>\n",
       "      <th>...</th>\n",
       "      <th>PoolArea</th>\n",
       "      <th>PoolQC</th>\n",
       "      <th>Fence</th>\n",
       "      <th>MiscFeature</th>\n",
       "      <th>MiscVal</th>\n",
       "      <th>MoSold</th>\n",
       "      <th>YrSold</th>\n",
       "      <th>SaleType</th>\n",
       "      <th>SaleCondition</th>\n",
       "      <th>SalePrice</th>\n",
       "    </tr>\n",
       "  </thead>\n",
       "  <tbody>\n",
       "    <tr>\n",
       "      <th>0</th>\n",
       "      <td>1</td>\n",
       "      <td>60</td>\n",
       "      <td>RL</td>\n",
       "      <td>65.000</td>\n",
       "      <td>8450</td>\n",
       "      <td>Pave</td>\n",
       "      <td>NaN</td>\n",
       "      <td>Reg</td>\n",
       "      <td>Lvl</td>\n",
       "      <td>AllPub</td>\n",
       "      <td>...</td>\n",
       "      <td>0</td>\n",
       "      <td>NaN</td>\n",
       "      <td>NaN</td>\n",
       "      <td>NaN</td>\n",
       "      <td>0</td>\n",
       "      <td>2</td>\n",
       "      <td>2008</td>\n",
       "      <td>WD</td>\n",
       "      <td>Normal</td>\n",
       "      <td>208500</td>\n",
       "    </tr>\n",
       "    <tr>\n",
       "      <th>1</th>\n",
       "      <td>2</td>\n",
       "      <td>20</td>\n",
       "      <td>RL</td>\n",
       "      <td>80.000</td>\n",
       "      <td>9600</td>\n",
       "      <td>Pave</td>\n",
       "      <td>NaN</td>\n",
       "      <td>Reg</td>\n",
       "      <td>Lvl</td>\n",
       "      <td>AllPub</td>\n",
       "      <td>...</td>\n",
       "      <td>0</td>\n",
       "      <td>NaN</td>\n",
       "      <td>NaN</td>\n",
       "      <td>NaN</td>\n",
       "      <td>0</td>\n",
       "      <td>5</td>\n",
       "      <td>2007</td>\n",
       "      <td>WD</td>\n",
       "      <td>Normal</td>\n",
       "      <td>181500</td>\n",
       "    </tr>\n",
       "    <tr>\n",
       "      <th>2</th>\n",
       "      <td>3</td>\n",
       "      <td>60</td>\n",
       "      <td>RL</td>\n",
       "      <td>68.000</td>\n",
       "      <td>11250</td>\n",
       "      <td>Pave</td>\n",
       "      <td>NaN</td>\n",
       "      <td>IR1</td>\n",
       "      <td>Lvl</td>\n",
       "      <td>AllPub</td>\n",
       "      <td>...</td>\n",
       "      <td>0</td>\n",
       "      <td>NaN</td>\n",
       "      <td>NaN</td>\n",
       "      <td>NaN</td>\n",
       "      <td>0</td>\n",
       "      <td>9</td>\n",
       "      <td>2008</td>\n",
       "      <td>WD</td>\n",
       "      <td>Normal</td>\n",
       "      <td>223500</td>\n",
       "    </tr>\n",
       "    <tr>\n",
       "      <th>3</th>\n",
       "      <td>4</td>\n",
       "      <td>70</td>\n",
       "      <td>RL</td>\n",
       "      <td>60.000</td>\n",
       "      <td>9550</td>\n",
       "      <td>Pave</td>\n",
       "      <td>NaN</td>\n",
       "      <td>IR1</td>\n",
       "      <td>Lvl</td>\n",
       "      <td>AllPub</td>\n",
       "      <td>...</td>\n",
       "      <td>0</td>\n",
       "      <td>NaN</td>\n",
       "      <td>NaN</td>\n",
       "      <td>NaN</td>\n",
       "      <td>0</td>\n",
       "      <td>2</td>\n",
       "      <td>2006</td>\n",
       "      <td>WD</td>\n",
       "      <td>Abnorml</td>\n",
       "      <td>140000</td>\n",
       "    </tr>\n",
       "    <tr>\n",
       "      <th>4</th>\n",
       "      <td>5</td>\n",
       "      <td>60</td>\n",
       "      <td>RL</td>\n",
       "      <td>84.000</td>\n",
       "      <td>14260</td>\n",
       "      <td>Pave</td>\n",
       "      <td>NaN</td>\n",
       "      <td>IR1</td>\n",
       "      <td>Lvl</td>\n",
       "      <td>AllPub</td>\n",
       "      <td>...</td>\n",
       "      <td>0</td>\n",
       "      <td>NaN</td>\n",
       "      <td>NaN</td>\n",
       "      <td>NaN</td>\n",
       "      <td>0</td>\n",
       "      <td>12</td>\n",
       "      <td>2008</td>\n",
       "      <td>WD</td>\n",
       "      <td>Normal</td>\n",
       "      <td>250000</td>\n",
       "    </tr>\n",
       "  </tbody>\n",
       "</table>\n",
       "<p>5 rows × 81 columns</p>\n",
       "</div>"
      ],
      "text/plain": [
       "   Id  MSSubClass MSZoning  LotFrontage  LotArea Street Alley LotShape  \\\n",
       "0   1          60       RL       65.000     8450   Pave   NaN      Reg   \n",
       "1   2          20       RL       80.000     9600   Pave   NaN      Reg   \n",
       "2   3          60       RL       68.000    11250   Pave   NaN      IR1   \n",
       "3   4          70       RL       60.000     9550   Pave   NaN      IR1   \n",
       "4   5          60       RL       84.000    14260   Pave   NaN      IR1   \n",
       "\n",
       "  LandContour Utilities    ...     PoolArea PoolQC Fence MiscFeature MiscVal  \\\n",
       "0         Lvl    AllPub    ...            0    NaN   NaN         NaN       0   \n",
       "1         Lvl    AllPub    ...            0    NaN   NaN         NaN       0   \n",
       "2         Lvl    AllPub    ...            0    NaN   NaN         NaN       0   \n",
       "3         Lvl    AllPub    ...            0    NaN   NaN         NaN       0   \n",
       "4         Lvl    AllPub    ...            0    NaN   NaN         NaN       0   \n",
       "\n",
       "  MoSold YrSold  SaleType  SaleCondition  SalePrice  \n",
       "0      2   2008        WD         Normal     208500  \n",
       "1      5   2007        WD         Normal     181500  \n",
       "2      9   2008        WD         Normal     223500  \n",
       "3      2   2006        WD        Abnorml     140000  \n",
       "4     12   2008        WD         Normal     250000  \n",
       "\n",
       "[5 rows x 81 columns]"
      ]
     },
     "execution_count": 4,
     "metadata": {},
     "output_type": "execute_result"
    }
   ],
   "source": [
    "train.head()"
   ]
  },
  {
   "cell_type": "code",
   "execution_count": 5,
   "metadata": {
    "collapsed": false
   },
   "outputs": [
    {
     "data": {
      "text/html": [
       "<div>\n",
       "<table border=\"1\" class=\"dataframe\">\n",
       "  <thead>\n",
       "    <tr style=\"text-align: right;\">\n",
       "      <th></th>\n",
       "      <th>Id</th>\n",
       "      <th>MSSubClass</th>\n",
       "      <th>MSZoning</th>\n",
       "      <th>LotFrontage</th>\n",
       "      <th>LotArea</th>\n",
       "      <th>Street</th>\n",
       "      <th>Alley</th>\n",
       "      <th>LotShape</th>\n",
       "      <th>LandContour</th>\n",
       "      <th>Utilities</th>\n",
       "      <th>...</th>\n",
       "      <th>ScreenPorch</th>\n",
       "      <th>PoolArea</th>\n",
       "      <th>PoolQC</th>\n",
       "      <th>Fence</th>\n",
       "      <th>MiscFeature</th>\n",
       "      <th>MiscVal</th>\n",
       "      <th>MoSold</th>\n",
       "      <th>YrSold</th>\n",
       "      <th>SaleType</th>\n",
       "      <th>SaleCondition</th>\n",
       "    </tr>\n",
       "  </thead>\n",
       "  <tbody>\n",
       "    <tr>\n",
       "      <th>0</th>\n",
       "      <td>1461</td>\n",
       "      <td>20</td>\n",
       "      <td>RH</td>\n",
       "      <td>80.000</td>\n",
       "      <td>11622</td>\n",
       "      <td>Pave</td>\n",
       "      <td>NaN</td>\n",
       "      <td>Reg</td>\n",
       "      <td>Lvl</td>\n",
       "      <td>AllPub</td>\n",
       "      <td>...</td>\n",
       "      <td>120</td>\n",
       "      <td>0</td>\n",
       "      <td>NaN</td>\n",
       "      <td>MnPrv</td>\n",
       "      <td>NaN</td>\n",
       "      <td>0</td>\n",
       "      <td>6</td>\n",
       "      <td>2010</td>\n",
       "      <td>WD</td>\n",
       "      <td>Normal</td>\n",
       "    </tr>\n",
       "    <tr>\n",
       "      <th>1</th>\n",
       "      <td>1462</td>\n",
       "      <td>20</td>\n",
       "      <td>RL</td>\n",
       "      <td>81.000</td>\n",
       "      <td>14267</td>\n",
       "      <td>Pave</td>\n",
       "      <td>NaN</td>\n",
       "      <td>IR1</td>\n",
       "      <td>Lvl</td>\n",
       "      <td>AllPub</td>\n",
       "      <td>...</td>\n",
       "      <td>0</td>\n",
       "      <td>0</td>\n",
       "      <td>NaN</td>\n",
       "      <td>NaN</td>\n",
       "      <td>Gar2</td>\n",
       "      <td>12500</td>\n",
       "      <td>6</td>\n",
       "      <td>2010</td>\n",
       "      <td>WD</td>\n",
       "      <td>Normal</td>\n",
       "    </tr>\n",
       "    <tr>\n",
       "      <th>2</th>\n",
       "      <td>1463</td>\n",
       "      <td>60</td>\n",
       "      <td>RL</td>\n",
       "      <td>74.000</td>\n",
       "      <td>13830</td>\n",
       "      <td>Pave</td>\n",
       "      <td>NaN</td>\n",
       "      <td>IR1</td>\n",
       "      <td>Lvl</td>\n",
       "      <td>AllPub</td>\n",
       "      <td>...</td>\n",
       "      <td>0</td>\n",
       "      <td>0</td>\n",
       "      <td>NaN</td>\n",
       "      <td>MnPrv</td>\n",
       "      <td>NaN</td>\n",
       "      <td>0</td>\n",
       "      <td>3</td>\n",
       "      <td>2010</td>\n",
       "      <td>WD</td>\n",
       "      <td>Normal</td>\n",
       "    </tr>\n",
       "    <tr>\n",
       "      <th>3</th>\n",
       "      <td>1464</td>\n",
       "      <td>60</td>\n",
       "      <td>RL</td>\n",
       "      <td>78.000</td>\n",
       "      <td>9978</td>\n",
       "      <td>Pave</td>\n",
       "      <td>NaN</td>\n",
       "      <td>IR1</td>\n",
       "      <td>Lvl</td>\n",
       "      <td>AllPub</td>\n",
       "      <td>...</td>\n",
       "      <td>0</td>\n",
       "      <td>0</td>\n",
       "      <td>NaN</td>\n",
       "      <td>NaN</td>\n",
       "      <td>NaN</td>\n",
       "      <td>0</td>\n",
       "      <td>6</td>\n",
       "      <td>2010</td>\n",
       "      <td>WD</td>\n",
       "      <td>Normal</td>\n",
       "    </tr>\n",
       "    <tr>\n",
       "      <th>4</th>\n",
       "      <td>1465</td>\n",
       "      <td>120</td>\n",
       "      <td>RL</td>\n",
       "      <td>43.000</td>\n",
       "      <td>5005</td>\n",
       "      <td>Pave</td>\n",
       "      <td>NaN</td>\n",
       "      <td>IR1</td>\n",
       "      <td>HLS</td>\n",
       "      <td>AllPub</td>\n",
       "      <td>...</td>\n",
       "      <td>144</td>\n",
       "      <td>0</td>\n",
       "      <td>NaN</td>\n",
       "      <td>NaN</td>\n",
       "      <td>NaN</td>\n",
       "      <td>0</td>\n",
       "      <td>1</td>\n",
       "      <td>2010</td>\n",
       "      <td>WD</td>\n",
       "      <td>Normal</td>\n",
       "    </tr>\n",
       "  </tbody>\n",
       "</table>\n",
       "<p>5 rows × 80 columns</p>\n",
       "</div>"
      ],
      "text/plain": [
       "     Id  MSSubClass MSZoning  LotFrontage  LotArea Street Alley LotShape  \\\n",
       "0  1461          20       RH       80.000    11622   Pave   NaN      Reg   \n",
       "1  1462          20       RL       81.000    14267   Pave   NaN      IR1   \n",
       "2  1463          60       RL       74.000    13830   Pave   NaN      IR1   \n",
       "3  1464          60       RL       78.000     9978   Pave   NaN      IR1   \n",
       "4  1465         120       RL       43.000     5005   Pave   NaN      IR1   \n",
       "\n",
       "  LandContour Utilities      ...       ScreenPorch PoolArea PoolQC  Fence  \\\n",
       "0         Lvl    AllPub      ...               120        0    NaN  MnPrv   \n",
       "1         Lvl    AllPub      ...                 0        0    NaN    NaN   \n",
       "2         Lvl    AllPub      ...                 0        0    NaN  MnPrv   \n",
       "3         Lvl    AllPub      ...                 0        0    NaN    NaN   \n",
       "4         HLS    AllPub      ...               144        0    NaN    NaN   \n",
       "\n",
       "  MiscFeature MiscVal MoSold  YrSold  SaleType  SaleCondition  \n",
       "0         NaN       0      6    2010        WD         Normal  \n",
       "1        Gar2   12500      6    2010        WD         Normal  \n",
       "2         NaN       0      3    2010        WD         Normal  \n",
       "3         NaN       0      6    2010        WD         Normal  \n",
       "4         NaN       0      1    2010        WD         Normal  \n",
       "\n",
       "[5 rows x 80 columns]"
      ]
     },
     "execution_count": 5,
     "metadata": {},
     "output_type": "execute_result"
    }
   ],
   "source": [
    "test.head()"
   ]
  },
  {
   "cell_type": "markdown",
   "metadata": {},
   "source": [
    "## Cleaning the data"
   ]
  },
  {
   "cell_type": "markdown",
   "metadata": {},
   "source": [
    "### Check for Duplicates"
   ]
  },
  {
   "cell_type": "code",
   "execution_count": 6,
   "metadata": {
    "collapsed": false
   },
   "outputs": [
    {
     "name": "stdout",
     "output_type": "stream",
     "text": [
      "There are 0 duplicate IDs for 1460 total train entries\n"
     ]
    }
   ],
   "source": [
    "# Check for train duplicates\n",
    "idsUnique = len(set(train.Id))\n",
    "idsTotal = train.shape[0]\n",
    "idsDupli = idsTotal - idsUnique\n",
    "print(\"There are \" + str(idsDupli) + \" duplicate IDs for \" + str(idsTotal) + \" total train entries\")"
   ]
  },
  {
   "cell_type": "code",
   "execution_count": 7,
   "metadata": {
    "collapsed": false
   },
   "outputs": [
    {
     "name": "stdout",
     "output_type": "stream",
     "text": [
      "There are 0 duplicate IDs for 1459 total test entries\n"
     ]
    }
   ],
   "source": [
    "# Check for test duplicates\n",
    "idsUnique = len(set(test.Id))\n",
    "idsTotal = test.shape[0]\n",
    "idsDupli = idsTotal - idsUnique\n",
    "print(\"There are \" + str(idsDupli) + \" duplicate IDs for \" + str(idsTotal) + \" total test entries\")"
   ]
  },
  {
   "cell_type": "markdown",
   "metadata": {},
   "source": [
    "### Drop unnecessary columns\n"
   ]
  },
  {
   "cell_type": "code",
   "execution_count": 8,
   "metadata": {
    "collapsed": true
   },
   "outputs": [],
   "source": [
    "train.drop(\"Id\", axis = 1, inplace = True)\n",
    "test_Id = test[\"Id\"]\n",
    "test.drop(\"Id\", axis = 1, inplace = True)\n"
   ]
  },
  {
   "cell_type": "markdown",
   "metadata": {},
   "source": [
    "### Outliers"
   ]
  },
  {
   "cell_type": "code",
   "execution_count": 9,
   "metadata": {
    "collapsed": false
   },
   "outputs": [
    {
     "data": {
      "image/png": "[encoded data removed]",
      "text/plain": [
       "<matplotlib.figure.Figure at 0x7fbfa8850f60>"
      ]
     },
     "metadata": {},
     "output_type": "display_data"
    }
   ],
   "source": [
    "# Looking for outliers, as indicated in https://ww2.amstat.org/publications/jse/v19n3/decock.pdf\n",
    "plt.scatter(train.GrLivArea, train.SalePrice, c = \"blue\", marker = \"s\")\n",
    "plt.title(\"Looking for outliers\")\n",
    "plt.xlabel(\"GrLivArea\")\n",
    "plt.ylabel(\"SalePrice\")\n",
    "plt.show()\n",
    "\n",
    "train = train[train.GrLivArea < 4000]"
   ]
  },
  {
   "cell_type": "markdown",
   "metadata": {},
   "source": [
    "### Analyse the target variable\n"
   ]
  },
  {
   "cell_type": "markdown",
   "metadata": {},
   "source": [
    "The SalePrice has a skewed distribution as seen below. The purpose taking the log of it is to obtain residuals that are approximately symmetrically distributed about zero.... Is this true??"
   ]
  },
  {
   "cell_type": "code",
   "execution_count": 10,
   "metadata": {
    "collapsed": false
   },
   "outputs": [
    {
     "data": {
      "image/png": "[encoded data removed]",
      "text/plain": [
       "<matplotlib.figure.Figure at 0x7fbfa884a860>"
      ]
     },
     "metadata": {},
     "output_type": "display_data"
    }
   ],
   "source": [
    "sns.distplot(train['SalePrice']);\n"
   ]
  },
  {
   "cell_type": "code",
   "execution_count": 11,
   "metadata": {
    "collapsed": true
   },
   "outputs": [],
   "source": [
    "# Log transform the target for official scoring\n",
    "train.SalePrice = np.log(train.SalePrice)\n",
    "y = train.SalePrice"
   ]
  },
  {
   "cell_type": "code",
   "execution_count": 12,
   "metadata": {
    "collapsed": false
   },
   "outputs": [
    {
     "data": {
      "image/png": "[encoded data removed]",
      "text/plain": [
       "<matplotlib.figure.Figure at 0x7fbfa67eb710>"
      ]
     },
     "metadata": {},
     "output_type": "display_data"
    }
   ],
   "source": [
    "sns.distplot(train['SalePrice']);\n"
   ]
  },
  {
   "cell_type": "markdown",
   "metadata": {},
   "source": [
    "### Handle missing values for features where median/mean or most common value doesn't make sense\n"
   ]
  },
  {
   "cell_type": "code",
   "execution_count": 13,
   "metadata": {
    "collapsed": true
   },
   "outputs": [],
   "source": [
    "# Handle missing values for features where median/mean or most common value doesn't make sense\n",
    "\n",
    "# Alley : data description says NA means \"no alley access\"\n",
    "train.loc[:, \"Alley\"] = train.loc[:, \"Alley\"].fillna(\"None\")\n",
    "# BedroomAbvGr : NA most likely means 0\n",
    "train.loc[:, \"BedroomAbvGr\"] = train.loc[:, \"BedroomAbvGr\"].fillna(0)\n",
    "# BsmtQual etc : data description says NA for basement features is \"no basement\"\n",
    "train.loc[:, \"BsmtQual\"] = train.loc[:, \"BsmtQual\"].fillna(\"No\")\n",
    "train.loc[:, \"BsmtCond\"] = train.loc[:, \"BsmtCond\"].fillna(\"No\")\n",
    "train.loc[:, \"BsmtExposure\"] = train.loc[:, \"BsmtExposure\"].fillna(\"No\")\n",
    "train.loc[:, \"BsmtFinType1\"] = train.loc[:, \"BsmtFinType1\"].fillna(\"No\")\n",
    "train.loc[:, \"BsmtFinType2\"] = train.loc[:, \"BsmtFinType2\"].fillna(\"No\")\n",
    "train.loc[:, \"BsmtFullBath\"] = train.loc[:, \"BsmtFullBath\"].fillna(0)\n",
    "train.loc[:, \"BsmtHalfBath\"] = train.loc[:, \"BsmtHalfBath\"].fillna(0)\n",
    "train.loc[:, \"BsmtUnfSF\"] = train.loc[:, \"BsmtUnfSF\"].fillna(0)\n",
    "# CentralAir : NA most likely means No\n",
    "train.loc[:, \"CentralAir\"] = train.loc[:, \"CentralAir\"].fillna(\"N\")\n",
    "# Condition : NA most likely means Normal\n",
    "train.loc[:, \"Condition1\"] = train.loc[:, \"Condition1\"].fillna(\"Norm\")\n",
    "train.loc[:, \"Condition2\"] = train.loc[:, \"Condition2\"].fillna(\"Norm\")\n",
    "# EnclosedPorch : NA most likely means no enclosed porch\n",
    "train.loc[:, \"EnclosedPorch\"] = train.loc[:, \"EnclosedPorch\"].fillna(0)\n",
    "# External stuff : NA most likely means average\n",
    "train.loc[:, \"ExterCond\"] = train.loc[:, \"ExterCond\"].fillna(\"TA\")\n",
    "train.loc[:, \"ExterQual\"] = train.loc[:, \"ExterQual\"].fillna(\"TA\")\n",
    "# Fence : data description says NA means \"no fence\"\n",
    "train.loc[:, \"Fence\"] = train.loc[:, \"Fence\"].fillna(\"No\")\n",
    "# FireplaceQu : data description says NA means \"no fireplace\"\n",
    "train.loc[:, \"FireplaceQu\"] = train.loc[:, \"FireplaceQu\"].fillna(\"No\")\n",
    "train.loc[:, \"Fireplaces\"] = train.loc[:, \"Fireplaces\"].fillna(0)\n",
    "# Functional : data description says NA means typical\n",
    "train.loc[:, \"Functional\"] = train.loc[:, \"Functional\"].fillna(\"Typ\")\n",
    "# GarageType etc : data description says NA for garage features is \"no garage\"\n",
    "train.loc[:, \"GarageType\"] = train.loc[:, \"GarageType\"].fillna(\"No\")\n",
    "train.loc[:, \"GarageFinish\"] = train.loc[:, \"GarageFinish\"].fillna(\"No\")\n",
    "train.loc[:, \"GarageQual\"] = train.loc[:, \"GarageQual\"].fillna(\"No\")\n",
    "train.loc[:, \"GarageCond\"] = train.loc[:, \"GarageCond\"].fillna(\"No\")\n",
    "train.loc[:, \"GarageArea\"] = train.loc[:, \"GarageArea\"].fillna(0)\n",
    "train.loc[:, \"GarageCars\"] = train.loc[:, \"GarageCars\"].fillna(0)\n",
    "# HalfBath : NA most likely means no half baths above grade\n",
    "train.loc[:, \"HalfBath\"] = train.loc[:, \"HalfBath\"].fillna(0)\n",
    "# HeatingQC : NA most likely means typical\n",
    "train.loc[:, \"HeatingQC\"] = train.loc[:, \"HeatingQC\"].fillna(\"TA\")\n",
    "# KitchenAbvGr : NA most likely means 0\n",
    "train.loc[:, \"KitchenAbvGr\"] = train.loc[:, \"KitchenAbvGr\"].fillna(0)\n",
    "# KitchenQual : NA most likely means typical\n",
    "train.loc[:, \"KitchenQual\"] = train.loc[:, \"KitchenQual\"].fillna(\"TA\")\n",
    "# LotFrontage : NA most likely means no lot frontage\n",
    "train.loc[:, \"LotFrontage\"] = train.loc[:, \"LotFrontage\"].fillna(0)\n",
    "# LotShape : NA most likely means regular\n",
    "train.loc[:, \"LotShape\"] = train.loc[:, \"LotShape\"].fillna(\"Reg\")\n",
    "# MasVnrType : NA most likely means no veneer\n",
    "train.loc[:, \"MasVnrType\"] = train.loc[:, \"MasVnrType\"].fillna(\"None\")\n",
    "train.loc[:, \"MasVnrArea\"] = train.loc[:, \"MasVnrArea\"].fillna(0)\n",
    "# MiscFeature : data description says NA means \"no misc feature\"\n",
    "train.loc[:, \"MiscFeature\"] = train.loc[:, \"MiscFeature\"].fillna(\"No\")\n",
    "train.loc[:, \"MiscVal\"] = train.loc[:, \"MiscVal\"].fillna(0)\n",
    "# OpenPorchSF : NA most likely means no open porch\n",
    "train.loc[:, \"OpenPorchSF\"] = train.loc[:, \"OpenPorchSF\"].fillna(0)\n",
    "# PavedDrive : NA most likely means not paved\n",
    "train.loc[:, \"PavedDrive\"] = train.loc[:, \"PavedDrive\"].fillna(\"N\")\n",
    "# PoolQC : data description says NA means \"no pool\"\n",
    "train.loc[:, \"PoolQC\"] = train.loc[:, \"PoolQC\"].fillna(\"No\")\n",
    "train.loc[:, \"PoolArea\"] = train.loc[:, \"PoolArea\"].fillna(0)\n",
    "# SaleCondition : NA most likely means normal sale\n",
    "train.loc[:, \"SaleCondition\"] = train.loc[:, \"SaleCondition\"].fillna(\"Normal\")\n",
    "# ScreenPorch : NA most likely means no screen porch\n",
    "train.loc[:, \"ScreenPorch\"] = train.loc[:, \"ScreenPorch\"].fillna(0)\n",
    "# TotRmsAbvGrd : NA most likely means 0\n",
    "train.loc[:, \"TotRmsAbvGrd\"] = train.loc[:, \"TotRmsAbvGrd\"].fillna(0)\n",
    "# Utilities : NA most likely means all public utilities\n",
    "train.loc[:, \"Utilities\"] = train.loc[:, \"Utilities\"].fillna(\"AllPub\")\n",
    "# WoodDeckSF : NA most likely means no wood deck\n",
    "train.loc[:, \"WoodDeckSF\"] = train.loc[:, \"WoodDeckSF\"].fillna(0)"
   ]
  },
  {
   "cell_type": "code",
   "execution_count": 14,
   "metadata": {
    "collapsed": true
   },
   "outputs": [],
   "source": [
    "# Alley : data description says NA means \"no alley access\"\n",
    "test.loc[:, \"Alley\"] = test.loc[:, \"Alley\"].fillna(\"None\")\n",
    "# BedroomAbvGr : NA most likely means 0\n",
    "test.loc[:, \"BedroomAbvGr\"] = test.loc[:, \"BedroomAbvGr\"].fillna(0)\n",
    "# BsmtQual etc : data description says NA for basement features is \"no basement\"\n",
    "test.loc[:, \"BsmtQual\"] = test.loc[:, \"BsmtQual\"].fillna(\"No\")\n",
    "test.loc[:, \"BsmtCond\"] = test.loc[:, \"BsmtCond\"].fillna(\"No\")\n",
    "test.loc[:, \"BsmtExposure\"] = test.loc[:, \"BsmtExposure\"].fillna(\"No\")\n",
    "test.loc[:, \"BsmtFinType1\"] = test.loc[:, \"BsmtFinType1\"].fillna(\"No\")\n",
    "test.loc[:, \"BsmtFinType2\"] = test.loc[:, \"BsmtFinType2\"].fillna(\"No\")\n",
    "test.loc[:, \"BsmtFullBath\"] = test.loc[:, \"BsmtFullBath\"].fillna(0)\n",
    "test.loc[:, \"BsmtHalfBath\"] = test.loc[:, \"BsmtHalfBath\"].fillna(0)\n",
    "test.loc[:, \"BsmtUnfSF\"] = test.loc[:, \"BsmtUnfSF\"].fillna(0)\n",
    "# CentralAir : NA most likely means No\n",
    "test.loc[:, \"CentralAir\"] = test.loc[:, \"CentralAir\"].fillna(\"N\")\n",
    "# Condition : NA most likely means Normal\n",
    "test.loc[:, \"Condition1\"] = test.loc[:, \"Condition1\"].fillna(\"Norm\")\n",
    "test.loc[:, \"Condition2\"] = test.loc[:, \"Condition2\"].fillna(\"Norm\")\n",
    "# EnclosedPorch : NA most likely means no enclosed porch\n",
    "test.loc[:, \"EnclosedPorch\"] = test.loc[:, \"EnclosedPorch\"].fillna(0)\n",
    "# External stuff : NA most likely means average\n",
    "test.loc[:, \"ExterCond\"] = test.loc[:, \"ExterCond\"].fillna(\"TA\")\n",
    "test.loc[:, \"ExterQual\"] = test.loc[:, \"ExterQual\"].fillna(\"TA\")\n",
    "# Fence : data description says NA means \"no fence\"\n",
    "test.loc[:, \"Fence\"] = test.loc[:, \"Fence\"].fillna(\"No\")\n",
    "# FireplaceQu : data description says NA means \"no fireplace\"\n",
    "test.loc[:, \"FireplaceQu\"] = test.loc[:, \"FireplaceQu\"].fillna(\"No\")\n",
    "test.loc[:, \"Fireplaces\"] = test.loc[:, \"Fireplaces\"].fillna(0)\n",
    "# Functional : data description says NA means typical\n",
    "test.loc[:, \"Functional\"] = test.loc[:, \"Functional\"].fillna(\"Typ\")\n",
    "# GarageType etc : data description says NA for garage features is \"no garage\"\n",
    "test.loc[:, \"GarageType\"] = test.loc[:, \"GarageType\"].fillna(\"No\")\n",
    "test.loc[:, \"GarageFinish\"] = test.loc[:, \"GarageFinish\"].fillna(\"No\")\n",
    "test.loc[:, \"GarageQual\"] = test.loc[:, \"GarageQual\"].fillna(\"No\")\n",
    "test.loc[:, \"GarageCond\"] = test.loc[:, \"GarageCond\"].fillna(\"No\")\n",
    "test.loc[:, \"GarageArea\"] = test.loc[:, \"GarageArea\"].fillna(0)\n",
    "test.loc[:, \"GarageCars\"] = test.loc[:, \"GarageCars\"].fillna(0)\n",
    "# HalfBath : NA most likely means no half baths above grade\n",
    "test.loc[:, \"HalfBath\"] = test.loc[:, \"HalfBath\"].fillna(0)\n",
    "# HeatingQC : NA most likely means typical\n",
    "test.loc[:, \"HeatingQC\"] = test.loc[:, \"HeatingQC\"].fillna(\"TA\")\n",
    "# KitchenAbvGr : NA most likely means 0\n",
    "test.loc[:, \"KitchenAbvGr\"] = test.loc[:, \"KitchenAbvGr\"].fillna(0)\n",
    "# KitchenQual : NA most likely means typical\n",
    "test.loc[:, \"KitchenQual\"] = test.loc[:, \"KitchenQual\"].fillna(\"TA\")\n",
    "# LotFrontage : NA most likely means no lot frontage\n",
    "test.loc[:, \"LotFrontage\"] = test.loc[:, \"LotFrontage\"].fillna(0)\n",
    "# LotShape : NA most likely means regular\n",
    "test.loc[:, \"LotShape\"] = test.loc[:, \"LotShape\"].fillna(\"Reg\")\n",
    "# MasVnrType : NA most likely means no veneer\n",
    "test.loc[:, \"MasVnrType\"] = test.loc[:, \"MasVnrType\"].fillna(\"None\")\n",
    "test.loc[:, \"MasVnrArea\"] = test.loc[:, \"MasVnrArea\"].fillna(0)\n",
    "# MiscFeature : data description says NA means \"no misc feature\"\n",
    "test.loc[:, \"MiscFeature\"] = test.loc[:, \"MiscFeature\"].fillna(\"No\")\n",
    "test.loc[:, \"MiscVal\"] = test.loc[:, \"MiscVal\"].fillna(0)\n",
    "# OpenPorchSF : NA most likely means no open porch\n",
    "test.loc[:, \"OpenPorchSF\"] = test.loc[:, \"OpenPorchSF\"].fillna(0)\n",
    "# PavedDrive : NA most likely means not paved\n",
    "test.loc[:, \"PavedDrive\"] = test.loc[:, \"PavedDrive\"].fillna(\"N\")\n",
    "# PoolQC : data description says NA means \"no pool\"\n",
    "test.loc[:, \"PoolQC\"] = test.loc[:, \"PoolQC\"].fillna(\"No\")\n",
    "test.loc[:, \"PoolArea\"] = test.loc[:, \"PoolArea\"].fillna(0)\n",
    "# SaleCondition : NA most likely means normal sale\n",
    "test.loc[:, \"SaleCondition\"] = test.loc[:, \"SaleCondition\"].fillna(\"Normal\")\n",
    "# ScreenPorch : NA most likely means no screen porch\n",
    "test.loc[:, \"ScreenPorch\"] = test.loc[:, \"ScreenPorch\"].fillna(0)\n",
    "# TotRmsAbvGrd : NA most likely means 0\n",
    "test.loc[:, \"TotRmsAbvGrd\"] = test.loc[:, \"TotRmsAbvGrd\"].fillna(0)\n",
    "# Utilities : NA most likely means all public utilities\n",
    "test.loc[:, \"Utilities\"] = test.loc[:, \"Utilities\"].fillna(\"AllPub\")\n",
    "# WoodDeckSF : NA most likely means no wood deck\n",
    "test.loc[:, \"WoodDeckSF\"] = test.loc[:, \"WoodDeckSF\"].fillna(0)"
   ]
  },
  {
   "cell_type": "markdown",
   "metadata": {},
   "source": [
    "### Some numerical features are actually really categories\n"
   ]
  },
  {
   "cell_type": "code",
   "execution_count": 15,
   "metadata": {
    "collapsed": true
   },
   "outputs": [],
   "source": [
    "train = train.replace({\"MSSubClass\" : {20 : \"SC20\", 30 : \"SC30\", 40 : \"SC40\", 45 : \"SC45\", \n",
    "                                       50 : \"SC50\", 60 : \"SC60\", 70 : \"SC70\", 75 : \"SC75\", \n",
    "                                       80 : \"SC80\", 85 : \"SC85\", 90 : \"SC90\", 120 : \"SC120\", \n",
    "                                       150 : \"SC150\", 160 : \"SC160\", 180 : \"SC180\", 190 : \"SC190\"},\n",
    "                       \"MoSold\" : {1 : \"Jan\", 2 : \"Feb\", 3 : \"Mar\", 4 : \"Apr\", 5 : \"May\", 6 : \"Jun\",\n",
    "                                   7 : \"Jul\", 8 : \"Aug\", 9 : \"Sep\", 10 : \"Oct\", 11 : \"Nov\", 12 : \"Dec\"}\n",
    "                      })"
   ]
  },
  {
   "cell_type": "code",
   "execution_count": 16,
   "metadata": {
    "collapsed": true
   },
   "outputs": [],
   "source": [
    "test = test.replace({\"MSSubClass\" : {20 : \"SC20\", 30 : \"SC30\", 40 : \"SC40\", 45 : \"SC45\", \n",
    "                                       50 : \"SC50\", 60 : \"SC60\", 70 : \"SC70\", 75 : \"SC75\", \n",
    "                                       80 : \"SC80\", 85 : \"SC85\", 90 : \"SC90\", 120 : \"SC120\", \n",
    "                                       150 : \"SC150\", 160 : \"SC160\", 180 : \"SC180\", 190 : \"SC190\"},\n",
    "                       \"MoSold\" : {1 : \"Jan\", 2 : \"Feb\", 3 : \"Mar\", 4 : \"Apr\", 5 : \"May\", 6 : \"Jun\",\n",
    "                                   7 : \"Jul\", 8 : \"Aug\", 9 : \"Sep\", 10 : \"Oct\", 11 : \"Nov\", 12 : \"Dec\"}\n",
    "                      })"
   ]
  },
  {
   "cell_type": "markdown",
   "metadata": {},
   "source": [
    "### Encode some categorical features as ordered numbers when there is information in the order\n"
   ]
  },
  {
   "cell_type": "code",
   "execution_count": 17,
   "metadata": {
    "collapsed": true
   },
   "outputs": [],
   "source": [
    "train = train.replace({\"Alley\" : {\"Grvl\" : 1, \"Pave\" : 2},\n",
    "                       \"BsmtCond\" : {\"No\" : 0, \"Po\" : 1, \"Fa\" : 2, \"TA\" : 3, \"Gd\" : 4, \"Ex\" : 5},\n",
    "                       \"BsmtExposure\" : {\"No\" : 0, \"Mn\" : 1, \"Av\": 2, \"Gd\" : 3},\n",
    "                       \"BsmtFinType1\" : {\"No\" : 0, \"Unf\" : 1, \"LwQ\": 2, \"Rec\" : 3, \"BLQ\" : 4, \n",
    "                                         \"ALQ\" : 5, \"GLQ\" : 6},\n",
    "                       \"BsmtFinType2\" : {\"No\" : 0, \"Unf\" : 1, \"LwQ\": 2, \"Rec\" : 3, \"BLQ\" : 4, \n",
    "                                         \"ALQ\" : 5, \"GLQ\" : 6},\n",
    "                       \"BsmtQual\" : {\"No\" : 0, \"Po\" : 1, \"Fa\" : 2, \"TA\": 3, \"Gd\" : 4, \"Ex\" : 5},\n",
    "                       \"ExterCond\" : {\"Po\" : 1, \"Fa\" : 2, \"TA\": 3, \"Gd\": 4, \"Ex\" : 5},\n",
    "                       \"ExterQual\" : {\"Po\" : 1, \"Fa\" : 2, \"TA\": 3, \"Gd\": 4, \"Ex\" : 5},\n",
    "                       \"FireplaceQu\" : {\"No\" : 0, \"Po\" : 1, \"Fa\" : 2, \"TA\" : 3, \"Gd\" : 4, \"Ex\" : 5},\n",
    "                       \"Functional\" : {\"Sal\" : 1, \"Sev\" : 2, \"Maj2\" : 3, \"Maj1\" : 4, \"Mod\": 5, \n",
    "                                       \"Min2\" : 6, \"Min1\" : 7, \"Typ\" : 8},\n",
    "                       \"GarageCond\" : {\"No\" : 0, \"Po\" : 1, \"Fa\" : 2, \"TA\" : 3, \"Gd\" : 4, \"Ex\" : 5},\n",
    "                       \"GarageQual\" : {\"No\" : 0, \"Po\" : 1, \"Fa\" : 2, \"TA\" : 3, \"Gd\" : 4, \"Ex\" : 5},\n",
    "                       \"HeatingQC\" : {\"Po\" : 1, \"Fa\" : 2, \"TA\" : 3, \"Gd\" : 4, \"Ex\" : 5},\n",
    "                       \"KitchenQual\" : {\"Po\" : 1, \"Fa\" : 2, \"TA\" : 3, \"Gd\" : 4, \"Ex\" : 5},\n",
    "                       \"LandSlope\" : {\"Sev\" : 1, \"Mod\" : 2, \"Gtl\" : 3},\n",
    "                       \"LotShape\" : {\"IR3\" : 1, \"IR2\" : 2, \"IR1\" : 3, \"Reg\" : 4},\n",
    "                       \"PavedDrive\" : {\"N\" : 0, \"P\" : 1, \"Y\" : 2},\n",
    "                       \"PoolQC\" : {\"No\" : 0, \"Fa\" : 1, \"TA\" : 2, \"Gd\" : 3, \"Ex\" : 4},\n",
    "                       \"Street\" : {\"Grvl\" : 1, \"Pave\" : 2},\n",
    "                       \"Utilities\" : {\"ELO\" : 1, \"NoSeWa\" : 2, \"NoSewr\" : 3, \"AllPub\" : 4}}\n",
    "                     )"
   ]
  },
  {
   "cell_type": "code",
   "execution_count": 18,
   "metadata": {
    "collapsed": true
   },
   "outputs": [],
   "source": [
    "# Encode some categorical features as ordered numbers when there is information in the order\n",
    "test = test.replace({\"Alley\" : {\"Grvl\" : 1, \"Pave\" : 2},\n",
    "                       \"BsmtCond\" : {\"No\" : 0, \"Po\" : 1, \"Fa\" : 2, \"TA\" : 3, \"Gd\" : 4, \"Ex\" : 5},\n",
    "                       \"BsmtExposure\" : {\"No\" : 0, \"Mn\" : 1, \"Av\": 2, \"Gd\" : 3},\n",
    "                       \"BsmtFinType1\" : {\"No\" : 0, \"Unf\" : 1, \"LwQ\": 2, \"Rec\" : 3, \"BLQ\" : 4, \n",
    "                                         \"ALQ\" : 5, \"GLQ\" : 6},\n",
    "                       \"BsmtFinType2\" : {\"No\" : 0, \"Unf\" : 1, \"LwQ\": 2, \"Rec\" : 3, \"BLQ\" : 4, \n",
    "                                         \"ALQ\" : 5, \"GLQ\" : 6},\n",
    "                       \"BsmtQual\" : {\"No\" : 0, \"Po\" : 1, \"Fa\" : 2, \"TA\": 3, \"Gd\" : 4, \"Ex\" : 5},\n",
    "                       \"ExterCond\" : {\"Po\" : 1, \"Fa\" : 2, \"TA\": 3, \"Gd\": 4, \"Ex\" : 5},\n",
    "                       \"ExterQual\" : {\"Po\" : 1, \"Fa\" : 2, \"TA\": 3, \"Gd\": 4, \"Ex\" : 5},\n",
    "                       \"FireplaceQu\" : {\"No\" : 0, \"Po\" : 1, \"Fa\" : 2, \"TA\" : 3, \"Gd\" : 4, \"Ex\" : 5},\n",
    "                       \"Functional\" : {\"Sal\" : 1, \"Sev\" : 2, \"Maj2\" : 3, \"Maj1\" : 4, \"Mod\": 5, \n",
    "                                       \"Min2\" : 6, \"Min1\" : 7, \"Typ\" : 8},\n",
    "                       \"GarageCond\" : {\"No\" : 0, \"Po\" : 1, \"Fa\" : 2, \"TA\" : 3, \"Gd\" : 4, \"Ex\" : 5},\n",
    "                       \"GarageQual\" : {\"No\" : 0, \"Po\" : 1, \"Fa\" : 2, \"TA\" : 3, \"Gd\" : 4, \"Ex\" : 5},\n",
    "                       \"HeatingQC\" : {\"Po\" : 1, \"Fa\" : 2, \"TA\" : 3, \"Gd\" : 4, \"Ex\" : 5},\n",
    "                       \"KitchenQual\" : {\"Po\" : 1, \"Fa\" : 2, \"TA\" : 3, \"Gd\" : 4, \"Ex\" : 5},\n",
    "                       \"LandSlope\" : {\"Sev\" : 1, \"Mod\" : 2, \"Gtl\" : 3},\n",
    "                       \"LotShape\" : {\"IR3\" : 1, \"IR2\" : 2, \"IR1\" : 3, \"Reg\" : 4},\n",
    "                       \"PavedDrive\" : {\"N\" : 0, \"P\" : 1, \"Y\" : 2},\n",
    "                       \"PoolQC\" : {\"No\" : 0, \"Fa\" : 1, \"TA\" : 2, \"Gd\" : 3, \"Ex\" : 4},\n",
    "                       \"Street\" : {\"Grvl\" : 1, \"Pave\" : 2},\n",
    "                       \"Utilities\" : {\"ELO\" : 1, \"NoSeWa\" : 2, \"NoSewr\" : 3, \"AllPub\" : 4}}\n",
    "                     )"
   ]
  },
  {
   "cell_type": "markdown",
   "metadata": {},
   "source": [
    "### Create Features Part 1: Simplifications of existing features\n"
   ]
  },
  {
   "cell_type": "code",
   "execution_count": 19,
   "metadata": {
    "collapsed": true
   },
   "outputs": [],
   "source": [
    "# Train\n",
    "train[\"SimplOverallQual\"] = train.OverallQual.replace({1 : 1, 2 : 1, 3 : 1, # bad\n",
    "                                                       4 : 2, 5 : 2, 6 : 2, # average\n",
    "                                                       7 : 3, 8 : 3, 9 : 3, 10 : 3 # good\n",
    "                                                      })\n",
    "train[\"SimplOverallCond\"] = train.OverallCond.replace({1 : 1, 2 : 1, 3 : 1, # bad\n",
    "                                                       4 : 2, 5 : 2, 6 : 2, # average\n",
    "                                                       7 : 3, 8 : 3, 9 : 3, 10 : 3 # good\n",
    "                                                      })\n",
    "train[\"SimplPoolQC\"] = train.PoolQC.replace({1 : 1, 2 : 1, # average\n",
    "                                             3 : 2, 4 : 2 # good\n",
    "                                            })\n",
    "train[\"SimplGarageCond\"] = train.GarageCond.replace({1 : 1, # bad\n",
    "                                                     2 : 1, 3 : 1, # average\n",
    "                                                     4 : 2, 5 : 2 # good\n",
    "                                                    })\n",
    "train[\"SimplGarageQual\"] = train.GarageQual.replace({1 : 1, # bad\n",
    "                                                     2 : 1, 3 : 1, # average\n",
    "                                                     4 : 2, 5 : 2 # good\n",
    "                                                    })\n",
    "train[\"SimplFireplaceQu\"] = train.FireplaceQu.replace({1 : 1, # bad\n",
    "                                                       2 : 1, 3 : 1, # average\n",
    "                                                       4 : 2, 5 : 2 # good\n",
    "                                                      })\n",
    "train[\"SimplFireplaceQu\"] = train.FireplaceQu.replace({1 : 1, # bad\n",
    "                                                       2 : 1, 3 : 1, # average\n",
    "                                                       4 : 2, 5 : 2 # good\n",
    "                                                      })\n",
    "train[\"SimplFunctional\"] = train.Functional.replace({1 : 1, 2 : 1, # bad\n",
    "                                                     3 : 2, 4 : 2, # major\n",
    "                                                     5 : 3, 6 : 3, 7 : 3, # minor\n",
    "                                                     8 : 4 # typical\n",
    "                                                    })\n",
    "train[\"SimplKitchenQual\"] = train.KitchenQual.replace({1 : 1, # bad\n",
    "                                                       2 : 1, 3 : 1, # average\n",
    "                                                       4 : 2, 5 : 2 # good\n",
    "                                                      })\n",
    "train[\"SimplHeatingQC\"] = train.HeatingQC.replace({1 : 1, # bad\n",
    "                                                   2 : 1, 3 : 1, # average\n",
    "                                                   4 : 2, 5 : 2 # good\n",
    "                                                  })\n",
    "train[\"SimplBsmtFinType1\"] = train.BsmtFinType1.replace({1 : 1, # unfinished\n",
    "                                                         2 : 1, 3 : 1, # rec room\n",
    "                                                         4 : 2, 5 : 2, 6 : 2 # living quarters\n",
    "                                                        })\n",
    "train[\"SimplBsmtFinType2\"] = train.BsmtFinType2.replace({1 : 1, # unfinished\n",
    "                                                         2 : 1, 3 : 1, # rec room\n",
    "                                                         4 : 2, 5 : 2, 6 : 2 # living quarters\n",
    "                                                        })\n",
    "train[\"SimplBsmtCond\"] = train.BsmtCond.replace({1 : 1, # bad\n",
    "                                                 2 : 1, 3 : 1, # average\n",
    "                                                 4 : 2, 5 : 2 # good\n",
    "                                                })\n",
    "train[\"SimplBsmtQual\"] = train.BsmtQual.replace({1 : 1, # bad\n",
    "                                                 2 : 1, 3 : 1, # average\n",
    "                                                 4 : 2, 5 : 2 # good\n",
    "                                                })\n",
    "train[\"SimplExterCond\"] = train.ExterCond.replace({1 : 1, # bad\n",
    "                                                   2 : 1, 3 : 1, # average\n",
    "                                                   4 : 2, 5 : 2 # good\n",
    "                                                  })\n",
    "train[\"SimplExterQual\"] = train.ExterQual.replace({1 : 1, # bad\n",
    "                                                   2 : 1, 3 : 1, # average\n",
    "                                                   4 : 2, 5 : 2 # good\n",
    "                                                  })\n",
    "\n"
   ]
  },
  {
   "cell_type": "code",
   "execution_count": 20,
   "metadata": {
    "collapsed": true
   },
   "outputs": [],
   "source": [
    "# Test\n",
    "test[\"SimplOverallQual\"] = test.OverallQual.replace({1 : 1, 2 : 1, 3 : 1, # bad\n",
    "                                                       4 : 2, 5 : 2, 6 : 2, # average\n",
    "                                                       7 : 3, 8 : 3, 9 : 3, 10 : 3 # good\n",
    "                                                      })\n",
    "test[\"SimplOverallCond\"] = test.OverallCond.replace({1 : 1, 2 : 1, 3 : 1, # bad\n",
    "                                                       4 : 2, 5 : 2, 6 : 2, # average\n",
    "                                                       7 : 3, 8 : 3, 9 : 3, 10 : 3 # good\n",
    "                                                      })\n",
    "test[\"SimplPoolQC\"] = test.PoolQC.replace({1 : 1, 2 : 1, # average\n",
    "                                             3 : 2, 4 : 2 # good\n",
    "                                            })\n",
    "test[\"SimplGarageCond\"] = test.GarageCond.replace({1 : 1, # bad\n",
    "                                                     2 : 1, 3 : 1, # average\n",
    "                                                     4 : 2, 5 : 2 # good\n",
    "                                                    })\n",
    "test[\"SimplGarageQual\"] = test.GarageQual.replace({1 : 1, # bad\n",
    "                                                     2 : 1, 3 : 1, # average\n",
    "                                                     4 : 2, 5 : 2 # good\n",
    "                                                    })\n",
    "test[\"SimplFireplaceQu\"] = test.FireplaceQu.replace({1 : 1, # bad\n",
    "                                                       2 : 1, 3 : 1, # average\n",
    "                                                       4 : 2, 5 : 2 # good\n",
    "                                                      })\n",
    "test[\"SimplFireplaceQu\"] = test.FireplaceQu.replace({1 : 1, # bad\n",
    "                                                       2 : 1, 3 : 1, # average\n",
    "                                                       4 : 2, 5 : 2 # good\n",
    "                                                      })\n",
    "test[\"SimplFunctional\"] = test.Functional.replace({1 : 1, 2 : 1, # bad\n",
    "                                                     3 : 2, 4 : 2, # major\n",
    "                                                     5 : 3, 6 : 3, 7 : 3, # minor\n",
    "                                                     8 : 4 # typical\n",
    "                                                    })\n",
    "test[\"SimplKitchenQual\"] = test.KitchenQual.replace({1 : 1, # bad\n",
    "                                                       2 : 1, 3 : 1, # average\n",
    "                                                       4 : 2, 5 : 2 # good\n",
    "                                                      })\n",
    "test[\"SimplHeatingQC\"] = test.HeatingQC.replace({1 : 1, # bad\n",
    "                                                   2 : 1, 3 : 1, # average\n",
    "                                                   4 : 2, 5 : 2 # good\n",
    "                                                  })\n",
    "test[\"SimplBsmtFinType1\"] = test.BsmtFinType1.replace({1 : 1, # unfinished\n",
    "                                                         2 : 1, 3 : 1, # rec room\n",
    "                                                         4 : 2, 5 : 2, 6 : 2 # living quarters\n",
    "                                                        })\n",
    "test[\"SimplBsmtFinType2\"] = test.BsmtFinType2.replace({1 : 1, # unfinished\n",
    "                                                         2 : 1, 3 : 1, # rec room\n",
    "                                                         4 : 2, 5 : 2, 6 : 2 # living quarters\n",
    "                                                        })\n",
    "test[\"SimplBsmtCond\"] = test.BsmtCond.replace({1 : 1, # bad\n",
    "                                                 2 : 1, 3 : 1, # average\n",
    "                                                 4 : 2, 5 : 2 # good\n",
    "                                                })\n",
    "test[\"SimplBsmtQual\"] = test.BsmtQual.replace({1 : 1, # bad\n",
    "                                                 2 : 1, 3 : 1, # average\n",
    "                                                 4 : 2, 5 : 2 # good\n",
    "                                                })\n",
    "test[\"SimplExterCond\"] = test.ExterCond.replace({1 : 1, # bad\n",
    "                                                   2 : 1, 3 : 1, # average\n",
    "                                                   4 : 2, 5 : 2 # good\n",
    "                                                  })\n",
    "test[\"SimplExterQual\"] = test.ExterQual.replace({1 : 1, # bad\n",
    "                                                   2 : 1, 3 : 1, # average\n",
    "                                                   4 : 2, 5 : 2 # good\n",
    "                                                  })\n"
   ]
  },
  {
   "cell_type": "markdown",
   "metadata": {},
   "source": [
    "### Create Features Part 2: Combinations of existing features\n"
   ]
  },
  {
   "cell_type": "code",
   "execution_count": 21,
   "metadata": {
    "collapsed": true
   },
   "outputs": [],
   "source": [
    "# Train\n",
    "# Overall quality of the house\n",
    "train[\"OverallGrade\"] = train[\"OverallQual\"] * train[\"OverallCond\"]\n",
    "# Overall quality of the garage\n",
    "train[\"GarageGrade\"] = train[\"GarageQual\"] * train[\"GarageCond\"]\n",
    "# Overall quality of the exterior\n",
    "train[\"ExterGrade\"] = train[\"ExterQual\"] * train[\"ExterCond\"]\n",
    "# Overall kitchen score\n",
    "train[\"KitchenScore\"] = train[\"KitchenAbvGr\"] * train[\"KitchenQual\"]\n",
    "# Overall fireplace score\n",
    "train[\"FireplaceScore\"] = train[\"Fireplaces\"] * train[\"FireplaceQu\"]\n",
    "# Overall garage score\n",
    "train[\"GarageScore\"] = train[\"GarageArea\"] * train[\"GarageQual\"]\n",
    "# Overall pool score\n",
    "train[\"PoolScore\"] = train[\"PoolArea\"] * train[\"PoolQC\"]\n",
    "# Simplified overall quality of the house\n",
    "train[\"SimplOverallGrade\"] = train[\"SimplOverallQual\"] * train[\"SimplOverallCond\"]\n",
    "# Simplified overall quality of the exterior\n",
    "train[\"SimplExterGrade\"] = train[\"SimplExterQual\"] * train[\"SimplExterCond\"]\n",
    "# Simplified overall pool score\n",
    "train[\"SimplPoolScore\"] = train[\"PoolArea\"] * train[\"SimplPoolQC\"]\n",
    "# Simplified overall garage score\n",
    "train[\"SimplGarageScore\"] = train[\"GarageArea\"] * train[\"SimplGarageQual\"]\n",
    "# Simplified overall fireplace score\n",
    "train[\"SimplFireplaceScore\"] = train[\"Fireplaces\"] * train[\"SimplFireplaceQu\"]\n",
    "# Simplified overall kitchen score\n",
    "train[\"SimplKitchenScore\"] = train[\"KitchenAbvGr\"] * train[\"SimplKitchenQual\"]\n",
    "# Total number of bathrooms\n",
    "train[\"TotalBath\"] = train[\"BsmtFullBath\"] + (0.5 * train[\"BsmtHalfBath\"]) + \\\n",
    "train[\"FullBath\"] + (0.5 * train[\"HalfBath\"])\n",
    "# Total SF for house (incl. basement)\n",
    "train[\"AllSF\"] = train[\"GrLivArea\"] + train[\"TotalBsmtSF\"]\n",
    "# Total SF for 1st + 2nd floors\n",
    "train[\"AllFlrsSF\"] = train[\"1stFlrSF\"] + train[\"2ndFlrSF\"]\n",
    "# Total SF for porch\n",
    "train[\"AllPorchSF\"] = train[\"OpenPorchSF\"] + train[\"EnclosedPorch\"] + \\\n",
    "train[\"3SsnPorch\"] + train[\"ScreenPorch\"]\n",
    "# Has masonry veneer or not\n",
    "train[\"HasMasVnr\"] = train.MasVnrType.replace({\"BrkCmn\" : 1, \"BrkFace\" : 1, \"CBlock\" : 1, \n",
    "                                               \"Stone\" : 1, \"None\" : 0})\n",
    "# House completed before sale or not\n",
    "train[\"BoughtOffPlan\"] = train.SaleCondition.replace({\"Abnorml\" : 0, \"Alloca\" : 0, \"AdjLand\" : 0, \n",
    "                                                      \"Family\" : 0, \"Normal\" : 0, \"Partial\" : 1})"
   ]
  },
  {
   "cell_type": "code",
   "execution_count": 22,
   "metadata": {
    "collapsed": true
   },
   "outputs": [],
   "source": [
    "#Test\n",
    "# Overall quality of the house\n",
    "test[\"OverallGrade\"] = test[\"OverallQual\"] * test[\"OverallCond\"]\n",
    "# Overall quality of the garage\n",
    "test[\"GarageGrade\"] = test[\"GarageQual\"] * test[\"GarageCond\"]\n",
    "# Overall quality of the exterior\n",
    "test[\"ExterGrade\"] = test[\"ExterQual\"] * test[\"ExterCond\"]\n",
    "# Overall kitchen score\n",
    "test[\"KitchenScore\"] = test[\"KitchenAbvGr\"] * test[\"KitchenQual\"]\n",
    "# Overall fireplace score\n",
    "test[\"FireplaceScore\"] = test[\"Fireplaces\"] * test[\"FireplaceQu\"]\n",
    "# Overall garage score\n",
    "test[\"GarageScore\"] = test[\"GarageArea\"] * test[\"GarageQual\"]\n",
    "# Overall pool score\n",
    "test[\"PoolScore\"] = test[\"PoolArea\"] * test[\"PoolQC\"]\n",
    "# Simplified overall quality of the house\n",
    "test[\"SimplOverallGrade\"] = test[\"SimplOverallQual\"] * test[\"SimplOverallCond\"]\n",
    "# Simplified overall quality of the exterior\n",
    "test[\"SimplExterGrade\"] = test[\"SimplExterQual\"] * test[\"SimplExterCond\"]\n",
    "# Simplified overall pool score\n",
    "test[\"SimplPoolScore\"] = test[\"PoolArea\"] * test[\"SimplPoolQC\"]\n",
    "# Simplified overall garage score\n",
    "test[\"SimplGarageScore\"] = test[\"GarageArea\"] * test[\"SimplGarageQual\"]\n",
    "# Simplified overall fireplace score\n",
    "test[\"SimplFireplaceScore\"] = test[\"Fireplaces\"] * test[\"SimplFireplaceQu\"]\n",
    "# Simplified overall kitchen score\n",
    "test[\"SimplKitchenScore\"] = test[\"KitchenAbvGr\"] * test[\"SimplKitchenQual\"]\n",
    "# Total number of bathrooms\n",
    "test[\"TotalBath\"] = test[\"BsmtFullBath\"] + (0.5 * test[\"BsmtHalfBath\"]) + \\\n",
    "test[\"FullBath\"] + (0.5 * test[\"HalfBath\"])\n",
    "# Total SF for house (incl. basement)\n",
    "test[\"AllSF\"] = test[\"GrLivArea\"] + test[\"TotalBsmtSF\"]\n",
    "# Total SF for 1st + 2nd floors\n",
    "test[\"AllFlrsSF\"] = test[\"1stFlrSF\"] + test[\"2ndFlrSF\"]\n",
    "# Total SF for porch\n",
    "test[\"AllPorchSF\"] = test[\"OpenPorchSF\"] + test[\"EnclosedPorch\"] + \\\n",
    "test[\"3SsnPorch\"] + test[\"ScreenPorch\"]\n",
    "# Has masonry veneer or not\n",
    "test[\"HasMasVnr\"] = test.MasVnrType.replace({\"BrkCmn\" : 1, \"BrkFace\" : 1, \"CBlock\" : 1, \n",
    "                                               \"Stone\" : 1, \"None\" : 0})\n",
    "# House completed before sale or not\n",
    "test[\"BoughtOffPlan\"] = test.SaleCondition.replace({\"Abnorml\" : 0, \"Alloca\" : 0, \"AdjLand\" : 0, \n",
    "                                                      \"Family\" : 0, \"Normal\" : 0, \"Partial\" : 1})"
   ]
  },
  {
   "cell_type": "code",
   "execution_count": 23,
   "metadata": {
    "collapsed": false
   },
   "outputs": [
    {
     "data": {
      "text/html": [
       "<div>\n",
       "<table border=\"1\" class=\"dataframe\">\n",
       "  <thead>\n",
       "    <tr style=\"text-align: right;\">\n",
       "      <th></th>\n",
       "      <th>MSSubClass</th>\n",
       "      <th>MSZoning</th>\n",
       "      <th>LotFrontage</th>\n",
       "      <th>LotArea</th>\n",
       "      <th>Street</th>\n",
       "      <th>Alley</th>\n",
       "      <th>LotShape</th>\n",
       "      <th>LandContour</th>\n",
       "      <th>Utilities</th>\n",
       "      <th>LotConfig</th>\n",
       "      <th>...</th>\n",
       "      <th>SimplPoolScore</th>\n",
       "      <th>SimplGarageScore</th>\n",
       "      <th>SimplFireplaceScore</th>\n",
       "      <th>SimplKitchenScore</th>\n",
       "      <th>TotalBath</th>\n",
       "      <th>AllSF</th>\n",
       "      <th>AllFlrsSF</th>\n",
       "      <th>AllPorchSF</th>\n",
       "      <th>HasMasVnr</th>\n",
       "      <th>BoughtOffPlan</th>\n",
       "    </tr>\n",
       "  </thead>\n",
       "  <tbody>\n",
       "    <tr>\n",
       "      <th>0</th>\n",
       "      <td>SC60</td>\n",
       "      <td>RL</td>\n",
       "      <td>65.000</td>\n",
       "      <td>8450</td>\n",
       "      <td>2</td>\n",
       "      <td>None</td>\n",
       "      <td>4</td>\n",
       "      <td>Lvl</td>\n",
       "      <td>4</td>\n",
       "      <td>Inside</td>\n",
       "      <td>...</td>\n",
       "      <td>0</td>\n",
       "      <td>548</td>\n",
       "      <td>0</td>\n",
       "      <td>2</td>\n",
       "      <td>3.500</td>\n",
       "      <td>2566</td>\n",
       "      <td>1710</td>\n",
       "      <td>61</td>\n",
       "      <td>1</td>\n",
       "      <td>0</td>\n",
       "    </tr>\n",
       "    <tr>\n",
       "      <th>1</th>\n",
       "      <td>SC20</td>\n",
       "      <td>RL</td>\n",
       "      <td>80.000</td>\n",
       "      <td>9600</td>\n",
       "      <td>2</td>\n",
       "      <td>None</td>\n",
       "      <td>4</td>\n",
       "      <td>Lvl</td>\n",
       "      <td>4</td>\n",
       "      <td>FR2</td>\n",
       "      <td>...</td>\n",
       "      <td>0</td>\n",
       "      <td>460</td>\n",
       "      <td>1</td>\n",
       "      <td>1</td>\n",
       "      <td>2.500</td>\n",
       "      <td>2524</td>\n",
       "      <td>1262</td>\n",
       "      <td>0</td>\n",
       "      <td>0</td>\n",
       "      <td>0</td>\n",
       "    </tr>\n",
       "    <tr>\n",
       "      <th>2</th>\n",
       "      <td>SC60</td>\n",
       "      <td>RL</td>\n",
       "      <td>68.000</td>\n",
       "      <td>11250</td>\n",
       "      <td>2</td>\n",
       "      <td>None</td>\n",
       "      <td>3</td>\n",
       "      <td>Lvl</td>\n",
       "      <td>4</td>\n",
       "      <td>Inside</td>\n",
       "      <td>...</td>\n",
       "      <td>0</td>\n",
       "      <td>608</td>\n",
       "      <td>1</td>\n",
       "      <td>2</td>\n",
       "      <td>3.500</td>\n",
       "      <td>2706</td>\n",
       "      <td>1786</td>\n",
       "      <td>42</td>\n",
       "      <td>1</td>\n",
       "      <td>0</td>\n",
       "    </tr>\n",
       "    <tr>\n",
       "      <th>3</th>\n",
       "      <td>SC70</td>\n",
       "      <td>RL</td>\n",
       "      <td>60.000</td>\n",
       "      <td>9550</td>\n",
       "      <td>2</td>\n",
       "      <td>None</td>\n",
       "      <td>3</td>\n",
       "      <td>Lvl</td>\n",
       "      <td>4</td>\n",
       "      <td>Corner</td>\n",
       "      <td>...</td>\n",
       "      <td>0</td>\n",
       "      <td>642</td>\n",
       "      <td>2</td>\n",
       "      <td>2</td>\n",
       "      <td>2.000</td>\n",
       "      <td>2473</td>\n",
       "      <td>1717</td>\n",
       "      <td>307</td>\n",
       "      <td>0</td>\n",
       "      <td>0</td>\n",
       "    </tr>\n",
       "    <tr>\n",
       "      <th>4</th>\n",
       "      <td>SC60</td>\n",
       "      <td>RL</td>\n",
       "      <td>84.000</td>\n",
       "      <td>14260</td>\n",
       "      <td>2</td>\n",
       "      <td>None</td>\n",
       "      <td>3</td>\n",
       "      <td>Lvl</td>\n",
       "      <td>4</td>\n",
       "      <td>FR2</td>\n",
       "      <td>...</td>\n",
       "      <td>0</td>\n",
       "      <td>836</td>\n",
       "      <td>1</td>\n",
       "      <td>2</td>\n",
       "      <td>3.500</td>\n",
       "      <td>3343</td>\n",
       "      <td>2198</td>\n",
       "      <td>84</td>\n",
       "      <td>1</td>\n",
       "      <td>0</td>\n",
       "    </tr>\n",
       "  </tbody>\n",
       "</table>\n",
       "<p>5 rows × 114 columns</p>\n",
       "</div>"
      ],
      "text/plain": [
       "  MSSubClass MSZoning  LotFrontage  LotArea  Street Alley  LotShape  \\\n",
       "0       SC60       RL       65.000     8450       2  None         4   \n",
       "1       SC20       RL       80.000     9600       2  None         4   \n",
       "2       SC60       RL       68.000    11250       2  None         3   \n",
       "3       SC70       RL       60.000     9550       2  None         3   \n",
       "4       SC60       RL       84.000    14260       2  None         3   \n",
       "\n",
       "  LandContour  Utilities LotConfig      ...        SimplPoolScore  \\\n",
       "0         Lvl          4    Inside      ...                     0   \n",
       "1         Lvl          4       FR2      ...                     0   \n",
       "2         Lvl          4    Inside      ...                     0   \n",
       "3         Lvl          4    Corner      ...                     0   \n",
       "4         Lvl          4       FR2      ...                     0   \n",
       "\n",
       "  SimplGarageScore SimplFireplaceScore SimplKitchenScore TotalBath AllSF  \\\n",
       "0              548                   0                 2     3.500  2566   \n",
       "1              460                   1                 1     2.500  2524   \n",
       "2              608                   1                 2     3.500  2706   \n",
       "3              642                   2                 2     2.000  2473   \n",
       "4              836                   1                 2     3.500  3343   \n",
       "\n",
       "   AllFlrsSF  AllPorchSF  HasMasVnr  BoughtOffPlan  \n",
       "0       1710          61          1              0  \n",
       "1       1262           0          0              0  \n",
       "2       1786          42          1              0  \n",
       "3       1717         307          0              0  \n",
       "4       2198          84          1              0  \n",
       "\n",
       "[5 rows x 114 columns]"
      ]
     },
     "execution_count": 23,
     "metadata": {},
     "output_type": "execute_result"
    }
   ],
   "source": [
    "train.head()"
   ]
  },
  {
   "cell_type": "code",
   "execution_count": 24,
   "metadata": {
    "collapsed": false
   },
   "outputs": [
    {
     "data": {
      "text/html": [
       "<div>\n",
       "<table border=\"1\" class=\"dataframe\">\n",
       "  <thead>\n",
       "    <tr style=\"text-align: right;\">\n",
       "      <th></th>\n",
       "      <th>MSSubClass</th>\n",
       "      <th>MSZoning</th>\n",
       "      <th>LotFrontage</th>\n",
       "      <th>LotArea</th>\n",
       "      <th>Street</th>\n",
       "      <th>Alley</th>\n",
       "      <th>LotShape</th>\n",
       "      <th>LandContour</th>\n",
       "      <th>Utilities</th>\n",
       "      <th>LotConfig</th>\n",
       "      <th>...</th>\n",
       "      <th>SimplPoolScore</th>\n",
       "      <th>SimplGarageScore</th>\n",
       "      <th>SimplFireplaceScore</th>\n",
       "      <th>SimplKitchenScore</th>\n",
       "      <th>TotalBath</th>\n",
       "      <th>AllSF</th>\n",
       "      <th>AllFlrsSF</th>\n",
       "      <th>AllPorchSF</th>\n",
       "      <th>HasMasVnr</th>\n",
       "      <th>BoughtOffPlan</th>\n",
       "    </tr>\n",
       "  </thead>\n",
       "  <tbody>\n",
       "    <tr>\n",
       "      <th>0</th>\n",
       "      <td>SC20</td>\n",
       "      <td>RH</td>\n",
       "      <td>80.000</td>\n",
       "      <td>11622</td>\n",
       "      <td>2</td>\n",
       "      <td>None</td>\n",
       "      <td>4</td>\n",
       "      <td>Lvl</td>\n",
       "      <td>4</td>\n",
       "      <td>Inside</td>\n",
       "      <td>...</td>\n",
       "      <td>0</td>\n",
       "      <td>730.000</td>\n",
       "      <td>0</td>\n",
       "      <td>1</td>\n",
       "      <td>1.000</td>\n",
       "      <td>1778.000</td>\n",
       "      <td>896</td>\n",
       "      <td>120</td>\n",
       "      <td>0</td>\n",
       "      <td>0</td>\n",
       "    </tr>\n",
       "    <tr>\n",
       "      <th>1</th>\n",
       "      <td>SC20</td>\n",
       "      <td>RL</td>\n",
       "      <td>81.000</td>\n",
       "      <td>14267</td>\n",
       "      <td>2</td>\n",
       "      <td>None</td>\n",
       "      <td>3</td>\n",
       "      <td>Lvl</td>\n",
       "      <td>4</td>\n",
       "      <td>Corner</td>\n",
       "      <td>...</td>\n",
       "      <td>0</td>\n",
       "      <td>312.000</td>\n",
       "      <td>0</td>\n",
       "      <td>2</td>\n",
       "      <td>1.500</td>\n",
       "      <td>2658.000</td>\n",
       "      <td>1329</td>\n",
       "      <td>36</td>\n",
       "      <td>1</td>\n",
       "      <td>0</td>\n",
       "    </tr>\n",
       "    <tr>\n",
       "      <th>2</th>\n",
       "      <td>SC60</td>\n",
       "      <td>RL</td>\n",
       "      <td>74.000</td>\n",
       "      <td>13830</td>\n",
       "      <td>2</td>\n",
       "      <td>None</td>\n",
       "      <td>3</td>\n",
       "      <td>Lvl</td>\n",
       "      <td>4</td>\n",
       "      <td>Inside</td>\n",
       "      <td>...</td>\n",
       "      <td>0</td>\n",
       "      <td>482.000</td>\n",
       "      <td>1</td>\n",
       "      <td>1</td>\n",
       "      <td>2.500</td>\n",
       "      <td>2557.000</td>\n",
       "      <td>1629</td>\n",
       "      <td>34</td>\n",
       "      <td>0</td>\n",
       "      <td>0</td>\n",
       "    </tr>\n",
       "    <tr>\n",
       "      <th>3</th>\n",
       "      <td>SC60</td>\n",
       "      <td>RL</td>\n",
       "      <td>78.000</td>\n",
       "      <td>9978</td>\n",
       "      <td>2</td>\n",
       "      <td>None</td>\n",
       "      <td>3</td>\n",
       "      <td>Lvl</td>\n",
       "      <td>4</td>\n",
       "      <td>Inside</td>\n",
       "      <td>...</td>\n",
       "      <td>0</td>\n",
       "      <td>470.000</td>\n",
       "      <td>2</td>\n",
       "      <td>2</td>\n",
       "      <td>2.500</td>\n",
       "      <td>2530.000</td>\n",
       "      <td>1604</td>\n",
       "      <td>36</td>\n",
       "      <td>1</td>\n",
       "      <td>0</td>\n",
       "    </tr>\n",
       "    <tr>\n",
       "      <th>4</th>\n",
       "      <td>SC120</td>\n",
       "      <td>RL</td>\n",
       "      <td>43.000</td>\n",
       "      <td>5005</td>\n",
       "      <td>2</td>\n",
       "      <td>None</td>\n",
       "      <td>3</td>\n",
       "      <td>HLS</td>\n",
       "      <td>4</td>\n",
       "      <td>Inside</td>\n",
       "      <td>...</td>\n",
       "      <td>0</td>\n",
       "      <td>506.000</td>\n",
       "      <td>0</td>\n",
       "      <td>2</td>\n",
       "      <td>2.000</td>\n",
       "      <td>2560.000</td>\n",
       "      <td>1280</td>\n",
       "      <td>226</td>\n",
       "      <td>0</td>\n",
       "      <td>0</td>\n",
       "    </tr>\n",
       "  </tbody>\n",
       "</table>\n",
       "<p>5 rows × 113 columns</p>\n",
       "</div>"
      ],
      "text/plain": [
       "  MSSubClass MSZoning  LotFrontage  LotArea  Street Alley  LotShape  \\\n",
       "0       SC20       RH       80.000    11622       2  None         4   \n",
       "1       SC20       RL       81.000    14267       2  None         3   \n",
       "2       SC60       RL       74.000    13830       2  None         3   \n",
       "3       SC60       RL       78.000     9978       2  None         3   \n",
       "4      SC120       RL       43.000     5005       2  None         3   \n",
       "\n",
       "  LandContour  Utilities LotConfig      ...        SimplPoolScore  \\\n",
       "0         Lvl          4    Inside      ...                     0   \n",
       "1         Lvl          4    Corner      ...                     0   \n",
       "2         Lvl          4    Inside      ...                     0   \n",
       "3         Lvl          4    Inside      ...                     0   \n",
       "4         HLS          4    Inside      ...                     0   \n",
       "\n",
       "  SimplGarageScore SimplFireplaceScore SimplKitchenScore TotalBath    AllSF  \\\n",
       "0          730.000                   0                 1     1.000 1778.000   \n",
       "1          312.000                   0                 2     1.500 2658.000   \n",
       "2          482.000                   1                 1     2.500 2557.000   \n",
       "3          470.000                   2                 2     2.500 2530.000   \n",
       "4          506.000                   0                 2     2.000 2560.000   \n",
       "\n",
       "   AllFlrsSF  AllPorchSF  HasMasVnr  BoughtOffPlan  \n",
       "0        896         120          0              0  \n",
       "1       1329          36          1              0  \n",
       "2       1629          34          0              0  \n",
       "3       1604          36          1              0  \n",
       "4       1280         226          0              0  \n",
       "\n",
       "[5 rows x 113 columns]"
      ]
     },
     "execution_count": 24,
     "metadata": {},
     "output_type": "execute_result"
    }
   ],
   "source": [
    "test.head()"
   ]
  },
  {
   "cell_type": "markdown",
   "metadata": {},
   "source": [
    "### Find most important features relative to target\n"
   ]
  },
  {
   "cell_type": "code",
   "execution_count": 25,
   "metadata": {
    "collapsed": false
   },
   "outputs": [
    {
     "name": "stdout",
     "output_type": "stream",
     "text": [
      "Find most important features relative to target\n",
      "SalePrice            1.000\n",
      "OverallQual          0.819\n",
      "AllSF                0.817\n",
      "AllFlrsSF            0.729\n",
      "GrLivArea            0.719\n",
      "SimplOverallQual     0.708\n",
      "ExterQual            0.681\n",
      "GarageCars           0.680\n",
      "TotalBath            0.673\n",
      "KitchenQual          0.667\n",
      "GarageScore          0.657\n",
      "GarageArea           0.655\n",
      "TotalBsmtSF          0.642\n",
      "SimplExterQual       0.636\n",
      "SimplGarageScore     0.631\n",
      "BsmtQual             0.615\n",
      "1stFlrSF             0.614\n",
      "SimplKitchenQual     0.610\n",
      "OverallGrade         0.604\n",
      "SimplBsmtQual        0.594\n",
      "FullBath             0.591\n",
      "YearBuilt            0.589\n",
      "ExterGrade           0.587\n",
      "YearRemodAdd         0.569\n",
      "FireplaceQu          0.547\n",
      "GarageYrBlt          0.544\n",
      "TotRmsAbvGrd         0.533\n",
      "SimplOverallGrade    0.527\n",
      "SimplKitchenScore    0.523\n",
      "FireplaceScore       0.518\n",
      "                     ...  \n",
      "SimplBsmtCond        0.204\n",
      "BedroomAbvGr         0.204\n",
      "AllPorchSF           0.199\n",
      "LotFrontage          0.174\n",
      "SimplFunctional      0.137\n",
      "Functional           0.136\n",
      "ScreenPorch          0.124\n",
      "SimplBsmtFinType2    0.105\n",
      "Street               0.058\n",
      "3SsnPorch            0.056\n",
      "ExterCond            0.051\n",
      "PoolArea             0.041\n",
      "SimplPoolScore       0.040\n",
      "SimplPoolQC          0.040\n",
      "PoolScore            0.040\n",
      "PoolQC               0.038\n",
      "BsmtFinType2         0.016\n",
      "Utilities            0.013\n",
      "BsmtFinSF2           0.006\n",
      "BsmtHalfBath        -0.015\n",
      "MiscVal             -0.020\n",
      "SimplOverallCond    -0.028\n",
      "YrSold              -0.034\n",
      "OverallCond         -0.037\n",
      "LowQualFinSF        -0.038\n",
      "LandSlope           -0.040\n",
      "SimplExterCond      -0.042\n",
      "KitchenAbvGr        -0.148\n",
      "EnclosedPorch       -0.149\n",
      "LotShape            -0.286\n",
      "Name: SalePrice, dtype: float64\n"
     ]
    }
   ],
   "source": [
    "print(\"Find most important features relative to target\")\n",
    "corr = train.corr()\n",
    "corr.sort_values([\"SalePrice\"], ascending = False, inplace = True)\n",
    "print(corr.SalePrice)"
   ]
  },
  {
   "cell_type": "markdown",
   "metadata": {},
   "source": [
    "### Create Features Part 3: Polynomials on the top 10 existing features"
   ]
  },
  {
   "cell_type": "code",
   "execution_count": 26,
   "metadata": {
    "collapsed": true
   },
   "outputs": [],
   "source": [
    "# Train\n",
    "train[\"OverallQual-s2\"] = train[\"OverallQual\"] ** 2\n",
    "train[\"OverallQual-s3\"] = train[\"OverallQual\"] ** 3\n",
    "train[\"OverallQual-Sq\"] = np.sqrt(train[\"OverallQual\"])\n",
    "train[\"AllSF-2\"] = train[\"AllSF\"] ** 2\n",
    "train[\"AllSF-3\"] = train[\"AllSF\"] ** 3\n",
    "train[\"AllSF-Sq\"] = np.sqrt(train[\"AllSF\"])\n",
    "train[\"AllFlrsSF-2\"] = train[\"AllFlrsSF\"] ** 2\n",
    "train[\"AllFlrsSF-3\"] = train[\"AllFlrsSF\"] ** 3\n",
    "train[\"AllFlrsSF-Sq\"] = np.sqrt(train[\"AllFlrsSF\"])\n",
    "train[\"GrLivArea-2\"] = train[\"GrLivArea\"] ** 2\n",
    "train[\"GrLivArea-3\"] = train[\"GrLivArea\"] ** 3\n",
    "train[\"GrLivArea-Sq\"] = np.sqrt(train[\"GrLivArea\"])\n",
    "train[\"SimplOverallQual-s2\"] = train[\"SimplOverallQual\"] ** 2\n",
    "train[\"SimplOverallQual-s3\"] = train[\"SimplOverallQual\"] ** 3\n",
    "train[\"SimplOverallQual-Sq\"] = np.sqrt(train[\"SimplOverallQual\"])\n",
    "train[\"ExterQual-2\"] = train[\"ExterQual\"] ** 2\n",
    "train[\"ExterQual-3\"] = train[\"ExterQual\"] ** 3\n",
    "train[\"ExterQual-Sq\"] = np.sqrt(train[\"ExterQual\"])\n",
    "train[\"GarageCars-2\"] = train[\"GarageCars\"] ** 2\n",
    "train[\"GarageCars-3\"] = train[\"GarageCars\"] ** 3\n",
    "train[\"GarageCars-Sq\"] = np.sqrt(train[\"GarageCars\"])\n",
    "train[\"TotalBath-2\"] = train[\"TotalBath\"] ** 2\n",
    "train[\"TotalBath-3\"] = train[\"TotalBath\"] ** 3\n",
    "train[\"TotalBath-Sq\"] = np.sqrt(train[\"TotalBath\"])\n",
    "train[\"KitchenQual-2\"] = train[\"KitchenQual\"] ** 2\n",
    "train[\"KitchenQual-3\"] = train[\"KitchenQual\"] ** 3\n",
    "train[\"KitchenQual-Sq\"] = np.sqrt(train[\"KitchenQual\"])\n",
    "train[\"GarageScore-2\"] = train[\"GarageScore\"] ** 2\n",
    "train[\"GarageScore-3\"] = train[\"GarageScore\"] ** 3\n",
    "train[\"GarageScore-Sq\"] = np.sqrt(train[\"GarageScore\"])"
   ]
  },
  {
   "cell_type": "code",
   "execution_count": 27,
   "metadata": {
    "collapsed": true
   },
   "outputs": [],
   "source": [
    "# Test\n",
    "test[\"OverallQual-s2\"] = test[\"OverallQual\"] ** 2\n",
    "test[\"OverallQual-s3\"] = test[\"OverallQual\"] ** 3\n",
    "test[\"OverallQual-Sq\"] = np.sqrt(test[\"OverallQual\"])\n",
    "test[\"AllSF-2\"] = test[\"AllSF\"] ** 2\n",
    "test[\"AllSF-3\"] = test[\"AllSF\"] ** 3\n",
    "test[\"AllSF-Sq\"] = np.sqrt(test[\"AllSF\"])\n",
    "test[\"AllFlrsSF-2\"] = test[\"AllFlrsSF\"] ** 2\n",
    "test[\"AllFlrsSF-3\"] = test[\"AllFlrsSF\"] ** 3\n",
    "test[\"AllFlrsSF-Sq\"] = np.sqrt(test[\"AllFlrsSF\"])\n",
    "test[\"GrLivArea-2\"] = test[\"GrLivArea\"] ** 2\n",
    "test[\"GrLivArea-3\"] = test[\"GrLivArea\"] ** 3\n",
    "test[\"GrLivArea-Sq\"] = np.sqrt(test[\"GrLivArea\"])\n",
    "test[\"SimplOverallQual-s2\"] = test[\"SimplOverallQual\"] ** 2\n",
    "test[\"SimplOverallQual-s3\"] = test[\"SimplOverallQual\"] ** 3\n",
    "test[\"SimplOverallQual-Sq\"] = np.sqrt(test[\"SimplOverallQual\"])\n",
    "test[\"ExterQual-2\"] = test[\"ExterQual\"] ** 2\n",
    "test[\"ExterQual-3\"] = test[\"ExterQual\"] ** 3\n",
    "test[\"ExterQual-Sq\"] = np.sqrt(test[\"ExterQual\"])\n",
    "test[\"GarageCars-2\"] = test[\"GarageCars\"] ** 2\n",
    "test[\"GarageCars-3\"] = test[\"GarageCars\"] ** 3\n",
    "test[\"GarageCars-Sq\"] = np.sqrt(test[\"GarageCars\"])\n",
    "test[\"TotalBath-2\"] = test[\"TotalBath\"] ** 2\n",
    "test[\"TotalBath-3\"] = test[\"TotalBath\"] ** 3\n",
    "test[\"TotalBath-Sq\"] = np.sqrt(test[\"TotalBath\"])\n",
    "test[\"KitchenQual-2\"] = test[\"KitchenQual\"] ** 2\n",
    "test[\"KitchenQual-3\"] = test[\"KitchenQual\"] ** 3\n",
    "test[\"KitchenQual-Sq\"] = np.sqrt(test[\"KitchenQual\"])\n",
    "test[\"GarageScore-2\"] = test[\"GarageScore\"] ** 2\n",
    "test[\"GarageScore-3\"] = test[\"GarageScore\"] ** 3\n",
    "test[\"GarageScore-Sq\"] = np.sqrt(test[\"GarageScore\"])"
   ]
  },
  {
   "cell_type": "code",
   "execution_count": 28,
   "metadata": {
    "collapsed": false
   },
   "outputs": [
    {
     "data": {
      "text/html": [
       "<div>\n",
       "<table border=\"1\" class=\"dataframe\">\n",
       "  <thead>\n",
       "    <tr style=\"text-align: right;\">\n",
       "      <th></th>\n",
       "      <th>MSSubClass</th>\n",
       "      <th>MSZoning</th>\n",
       "      <th>LotFrontage</th>\n",
       "      <th>LotArea</th>\n",
       "      <th>Street</th>\n",
       "      <th>Alley</th>\n",
       "      <th>LotShape</th>\n",
       "      <th>LandContour</th>\n",
       "      <th>Utilities</th>\n",
       "      <th>LotConfig</th>\n",
       "      <th>...</th>\n",
       "      <th>GarageCars-Sq</th>\n",
       "      <th>TotalBath-2</th>\n",
       "      <th>TotalBath-3</th>\n",
       "      <th>TotalBath-Sq</th>\n",
       "      <th>KitchenQual-2</th>\n",
       "      <th>KitchenQual-3</th>\n",
       "      <th>KitchenQual-Sq</th>\n",
       "      <th>GarageScore-2</th>\n",
       "      <th>GarageScore-3</th>\n",
       "      <th>GarageScore-Sq</th>\n",
       "    </tr>\n",
       "  </thead>\n",
       "  <tbody>\n",
       "    <tr>\n",
       "      <th>0</th>\n",
       "      <td>SC60</td>\n",
       "      <td>RL</td>\n",
       "      <td>65.000</td>\n",
       "      <td>8450</td>\n",
       "      <td>2</td>\n",
       "      <td>None</td>\n",
       "      <td>4</td>\n",
       "      <td>Lvl</td>\n",
       "      <td>4</td>\n",
       "      <td>Inside</td>\n",
       "      <td>...</td>\n",
       "      <td>1.414</td>\n",
       "      <td>12.250</td>\n",
       "      <td>42.875</td>\n",
       "      <td>1.871</td>\n",
       "      <td>16</td>\n",
       "      <td>64</td>\n",
       "      <td>2.000</td>\n",
       "      <td>2702736</td>\n",
       "      <td>4443297984</td>\n",
       "      <td>40.546</td>\n",
       "    </tr>\n",
       "    <tr>\n",
       "      <th>1</th>\n",
       "      <td>SC20</td>\n",
       "      <td>RL</td>\n",
       "      <td>80.000</td>\n",
       "      <td>9600</td>\n",
       "      <td>2</td>\n",
       "      <td>None</td>\n",
       "      <td>4</td>\n",
       "      <td>Lvl</td>\n",
       "      <td>4</td>\n",
       "      <td>FR2</td>\n",
       "      <td>...</td>\n",
       "      <td>1.414</td>\n",
       "      <td>6.250</td>\n",
       "      <td>15.625</td>\n",
       "      <td>1.581</td>\n",
       "      <td>9</td>\n",
       "      <td>27</td>\n",
       "      <td>1.732</td>\n",
       "      <td>1904400</td>\n",
       "      <td>2628072000</td>\n",
       "      <td>37.148</td>\n",
       "    </tr>\n",
       "    <tr>\n",
       "      <th>2</th>\n",
       "      <td>SC60</td>\n",
       "      <td>RL</td>\n",
       "      <td>68.000</td>\n",
       "      <td>11250</td>\n",
       "      <td>2</td>\n",
       "      <td>None</td>\n",
       "      <td>3</td>\n",
       "      <td>Lvl</td>\n",
       "      <td>4</td>\n",
       "      <td>Inside</td>\n",
       "      <td>...</td>\n",
       "      <td>1.414</td>\n",
       "      <td>12.250</td>\n",
       "      <td>42.875</td>\n",
       "      <td>1.871</td>\n",
       "      <td>16</td>\n",
       "      <td>64</td>\n",
       "      <td>2.000</td>\n",
       "      <td>3326976</td>\n",
       "      <td>6068404224</td>\n",
       "      <td>42.708</td>\n",
       "    </tr>\n",
       "    <tr>\n",
       "      <th>3</th>\n",
       "      <td>SC70</td>\n",
       "      <td>RL</td>\n",
       "      <td>60.000</td>\n",
       "      <td>9550</td>\n",
       "      <td>2</td>\n",
       "      <td>None</td>\n",
       "      <td>3</td>\n",
       "      <td>Lvl</td>\n",
       "      <td>4</td>\n",
       "      <td>Corner</td>\n",
       "      <td>...</td>\n",
       "      <td>1.732</td>\n",
       "      <td>4.000</td>\n",
       "      <td>8.000</td>\n",
       "      <td>1.414</td>\n",
       "      <td>16</td>\n",
       "      <td>64</td>\n",
       "      <td>2.000</td>\n",
       "      <td>3709476</td>\n",
       "      <td>7144450776</td>\n",
       "      <td>43.886</td>\n",
       "    </tr>\n",
       "    <tr>\n",
       "      <th>4</th>\n",
       "      <td>SC60</td>\n",
       "      <td>RL</td>\n",
       "      <td>84.000</td>\n",
       "      <td>14260</td>\n",
       "      <td>2</td>\n",
       "      <td>None</td>\n",
       "      <td>3</td>\n",
       "      <td>Lvl</td>\n",
       "      <td>4</td>\n",
       "      <td>FR2</td>\n",
       "      <td>...</td>\n",
       "      <td>1.732</td>\n",
       "      <td>12.250</td>\n",
       "      <td>42.875</td>\n",
       "      <td>1.871</td>\n",
       "      <td>16</td>\n",
       "      <td>64</td>\n",
       "      <td>2.000</td>\n",
       "      <td>6290064</td>\n",
       "      <td>15775480512</td>\n",
       "      <td>50.080</td>\n",
       "    </tr>\n",
       "  </tbody>\n",
       "</table>\n",
       "<p>5 rows × 144 columns</p>\n",
       "</div>"
      ],
      "text/plain": [
       "  MSSubClass MSZoning  LotFrontage  LotArea  Street Alley  LotShape  \\\n",
       "0       SC60       RL       65.000     8450       2  None         4   \n",
       "1       SC20       RL       80.000     9600       2  None         4   \n",
       "2       SC60       RL       68.000    11250       2  None         3   \n",
       "3       SC70       RL       60.000     9550       2  None         3   \n",
       "4       SC60       RL       84.000    14260       2  None         3   \n",
       "\n",
       "  LandContour  Utilities LotConfig       ...        GarageCars-Sq TotalBath-2  \\\n",
       "0         Lvl          4    Inside       ...                1.414      12.250   \n",
       "1         Lvl          4       FR2       ...                1.414       6.250   \n",
       "2         Lvl          4    Inside       ...                1.414      12.250   \n",
       "3         Lvl          4    Corner       ...                1.732       4.000   \n",
       "4         Lvl          4       FR2       ...                1.732      12.250   \n",
       "\n",
       "  TotalBath-3 TotalBath-Sq KitchenQual-2 KitchenQual-3  KitchenQual-Sq  \\\n",
       "0      42.875        1.871            16            64           2.000   \n",
       "1      15.625        1.581             9            27           1.732   \n",
       "2      42.875        1.871            16            64           2.000   \n",
       "3       8.000        1.414            16            64           2.000   \n",
       "4      42.875        1.871            16            64           2.000   \n",
       "\n",
       "   GarageScore-2  GarageScore-3  GarageScore-Sq  \n",
       "0        2702736     4443297984          40.546  \n",
       "1        1904400     2628072000          37.148  \n",
       "2        3326976     6068404224          42.708  \n",
       "3        3709476     7144450776          43.886  \n",
       "4        6290064    15775480512          50.080  \n",
       "\n",
       "[5 rows x 144 columns]"
      ]
     },
     "execution_count": 28,
     "metadata": {},
     "output_type": "execute_result"
    }
   ],
   "source": [
    "train.head()\n"
   ]
  },
  {
   "cell_type": "code",
   "execution_count": 29,
   "metadata": {
    "collapsed": false
   },
   "outputs": [
    {
     "data": {
      "text/html": [
       "<div>\n",
       "<table border=\"1\" class=\"dataframe\">\n",
       "  <thead>\n",
       "    <tr style=\"text-align: right;\">\n",
       "      <th></th>\n",
       "      <th>MSSubClass</th>\n",
       "      <th>MSZoning</th>\n",
       "      <th>LotFrontage</th>\n",
       "      <th>LotArea</th>\n",
       "      <th>Street</th>\n",
       "      <th>Alley</th>\n",
       "      <th>LotShape</th>\n",
       "      <th>LandContour</th>\n",
       "      <th>Utilities</th>\n",
       "      <th>LotConfig</th>\n",
       "      <th>...</th>\n",
       "      <th>GarageCars-Sq</th>\n",
       "      <th>TotalBath-2</th>\n",
       "      <th>TotalBath-3</th>\n",
       "      <th>TotalBath-Sq</th>\n",
       "      <th>KitchenQual-2</th>\n",
       "      <th>KitchenQual-3</th>\n",
       "      <th>KitchenQual-Sq</th>\n",
       "      <th>GarageScore-2</th>\n",
       "      <th>GarageScore-3</th>\n",
       "      <th>GarageScore-Sq</th>\n",
       "    </tr>\n",
       "  </thead>\n",
       "  <tbody>\n",
       "    <tr>\n",
       "      <th>0</th>\n",
       "      <td>SC20</td>\n",
       "      <td>RH</td>\n",
       "      <td>80.000</td>\n",
       "      <td>11622</td>\n",
       "      <td>2</td>\n",
       "      <td>None</td>\n",
       "      <td>4</td>\n",
       "      <td>Lvl</td>\n",
       "      <td>4</td>\n",
       "      <td>Inside</td>\n",
       "      <td>...</td>\n",
       "      <td>1.000</td>\n",
       "      <td>1.000</td>\n",
       "      <td>1.000</td>\n",
       "      <td>1.000</td>\n",
       "      <td>9</td>\n",
       "      <td>27</td>\n",
       "      <td>1.732</td>\n",
       "      <td>4796100.000</td>\n",
       "      <td>10503459000.000</td>\n",
       "      <td>46.797</td>\n",
       "    </tr>\n",
       "    <tr>\n",
       "      <th>1</th>\n",
       "      <td>SC20</td>\n",
       "      <td>RL</td>\n",
       "      <td>81.000</td>\n",
       "      <td>14267</td>\n",
       "      <td>2</td>\n",
       "      <td>None</td>\n",
       "      <td>3</td>\n",
       "      <td>Lvl</td>\n",
       "      <td>4</td>\n",
       "      <td>Corner</td>\n",
       "      <td>...</td>\n",
       "      <td>1.000</td>\n",
       "      <td>2.250</td>\n",
       "      <td>3.375</td>\n",
       "      <td>1.225</td>\n",
       "      <td>16</td>\n",
       "      <td>64</td>\n",
       "      <td>2.000</td>\n",
       "      <td>876096.000</td>\n",
       "      <td>820025856.000</td>\n",
       "      <td>30.594</td>\n",
       "    </tr>\n",
       "    <tr>\n",
       "      <th>2</th>\n",
       "      <td>SC60</td>\n",
       "      <td>RL</td>\n",
       "      <td>74.000</td>\n",
       "      <td>13830</td>\n",
       "      <td>2</td>\n",
       "      <td>None</td>\n",
       "      <td>3</td>\n",
       "      <td>Lvl</td>\n",
       "      <td>4</td>\n",
       "      <td>Inside</td>\n",
       "      <td>...</td>\n",
       "      <td>1.414</td>\n",
       "      <td>6.250</td>\n",
       "      <td>15.625</td>\n",
       "      <td>1.581</td>\n",
       "      <td>9</td>\n",
       "      <td>27</td>\n",
       "      <td>1.732</td>\n",
       "      <td>2090916.000</td>\n",
       "      <td>3023464536.000</td>\n",
       "      <td>38.026</td>\n",
       "    </tr>\n",
       "    <tr>\n",
       "      <th>3</th>\n",
       "      <td>SC60</td>\n",
       "      <td>RL</td>\n",
       "      <td>78.000</td>\n",
       "      <td>9978</td>\n",
       "      <td>2</td>\n",
       "      <td>None</td>\n",
       "      <td>3</td>\n",
       "      <td>Lvl</td>\n",
       "      <td>4</td>\n",
       "      <td>Inside</td>\n",
       "      <td>...</td>\n",
       "      <td>1.414</td>\n",
       "      <td>6.250</td>\n",
       "      <td>15.625</td>\n",
       "      <td>1.581</td>\n",
       "      <td>16</td>\n",
       "      <td>64</td>\n",
       "      <td>2.000</td>\n",
       "      <td>1988100.000</td>\n",
       "      <td>2803221000.000</td>\n",
       "      <td>37.550</td>\n",
       "    </tr>\n",
       "    <tr>\n",
       "      <th>4</th>\n",
       "      <td>SC120</td>\n",
       "      <td>RL</td>\n",
       "      <td>43.000</td>\n",
       "      <td>5005</td>\n",
       "      <td>2</td>\n",
       "      <td>None</td>\n",
       "      <td>3</td>\n",
       "      <td>HLS</td>\n",
       "      <td>4</td>\n",
       "      <td>Inside</td>\n",
       "      <td>...</td>\n",
       "      <td>1.414</td>\n",
       "      <td>4.000</td>\n",
       "      <td>8.000</td>\n",
       "      <td>1.414</td>\n",
       "      <td>16</td>\n",
       "      <td>64</td>\n",
       "      <td>2.000</td>\n",
       "      <td>2304324.000</td>\n",
       "      <td>3497963832.000</td>\n",
       "      <td>38.962</td>\n",
       "    </tr>\n",
       "  </tbody>\n",
       "</table>\n",
       "<p>5 rows × 143 columns</p>\n",
       "</div>"
      ],
      "text/plain": [
       "  MSSubClass MSZoning  LotFrontage  LotArea  Street Alley  LotShape  \\\n",
       "0       SC20       RH       80.000    11622       2  None         4   \n",
       "1       SC20       RL       81.000    14267       2  None         3   \n",
       "2       SC60       RL       74.000    13830       2  None         3   \n",
       "3       SC60       RL       78.000     9978       2  None         3   \n",
       "4      SC120       RL       43.000     5005       2  None         3   \n",
       "\n",
       "  LandContour  Utilities LotConfig       ...        GarageCars-Sq TotalBath-2  \\\n",
       "0         Lvl          4    Inside       ...                1.000       1.000   \n",
       "1         Lvl          4    Corner       ...                1.000       2.250   \n",
       "2         Lvl          4    Inside       ...                1.414       6.250   \n",
       "3         Lvl          4    Inside       ...                1.414       6.250   \n",
       "4         HLS          4    Inside       ...                1.414       4.000   \n",
       "\n",
       "  TotalBath-3 TotalBath-Sq KitchenQual-2 KitchenQual-3  KitchenQual-Sq  \\\n",
       "0       1.000        1.000             9            27           1.732   \n",
       "1       3.375        1.225            16            64           2.000   \n",
       "2      15.625        1.581             9            27           1.732   \n",
       "3      15.625        1.581            16            64           2.000   \n",
       "4       8.000        1.414            16            64           2.000   \n",
       "\n",
       "   GarageScore-2   GarageScore-3  GarageScore-Sq  \n",
       "0    4796100.000 10503459000.000          46.797  \n",
       "1     876096.000   820025856.000          30.594  \n",
       "2    2090916.000  3023464536.000          38.026  \n",
       "3    1988100.000  2803221000.000          37.550  \n",
       "4    2304324.000  3497963832.000          38.962  \n",
       "\n",
       "[5 rows x 143 columns]"
      ]
     },
     "execution_count": 29,
     "metadata": {},
     "output_type": "execute_result"
    }
   ],
   "source": [
    "test.head()"
   ]
  },
  {
   "cell_type": "markdown",
   "metadata": {},
   "source": [
    "### Differentiate numerical features (minus the target) and categorical features\n"
   ]
  },
  {
   "cell_type": "code",
   "execution_count": 30,
   "metadata": {
    "collapsed": false
   },
   "outputs": [
    {
     "name": "stdout",
     "output_type": "stream",
     "text": [
      "Numerical features : 117\n",
      "Categorical features : 26\n"
     ]
    }
   ],
   "source": [
    "# Train\n",
    "cat_feat_train = train.select_dtypes(include = [\"object\"]).columns\n",
    "num_feat_train = train.select_dtypes(exclude = [\"object\"]).columns\n",
    "num_feat_train = num_feat_train.drop(\"SalePrice\")\n",
    "print(\"Numerical features : \" + str(len(num_feat_train)))\n",
    "print(\"Categorical features : \" + str(len(cat_feat_train)))\n",
    "train_num = train[num_feat_train]\n",
    "train_cat = train[cat_feat_train]"
   ]
  },
  {
   "cell_type": "code",
   "execution_count": 31,
   "metadata": {
    "collapsed": false
   },
   "outputs": [
    {
     "name": "stdout",
     "output_type": "stream",
     "text": [
      "Numerical features : 117\n",
      "Categorical features : 26\n"
     ]
    }
   ],
   "source": [
    "# Test\n",
    "cat_feat_test = test.select_dtypes(include = [\"object\"]).columns\n",
    "num_feat_test = test.select_dtypes(exclude = [\"object\"]).columns\n",
    "print(\"Numerical features : \" + str(len(num_feat_test)))\n",
    "print(\"Categorical features : \" + str(len(cat_feat_test)))\n",
    "test_num = test[num_feat_test]\n",
    "test_cat = test[cat_feat_test]"
   ]
  },
  {
   "cell_type": "markdown",
   "metadata": {},
   "source": [
    "### Handle remaining missing values for numerical features by using median as replacement\n"
   ]
  },
  {
   "cell_type": "code",
   "execution_count": 32,
   "metadata": {
    "collapsed": false
   },
   "outputs": [
    {
     "name": "stdout",
     "output_type": "stream",
     "text": [
      "NAs for numerical features in train : 81\n",
      "Remaining NAs for numerical features in train : 0\n"
     ]
    }
   ],
   "source": [
    "# Train\n",
    "print(\"NAs for numerical features in train : \" + str(train_num.isnull().values.sum()))\n",
    "train_num = train_num.fillna(train_num.median())\n",
    "print(\"Remaining NAs for numerical features in train : \" + str(train_num.isnull().values.sum()))"
   ]
  },
  {
   "cell_type": "code",
   "execution_count": 33,
   "metadata": {
    "collapsed": false
   },
   "outputs": [
    {
     "name": "stdout",
     "output_type": "stream",
     "text": [
      "NAs for numerical features in test : 85\n",
      "Remaining NAs for numerical features in test : 0\n"
     ]
    }
   ],
   "source": [
    "# Test\n",
    "print(\"NAs for numerical features in test : \" + str(test_num.isnull().values.sum()))\n",
    "test_num = test_num.fillna(test_num.median())\n",
    "print(\"Remaining NAs for numerical features in test : \" + str(test_num.isnull().values.sum()))"
   ]
  },
  {
   "cell_type": "code",
   "execution_count": 34,
   "metadata": {
    "collapsed": false
   },
   "outputs": [
    {
     "data": {
      "text/html": [
       "<div>\n",
       "<table border=\"1\" class=\"dataframe\">\n",
       "  <thead>\n",
       "    <tr style=\"text-align: right;\">\n",
       "      <th></th>\n",
       "      <th>MSSubClass</th>\n",
       "      <th>MSZoning</th>\n",
       "      <th>LotFrontage</th>\n",
       "      <th>LotArea</th>\n",
       "      <th>Street</th>\n",
       "      <th>Alley</th>\n",
       "      <th>LotShape</th>\n",
       "      <th>LandContour</th>\n",
       "      <th>Utilities</th>\n",
       "      <th>LotConfig</th>\n",
       "      <th>...</th>\n",
       "      <th>GarageCars-Sq</th>\n",
       "      <th>TotalBath-2</th>\n",
       "      <th>TotalBath-3</th>\n",
       "      <th>TotalBath-Sq</th>\n",
       "      <th>KitchenQual-2</th>\n",
       "      <th>KitchenQual-3</th>\n",
       "      <th>KitchenQual-Sq</th>\n",
       "      <th>GarageScore-2</th>\n",
       "      <th>GarageScore-3</th>\n",
       "      <th>GarageScore-Sq</th>\n",
       "    </tr>\n",
       "  </thead>\n",
       "  <tbody>\n",
       "    <tr>\n",
       "      <th>0</th>\n",
       "      <td>SC60</td>\n",
       "      <td>RL</td>\n",
       "      <td>65.000</td>\n",
       "      <td>8450</td>\n",
       "      <td>2</td>\n",
       "      <td>None</td>\n",
       "      <td>4</td>\n",
       "      <td>Lvl</td>\n",
       "      <td>4</td>\n",
       "      <td>Inside</td>\n",
       "      <td>...</td>\n",
       "      <td>1.414</td>\n",
       "      <td>12.250</td>\n",
       "      <td>42.875</td>\n",
       "      <td>1.871</td>\n",
       "      <td>16</td>\n",
       "      <td>64</td>\n",
       "      <td>2.000</td>\n",
       "      <td>2702736</td>\n",
       "      <td>4443297984</td>\n",
       "      <td>40.546</td>\n",
       "    </tr>\n",
       "    <tr>\n",
       "      <th>1</th>\n",
       "      <td>SC20</td>\n",
       "      <td>RL</td>\n",
       "      <td>80.000</td>\n",
       "      <td>9600</td>\n",
       "      <td>2</td>\n",
       "      <td>None</td>\n",
       "      <td>4</td>\n",
       "      <td>Lvl</td>\n",
       "      <td>4</td>\n",
       "      <td>FR2</td>\n",
       "      <td>...</td>\n",
       "      <td>1.414</td>\n",
       "      <td>6.250</td>\n",
       "      <td>15.625</td>\n",
       "      <td>1.581</td>\n",
       "      <td>9</td>\n",
       "      <td>27</td>\n",
       "      <td>1.732</td>\n",
       "      <td>1904400</td>\n",
       "      <td>2628072000</td>\n",
       "      <td>37.148</td>\n",
       "    </tr>\n",
       "    <tr>\n",
       "      <th>2</th>\n",
       "      <td>SC60</td>\n",
       "      <td>RL</td>\n",
       "      <td>68.000</td>\n",
       "      <td>11250</td>\n",
       "      <td>2</td>\n",
       "      <td>None</td>\n",
       "      <td>3</td>\n",
       "      <td>Lvl</td>\n",
       "      <td>4</td>\n",
       "      <td>Inside</td>\n",
       "      <td>...</td>\n",
       "      <td>1.414</td>\n",
       "      <td>12.250</td>\n",
       "      <td>42.875</td>\n",
       "      <td>1.871</td>\n",
       "      <td>16</td>\n",
       "      <td>64</td>\n",
       "      <td>2.000</td>\n",
       "      <td>3326976</td>\n",
       "      <td>6068404224</td>\n",
       "      <td>42.708</td>\n",
       "    </tr>\n",
       "    <tr>\n",
       "      <th>3</th>\n",
       "      <td>SC70</td>\n",
       "      <td>RL</td>\n",
       "      <td>60.000</td>\n",
       "      <td>9550</td>\n",
       "      <td>2</td>\n",
       "      <td>None</td>\n",
       "      <td>3</td>\n",
       "      <td>Lvl</td>\n",
       "      <td>4</td>\n",
       "      <td>Corner</td>\n",
       "      <td>...</td>\n",
       "      <td>1.732</td>\n",
       "      <td>4.000</td>\n",
       "      <td>8.000</td>\n",
       "      <td>1.414</td>\n",
       "      <td>16</td>\n",
       "      <td>64</td>\n",
       "      <td>2.000</td>\n",
       "      <td>3709476</td>\n",
       "      <td>7144450776</td>\n",
       "      <td>43.886</td>\n",
       "    </tr>\n",
       "    <tr>\n",
       "      <th>4</th>\n",
       "      <td>SC60</td>\n",
       "      <td>RL</td>\n",
       "      <td>84.000</td>\n",
       "      <td>14260</td>\n",
       "      <td>2</td>\n",
       "      <td>None</td>\n",
       "      <td>3</td>\n",
       "      <td>Lvl</td>\n",
       "      <td>4</td>\n",
       "      <td>FR2</td>\n",
       "      <td>...</td>\n",
       "      <td>1.732</td>\n",
       "      <td>12.250</td>\n",
       "      <td>42.875</td>\n",
       "      <td>1.871</td>\n",
       "      <td>16</td>\n",
       "      <td>64</td>\n",
       "      <td>2.000</td>\n",
       "      <td>6290064</td>\n",
       "      <td>15775480512</td>\n",
       "      <td>50.080</td>\n",
       "    </tr>\n",
       "  </tbody>\n",
       "</table>\n",
       "<p>5 rows × 144 columns</p>\n",
       "</div>"
      ],
      "text/plain": [
       "  MSSubClass MSZoning  LotFrontage  LotArea  Street Alley  LotShape  \\\n",
       "0       SC60       RL       65.000     8450       2  None         4   \n",
       "1       SC20       RL       80.000     9600       2  None         4   \n",
       "2       SC60       RL       68.000    11250       2  None         3   \n",
       "3       SC70       RL       60.000     9550       2  None         3   \n",
       "4       SC60       RL       84.000    14260       2  None         3   \n",
       "\n",
       "  LandContour  Utilities LotConfig       ...        GarageCars-Sq TotalBath-2  \\\n",
       "0         Lvl          4    Inside       ...                1.414      12.250   \n",
       "1         Lvl          4       FR2       ...                1.414       6.250   \n",
       "2         Lvl          4    Inside       ...                1.414      12.250   \n",
       "3         Lvl          4    Corner       ...                1.732       4.000   \n",
       "4         Lvl          4       FR2       ...                1.732      12.250   \n",
       "\n",
       "  TotalBath-3 TotalBath-Sq KitchenQual-2 KitchenQual-3  KitchenQual-Sq  \\\n",
       "0      42.875        1.871            16            64           2.000   \n",
       "1      15.625        1.581             9            27           1.732   \n",
       "2      42.875        1.871            16            64           2.000   \n",
       "3       8.000        1.414            16            64           2.000   \n",
       "4      42.875        1.871            16            64           2.000   \n",
       "\n",
       "   GarageScore-2  GarageScore-3  GarageScore-Sq  \n",
       "0        2702736     4443297984          40.546  \n",
       "1        1904400     2628072000          37.148  \n",
       "2        3326976     6068404224          42.708  \n",
       "3        3709476     7144450776          43.886  \n",
       "4        6290064    15775480512          50.080  \n",
       "\n",
       "[5 rows x 144 columns]"
      ]
     },
     "execution_count": 34,
     "metadata": {},
     "output_type": "execute_result"
    }
   ],
   "source": [
    "train.head()"
   ]
  },
  {
   "cell_type": "code",
   "execution_count": 35,
   "metadata": {
    "collapsed": false
   },
   "outputs": [
    {
     "data": {
      "text/html": [
       "<div>\n",
       "<table border=\"1\" class=\"dataframe\">\n",
       "  <thead>\n",
       "    <tr style=\"text-align: right;\">\n",
       "      <th></th>\n",
       "      <th>MSSubClass</th>\n",
       "      <th>MSZoning</th>\n",
       "      <th>LotFrontage</th>\n",
       "      <th>LotArea</th>\n",
       "      <th>Street</th>\n",
       "      <th>Alley</th>\n",
       "      <th>LotShape</th>\n",
       "      <th>LandContour</th>\n",
       "      <th>Utilities</th>\n",
       "      <th>LotConfig</th>\n",
       "      <th>...</th>\n",
       "      <th>GarageCars-Sq</th>\n",
       "      <th>TotalBath-2</th>\n",
       "      <th>TotalBath-3</th>\n",
       "      <th>TotalBath-Sq</th>\n",
       "      <th>KitchenQual-2</th>\n",
       "      <th>KitchenQual-3</th>\n",
       "      <th>KitchenQual-Sq</th>\n",
       "      <th>GarageScore-2</th>\n",
       "      <th>GarageScore-3</th>\n",
       "      <th>GarageScore-Sq</th>\n",
       "    </tr>\n",
       "  </thead>\n",
       "  <tbody>\n",
       "    <tr>\n",
       "      <th>0</th>\n",
       "      <td>SC20</td>\n",
       "      <td>RH</td>\n",
       "      <td>80.000</td>\n",
       "      <td>11622</td>\n",
       "      <td>2</td>\n",
       "      <td>None</td>\n",
       "      <td>4</td>\n",
       "      <td>Lvl</td>\n",
       "      <td>4</td>\n",
       "      <td>Inside</td>\n",
       "      <td>...</td>\n",
       "      <td>1.000</td>\n",
       "      <td>1.000</td>\n",
       "      <td>1.000</td>\n",
       "      <td>1.000</td>\n",
       "      <td>9</td>\n",
       "      <td>27</td>\n",
       "      <td>1.732</td>\n",
       "      <td>4796100.000</td>\n",
       "      <td>10503459000.000</td>\n",
       "      <td>46.797</td>\n",
       "    </tr>\n",
       "    <tr>\n",
       "      <th>1</th>\n",
       "      <td>SC20</td>\n",
       "      <td>RL</td>\n",
       "      <td>81.000</td>\n",
       "      <td>14267</td>\n",
       "      <td>2</td>\n",
       "      <td>None</td>\n",
       "      <td>3</td>\n",
       "      <td>Lvl</td>\n",
       "      <td>4</td>\n",
       "      <td>Corner</td>\n",
       "      <td>...</td>\n",
       "      <td>1.000</td>\n",
       "      <td>2.250</td>\n",
       "      <td>3.375</td>\n",
       "      <td>1.225</td>\n",
       "      <td>16</td>\n",
       "      <td>64</td>\n",
       "      <td>2.000</td>\n",
       "      <td>876096.000</td>\n",
       "      <td>820025856.000</td>\n",
       "      <td>30.594</td>\n",
       "    </tr>\n",
       "    <tr>\n",
       "      <th>2</th>\n",
       "      <td>SC60</td>\n",
       "      <td>RL</td>\n",
       "      <td>74.000</td>\n",
       "      <td>13830</td>\n",
       "      <td>2</td>\n",
       "      <td>None</td>\n",
       "      <td>3</td>\n",
       "      <td>Lvl</td>\n",
       "      <td>4</td>\n",
       "      <td>Inside</td>\n",
       "      <td>...</td>\n",
       "      <td>1.414</td>\n",
       "      <td>6.250</td>\n",
       "      <td>15.625</td>\n",
       "      <td>1.581</td>\n",
       "      <td>9</td>\n",
       "      <td>27</td>\n",
       "      <td>1.732</td>\n",
       "      <td>2090916.000</td>\n",
       "      <td>3023464536.000</td>\n",
       "      <td>38.026</td>\n",
       "    </tr>\n",
       "    <tr>\n",
       "      <th>3</th>\n",
       "      <td>SC60</td>\n",
       "      <td>RL</td>\n",
       "      <td>78.000</td>\n",
       "      <td>9978</td>\n",
       "      <td>2</td>\n",
       "      <td>None</td>\n",
       "      <td>3</td>\n",
       "      <td>Lvl</td>\n",
       "      <td>4</td>\n",
       "      <td>Inside</td>\n",
       "      <td>...</td>\n",
       "      <td>1.414</td>\n",
       "      <td>6.250</td>\n",
       "      <td>15.625</td>\n",
       "      <td>1.581</td>\n",
       "      <td>16</td>\n",
       "      <td>64</td>\n",
       "      <td>2.000</td>\n",
       "      <td>1988100.000</td>\n",
       "      <td>2803221000.000</td>\n",
       "      <td>37.550</td>\n",
       "    </tr>\n",
       "    <tr>\n",
       "      <th>4</th>\n",
       "      <td>SC120</td>\n",
       "      <td>RL</td>\n",
       "      <td>43.000</td>\n",
       "      <td>5005</td>\n",
       "      <td>2</td>\n",
       "      <td>None</td>\n",
       "      <td>3</td>\n",
       "      <td>HLS</td>\n",
       "      <td>4</td>\n",
       "      <td>Inside</td>\n",
       "      <td>...</td>\n",
       "      <td>1.414</td>\n",
       "      <td>4.000</td>\n",
       "      <td>8.000</td>\n",
       "      <td>1.414</td>\n",
       "      <td>16</td>\n",
       "      <td>64</td>\n",
       "      <td>2.000</td>\n",
       "      <td>2304324.000</td>\n",
       "      <td>3497963832.000</td>\n",
       "      <td>38.962</td>\n",
       "    </tr>\n",
       "  </tbody>\n",
       "</table>\n",
       "<p>5 rows × 143 columns</p>\n",
       "</div>"
      ],
      "text/plain": [
       "  MSSubClass MSZoning  LotFrontage  LotArea  Street Alley  LotShape  \\\n",
       "0       SC20       RH       80.000    11622       2  None         4   \n",
       "1       SC20       RL       81.000    14267       2  None         3   \n",
       "2       SC60       RL       74.000    13830       2  None         3   \n",
       "3       SC60       RL       78.000     9978       2  None         3   \n",
       "4      SC120       RL       43.000     5005       2  None         3   \n",
       "\n",
       "  LandContour  Utilities LotConfig       ...        GarageCars-Sq TotalBath-2  \\\n",
       "0         Lvl          4    Inside       ...                1.000       1.000   \n",
       "1         Lvl          4    Corner       ...                1.000       2.250   \n",
       "2         Lvl          4    Inside       ...                1.414       6.250   \n",
       "3         Lvl          4    Inside       ...                1.414       6.250   \n",
       "4         HLS          4    Inside       ...                1.414       4.000   \n",
       "\n",
       "  TotalBath-3 TotalBath-Sq KitchenQual-2 KitchenQual-3  KitchenQual-Sq  \\\n",
       "0       1.000        1.000             9            27           1.732   \n",
       "1       3.375        1.225            16            64           2.000   \n",
       "2      15.625        1.581             9            27           1.732   \n",
       "3      15.625        1.581            16            64           2.000   \n",
       "4       8.000        1.414            16            64           2.000   \n",
       "\n",
       "   GarageScore-2   GarageScore-3  GarageScore-Sq  \n",
       "0    4796100.000 10503459000.000          46.797  \n",
       "1     876096.000   820025856.000          30.594  \n",
       "2    2090916.000  3023464536.000          38.026  \n",
       "3    1988100.000  2803221000.000          37.550  \n",
       "4    2304324.000  3497963832.000          38.962  \n",
       "\n",
       "[5 rows x 143 columns]"
      ]
     },
     "execution_count": 35,
     "metadata": {},
     "output_type": "execute_result"
    }
   ],
   "source": [
    "test.head()"
   ]
  },
  {
   "cell_type": "markdown",
   "metadata": {},
   "source": [
    "### Create dummy features for categorical values via one-hot encoding"
   ]
  },
  {
   "cell_type": "code",
   "execution_count": 36,
   "metadata": {
    "collapsed": false
   },
   "outputs": [
    {
     "name": "stdout",
     "output_type": "stream",
     "text": [
      "NAs for categorical features in train : 1\n",
      "Remaining NAs for categorical features in train : 0\n"
     ]
    }
   ],
   "source": [
    "print(\"NAs for categorical features in train : \" + str(train_cat.isnull().values.sum()))\n",
    "train_cat = pd.get_dummies(train_cat)\n",
    "print(\"Remaining NAs for categorical features in train : \" + str(train_cat.isnull().values.sum()))"
   ]
  },
  {
   "cell_type": "code",
   "execution_count": 37,
   "metadata": {
    "collapsed": false
   },
   "outputs": [
    {
     "name": "stdout",
     "output_type": "stream",
     "text": [
      "NAs for categorical features in test : 7\n",
      "Remaining NAs for categorical features in test : 0\n"
     ]
    }
   ],
   "source": [
    "print(\"NAs for categorical features in test : \" + str(test_cat.isnull().values.sum()))\n",
    "test_cat = pd.get_dummies(test_cat)\n",
    "print(\"Remaining NAs for categorical features in test : \" + str(test_cat.isnull().values.sum()))"
   ]
  },
  {
   "cell_type": "code",
   "execution_count": 38,
   "metadata": {
    "collapsed": false
   },
   "outputs": [
    {
     "name": "stdout",
     "output_type": "stream",
     "text": [
      "New number of train cat features : 202\n",
      "New number of train num features : 117\n",
      "New number of test cat features : 189\n",
      "New number of test num features : 117\n"
     ]
    }
   ],
   "source": [
    "print(\"New number of train cat features : \" + str(train_cat.shape[1]))\n",
    "print(\"New number of train num features : \" + str(train_num.shape[1]))\n",
    "print(\"New number of test cat features : \" + str(test_cat.shape[1]))\n",
    "print(\"New number of test num features : \" + str(test_num.shape[1]))"
   ]
  },
  {
   "cell_type": "markdown",
   "metadata": {},
   "source": [
    "### Join categorical and numerical features\n"
   ]
  },
  {
   "cell_type": "code",
   "execution_count": 39,
   "metadata": {
    "collapsed": false
   },
   "outputs": [
    {
     "name": "stdout",
     "output_type": "stream",
     "text": [
      "New number of features : 319\n"
     ]
    }
   ],
   "source": [
    "train = pd.concat([train_num, train_cat], axis = 1)\n",
    "print(\"New number of features : \" + str(train.shape[1]))"
   ]
  },
  {
   "cell_type": "code",
   "execution_count": 40,
   "metadata": {
    "collapsed": false
   },
   "outputs": [
    {
     "name": "stdout",
     "output_type": "stream",
     "text": [
      "New number of features : 306\n"
     ]
    }
   ],
   "source": [
    "test = pd.concat([test_num, test_cat], axis = 1)\n",
    "print(\"New number of features : \" + str(test.shape[1]))\n"
   ]
  },
  {
   "cell_type": "code",
   "execution_count": 41,
   "metadata": {
    "collapsed": false
   },
   "outputs": [
    {
     "data": {
      "text/html": [
       "<div>\n",
       "<table border=\"1\" class=\"dataframe\">\n",
       "  <thead>\n",
       "    <tr style=\"text-align: right;\">\n",
       "      <th></th>\n",
       "      <th>LotFrontage</th>\n",
       "      <th>LotArea</th>\n",
       "      <th>Street</th>\n",
       "      <th>LotShape</th>\n",
       "      <th>Utilities</th>\n",
       "      <th>LandSlope</th>\n",
       "      <th>OverallQual</th>\n",
       "      <th>OverallCond</th>\n",
       "      <th>YearBuilt</th>\n",
       "      <th>YearRemodAdd</th>\n",
       "      <th>...</th>\n",
       "      <th>SaleType_ConLw</th>\n",
       "      <th>SaleType_New</th>\n",
       "      <th>SaleType_Oth</th>\n",
       "      <th>SaleType_WD</th>\n",
       "      <th>SaleCondition_Abnorml</th>\n",
       "      <th>SaleCondition_AdjLand</th>\n",
       "      <th>SaleCondition_Alloca</th>\n",
       "      <th>SaleCondition_Family</th>\n",
       "      <th>SaleCondition_Normal</th>\n",
       "      <th>SaleCondition_Partial</th>\n",
       "    </tr>\n",
       "  </thead>\n",
       "  <tbody>\n",
       "    <tr>\n",
       "      <th>0</th>\n",
       "      <td>65.000</td>\n",
       "      <td>8450</td>\n",
       "      <td>2</td>\n",
       "      <td>4</td>\n",
       "      <td>4</td>\n",
       "      <td>3</td>\n",
       "      <td>7</td>\n",
       "      <td>5</td>\n",
       "      <td>2003</td>\n",
       "      <td>2003</td>\n",
       "      <td>...</td>\n",
       "      <td>0</td>\n",
       "      <td>0</td>\n",
       "      <td>0</td>\n",
       "      <td>1</td>\n",
       "      <td>0</td>\n",
       "      <td>0</td>\n",
       "      <td>0</td>\n",
       "      <td>0</td>\n",
       "      <td>1</td>\n",
       "      <td>0</td>\n",
       "    </tr>\n",
       "    <tr>\n",
       "      <th>1</th>\n",
       "      <td>80.000</td>\n",
       "      <td>9600</td>\n",
       "      <td>2</td>\n",
       "      <td>4</td>\n",
       "      <td>4</td>\n",
       "      <td>3</td>\n",
       "      <td>6</td>\n",
       "      <td>8</td>\n",
       "      <td>1976</td>\n",
       "      <td>1976</td>\n",
       "      <td>...</td>\n",
       "      <td>0</td>\n",
       "      <td>0</td>\n",
       "      <td>0</td>\n",
       "      <td>1</td>\n",
       "      <td>0</td>\n",
       "      <td>0</td>\n",
       "      <td>0</td>\n",
       "      <td>0</td>\n",
       "      <td>1</td>\n",
       "      <td>0</td>\n",
       "    </tr>\n",
       "    <tr>\n",
       "      <th>2</th>\n",
       "      <td>68.000</td>\n",
       "      <td>11250</td>\n",
       "      <td>2</td>\n",
       "      <td>3</td>\n",
       "      <td>4</td>\n",
       "      <td>3</td>\n",
       "      <td>7</td>\n",
       "      <td>5</td>\n",
       "      <td>2001</td>\n",
       "      <td>2002</td>\n",
       "      <td>...</td>\n",
       "      <td>0</td>\n",
       "      <td>0</td>\n",
       "      <td>0</td>\n",
       "      <td>1</td>\n",
       "      <td>0</td>\n",
       "      <td>0</td>\n",
       "      <td>0</td>\n",
       "      <td>0</td>\n",
       "      <td>1</td>\n",
       "      <td>0</td>\n",
       "    </tr>\n",
       "    <tr>\n",
       "      <th>3</th>\n",
       "      <td>60.000</td>\n",
       "      <td>9550</td>\n",
       "      <td>2</td>\n",
       "      <td>3</td>\n",
       "      <td>4</td>\n",
       "      <td>3</td>\n",
       "      <td>7</td>\n",
       "      <td>5</td>\n",
       "      <td>1915</td>\n",
       "      <td>1970</td>\n",
       "      <td>...</td>\n",
       "      <td>0</td>\n",
       "      <td>0</td>\n",
       "      <td>0</td>\n",
       "      <td>1</td>\n",
       "      <td>1</td>\n",
       "      <td>0</td>\n",
       "      <td>0</td>\n",
       "      <td>0</td>\n",
       "      <td>0</td>\n",
       "      <td>0</td>\n",
       "    </tr>\n",
       "    <tr>\n",
       "      <th>4</th>\n",
       "      <td>84.000</td>\n",
       "      <td>14260</td>\n",
       "      <td>2</td>\n",
       "      <td>3</td>\n",
       "      <td>4</td>\n",
       "      <td>3</td>\n",
       "      <td>8</td>\n",
       "      <td>5</td>\n",
       "      <td>2000</td>\n",
       "      <td>2000</td>\n",
       "      <td>...</td>\n",
       "      <td>0</td>\n",
       "      <td>0</td>\n",
       "      <td>0</td>\n",
       "      <td>1</td>\n",
       "      <td>0</td>\n",
       "      <td>0</td>\n",
       "      <td>0</td>\n",
       "      <td>0</td>\n",
       "      <td>1</td>\n",
       "      <td>0</td>\n",
       "    </tr>\n",
       "  </tbody>\n",
       "</table>\n",
       "<p>5 rows × 319 columns</p>\n",
       "</div>"
      ],
      "text/plain": [
       "   LotFrontage  LotArea  Street  LotShape  Utilities  LandSlope  OverallQual  \\\n",
       "0       65.000     8450       2         4          4          3            7   \n",
       "1       80.000     9600       2         4          4          3            6   \n",
       "2       68.000    11250       2         3          4          3            7   \n",
       "3       60.000     9550       2         3          4          3            7   \n",
       "4       84.000    14260       2         3          4          3            8   \n",
       "\n",
       "   OverallCond  YearBuilt  YearRemodAdd          ...            \\\n",
       "0            5       2003          2003          ...             \n",
       "1            8       1976          1976          ...             \n",
       "2            5       2001          2002          ...             \n",
       "3            5       1915          1970          ...             \n",
       "4            5       2000          2000          ...             \n",
       "\n",
       "   SaleType_ConLw  SaleType_New  SaleType_Oth  SaleType_WD  \\\n",
       "0               0             0             0            1   \n",
       "1               0             0             0            1   \n",
       "2               0             0             0            1   \n",
       "3               0             0             0            1   \n",
       "4               0             0             0            1   \n",
       "\n",
       "   SaleCondition_Abnorml  SaleCondition_AdjLand  SaleCondition_Alloca  \\\n",
       "0                      0                      0                     0   \n",
       "1                      0                      0                     0   \n",
       "2                      0                      0                     0   \n",
       "3                      1                      0                     0   \n",
       "4                      0                      0                     0   \n",
       "\n",
       "   SaleCondition_Family  SaleCondition_Normal  SaleCondition_Partial  \n",
       "0                     0                     1                      0  \n",
       "1                     0                     1                      0  \n",
       "2                     0                     1                      0  \n",
       "3                     0                     0                      0  \n",
       "4                     0                     1                      0  \n",
       "\n",
       "[5 rows x 319 columns]"
      ]
     },
     "execution_count": 41,
     "metadata": {},
     "output_type": "execute_result"
    }
   ],
   "source": [
    "train.head()\n"
   ]
  },
  {
   "cell_type": "code",
   "execution_count": 42,
   "metadata": {
    "collapsed": false
   },
   "outputs": [
    {
     "data": {
      "text/html": [
       "<div>\n",
       "<table border=\"1\" class=\"dataframe\">\n",
       "  <thead>\n",
       "    <tr style=\"text-align: right;\">\n",
       "      <th></th>\n",
       "      <th>LotFrontage</th>\n",
       "      <th>LotArea</th>\n",
       "      <th>Street</th>\n",
       "      <th>LotShape</th>\n",
       "      <th>Utilities</th>\n",
       "      <th>LandSlope</th>\n",
       "      <th>OverallQual</th>\n",
       "      <th>OverallCond</th>\n",
       "      <th>YearBuilt</th>\n",
       "      <th>YearRemodAdd</th>\n",
       "      <th>...</th>\n",
       "      <th>SaleType_ConLw</th>\n",
       "      <th>SaleType_New</th>\n",
       "      <th>SaleType_Oth</th>\n",
       "      <th>SaleType_WD</th>\n",
       "      <th>SaleCondition_Abnorml</th>\n",
       "      <th>SaleCondition_AdjLand</th>\n",
       "      <th>SaleCondition_Alloca</th>\n",
       "      <th>SaleCondition_Family</th>\n",
       "      <th>SaleCondition_Normal</th>\n",
       "      <th>SaleCondition_Partial</th>\n",
       "    </tr>\n",
       "  </thead>\n",
       "  <tbody>\n",
       "    <tr>\n",
       "      <th>0</th>\n",
       "      <td>80.000</td>\n",
       "      <td>11622</td>\n",
       "      <td>2</td>\n",
       "      <td>4</td>\n",
       "      <td>4</td>\n",
       "      <td>3</td>\n",
       "      <td>5</td>\n",
       "      <td>6</td>\n",
       "      <td>1961</td>\n",
       "      <td>1961</td>\n",
       "      <td>...</td>\n",
       "      <td>0</td>\n",
       "      <td>0</td>\n",
       "      <td>0</td>\n",
       "      <td>1</td>\n",
       "      <td>0</td>\n",
       "      <td>0</td>\n",
       "      <td>0</td>\n",
       "      <td>0</td>\n",
       "      <td>1</td>\n",
       "      <td>0</td>\n",
       "    </tr>\n",
       "    <tr>\n",
       "      <th>1</th>\n",
       "      <td>81.000</td>\n",
       "      <td>14267</td>\n",
       "      <td>2</td>\n",
       "      <td>3</td>\n",
       "      <td>4</td>\n",
       "      <td>3</td>\n",
       "      <td>6</td>\n",
       "      <td>6</td>\n",
       "      <td>1958</td>\n",
       "      <td>1958</td>\n",
       "      <td>...</td>\n",
       "      <td>0</td>\n",
       "      <td>0</td>\n",
       "      <td>0</td>\n",
       "      <td>1</td>\n",
       "      <td>0</td>\n",
       "      <td>0</td>\n",
       "      <td>0</td>\n",
       "      <td>0</td>\n",
       "      <td>1</td>\n",
       "      <td>0</td>\n",
       "    </tr>\n",
       "    <tr>\n",
       "      <th>2</th>\n",
       "      <td>74.000</td>\n",
       "      <td>13830</td>\n",
       "      <td>2</td>\n",
       "      <td>3</td>\n",
       "      <td>4</td>\n",
       "      <td>3</td>\n",
       "      <td>5</td>\n",
       "      <td>5</td>\n",
       "      <td>1997</td>\n",
       "      <td>1998</td>\n",
       "      <td>...</td>\n",
       "      <td>0</td>\n",
       "      <td>0</td>\n",
       "      <td>0</td>\n",
       "      <td>1</td>\n",
       "      <td>0</td>\n",
       "      <td>0</td>\n",
       "      <td>0</td>\n",
       "      <td>0</td>\n",
       "      <td>1</td>\n",
       "      <td>0</td>\n",
       "    </tr>\n",
       "    <tr>\n",
       "      <th>3</th>\n",
       "      <td>78.000</td>\n",
       "      <td>9978</td>\n",
       "      <td>2</td>\n",
       "      <td>3</td>\n",
       "      <td>4</td>\n",
       "      <td>3</td>\n",
       "      <td>6</td>\n",
       "      <td>6</td>\n",
       "      <td>1998</td>\n",
       "      <td>1998</td>\n",
       "      <td>...</td>\n",
       "      <td>0</td>\n",
       "      <td>0</td>\n",
       "      <td>0</td>\n",
       "      <td>1</td>\n",
       "      <td>0</td>\n",
       "      <td>0</td>\n",
       "      <td>0</td>\n",
       "      <td>0</td>\n",
       "      <td>1</td>\n",
       "      <td>0</td>\n",
       "    </tr>\n",
       "    <tr>\n",
       "      <th>4</th>\n",
       "      <td>43.000</td>\n",
       "      <td>5005</td>\n",
       "      <td>2</td>\n",
       "      <td>3</td>\n",
       "      <td>4</td>\n",
       "      <td>3</td>\n",
       "      <td>8</td>\n",
       "      <td>5</td>\n",
       "      <td>1992</td>\n",
       "      <td>1992</td>\n",
       "      <td>...</td>\n",
       "      <td>0</td>\n",
       "      <td>0</td>\n",
       "      <td>0</td>\n",
       "      <td>1</td>\n",
       "      <td>0</td>\n",
       "      <td>0</td>\n",
       "      <td>0</td>\n",
       "      <td>0</td>\n",
       "      <td>1</td>\n",
       "      <td>0</td>\n",
       "    </tr>\n",
       "  </tbody>\n",
       "</table>\n",
       "<p>5 rows × 306 columns</p>\n",
       "</div>"
      ],
      "text/plain": [
       "   LotFrontage  LotArea  Street  LotShape  Utilities  LandSlope  OverallQual  \\\n",
       "0       80.000    11622       2         4          4          3            5   \n",
       "1       81.000    14267       2         3          4          3            6   \n",
       "2       74.000    13830       2         3          4          3            5   \n",
       "3       78.000     9978       2         3          4          3            6   \n",
       "4       43.000     5005       2         3          4          3            8   \n",
       "\n",
       "   OverallCond  YearBuilt  YearRemodAdd          ...            \\\n",
       "0            6       1961          1961          ...             \n",
       "1            6       1958          1958          ...             \n",
       "2            5       1997          1998          ...             \n",
       "3            6       1998          1998          ...             \n",
       "4            5       1992          1992          ...             \n",
       "\n",
       "   SaleType_ConLw  SaleType_New  SaleType_Oth  SaleType_WD  \\\n",
       "0               0             0             0            1   \n",
       "1               0             0             0            1   \n",
       "2               0             0             0            1   \n",
       "3               0             0             0            1   \n",
       "4               0             0             0            1   \n",
       "\n",
       "   SaleCondition_Abnorml  SaleCondition_AdjLand  SaleCondition_Alloca  \\\n",
       "0                      0                      0                     0   \n",
       "1                      0                      0                     0   \n",
       "2                      0                      0                     0   \n",
       "3                      0                      0                     0   \n",
       "4                      0                      0                     0   \n",
       "\n",
       "   SaleCondition_Family  SaleCondition_Normal  SaleCondition_Partial  \n",
       "0                     0                     1                      0  \n",
       "1                     0                     1                      0  \n",
       "2                     0                     1                      0  \n",
       "3                     0                     1                      0  \n",
       "4                     0                     1                      0  \n",
       "\n",
       "[5 rows x 306 columns]"
      ]
     },
     "execution_count": 42,
     "metadata": {},
     "output_type": "execute_result"
    }
   ],
   "source": [
    "test.head()\n"
   ]
  },
  {
   "cell_type": "markdown",
   "metadata": {},
   "source": [
    "### Drop columns which are in the training set but not in the test set and vice versa\n"
   ]
  },
  {
   "cell_type": "code",
   "execution_count": 43,
   "metadata": {
    "collapsed": false
   },
   "outputs": [
    {
     "data": {
      "text/plain": [
       "['HouseStyle_2.5Fin',\n",
       " 'Exterior1st_ImStucc',\n",
       " 'Exterior2nd_Other',\n",
       " 'RoofMatl_Membran',\n",
       " 'MiscFeature_TenC',\n",
       " 'Condition2_RRAe',\n",
       " 'Heating_Floor',\n",
       " 'Condition2_RRNn',\n",
       " 'RoofMatl_Metal',\n",
       " 'Exterior1st_Stone',\n",
       " 'RoofMatl_Roll',\n",
       " 'Electrical_Mix',\n",
       " 'Condition2_RRAn',\n",
       " 'Heating_OthW']"
      ]
     },
     "execution_count": 43,
     "metadata": {},
     "output_type": "execute_result"
    }
   ],
   "source": [
    "extra_cols = list(set(train.columns.tolist()) - set(test.columns.tolist()))\n",
    "extra_cols"
   ]
  },
  {
   "cell_type": "code",
   "execution_count": 44,
   "metadata": {
    "collapsed": true
   },
   "outputs": [],
   "source": [
    "train = train.drop(extra_cols, 1)"
   ]
  },
  {
   "cell_type": "code",
   "execution_count": 45,
   "metadata": {
    "collapsed": false
   },
   "outputs": [
    {
     "data": {
      "text/plain": [
       "['MSSubClass_SC150']"
      ]
     },
     "execution_count": 45,
     "metadata": {},
     "output_type": "execute_result"
    }
   ],
   "source": [
    "extra_cols = list(set(test.columns.tolist()) - set(train.columns.tolist()))\n",
    "extra_cols"
   ]
  },
  {
   "cell_type": "code",
   "execution_count": 46,
   "metadata": {
    "collapsed": true
   },
   "outputs": [],
   "source": [
    "# Drop columns which are in the test set but not in the train set\n",
    "test = test.drop(extra_cols, 1)"
   ]
  },
  {
   "cell_type": "code",
   "execution_count": 47,
   "metadata": {
    "collapsed": false
   },
   "outputs": [
    {
     "name": "stdout",
     "output_type": "stream",
     "text": [
      "(1456, 305)\n"
     ]
    }
   ],
   "source": [
    "print(train.shape)"
   ]
  },
  {
   "cell_type": "code",
   "execution_count": 48,
   "metadata": {
    "collapsed": false
   },
   "outputs": [
    {
     "name": "stdout",
     "output_type": "stream",
     "text": [
      "(1456,)\n"
     ]
    }
   ],
   "source": [
    "print(y.shape)"
   ]
  },
  {
   "cell_type": "markdown",
   "metadata": {},
   "source": [
    "## Split the dataset into train + validation sets\n"
   ]
  },
  {
   "cell_type": "code",
   "execution_count": 49,
   "metadata": {
    "collapsed": false
   },
   "outputs": [
    {
     "name": "stdout",
     "output_type": "stream",
     "text": [
      "X_train : (1019, 305)\n",
      "X_test : (437, 305)\n",
      "y_train : (1019,)\n",
      "y_test : (437,)\n",
      "test : (1459, 305)\n"
     ]
    }
   ],
   "source": [
    "X_train, X_test, y_train, y_test = train_test_split(train, y, test_size = 0.3, random_state = 0)\n",
    "print(\"X_train : \" + str(X_train.shape))\n",
    "print(\"X_test : \" + str(X_test.shape))\n",
    "print(\"y_train : \" + str(y_train.shape))\n",
    "print(\"y_test : \" + str(y_test.shape))\n",
    "print(\"test : \" + str(test.shape))"
   ]
  },
  {
   "cell_type": "code",
   "execution_count": 50,
   "metadata": {
    "collapsed": false
   },
   "outputs": [
    {
     "name": "stderr",
     "output_type": "stream",
     "text": [
      "/home/phil/anaconda2/envs/p35/lib/python3.5/site-packages/pandas/core/indexing.py:477: SettingWithCopyWarning: \n",
      "A value is trying to be set on a copy of a slice from a DataFrame.\n",
      "Try using .loc[row_indexer,col_indexer] = value instead\n",
      "\n",
      "See the caveats in the documentation: http://pandas.pydata.org/pandas-docs/stable/indexing.html#indexing-view-versus-copy\n",
      "  self.obj[item] = s\n"
     ]
    }
   ],
   "source": [
    "# Standardize numerical features\n",
    "stdSc = StandardScaler()\n",
    "X_train.loc[:, num_feat_train] = stdSc.fit_transform(X_train.loc[:, num_feat_train])\n",
    "X_test.loc[:, num_feat_train] = stdSc.transform(X_test.loc[:, num_feat_train])\n",
    "test.loc[:, num_feat_test] = stdSc.transform(test.loc[:, num_feat_test])\n"
   ]
  },
  {
   "cell_type": "code",
   "execution_count": 51,
   "metadata": {
    "collapsed": false
   },
   "outputs": [
    {
     "data": {
      "text/html": [
       "<div>\n",
       "<table border=\"1\" class=\"dataframe\">\n",
       "  <thead>\n",
       "    <tr style=\"text-align: right;\">\n",
       "      <th></th>\n",
       "      <th>LotFrontage</th>\n",
       "      <th>LotArea</th>\n",
       "      <th>Street</th>\n",
       "      <th>LotShape</th>\n",
       "      <th>Utilities</th>\n",
       "      <th>LandSlope</th>\n",
       "      <th>OverallQual</th>\n",
       "      <th>OverallCond</th>\n",
       "      <th>YearBuilt</th>\n",
       "      <th>YearRemodAdd</th>\n",
       "      <th>...</th>\n",
       "      <th>SaleType_ConLw</th>\n",
       "      <th>SaleType_New</th>\n",
       "      <th>SaleType_Oth</th>\n",
       "      <th>SaleType_WD</th>\n",
       "      <th>SaleCondition_Abnorml</th>\n",
       "      <th>SaleCondition_AdjLand</th>\n",
       "      <th>SaleCondition_Alloca</th>\n",
       "      <th>SaleCondition_Family</th>\n",
       "      <th>SaleCondition_Normal</th>\n",
       "      <th>SaleCondition_Partial</th>\n",
       "    </tr>\n",
       "  </thead>\n",
       "  <tbody>\n",
       "    <tr>\n",
       "      <th>328</th>\n",
       "      <td>-1.720</td>\n",
       "      <td>0.144</td>\n",
       "      <td>0.063</td>\n",
       "      <td>-1.039</td>\n",
       "      <td>0.031</td>\n",
       "      <td>0.235</td>\n",
       "      <td>-0.058</td>\n",
       "      <td>0.409</td>\n",
       "      <td>-1.767</td>\n",
       "      <td>0.436</td>\n",
       "      <td>...</td>\n",
       "      <td>0</td>\n",
       "      <td>0</td>\n",
       "      <td>0</td>\n",
       "      <td>1</td>\n",
       "      <td>0</td>\n",
       "      <td>0</td>\n",
       "      <td>0</td>\n",
       "      <td>0</td>\n",
       "      <td>1</td>\n",
       "      <td>0</td>\n",
       "    </tr>\n",
       "    <tr>\n",
       "      <th>1026</th>\n",
       "      <td>0.467</td>\n",
       "      <td>-0.122</td>\n",
       "      <td>0.063</td>\n",
       "      <td>0.708</td>\n",
       "      <td>0.031</td>\n",
       "      <td>0.235</td>\n",
       "      <td>-0.794</td>\n",
       "      <td>-0.489</td>\n",
       "      <td>-0.347</td>\n",
       "      <td>-1.221</td>\n",
       "      <td>...</td>\n",
       "      <td>0</td>\n",
       "      <td>0</td>\n",
       "      <td>0</td>\n",
       "      <td>1</td>\n",
       "      <td>0</td>\n",
       "      <td>0</td>\n",
       "      <td>0</td>\n",
       "      <td>0</td>\n",
       "      <td>1</td>\n",
       "      <td>0</td>\n",
       "    </tr>\n",
       "    <tr>\n",
       "      <th>843</th>\n",
       "      <td>0.677</td>\n",
       "      <td>-0.256</td>\n",
       "      <td>0.063</td>\n",
       "      <td>0.708</td>\n",
       "      <td>0.031</td>\n",
       "      <td>0.235</td>\n",
       "      <td>-0.794</td>\n",
       "      <td>-1.387</td>\n",
       "      <td>-0.315</td>\n",
       "      <td>-1.173</td>\n",
       "      <td>...</td>\n",
       "      <td>0</td>\n",
       "      <td>0</td>\n",
       "      <td>0</td>\n",
       "      <td>1</td>\n",
       "      <td>0</td>\n",
       "      <td>0</td>\n",
       "      <td>0</td>\n",
       "      <td>0</td>\n",
       "      <td>1</td>\n",
       "      <td>0</td>\n",
       "    </tr>\n",
       "    <tr>\n",
       "      <th>994</th>\n",
       "      <td>1.156</td>\n",
       "      <td>0.203</td>\n",
       "      <td>0.063</td>\n",
       "      <td>0.708</td>\n",
       "      <td>0.031</td>\n",
       "      <td>0.235</td>\n",
       "      <td>2.886</td>\n",
       "      <td>-0.489</td>\n",
       "      <td>1.137</td>\n",
       "      <td>1.070</td>\n",
       "      <td>...</td>\n",
       "      <td>0</td>\n",
       "      <td>0</td>\n",
       "      <td>0</td>\n",
       "      <td>1</td>\n",
       "      <td>0</td>\n",
       "      <td>0</td>\n",
       "      <td>0</td>\n",
       "      <td>0</td>\n",
       "      <td>1</td>\n",
       "      <td>0</td>\n",
       "    </tr>\n",
       "    <tr>\n",
       "      <th>1226</th>\n",
       "      <td>0.856</td>\n",
       "      <td>0.423</td>\n",
       "      <td>0.063</td>\n",
       "      <td>-1.039</td>\n",
       "      <td>0.031</td>\n",
       "      <td>0.235</td>\n",
       "      <td>-0.058</td>\n",
       "      <td>-0.489</td>\n",
       "      <td>1.170</td>\n",
       "      <td>1.070</td>\n",
       "      <td>...</td>\n",
       "      <td>0</td>\n",
       "      <td>0</td>\n",
       "      <td>0</td>\n",
       "      <td>1</td>\n",
       "      <td>0</td>\n",
       "      <td>0</td>\n",
       "      <td>0</td>\n",
       "      <td>0</td>\n",
       "      <td>1</td>\n",
       "      <td>0</td>\n",
       "    </tr>\n",
       "  </tbody>\n",
       "</table>\n",
       "<p>5 rows × 305 columns</p>\n",
       "</div>"
      ],
      "text/plain": [
       "      LotFrontage  LotArea  Street  LotShape  Utilities  LandSlope  \\\n",
       "328        -1.720    0.144   0.063    -1.039      0.031      0.235   \n",
       "1026        0.467   -0.122   0.063     0.708      0.031      0.235   \n",
       "843         0.677   -0.256   0.063     0.708      0.031      0.235   \n",
       "994         1.156    0.203   0.063     0.708      0.031      0.235   \n",
       "1226        0.856    0.423   0.063    -1.039      0.031      0.235   \n",
       "\n",
       "      OverallQual  OverallCond  YearBuilt  YearRemodAdd  \\\n",
       "328        -0.058        0.409     -1.767         0.436   \n",
       "1026       -0.794       -0.489     -0.347        -1.221   \n",
       "843        -0.794       -1.387     -0.315        -1.173   \n",
       "994         2.886       -0.489      1.137         1.070   \n",
       "1226       -0.058       -0.489      1.170         1.070   \n",
       "\n",
       "              ...            SaleType_ConLw  SaleType_New  SaleType_Oth  \\\n",
       "328           ...                         0             0             0   \n",
       "1026          ...                         0             0             0   \n",
       "843           ...                         0             0             0   \n",
       "994           ...                         0             0             0   \n",
       "1226          ...                         0             0             0   \n",
       "\n",
       "      SaleType_WD  SaleCondition_Abnorml  SaleCondition_AdjLand  \\\n",
       "328             1                      0                      0   \n",
       "1026            1                      0                      0   \n",
       "843             1                      0                      0   \n",
       "994             1                      0                      0   \n",
       "1226            1                      0                      0   \n",
       "\n",
       "      SaleCondition_Alloca  SaleCondition_Family  SaleCondition_Normal  \\\n",
       "328                      0                     0                     1   \n",
       "1026                     0                     0                     1   \n",
       "843                      0                     0                     1   \n",
       "994                      0                     0                     1   \n",
       "1226                     0                     0                     1   \n",
       "\n",
       "      SaleCondition_Partial  \n",
       "328                       0  \n",
       "1026                      0  \n",
       "843                       0  \n",
       "994                       0  \n",
       "1226                      0  \n",
       "\n",
       "[5 rows x 305 columns]"
      ]
     },
     "execution_count": 51,
     "metadata": {},
     "output_type": "execute_result"
    }
   ],
   "source": [
    "X_train.head()"
   ]
  },
  {
   "cell_type": "code",
   "execution_count": 52,
   "metadata": {
    "collapsed": false
   },
   "outputs": [
    {
     "data": {
      "text/html": [
       "<div>\n",
       "<table border=\"1\" class=\"dataframe\">\n",
       "  <thead>\n",
       "    <tr style=\"text-align: right;\">\n",
       "      <th></th>\n",
       "      <th>LotFrontage</th>\n",
       "      <th>LotArea</th>\n",
       "      <th>Street</th>\n",
       "      <th>LotShape</th>\n",
       "      <th>Utilities</th>\n",
       "      <th>LandSlope</th>\n",
       "      <th>OverallQual</th>\n",
       "      <th>OverallCond</th>\n",
       "      <th>YearBuilt</th>\n",
       "      <th>YearRemodAdd</th>\n",
       "      <th>...</th>\n",
       "      <th>SaleType_ConLw</th>\n",
       "      <th>SaleType_New</th>\n",
       "      <th>SaleType_Oth</th>\n",
       "      <th>SaleType_WD</th>\n",
       "      <th>SaleCondition_Abnorml</th>\n",
       "      <th>SaleCondition_AdjLand</th>\n",
       "      <th>SaleCondition_Alloca</th>\n",
       "      <th>SaleCondition_Family</th>\n",
       "      <th>SaleCondition_Normal</th>\n",
       "      <th>SaleCondition_Partial</th>\n",
       "    </tr>\n",
       "  </thead>\n",
       "  <tbody>\n",
       "    <tr>\n",
       "      <th>0</th>\n",
       "      <td>0.677</td>\n",
       "      <td>0.117</td>\n",
       "      <td>0.063</td>\n",
       "      <td>0.708</td>\n",
       "      <td>0.031</td>\n",
       "      <td>0.235</td>\n",
       "      <td>-0.794</td>\n",
       "      <td>0.409</td>\n",
       "      <td>-0.315</td>\n",
       "      <td>-1.173</td>\n",
       "      <td>...</td>\n",
       "      <td>0</td>\n",
       "      <td>0</td>\n",
       "      <td>0</td>\n",
       "      <td>1</td>\n",
       "      <td>0</td>\n",
       "      <td>0</td>\n",
       "      <td>0</td>\n",
       "      <td>0</td>\n",
       "      <td>1</td>\n",
       "      <td>0</td>\n",
       "    </tr>\n",
       "    <tr>\n",
       "      <th>1</th>\n",
       "      <td>0.706</td>\n",
       "      <td>0.389</td>\n",
       "      <td>0.063</td>\n",
       "      <td>-1.039</td>\n",
       "      <td>0.031</td>\n",
       "      <td>0.235</td>\n",
       "      <td>-0.058</td>\n",
       "      <td>0.409</td>\n",
       "      <td>-0.412</td>\n",
       "      <td>-1.319</td>\n",
       "      <td>...</td>\n",
       "      <td>0</td>\n",
       "      <td>0</td>\n",
       "      <td>0</td>\n",
       "      <td>1</td>\n",
       "      <td>0</td>\n",
       "      <td>0</td>\n",
       "      <td>0</td>\n",
       "      <td>0</td>\n",
       "      <td>1</td>\n",
       "      <td>0</td>\n",
       "    </tr>\n",
       "    <tr>\n",
       "      <th>2</th>\n",
       "      <td>0.497</td>\n",
       "      <td>0.344</td>\n",
       "      <td>0.063</td>\n",
       "      <td>-1.039</td>\n",
       "      <td>0.031</td>\n",
       "      <td>0.235</td>\n",
       "      <td>-0.794</td>\n",
       "      <td>-0.489</td>\n",
       "      <td>0.847</td>\n",
       "      <td>0.631</td>\n",
       "      <td>...</td>\n",
       "      <td>0</td>\n",
       "      <td>0</td>\n",
       "      <td>0</td>\n",
       "      <td>1</td>\n",
       "      <td>0</td>\n",
       "      <td>0</td>\n",
       "      <td>0</td>\n",
       "      <td>0</td>\n",
       "      <td>1</td>\n",
       "      <td>0</td>\n",
       "    </tr>\n",
       "    <tr>\n",
       "      <th>3</th>\n",
       "      <td>0.617</td>\n",
       "      <td>-0.052</td>\n",
       "      <td>0.063</td>\n",
       "      <td>-1.039</td>\n",
       "      <td>0.031</td>\n",
       "      <td>0.235</td>\n",
       "      <td>-0.058</td>\n",
       "      <td>0.409</td>\n",
       "      <td>0.879</td>\n",
       "      <td>0.631</td>\n",
       "      <td>...</td>\n",
       "      <td>0</td>\n",
       "      <td>0</td>\n",
       "      <td>0</td>\n",
       "      <td>1</td>\n",
       "      <td>0</td>\n",
       "      <td>0</td>\n",
       "      <td>0</td>\n",
       "      <td>0</td>\n",
       "      <td>1</td>\n",
       "      <td>0</td>\n",
       "    </tr>\n",
       "    <tr>\n",
       "      <th>4</th>\n",
       "      <td>-0.432</td>\n",
       "      <td>-0.564</td>\n",
       "      <td>0.063</td>\n",
       "      <td>-1.039</td>\n",
       "      <td>0.031</td>\n",
       "      <td>0.235</td>\n",
       "      <td>1.414</td>\n",
       "      <td>-0.489</td>\n",
       "      <td>0.685</td>\n",
       "      <td>0.339</td>\n",
       "      <td>...</td>\n",
       "      <td>0</td>\n",
       "      <td>0</td>\n",
       "      <td>0</td>\n",
       "      <td>1</td>\n",
       "      <td>0</td>\n",
       "      <td>0</td>\n",
       "      <td>0</td>\n",
       "      <td>0</td>\n",
       "      <td>1</td>\n",
       "      <td>0</td>\n",
       "    </tr>\n",
       "  </tbody>\n",
       "</table>\n",
       "<p>5 rows × 305 columns</p>\n",
       "</div>"
      ],
      "text/plain": [
       "   LotFrontage  LotArea  Street  LotShape  Utilities  LandSlope  OverallQual  \\\n",
       "0        0.677    0.117   0.063     0.708      0.031      0.235       -0.794   \n",
       "1        0.706    0.389   0.063    -1.039      0.031      0.235       -0.058   \n",
       "2        0.497    0.344   0.063    -1.039      0.031      0.235       -0.794   \n",
       "3        0.617   -0.052   0.063    -1.039      0.031      0.235       -0.058   \n",
       "4       -0.432   -0.564   0.063    -1.039      0.031      0.235        1.414   \n",
       "\n",
       "   OverallCond  YearBuilt  YearRemodAdd          ...            \\\n",
       "0        0.409     -0.315        -1.173          ...             \n",
       "1        0.409     -0.412        -1.319          ...             \n",
       "2       -0.489      0.847         0.631          ...             \n",
       "3        0.409      0.879         0.631          ...             \n",
       "4       -0.489      0.685         0.339          ...             \n",
       "\n",
       "   SaleType_ConLw  SaleType_New  SaleType_Oth  SaleType_WD  \\\n",
       "0               0             0             0            1   \n",
       "1               0             0             0            1   \n",
       "2               0             0             0            1   \n",
       "3               0             0             0            1   \n",
       "4               0             0             0            1   \n",
       "\n",
       "   SaleCondition_Abnorml  SaleCondition_AdjLand  SaleCondition_Alloca  \\\n",
       "0                      0                      0                     0   \n",
       "1                      0                      0                     0   \n",
       "2                      0                      0                     0   \n",
       "3                      0                      0                     0   \n",
       "4                      0                      0                     0   \n",
       "\n",
       "   SaleCondition_Family  SaleCondition_Normal  SaleCondition_Partial  \n",
       "0                     0                     1                      0  \n",
       "1                     0                     1                      0  \n",
       "2                     0                     1                      0  \n",
       "3                     0                     1                      0  \n",
       "4                     0                     1                      0  \n",
       "\n",
       "[5 rows x 305 columns]"
      ]
     },
     "execution_count": 52,
     "metadata": {},
     "output_type": "execute_result"
    }
   ],
   "source": [
    "test.head()"
   ]
  },
  {
   "cell_type": "markdown",
   "metadata": {},
   "source": [
    "### Error Metric"
   ]
  },
  {
   "cell_type": "code",
   "execution_count": 53,
   "metadata": {
    "collapsed": true
   },
   "outputs": [],
   "source": [
    "# Define error measure for official scoring : RMSE\n",
    "scorer = make_scorer(mean_squared_error, greater_is_better = False)\n",
    "\n",
    "def rmse_cv(model, data, labels):\n",
    "    rmse= np.sqrt(-cross_val_score(model, data, labels, scoring = scorer, cv = 10))\n",
    "    return(rmse)\n"
   ]
  },
  {
   "cell_type": "markdown",
   "metadata": {},
   "source": [
    "### Models"
   ]
  },
  {
   "cell_type": "markdown",
   "metadata": {},
   "source": [
    "### 1) Linear Regression "
   ]
  },
  {
   "cell_type": "code",
   "execution_count": 54,
   "metadata": {
    "collapsed": false
   },
   "outputs": [
    {
     "data": {
      "text/plain": [
       "LinearRegression(copy_X=True, fit_intercept=True, n_jobs=1, normalize=False)"
      ]
     },
     "execution_count": 54,
     "metadata": {},
     "output_type": "execute_result"
    }
   ],
   "source": [
    "# Linear Regression\n",
    "lr = LinearRegression()\n",
    "lr.fit(X_train, y_train)"
   ]
  },
  {
   "cell_type": "code",
   "execution_count": 55,
   "metadata": {
    "collapsed": false
   },
   "outputs": [
    {
     "name": "stdout",
     "output_type": "stream",
     "text": [
      "RMSE on Training set : 11632218551.2\n",
      "RMSE on Test set : 0.856094851072\n"
     ]
    }
   ],
   "source": [
    "# Look at predictions on training and validation set\n",
    "print(\"RMSE on Training set :\", rmse_cv(lr, X_train, y_train).mean())\n",
    "print(\"RMSE on Test set :\", rmse_cv(lr, X_test, y_test).mean())\n",
    "y_train_pred = lr.predict(X_train)\n",
    "y_test_pred = lr.predict(X_test)\n",
    "linear_test_pred = lr.predict(test)\n"
   ]
  },
  {
   "cell_type": "code",
   "execution_count": 56,
   "metadata": {
    "collapsed": false
   },
   "outputs": [
    {
     "data": {
      "image/png": "[encoded data removed]",
      "text/plain": [
       "<matplotlib.figure.Figure at 0x7fbfa6637b00>"
      ]
     },
     "metadata": {},
     "output_type": "display_data"
    }
   ],
   "source": [
    "# Plot residuals\n",
    "plt.scatter(y_train_pred, y_train_pred - y_train, c = \"blue\", marker = \"s\", label = \"Training data\")\n",
    "plt.scatter(y_test_pred, y_test_pred - y_test, c = \"lightgreen\", marker = \"s\", label = \"Validation data\")\n",
    "plt.title(\"Linear regression\")\n",
    "plt.xlabel(\"Predicted values\")\n",
    "plt.ylabel(\"Residuals\")\n",
    "plt.legend(loc = \"upper left\")\n",
    "plt.hlines(y = 0, xmin = 10.5, xmax = 13.5, color = \"red\")\n",
    "plt.show()\n"
   ]
  },
  {
   "cell_type": "code",
   "execution_count": 57,
   "metadata": {
    "collapsed": false
   },
   "outputs": [
    {
     "data": {
      "image/png": "[encoded data removed]",
      "text/plain": [
       "<matplotlib.figure.Figure at 0x7fbfa6834f60>"
      ]
     },
     "metadata": {},
     "output_type": "display_data"
    }
   ],
   "source": [
    "# Plot predictions\n",
    "plt.scatter(y_train_pred, y_train, c = \"blue\", marker = \"s\", label = \"Training data\")\n",
    "plt.scatter(y_test_pred, y_test, c = \"lightgreen\", marker = \"s\", label = \"Validation data\")\n",
    "plt.title(\"Linear regression\")\n",
    "plt.xlabel(\"Predicted values\")\n",
    "plt.ylabel(\"Real values\")\n",
    "plt.legend(loc = \"upper left\")\n",
    "plt.plot([10.5, 13.5], [10.5, 13.5], c = \"red\")\n",
    "plt.show()"
   ]
  },
  {
   "cell_type": "markdown",
   "metadata": {},
   "source": [
    "### 2) Ridge Regression\n"
   ]
  },
  {
   "cell_type": "code",
   "execution_count": 58,
   "metadata": {
    "collapsed": false
   },
   "outputs": [
    {
     "name": "stdout",
     "output_type": "stream",
     "text": [
      "Best alpha : 30.0\n",
      "Try again for more precision with alphas centered around 30.0\n",
      "Best alpha : 39.0\n",
      "Ridge RMSE on Training set : 0.11566086204\n",
      "Ridge RMSE on Test set : 0.119420769565\n"
     ]
    }
   ],
   "source": [
    "ridge = RidgeCV(alphas = [0.01, 0.03, 0.06, 0.1, 0.3, 0.6, 1, 3, 6, 10, 30, 60])\n",
    "ridge.fit(X_train, y_train)\n",
    "alpha = ridge.alpha_\n",
    "print(\"Best alpha :\", alpha)\n",
    "\n",
    "print(\"Try again for more precision with alphas centered around \" + str(alpha))\n",
    "ridge = RidgeCV(alphas = [alpha * .6, alpha * .65, alpha * .7, alpha * .75, alpha * .8, alpha * .85, \n",
    "                          alpha * .9, alpha * .95, alpha, alpha * 1.05, alpha * 1.1, alpha * 1.15,\n",
    "                          alpha * 1.25, alpha * 1.3, alpha * 1.35, alpha * 1.4], \n",
    "                cv = 10)\n",
    "ridge.fit(X_train, y_train)\n",
    "alpha = ridge.alpha_\n",
    "print(\"Best alpha :\", alpha)\n",
    "\n",
    "print(\"Ridge RMSE on Training set :\", rmse_cv(ridge, X_train, y_train).mean())\n",
    "print(\"Ridge RMSE on Test set :\", rmse_cv(ridge, X_test, y_test).mean())\n",
    "y_train_rdg = ridge.predict(X_train)\n",
    "y_test_rdg = ridge.predict(X_test)\n",
    "ridge_test_pred = ridge.predict(test)\n"
   ]
  },
  {
   "cell_type": "code",
   "execution_count": 59,
   "metadata": {
    "collapsed": false
   },
   "outputs": [
    {
     "data": {
      "image/png": "[encoded data removed]",
      "text/plain": [
       "<matplotlib.figure.Figure at 0x7fbfa66b8278>"
      ]
     },
     "metadata": {},
     "output_type": "display_data"
    }
   ],
   "source": [
    "# Plot residuals\n",
    "plt.scatter(y_train_rdg, y_train_rdg - y_train, c = \"blue\", marker = \"s\", label = \"Training data\")\n",
    "plt.scatter(y_test_rdg, y_test_rdg - y_test, c = \"lightgreen\", marker = \"s\", label = \"Validation data\")\n",
    "plt.title(\"Linear regression with Ridge regularization\")\n",
    "plt.xlabel(\"Predicted values\")\n",
    "plt.ylabel(\"Residuals\")\n",
    "plt.legend(loc = \"upper left\")\n",
    "plt.hlines(y = 0, xmin = 10.5, xmax = 13.5, color = \"red\")\n",
    "plt.show()"
   ]
  },
  {
   "cell_type": "code",
   "execution_count": 60,
   "metadata": {
    "collapsed": false
   },
   "outputs": [
    {
     "data": {
      "image/png": "[encoded data removed]",
      "text/plain": [
       "<matplotlib.figure.Figure at 0x7fbfa66b87b8>"
      ]
     },
     "metadata": {},
     "output_type": "display_data"
    }
   ],
   "source": [
    "# Plot predictions\n",
    "plt.scatter(y_train_rdg, y_train, c = \"blue\", marker = \"s\", label = \"Training data\")\n",
    "plt.scatter(y_test_rdg, y_test, c = \"lightgreen\", marker = \"s\", label = \"Validation data\")\n",
    "plt.title(\"Linear regression with Ridge regularization\")\n",
    "plt.xlabel(\"Predicted values\")\n",
    "plt.ylabel(\"Real values\")\n",
    "plt.legend(loc = \"upper left\")\n",
    "plt.plot([10.5, 13.5], [10.5, 13.5], c = \"red\")\n",
    "plt.show()"
   ]
  },
  {
   "cell_type": "code",
   "execution_count": 61,
   "metadata": {
    "collapsed": false
   },
   "outputs": [
    {
     "name": "stdout",
     "output_type": "stream",
     "text": [
      "Ridge picked 305 features and eliminated the other 0 features\n"
     ]
    },
    {
     "data": {
      "image/png": "[encoded data removed]",
      "text/plain": [
       "<matplotlib.figure.Figure at 0x7fbfa6540160>"
      ]
     },
     "metadata": {},
     "output_type": "display_data"
    }
   ],
   "source": [
    "# Plot important coefficients\n",
    "coefs = pd.Series(ridge.coef_, index = X_train.columns)\n",
    "print(\"Ridge picked \" + str(sum(coefs != 0)) + \" features and eliminated the other \" +  \\\n",
    "      str(sum(coefs == 0)) + \" features\")\n",
    "imp_coefs = pd.concat([coefs.sort_values().head(10),\n",
    "                     coefs.sort_values().tail(10)])\n",
    "imp_coefs.plot(kind = \"barh\")\n",
    "plt.title(\"Coefficients in the Ridge Model\")\n",
    "plt.show()"
   ]
  },
  {
   "cell_type": "markdown",
   "metadata": {},
   "source": [
    "### 3) Linear Regression with Lasso regularization (L1 penalty)\n",
    "\n"
   ]
  },
  {
   "cell_type": "code",
   "execution_count": 62,
   "metadata": {
    "collapsed": false
   },
   "outputs": [
    {
     "name": "stdout",
     "output_type": "stream",
     "text": [
      "Best alpha : 0.0006\n",
      "Try again for more precision with alphas centered around 0.0006\n",
      "Best alpha : 0.00054\n",
      "Lasso RMSE on Training set : 0.112806784399\n",
      "Lasso RMSE on Test set : 0.118604830078\n"
     ]
    }
   ],
   "source": [
    "lasso = LassoCV(alphas = [0.0001, 0.0003, 0.0006, 0.001, 0.003, 0.006, 0.01, 0.03, 0.06, 0.1, \n",
    "                          0.3, 0.6, 1], \n",
    "                max_iter = 50000, cv = 10)\n",
    "lasso.fit(X_train, y_train)\n",
    "alpha = lasso.alpha_\n",
    "print(\"Best alpha :\", alpha)\n",
    "\n",
    "print(\"Try again for more precision with alphas centered around \" + str(alpha))\n",
    "lasso = LassoCV(alphas = [alpha * .6, alpha * .65, alpha * .7, alpha * .75, alpha * .8, \n",
    "                          alpha * .85, alpha * .9, alpha * .95, alpha, alpha * 1.05, \n",
    "                          alpha * 1.1, alpha * 1.15, alpha * 1.25, alpha * 1.3, alpha * 1.35, \n",
    "                          alpha * 1.4], \n",
    "                max_iter = 50000, cv = 10)\n",
    "lasso.fit(X_train, y_train)\n",
    "alpha = lasso.alpha_\n",
    "print(\"Best alpha :\", alpha)\n",
    "\n",
    "print(\"Lasso RMSE on Training set :\", rmse_cv(lasso, X_train, y_train).mean())\n",
    "print(\"Lasso RMSE on Test set :\", rmse_cv(lasso, X_test, y_test).mean())\n",
    "y_train_las = lasso.predict(X_train)\n",
    "y_test_las = lasso.predict(X_test)\n",
    "lasso_test_pred = lasso.predict(test)\n"
   ]
  },
  {
   "cell_type": "code",
   "execution_count": 63,
   "metadata": {
    "collapsed": false
   },
   "outputs": [
    {
     "data": {
      "image/png": "[encoded data removed]",
      "text/plain": [
       "<matplotlib.figure.Figure at 0x7fbfa64f6be0>"
      ]
     },
     "metadata": {},
     "output_type": "display_data"
    }
   ],
   "source": [
    "# Plot residuals\n",
    "plt.scatter(y_train_las, y_train_las - y_train, c = \"blue\", marker = \"s\", label = \"Training data\")\n",
    "plt.scatter(y_test_las, y_test_las - y_test, c = \"lightgreen\", marker = \"s\", label = \"Validation data\")\n",
    "plt.title(\"Linear regression with Lasso regularization\")\n",
    "plt.xlabel(\"Predicted values\")\n",
    "plt.ylabel(\"Residuals\")\n",
    "plt.legend(loc = \"upper left\")\n",
    "plt.hlines(y = 0, xmin = 10.5, xmax = 13.5, color = \"red\")\n",
    "plt.show()"
   ]
  },
  {
   "cell_type": "code",
   "execution_count": 64,
   "metadata": {
    "collapsed": false
   },
   "outputs": [
    {
     "data": {
      "image/png": "[encoded data removed]",
      "text/plain": [
       "<matplotlib.figure.Figure at 0x7fbfa6253da0>"
      ]
     },
     "metadata": {},
     "output_type": "display_data"
    }
   ],
   "source": [
    "# Plot predictions\n",
    "plt.scatter(y_train_las, y_train, c = \"blue\", marker = \"s\", label = \"Training data\")\n",
    "plt.scatter(y_test_las, y_test, c = \"lightgreen\", marker = \"s\", label = \"Validation data\")\n",
    "plt.title(\"Linear regression with Lasso regularization\")\n",
    "plt.xlabel(\"Predicted values\")\n",
    "plt.ylabel(\"Real values\")\n",
    "plt.legend(loc = \"upper left\")\n",
    "plt.plot([10.5, 13.5], [10.5, 13.5], c = \"red\")\n",
    "plt.show()"
   ]
  },
  {
   "cell_type": "code",
   "execution_count": 65,
   "metadata": {
    "collapsed": false
   },
   "outputs": [
    {
     "name": "stdout",
     "output_type": "stream",
     "text": [
      "Lasso picked 122 features and eliminated the other 183 features\n"
     ]
    },
    {
     "data": {
      "image/png": "[encoded data removed]",
      "text/plain": [
       "<matplotlib.figure.Figure at 0x7fbfa623a240>"
      ]
     },
     "metadata": {},
     "output_type": "display_data"
    }
   ],
   "source": [
    "# Plot important coefficients\n",
    "coefs = pd.Series(lasso.coef_, index = X_train.columns)\n",
    "print(\"Lasso picked \" + str(sum(coefs != 0)) + \" features and eliminated the other \" +  \\\n",
    "      str(sum(coefs == 0)) + \" features\")\n",
    "imp_coefs = pd.concat([coefs.sort_values().head(10),\n",
    "                     coefs.sort_values().tail(10)])\n",
    "imp_coefs.plot(kind = \"barh\")\n",
    "plt.title(\"Coefficients in the Lasso Model\")\n",
    "plt.show()"
   ]
  },
  {
   "cell_type": "markdown",
   "metadata": {},
   "source": [
    "### 4) ElasticNet\n"
   ]
  },
  {
   "cell_type": "code",
   "execution_count": 66,
   "metadata": {
    "collapsed": false
   },
   "outputs": [
    {
     "name": "stderr",
     "output_type": "stream",
     "text": [
      "/home/phil/anaconda2/envs/p35/lib/python3.5/site-packages/sklearn/linear_model/coordinate_descent.py:491: ConvergenceWarning: Objective did not converge. You might want to increase the number of iterations. Fitting data with very small alpha may cause precision problems.\n",
      "  ConvergenceWarning)\n"
     ]
    },
    {
     "name": "stdout",
     "output_type": "stream",
     "text": [
      "Best l1_ratio : 0.95\n",
      "Best alpha : 0.0006\n"
     ]
    }
   ],
   "source": [
    "elasticNet = ElasticNetCV(l1_ratio = [0.1, 0.3, 0.5, 0.6, 0.7, 0.8, 0.85, 0.9, 0.95, 1],\n",
    "                          alphas = [0.0001, 0.0003, 0.0006, 0.001, 0.003, 0.006, \n",
    "                                    0.01, 0.03, 0.06, 0.1, 0.3, 0.6, 1, 3, 6], \n",
    "                          max_iter = 50000, cv = 10)\n",
    "elasticNet.fit(X_train, y_train)\n",
    "alpha = elasticNet.alpha_\n",
    "ratio = elasticNet.l1_ratio_\n",
    "print(\"Best l1_ratio :\", ratio)\n",
    "print(\"Best alpha :\", alpha )"
   ]
  },
  {
   "cell_type": "code",
   "execution_count": 67,
   "metadata": {
    "collapsed": false
   },
   "outputs": [
    {
     "name": "stdout",
     "output_type": "stream",
     "text": [
      "Try again for more precision with l1_ratio centered around 0.95\n",
      "Best l1_ratio : 0.95\n",
      "Best alpha : 0.0006\n"
     ]
    }
   ],
   "source": [
    "print(\"Try again for more precision with l1_ratio centered around \" + str(ratio))\n",
    "elasticNet = ElasticNetCV(l1_ratio = [ratio * .85, ratio * .9, ratio * .95, ratio, ratio * 1.05, ratio * 1.1, ratio * 1.15],\n",
    "                          alphas = [0.0001, 0.0003, 0.0006, 0.001, 0.003, 0.006, 0.01, 0.03, 0.06, 0.1, 0.3, 0.6, 1, 3, 6], \n",
    "                          max_iter = 50000, cv = 10)\n",
    "elasticNet.fit(X_train, y_train)\n",
    "if (elasticNet.l1_ratio_ > 1):\n",
    "    elasticNet.l1_ratio_ = 1    \n",
    "alpha = elasticNet.alpha_\n",
    "ratio = elasticNet.l1_ratio_\n",
    "print(\"Best l1_ratio :\", ratio)\n",
    "print(\"Best alpha :\", alpha )\n"
   ]
  },
  {
   "cell_type": "code",
   "execution_count": 68,
   "metadata": {
    "collapsed": false
   },
   "outputs": [
    {
     "name": "stdout",
     "output_type": "stream",
     "text": [
      "Now try again for more precision on alpha, with l1_ratio fixed at 0.95 and alpha centered around 0.0006\n",
      "Best l1_ratio : 0.95\n",
      "Best alpha : 0.00057\n"
     ]
    }
   ],
   "source": [
    "print(\"Now try again for more precision on alpha, with l1_ratio fixed at \" + str(ratio) + \n",
    "      \" and alpha centered around \" + str(alpha))\n",
    "elasticNet = ElasticNetCV(l1_ratio = ratio,\n",
    "                          alphas = [alpha * .6, alpha * .65, alpha * .7, alpha * .75, alpha * .8, alpha * .85, alpha * .9, \n",
    "                                    alpha * .95, alpha, alpha * 1.05, alpha * 1.1, alpha * 1.15, alpha * 1.25, alpha * 1.3, \n",
    "                                    alpha * 1.35, alpha * 1.4], \n",
    "                          max_iter = 50000, cv = 10)\n",
    "elasticNet.fit(X_train, y_train)\n",
    "if (elasticNet.l1_ratio_ > 1):\n",
    "    elasticNet.l1_ratio_ = 1    \n",
    "alpha = elasticNet.alpha_\n",
    "ratio = elasticNet.l1_ratio_\n",
    "print(\"Best l1_ratio :\", ratio)\n",
    "print(\"Best alpha :\", alpha )"
   ]
  },
  {
   "cell_type": "code",
   "execution_count": 69,
   "metadata": {
    "collapsed": false
   },
   "outputs": [
    {
     "name": "stdout",
     "output_type": "stream",
     "text": [
      "ElasticNet RMSE on Training set : 0.112878717333\n",
      "ElasticNet RMSE on Test set : 0.118693682584\n"
     ]
    }
   ],
   "source": [
    "print(\"ElasticNet RMSE on Training set :\", rmse_cv(elasticNet, X_train, y_train).mean())\n",
    "print(\"ElasticNet RMSE on Test set :\", rmse_cv(elasticNet, X_test, y_test).mean())\n",
    "y_train_ela = elasticNet.predict(X_train)\n",
    "y_test_ela = elasticNet.predict(X_test)\n",
    "elasticNet_test_pred = elasticNet.predict(test)\n"
   ]
  },
  {
   "cell_type": "code",
   "execution_count": 70,
   "metadata": {
    "collapsed": false
   },
   "outputs": [
    {
     "data": {
      "image/png": "[encoded data removed]",
      "text/plain": [
       "<matplotlib.figure.Figure at 0x7fbfa658ffd0>"
      ]
     },
     "metadata": {},
     "output_type": "display_data"
    }
   ],
   "source": [
    "# Plot residuals\n",
    "plt.scatter(y_train_ela, y_train_ela - y_train, c = \"blue\", marker = \"s\", label = \"Training data\")\n",
    "plt.scatter(y_test_ela, y_test_ela - y_test, c = \"lightgreen\", marker = \"s\", label = \"Validation data\")\n",
    "plt.title(\"Linear regression with ElasticNet regularization\")\n",
    "plt.xlabel(\"Predicted values\")\n",
    "plt.ylabel(\"Residuals\")\n",
    "plt.legend(loc = \"upper left\")\n",
    "plt.hlines(y = 0, xmin = 10.5, xmax = 13.5, color = \"red\")\n",
    "plt.show()"
   ]
  },
  {
   "cell_type": "code",
   "execution_count": 71,
   "metadata": {
    "collapsed": false
   },
   "outputs": [
    {
     "data": {
      "image/png": "[encoded data removed]",
      "text/plain": [
       "<matplotlib.figure.Figure at 0x7fbfa646a2e8>"
      ]
     },
     "metadata": {},
     "output_type": "display_data"
    }
   ],
   "source": [
    "# Plot predictions\n",
    "plt.scatter(y_train, y_train_ela, c = \"blue\", marker = \"s\", label = \"Training data\")\n",
    "plt.scatter(y_test, y_test_ela, c = \"lightgreen\", marker = \"s\", label = \"Validation data\")\n",
    "plt.title(\"Linear regression with ElasticNet regularization\")\n",
    "plt.xlabel(\"Predicted values\")\n",
    "plt.ylabel(\"Real values\")\n",
    "plt.legend(loc = \"upper left\")\n",
    "plt.plot([10.5, 13.5], [10.5, 13.5], c = \"red\")\n",
    "plt.show()"
   ]
  },
  {
   "cell_type": "code",
   "execution_count": 72,
   "metadata": {
    "collapsed": false
   },
   "outputs": [
    {
     "name": "stdout",
     "output_type": "stream",
     "text": [
      "ElasticNet picked 122 features and eliminated the other 183 features\n"
     ]
    },
    {
     "data": {
      "image/png": "[encoded data removed]",
      "text/plain": [
       "<matplotlib.figure.Figure at 0x7fbfa63eb198>"
      ]
     },
     "metadata": {},
     "output_type": "display_data"
    }
   ],
   "source": [
    "# Plot important coefficients\n",
    "coefs = pd.Series(elasticNet.coef_, index = X_train.columns)\n",
    "print(\"ElasticNet picked \" + str(sum(coefs != 0)) + \" features and eliminated the other \" +  str(sum(coefs == 0)) + \" features\")\n",
    "imp_coefs = pd.concat([coefs.sort_values().head(10),\n",
    "                     coefs.sort_values().tail(10)])\n",
    "imp_coefs.plot(kind = \"barh\")\n",
    "plt.title(\"Coefficients in the ElasticNet Model\")\n",
    "plt.show()"
   ]
  },
  {
   "cell_type": "markdown",
   "metadata": {},
   "source": [
    "### 5) XGBoost"
   ]
  },
  {
   "cell_type": "markdown",
   "metadata": {},
   "source": [
    "Parameters:  \n",
    "colsample_bytree: Denotes the fraction of columns to be randomly samples for each tree (0.5 -> 1)  \n",
    "\n",
    "Gamma: A node is split only when the resulting split gives a positive reduction in the loss function.  \n",
    "Gamma specifies the minimum loss reduction required to make a split.  \n",
    "Makes the algorithm conservative. The values can vary depending on the loss function and should be tuned.  \n",
    "\n",
    "max_depth: The maximum depth of a tree, same as GBM.  \n",
    "Used to control over-fitting as higher depth will allow model to learn relations very specific to a particular   sample. Should be tuned using CV.  \n",
    "Typical values: 3-10  \n",
    "\n",
    "silent: Whether or not to print messages\n"
   ]
  },
  {
   "cell_type": "markdown",
   "metadata": {},
   "source": [
    "#### Parameter Tuning:"
   ]
  },
  {
   "cell_type": "markdown",
   "metadata": {},
   "source": [
    "High level parameter search"
   ]
  },
  {
   "cell_type": "code",
   "execution_count": 76,
   "metadata": {
    "collapsed": true
   },
   "outputs": [],
   "source": [
    "param_test1 = {\n",
    " 'max_depth':range(3,10,2),\n",
    " 'min_child_weight':range(1,6,2)\n",
    "}"
   ]
  },
  {
   "cell_type": "code",
   "execution_count": 77,
   "metadata": {
    "collapsed": false
   },
   "outputs": [],
   "source": [
    "gsearch1 = GridSearchCV(\n",
    "    estimator = xgb.XGBRegressor( \n",
    "        colsample_bytree=0.2,\n",
    "        gamma=0.0,\n",
    "        learning_rate=0.01,\n",
    "        max_depth=4,\n",
    "        min_child_weight=1.5,\n",
    "        n_estimators=7200,                                                                  \n",
    "        reg_alpha=0.9,\n",
    "        reg_lambda=0.6,\n",
    "        subsample=0.2,\n",
    "        seed=42,\n",
    "        silent=0),                        \n",
    "    param_grid = param_test1, \n",
    "    scoring='roc_auc',\n",
    "    n_jobs=4,\n",
    "    iid=False, \n",
    "    cv=5\n",
    ")\n",
    "\n"
   ]
  },
  {
   "cell_type": "code",
   "execution_count": 78,
   "metadata": {
    "collapsed": false
   },
   "outputs": [
    {
     "ename": "JoblibValueError",
     "evalue": "JoblibValueError\n___________________________________________________________________________\nMultiprocessing exception:\n...........................................................................\n/home/phil/anaconda2/envs/p35/lib/python3.5/runpy.py in _run_module_as_main(mod_name='ipykernel.__main__', alter_argv=1)\n    179         sys.exit(msg)\n    180     main_globals = sys.modules[\"__main__\"].__dict__\n    181     if alter_argv:\n    182         sys.argv[0] = mod_spec.origin\n    183     return _run_code(code, main_globals, None,\n--> 184                      \"__main__\", mod_spec)\n        mod_spec = ModuleSpec(name='ipykernel.__main__', loader=<_f...b/python3.5/site-packages/ipykernel/__main__.py')\n    185 \n    186 def run_module(mod_name, init_globals=None,\n    187                run_name=None, alter_sys=False):\n    188     \"\"\"Execute a module's code without importing it\n\n...........................................................................\n/home/phil/anaconda2/envs/p35/lib/python3.5/runpy.py in _run_code(code=<code object <module> at 0x7fbfeb4b2f60, file \"/...3.5/site-packages/ipykernel/__main__.py\", line 1>, run_globals={'__builtins__': <module 'builtins' (built-in)>, '__cached__': '/home/phil/anaconda2/envs/p35/lib/python3.5/site...ges/ipykernel/__pycache__/__main__.cpython-35.pyc', '__doc__': None, '__file__': '/home/phil/anaconda2/envs/p35/lib/python3.5/site-packages/ipykernel/__main__.py', '__loader__': <_frozen_importlib_external.SourceFileLoader object>, '__name__': '__main__', '__package__': 'ipykernel', '__spec__': ModuleSpec(name='ipykernel.__main__', loader=<_f...b/python3.5/site-packages/ipykernel/__main__.py'), 'app': <module 'ipykernel.kernelapp' from '/home/phil/a.../python3.5/site-packages/ipykernel/kernelapp.py'>}, init_globals=None, mod_name='__main__', mod_spec=ModuleSpec(name='ipykernel.__main__', loader=<_f...b/python3.5/site-packages/ipykernel/__main__.py'), pkg_name='ipykernel', script_name=None)\n     80                        __cached__ = cached,\n     81                        __doc__ = None,\n     82                        __loader__ = loader,\n     83                        __package__ = pkg_name,\n     84                        __spec__ = mod_spec)\n---> 85     exec(code, run_globals)\n        code = <code object <module> at 0x7fbfeb4b2f60, file \"/...3.5/site-packages/ipykernel/__main__.py\", line 1>\n        run_globals = {'__builtins__': <module 'builtins' (built-in)>, '__cached__': '/home/phil/anaconda2/envs/p35/lib/python3.5/site...ges/ipykernel/__pycache__/__main__.cpython-35.pyc', '__doc__': None, '__file__': '/home/phil/anaconda2/envs/p35/lib/python3.5/site-packages/ipykernel/__main__.py', '__loader__': <_frozen_importlib_external.SourceFileLoader object>, '__name__': '__main__', '__package__': 'ipykernel', '__spec__': ModuleSpec(name='ipykernel.__main__', loader=<_f...b/python3.5/site-packages/ipykernel/__main__.py'), 'app': <module 'ipykernel.kernelapp' from '/home/phil/a.../python3.5/site-packages/ipykernel/kernelapp.py'>}\n     86     return run_globals\n     87 \n     88 def _run_module_code(code, init_globals=None,\n     89                     mod_name=None, mod_spec=None,\n\n...........................................................................\n/home/phil/anaconda2/envs/p35/lib/python3.5/site-packages/ipykernel/__main__.py in <module>()\n      1 if __name__ == '__main__':\n      2     from ipykernel import kernelapp as app\n----> 3     app.launch_new_instance()\n\n...........................................................................\n/home/phil/anaconda2/envs/p35/lib/python3.5/site-packages/traitlets/config/application.py in launch_instance(cls=<class 'ipykernel.kernelapp.IPKernelApp'>, argv=None, **kwargs={})\n    653 \n    654         If a global instance already exists, this reinitializes and starts it\n    655         \"\"\"\n    656         app = cls.instance(**kwargs)\n    657         app.initialize(argv)\n--> 658         app.start()\n        app.start = <bound method IPKernelApp.start of <ipykernel.kernelapp.IPKernelApp object>>\n    659 \n    660 #-----------------------------------------------------------------------------\n    661 # utility functions, for convenience\n    662 #-----------------------------------------------------------------------------\n\n...........................................................................\n/home/phil/anaconda2/envs/p35/lib/python3.5/site-packages/ipykernel/kernelapp.py in start(self=<ipykernel.kernelapp.IPKernelApp object>)\n    469             return self.subapp.start()\n    470         if self.poller is not None:\n    471             self.poller.start()\n    472         self.kernel.start()\n    473         try:\n--> 474             ioloop.IOLoop.instance().start()\n    475         except KeyboardInterrupt:\n    476             pass\n    477 \n    478 launch_new_instance = IPKernelApp.launch_instance\n\n...........................................................................\n/home/phil/anaconda2/envs/p35/lib/python3.5/site-packages/zmq/eventloop/ioloop.py in start(self=<zmq.eventloop.ioloop.ZMQIOLoop object>)\n    172             )\n    173         return loop\n    174     \n    175     def start(self):\n    176         try:\n--> 177             super(ZMQIOLoop, self).start()\n        self.start = <bound method ZMQIOLoop.start of <zmq.eventloop.ioloop.ZMQIOLoop object>>\n    178         except ZMQError as e:\n    179             if e.errno == ETERM:\n    180                 # quietly return on ETERM\n    181                 pass\n\n...........................................................................\n/home/phil/anaconda2/envs/p35/lib/python3.5/site-packages/tornado/ioloop.py in start(self=<zmq.eventloop.ioloop.ZMQIOLoop object>)\n    882                 self._events.update(event_pairs)\n    883                 while self._events:\n    884                     fd, events = self._events.popitem()\n    885                     try:\n    886                         fd_obj, handler_func = self._handlers[fd]\n--> 887                         handler_func(fd_obj, events)\n        handler_func = <function wrap.<locals>.null_wrapper>\n        fd_obj = <zmq.sugar.socket.Socket object>\n        events = 1\n    888                     except (OSError, IOError) as e:\n    889                         if errno_from_exception(e) == errno.EPIPE:\n    890                             # Happens when the client closes the connection\n    891                             pass\n\n...........................................................................\n/home/phil/anaconda2/envs/p35/lib/python3.5/site-packages/tornado/stack_context.py in null_wrapper(*args=(<zmq.sugar.socket.Socket object>, 1), **kwargs={})\n    270         # Fast path when there are no active contexts.\n    271         def null_wrapper(*args, **kwargs):\n    272             try:\n    273                 current_state = _state.contexts\n    274                 _state.contexts = cap_contexts[0]\n--> 275                 return fn(*args, **kwargs)\n        args = (<zmq.sugar.socket.Socket object>, 1)\n        kwargs = {}\n    276             finally:\n    277                 _state.contexts = current_state\n    278         null_wrapper._wrapped = True\n    279         return null_wrapper\n\n...........................................................................\n/home/phil/anaconda2/envs/p35/lib/python3.5/site-packages/zmq/eventloop/zmqstream.py in _handle_events(self=<zmq.eventloop.zmqstream.ZMQStream object>, fd=<zmq.sugar.socket.Socket object>, events=1)\n    435             # dispatch events:\n    436             if events & IOLoop.ERROR:\n    437                 gen_log.error(\"got POLLERR event on ZMQStream, which doesn't make sense\")\n    438                 return\n    439             if events & IOLoop.READ:\n--> 440                 self._handle_recv()\n        self._handle_recv = <bound method ZMQStream._handle_recv of <zmq.eventloop.zmqstream.ZMQStream object>>\n    441                 if not self.socket:\n    442                     return\n    443             if events & IOLoop.WRITE:\n    444                 self._handle_send()\n\n...........................................................................\n/home/phil/anaconda2/envs/p35/lib/python3.5/site-packages/zmq/eventloop/zmqstream.py in _handle_recv(self=<zmq.eventloop.zmqstream.ZMQStream object>)\n    467                 gen_log.error(\"RECV Error: %s\"%zmq.strerror(e.errno))\n    468         else:\n    469             if self._recv_callback:\n    470                 callback = self._recv_callback\n    471                 # self._recv_callback = None\n--> 472                 self._run_callback(callback, msg)\n        self._run_callback = <bound method ZMQStream._run_callback of <zmq.eventloop.zmqstream.ZMQStream object>>\n        callback = <function wrap.<locals>.null_wrapper>\n        msg = [<zmq.sugar.frame.Frame object>, <zmq.sugar.frame.Frame object>, <zmq.sugar.frame.Frame object>, <zmq.sugar.frame.Frame object>, <zmq.sugar.frame.Frame object>, <zmq.sugar.frame.Frame object>, <zmq.sugar.frame.Frame object>]\n    473                 \n    474         # self.update_state()\n    475         \n    476 \n\n...........................................................................\n/home/phil/anaconda2/envs/p35/lib/python3.5/site-packages/zmq/eventloop/zmqstream.py in _run_callback(self=<zmq.eventloop.zmqstream.ZMQStream object>, callback=<function wrap.<locals>.null_wrapper>, *args=([<zmq.sugar.frame.Frame object>, <zmq.sugar.frame.Frame object>, <zmq.sugar.frame.Frame object>, <zmq.sugar.frame.Frame object>, <zmq.sugar.frame.Frame object>, <zmq.sugar.frame.Frame object>, <zmq.sugar.frame.Frame object>],), **kwargs={})\n    409         close our socket.\"\"\"\n    410         try:\n    411             # Use a NullContext to ensure that all StackContexts are run\n    412             # inside our blanket exception handler rather than outside.\n    413             with stack_context.NullContext():\n--> 414                 callback(*args, **kwargs)\n        callback = <function wrap.<locals>.null_wrapper>\n        args = ([<zmq.sugar.frame.Frame object>, <zmq.sugar.frame.Frame object>, <zmq.sugar.frame.Frame object>, <zmq.sugar.frame.Frame object>, <zmq.sugar.frame.Frame object>, <zmq.sugar.frame.Frame object>, <zmq.sugar.frame.Frame object>],)\n        kwargs = {}\n    415         except:\n    416             gen_log.error(\"Uncaught exception, closing connection.\",\n    417                           exc_info=True)\n    418             # Close the socket on an uncaught exception from a user callback\n\n...........................................................................\n/home/phil/anaconda2/envs/p35/lib/python3.5/site-packages/tornado/stack_context.py in null_wrapper(*args=([<zmq.sugar.frame.Frame object>, <zmq.sugar.frame.Frame object>, <zmq.sugar.frame.Frame object>, <zmq.sugar.frame.Frame object>, <zmq.sugar.frame.Frame object>, <zmq.sugar.frame.Frame object>, <zmq.sugar.frame.Frame object>],), **kwargs={})\n    270         # Fast path when there are no active contexts.\n    271         def null_wrapper(*args, **kwargs):\n    272             try:\n    273                 current_state = _state.contexts\n    274                 _state.contexts = cap_contexts[0]\n--> 275                 return fn(*args, **kwargs)\n        args = ([<zmq.sugar.frame.Frame object>, <zmq.sugar.frame.Frame object>, <zmq.sugar.frame.Frame object>, <zmq.sugar.frame.Frame object>, <zmq.sugar.frame.Frame object>, <zmq.sugar.frame.Frame object>, <zmq.sugar.frame.Frame object>],)\n        kwargs = {}\n    276             finally:\n    277                 _state.contexts = current_state\n    278         null_wrapper._wrapped = True\n    279         return null_wrapper\n\n...........................................................................\n/home/phil/anaconda2/envs/p35/lib/python3.5/site-packages/ipykernel/kernelbase.py in dispatcher(msg=[<zmq.sugar.frame.Frame object>, <zmq.sugar.frame.Frame object>, <zmq.sugar.frame.Frame object>, <zmq.sugar.frame.Frame object>, <zmq.sugar.frame.Frame object>, <zmq.sugar.frame.Frame object>, <zmq.sugar.frame.Frame object>])\n    271         if self.control_stream:\n    272             self.control_stream.on_recv(self.dispatch_control, copy=False)\n    273 \n    274         def make_dispatcher(stream):\n    275             def dispatcher(msg):\n--> 276                 return self.dispatch_shell(stream, msg)\n        msg = [<zmq.sugar.frame.Frame object>, <zmq.sugar.frame.Frame object>, <zmq.sugar.frame.Frame object>, <zmq.sugar.frame.Frame object>, <zmq.sugar.frame.Frame object>, <zmq.sugar.frame.Frame object>, <zmq.sugar.frame.Frame object>]\n    277             return dispatcher\n    278 \n    279         for s in self.shell_streams:\n    280             s.on_recv(make_dispatcher(s), copy=False)\n\n...........................................................................\n/home/phil/anaconda2/envs/p35/lib/python3.5/site-packages/ipykernel/kernelbase.py in dispatch_shell(self=<ipykernel.ipkernel.IPythonKernel object>, stream=<zmq.eventloop.zmqstream.ZMQStream object>, msg={'buffers': [], 'content': {'allow_stdin': True, 'code': 'gsearch1.fit(X_train, y_train)\\ngsearch1.grid_scores_, gsearch1.best_params_, gsearch1.best_score_', 'silent': False, 'stop_on_error': True, 'store_history': True, 'user_expressions': {}}, 'header': {'date': '2017-10-29T10:17:28.227015', 'msg_id': '43B219B0D26242489AA70E13B9D58226', 'msg_type': 'execute_request', 'session': '7BEA3922CCCC40B28B692986FBEDDE59', 'username': 'username', 'version': '5.0'}, 'metadata': {}, 'msg_id': '43B219B0D26242489AA70E13B9D58226', 'msg_type': 'execute_request', 'parent_header': {}})\n    223             self.log.error(\"UNKNOWN MESSAGE TYPE: %r\", msg_type)\n    224         else:\n    225             self.log.debug(\"%s: %s\", msg_type, msg)\n    226             self.pre_handler_hook()\n    227             try:\n--> 228                 handler(stream, idents, msg)\n        handler = <bound method Kernel.execute_request of <ipykernel.ipkernel.IPythonKernel object>>\n        stream = <zmq.eventloop.zmqstream.ZMQStream object>\n        idents = [b'7BEA3922CCCC40B28B692986FBEDDE59']\n        msg = {'buffers': [], 'content': {'allow_stdin': True, 'code': 'gsearch1.fit(X_train, y_train)\\ngsearch1.grid_scores_, gsearch1.best_params_, gsearch1.best_score_', 'silent': False, 'stop_on_error': True, 'store_history': True, 'user_expressions': {}}, 'header': {'date': '2017-10-29T10:17:28.227015', 'msg_id': '43B219B0D26242489AA70E13B9D58226', 'msg_type': 'execute_request', 'session': '7BEA3922CCCC40B28B692986FBEDDE59', 'username': 'username', 'version': '5.0'}, 'metadata': {}, 'msg_id': '43B219B0D26242489AA70E13B9D58226', 'msg_type': 'execute_request', 'parent_header': {}}\n    229             except Exception:\n    230                 self.log.error(\"Exception in message handler:\", exc_info=True)\n    231             finally:\n    232                 self.post_handler_hook()\n\n...........................................................................\n/home/phil/anaconda2/envs/p35/lib/python3.5/site-packages/ipykernel/kernelbase.py in execute_request(self=<ipykernel.ipkernel.IPythonKernel object>, stream=<zmq.eventloop.zmqstream.ZMQStream object>, ident=[b'7BEA3922CCCC40B28B692986FBEDDE59'], parent={'buffers': [], 'content': {'allow_stdin': True, 'code': 'gsearch1.fit(X_train, y_train)\\ngsearch1.grid_scores_, gsearch1.best_params_, gsearch1.best_score_', 'silent': False, 'stop_on_error': True, 'store_history': True, 'user_expressions': {}}, 'header': {'date': '2017-10-29T10:17:28.227015', 'msg_id': '43B219B0D26242489AA70E13B9D58226', 'msg_type': 'execute_request', 'session': '7BEA3922CCCC40B28B692986FBEDDE59', 'username': 'username', 'version': '5.0'}, 'metadata': {}, 'msg_id': '43B219B0D26242489AA70E13B9D58226', 'msg_type': 'execute_request', 'parent_header': {}})\n    385         if not silent:\n    386             self.execution_count += 1\n    387             self._publish_execute_input(code, parent, self.execution_count)\n    388 \n    389         reply_content = self.do_execute(code, silent, store_history,\n--> 390                                         user_expressions, allow_stdin)\n        user_expressions = {}\n        allow_stdin = True\n    391 \n    392         # Flush output before sending the reply.\n    393         sys.stdout.flush()\n    394         sys.stderr.flush()\n\n...........................................................................\n/home/phil/anaconda2/envs/p35/lib/python3.5/site-packages/ipykernel/ipkernel.py in do_execute(self=<ipykernel.ipkernel.IPythonKernel object>, code='gsearch1.fit(X_train, y_train)\\ngsearch1.grid_scores_, gsearch1.best_params_, gsearch1.best_score_', silent=False, store_history=True, user_expressions={}, allow_stdin=True)\n    191 \n    192         self._forward_input(allow_stdin)\n    193 \n    194         reply_content = {}\n    195         try:\n--> 196             res = shell.run_cell(code, store_history=store_history, silent=silent)\n        res = undefined\n        shell.run_cell = <bound method ZMQInteractiveShell.run_cell of <ipykernel.zmqshell.ZMQInteractiveShell object>>\n        code = 'gsearch1.fit(X_train, y_train)\\ngsearch1.grid_scores_, gsearch1.best_params_, gsearch1.best_score_'\n        store_history = True\n        silent = False\n    197         finally:\n    198             self._restore_input()\n    199 \n    200         if res.error_before_exec is not None:\n\n...........................................................................\n/home/phil/anaconda2/envs/p35/lib/python3.5/site-packages/ipykernel/zmqshell.py in run_cell(self=<ipykernel.zmqshell.ZMQInteractiveShell object>, *args=('gsearch1.fit(X_train, y_train)\\ngsearch1.grid_scores_, gsearch1.best_params_, gsearch1.best_score_',), **kwargs={'silent': False, 'store_history': True})\n    496             )\n    497         self.payload_manager.write_payload(payload)\n    498 \n    499     def run_cell(self, *args, **kwargs):\n    500         self._last_traceback = None\n--> 501         return super(ZMQInteractiveShell, self).run_cell(*args, **kwargs)\n        self.run_cell = <bound method ZMQInteractiveShell.run_cell of <ipykernel.zmqshell.ZMQInteractiveShell object>>\n        args = ('gsearch1.fit(X_train, y_train)\\ngsearch1.grid_scores_, gsearch1.best_params_, gsearch1.best_score_',)\n        kwargs = {'silent': False, 'store_history': True}\n    502 \n    503     def _showtraceback(self, etype, evalue, stb):\n    504         # try to preserve ordering of tracebacks and print statements\n    505         sys.stdout.flush()\n\n...........................................................................\n/home/phil/anaconda2/envs/p35/lib/python3.5/site-packages/IPython/core/interactiveshell.py in run_cell(self=<ipykernel.zmqshell.ZMQInteractiveShell object>, raw_cell='gsearch1.fit(X_train, y_train)\\ngsearch1.grid_scores_, gsearch1.best_params_, gsearch1.best_score_', store_history=True, silent=False, shell_futures=True)\n   2712                 self.displayhook.exec_result = result\n   2713 \n   2714                 # Execute the user code\n   2715                 interactivity = \"none\" if silent else self.ast_node_interactivity\n   2716                 has_raised = self.run_ast_nodes(code_ast.body, cell_name,\n-> 2717                    interactivity=interactivity, compiler=compiler, result=result)\n        interactivity = 'last_expr'\n        compiler = <IPython.core.compilerop.CachingCompiler object>\n   2718                 \n   2719                 self.last_execution_succeeded = not has_raised\n   2720 \n   2721                 # Reset this so later displayed values do not modify the\n\n...........................................................................\n/home/phil/anaconda2/envs/p35/lib/python3.5/site-packages/IPython/core/interactiveshell.py in run_ast_nodes(self=<ipykernel.zmqshell.ZMQInteractiveShell object>, nodelist=[<_ast.Expr object>, <_ast.Expr object>], cell_name='<ipython-input-78-8e17bc0800de>', interactivity='last', compiler=<IPython.core.compilerop.CachingCompiler object>, result=<ExecutionResult object at 7fbfa639e3c8, executi..._before_exec=None error_in_exec=None result=None>)\n   2816 \n   2817         try:\n   2818             for i, node in enumerate(to_run_exec):\n   2819                 mod = ast.Module([node])\n   2820                 code = compiler(mod, cell_name, \"exec\")\n-> 2821                 if self.run_code(code, result):\n        self.run_code = <bound method InteractiveShell.run_code of <ipykernel.zmqshell.ZMQInteractiveShell object>>\n        code = <code object <module> at 0x7fbfa6772ed0, file \"<ipython-input-78-8e17bc0800de>\", line 1>\n        result = <ExecutionResult object at 7fbfa639e3c8, executi..._before_exec=None error_in_exec=None result=None>\n   2822                     return True\n   2823 \n   2824             for i, node in enumerate(to_run_interactive):\n   2825                 mod = ast.Interactive([node])\n\n...........................................................................\n/home/phil/anaconda2/envs/p35/lib/python3.5/site-packages/IPython/core/interactiveshell.py in run_code(self=<ipykernel.zmqshell.ZMQInteractiveShell object>, code_obj=<code object <module> at 0x7fbfa6772ed0, file \"<ipython-input-78-8e17bc0800de>\", line 1>, result=<ExecutionResult object at 7fbfa639e3c8, executi..._before_exec=None error_in_exec=None result=None>)\n   2876         outflag = 1  # happens in more places, so it's easier as default\n   2877         try:\n   2878             try:\n   2879                 self.hooks.pre_run_code_hook()\n   2880                 #rprint('Running code', repr(code_obj)) # dbg\n-> 2881                 exec(code_obj, self.user_global_ns, self.user_ns)\n        code_obj = <code object <module> at 0x7fbfa6772ed0, file \"<ipython-input-78-8e17bc0800de>\", line 1>\n        self.user_global_ns = {'ElasticNetCV': <class 'sklearn.linear_model.coordinate_descent.ElasticNetCV'>, 'GridSearchCV': <class 'sklearn.model_selection._search.GridSearchCV'>, 'In': ['', '# Imports\\nimport pandas as pd\\nimport numpy as np...s plt\\nimport xgboost as xgb\\nimport seaborn as sns', \"pd.set_option('display.float_format', lambda x: '%.3f' % x)\\nget_ipython().magic('matplotlib inline')\", 'train = pd.read_csv(\"data/train.csv\")\\nprint(\"tra...ata/test.csv\")\\nprint(\"test : \" + str(test.shape))', 'train.head()', 'test.head()', '# Check for train duplicates\\nidsUnique = len(set...s for \" + str(idsTotal) + \" total train entries\")', '# Check for test duplicates\\nidsUnique = len(set(...Ds for \" + str(idsTotal) + \" total test entries\")', 'train.drop(\"Id\", axis = 1, inplace = True)\\ntest_...t[\"Id\"]\\ntest.drop(\"Id\", axis = 1, inplace = True)', '# Looking for outliers, as indicated in https://...plt.show()\\n\\ntrain = train[train.GrLivArea < 4000]', \"sns.distplot(train['SalePrice']);\", '# Log transform the target for official scoring\\n...ice = np.log(train.SalePrice)\\ny = train.SalePrice', \"sns.distplot(train['SalePrice']);\", '# Handle missing values for features where media...odDeckSF\"] = train.loc[:, \"WoodDeckSF\"].fillna(0)', '# Alley : data description says NA means \"no all...oodDeckSF\"] = test.loc[:, \"WoodDeckSF\"].fillna(0)', 'train = train.replace({\"MSSubClass\" : {20 : \"SC2... 11 : \"Nov\", 12 : \"Dec\"}\\n                      })', 'test = test.replace({\"MSSubClass\" : {20 : \"SC20\"... 11 : \"Nov\", 12 : \"Dec\"}\\n                      })', 'train = train.replace({\"Alley\" : {\"Grvl\" : 1, \"P...oSewr\" : 3, \"AllPub\" : 4}}\\n                     )', '# Encode some categorical features as ordered nu...oSewr\" : 3, \"AllPub\" : 4}}\\n                     )', '# Train\\ntrain[\"SimplOverallQual\"] = train.Overal...                                               })', ...], 'LassoCV': <class 'sklearn.linear_model.coordinate_descent.LassoCV'>, 'LinearRegression': <class 'sklearn.linear_model.base.LinearRegression'>, 'Out': {4:    Id  MSSubClass MSZoning  LotFrontage  LotArea...       Normal     250000  \n\n[5 rows x 81 columns], 5:      Id  MSSubClass MSZoning  LotFrontage  LotAr...       WD         Normal  \n\n[5 rows x 80 columns], 23:   MSSubClass MSZoning  LotFrontage  LotArea  Str...       1              0  \n\n[5 rows x 114 columns], 24:   MSSubClass MSZoning  LotFrontage  LotArea  Str...       0              0  \n\n[5 rows x 113 columns], 28:   MSSubClass MSZoning  LotFrontage  LotArea  Str...5480512          50.080  \n\n[5 rows x 144 columns], 29:   MSSubClass MSZoning  LotFrontage  LotArea  Str...832.000          38.962  \n\n[5 rows x 143 columns], 34:   MSSubClass MSZoning  LotFrontage  LotArea  Str...5480512          50.080  \n\n[5 rows x 144 columns], 35:   MSSubClass MSZoning  LotFrontage  LotArea  Str...832.000          38.962  \n\n[5 rows x 143 columns], 41:    LotFrontage  LotArea  Street  LotShape  Utili...                      0  \n\n[5 rows x 319 columns], 42:    LotFrontage  LotArea  Street  LotShape  Utili...                      0  \n\n[5 rows x 306 columns], ...}, 'RidgeCV': <class 'sklearn.linear_model.ridge.RidgeCV'>, 'StandardScaler': <class 'sklearn.preprocessing.data.StandardScaler'>, 'X_test':       LotFrontage  LotArea  Street  LotShape  Ut...                    0  \n\n[437 rows x 305 columns], 'X_train':       LotFrontage  LotArea  Street  LotShape  Ut...                   0  \n\n[1019 rows x 305 columns], ...}\n        self.user_ns = {'ElasticNetCV': <class 'sklearn.linear_model.coordinate_descent.ElasticNetCV'>, 'GridSearchCV': <class 'sklearn.model_selection._search.GridSearchCV'>, 'In': ['', '# Imports\\nimport pandas as pd\\nimport numpy as np...s plt\\nimport xgboost as xgb\\nimport seaborn as sns', \"pd.set_option('display.float_format', lambda x: '%.3f' % x)\\nget_ipython().magic('matplotlib inline')\", 'train = pd.read_csv(\"data/train.csv\")\\nprint(\"tra...ata/test.csv\")\\nprint(\"test : \" + str(test.shape))', 'train.head()', 'test.head()', '# Check for train duplicates\\nidsUnique = len(set...s for \" + str(idsTotal) + \" total train entries\")', '# Check for test duplicates\\nidsUnique = len(set(...Ds for \" + str(idsTotal) + \" total test entries\")', 'train.drop(\"Id\", axis = 1, inplace = True)\\ntest_...t[\"Id\"]\\ntest.drop(\"Id\", axis = 1, inplace = True)', '# Looking for outliers, as indicated in https://...plt.show()\\n\\ntrain = train[train.GrLivArea < 4000]', \"sns.distplot(train['SalePrice']);\", '# Log transform the target for official scoring\\n...ice = np.log(train.SalePrice)\\ny = train.SalePrice', \"sns.distplot(train['SalePrice']);\", '# Handle missing values for features where media...odDeckSF\"] = train.loc[:, \"WoodDeckSF\"].fillna(0)', '# Alley : data description says NA means \"no all...oodDeckSF\"] = test.loc[:, \"WoodDeckSF\"].fillna(0)', 'train = train.replace({\"MSSubClass\" : {20 : \"SC2... 11 : \"Nov\", 12 : \"Dec\"}\\n                      })', 'test = test.replace({\"MSSubClass\" : {20 : \"SC20\"... 11 : \"Nov\", 12 : \"Dec\"}\\n                      })', 'train = train.replace({\"Alley\" : {\"Grvl\" : 1, \"P...oSewr\" : 3, \"AllPub\" : 4}}\\n                     )', '# Encode some categorical features as ordered nu...oSewr\" : 3, \"AllPub\" : 4}}\\n                     )', '# Train\\ntrain[\"SimplOverallQual\"] = train.Overal...                                               })', ...], 'LassoCV': <class 'sklearn.linear_model.coordinate_descent.LassoCV'>, 'LinearRegression': <class 'sklearn.linear_model.base.LinearRegression'>, 'Out': {4:    Id  MSSubClass MSZoning  LotFrontage  LotArea...       Normal     250000  \n\n[5 rows x 81 columns], 5:      Id  MSSubClass MSZoning  LotFrontage  LotAr...       WD         Normal  \n\n[5 rows x 80 columns], 23:   MSSubClass MSZoning  LotFrontage  LotArea  Str...       1              0  \n\n[5 rows x 114 columns], 24:   MSSubClass MSZoning  LotFrontage  LotArea  Str...       0              0  \n\n[5 rows x 113 columns], 28:   MSSubClass MSZoning  LotFrontage  LotArea  Str...5480512          50.080  \n\n[5 rows x 144 columns], 29:   MSSubClass MSZoning  LotFrontage  LotArea  Str...832.000          38.962  \n\n[5 rows x 143 columns], 34:   MSSubClass MSZoning  LotFrontage  LotArea  Str...5480512          50.080  \n\n[5 rows x 144 columns], 35:   MSSubClass MSZoning  LotFrontage  LotArea  Str...832.000          38.962  \n\n[5 rows x 143 columns], 41:    LotFrontage  LotArea  Street  LotShape  Utili...                      0  \n\n[5 rows x 319 columns], 42:    LotFrontage  LotArea  Street  LotShape  Utili...                      0  \n\n[5 rows x 306 columns], ...}, 'RidgeCV': <class 'sklearn.linear_model.ridge.RidgeCV'>, 'StandardScaler': <class 'sklearn.preprocessing.data.StandardScaler'>, 'X_test':       LotFrontage  LotArea  Street  LotShape  Ut...                    0  \n\n[437 rows x 305 columns], 'X_train':       LotFrontage  LotArea  Street  LotShape  Ut...                   0  \n\n[1019 rows x 305 columns], ...}\n   2882             finally:\n   2883                 # Reset our crash handler in place\n   2884                 sys.excepthook = old_excepthook\n   2885         except SystemExit as e:\n\n...........................................................................\n/home/phil/Repos/aymes-house-prices/<ipython-input-78-8e17bc0800de> in <module>()\n----> 1 gsearch1.fit(X_train, y_train)\n      2 gsearch1.grid_scores_, gsearch1.best_params_, gsearch1.best_score_\n\n...........................................................................\n/home/phil/anaconda2/envs/p35/lib/python3.5/site-packages/sklearn/model_selection/_search.py in fit(self=GridSearchCV(cv=5, error_score='raise',\n       e..._score=True,\n       scoring='roc_auc', verbose=0), X=      LotFrontage  LotArea  Street  LotShape  Ut...                   0  \n\n[1019 rows x 305 columns], y=328    12.276\n1026   12.029\n843    11.857\n994   ...708\n685    12.243\nName: SalePrice, dtype: float64, groups=None, **fit_params={})\n    633                                   return_train_score=self.return_train_score,\n    634                                   return_n_test_samples=True,\n    635                                   return_times=True, return_parameters=False,\n    636                                   error_score=self.error_score)\n    637           for parameters, (train, test) in product(candidate_params,\n--> 638                                                    cv.split(X, y, groups)))\n        cv.split = <bound method _BaseKFold.split of KFold(n_splits=5, random_state=None, shuffle=False)>\n        X =       LotFrontage  LotArea  Street  LotShape  Ut...                   0  \n\n[1019 rows x 305 columns]\n        y = 328    12.276\n1026   12.029\n843    11.857\n994   ...708\n685    12.243\nName: SalePrice, dtype: float64\n        groups = None\n    639 \n    640         # if one choose to see train score, \"out\" will contain train score info\n    641         if self.return_train_score:\n    642             (train_score_dicts, test_score_dicts, test_sample_counts, fit_time,\n\n...........................................................................\n/home/phil/anaconda2/envs/p35/lib/python3.5/site-packages/sklearn/externals/joblib/parallel.py in __call__(self=Parallel(n_jobs=4), iterable=<generator object BaseSearchCV.fit.<locals>.<genexpr>>)\n    784             if pre_dispatch == \"all\" or n_jobs == 1:\n    785                 # The iterable was consumed all at once by the above for loop.\n    786                 # No need to wait for async callbacks to trigger to\n    787                 # consumption.\n    788                 self._iterating = False\n--> 789             self.retrieve()\n        self.retrieve = <bound method Parallel.retrieve of Parallel(n_jobs=4)>\n    790             # Make sure that we get a last message telling us we are done\n    791             elapsed_time = time.time() - self._start_time\n    792             self._print('Done %3i out of %3i | elapsed: %s finished',\n    793                         (len(self._output), len(self._output),\n\n---------------------------------------------------------------------------\nSub-process traceback:\n---------------------------------------------------------------------------\nValueError                                         Sun Oct 29 11:21:54 2017\nPID: 4819            Python 3.5.2: /home/phil/anaconda2/envs/p35/bin/python\n...........................................................................\n/home/phil/anaconda2/envs/p35/lib/python3.5/site-packages/sklearn/externals/joblib/parallel.py in __call__(self=<sklearn.externals.joblib.parallel.BatchedCalls object>)\n    126     def __init__(self, iterator_slice):\n    127         self.items = list(iterator_slice)\n    128         self._size = len(self.items)\n    129 \n    130     def __call__(self):\n--> 131         return [func(*args, **kwargs) for func, args, kwargs in self.items]\n        self.items = [(<function _fit_and_score>, (XGBRegressor(base_score=0.5, colsample_bylevel=1...e_pos_weight=1, seed=42, silent=0, subsample=0.2),       LotFrontage  LotArea  Street  LotShape  Ut...                   0  \n\n[1019 rows x 305 columns], 328    12.276\n1026   12.029\n843    11.857\n994   ...708\n685    12.243\nName: SalePrice, dtype: float64, {'score': make_scorer(roc_auc_score, needs_threshold=True)}, array([ 204,  205,  206,  207,  208,  209,  210,...1012, 1013, 1014, 1015, 1016, 1017,\n       1018]), array([  0,   1,   2,   3,   4,   5,   6,   7,  ...    195, 196, 197, 198, 199, 200, 201, 202, 203]), 0, {'max_depth': 3, 'min_child_weight': 1}), {'error_score': 'raise', 'fit_params': {}, 'return_n_test_samples': True, 'return_parameters': False, 'return_times': True, 'return_train_score': True})]\n    132 \n    133     def __len__(self):\n    134         return self._size\n    135 \n\n...........................................................................\n/home/phil/anaconda2/envs/p35/lib/python3.5/site-packages/sklearn/externals/joblib/parallel.py in <listcomp>(.0=<list_iterator object>)\n    126     def __init__(self, iterator_slice):\n    127         self.items = list(iterator_slice)\n    128         self._size = len(self.items)\n    129 \n    130     def __call__(self):\n--> 131         return [func(*args, **kwargs) for func, args, kwargs in self.items]\n        func = <function _fit_and_score>\n        args = (XGBRegressor(base_score=0.5, colsample_bylevel=1...e_pos_weight=1, seed=42, silent=0, subsample=0.2),       LotFrontage  LotArea  Street  LotShape  Ut...                   0  \n\n[1019 rows x 305 columns], 328    12.276\n1026   12.029\n843    11.857\n994   ...708\n685    12.243\nName: SalePrice, dtype: float64, {'score': make_scorer(roc_auc_score, needs_threshold=True)}, array([ 204,  205,  206,  207,  208,  209,  210,...1012, 1013, 1014, 1015, 1016, 1017,\n       1018]), array([  0,   1,   2,   3,   4,   5,   6,   7,  ...    195, 196, 197, 198, 199, 200, 201, 202, 203]), 0, {'max_depth': 3, 'min_child_weight': 1})\n        kwargs = {'error_score': 'raise', 'fit_params': {}, 'return_n_test_samples': True, 'return_parameters': False, 'return_times': True, 'return_train_score': True}\n    132 \n    133     def __len__(self):\n    134         return self._size\n    135 \n\n...........................................................................\n/home/phil/anaconda2/envs/p35/lib/python3.5/site-packages/sklearn/model_selection/_validation.py in _fit_and_score(estimator=XGBRegressor(base_score=0.5, colsample_bylevel=1...e_pos_weight=1, seed=42, silent=0, subsample=0.2), X=      LotFrontage  LotArea  Street  LotShape  Ut...                   0  \n\n[1019 rows x 305 columns], y=328    12.276\n1026   12.029\n843    11.857\n994   ...708\n685    12.243\nName: SalePrice, dtype: float64, scorer={'score': make_scorer(roc_auc_score, needs_threshold=True)}, train=array([ 204,  205,  206,  207,  208,  209,  210,...1012, 1013, 1014, 1015, 1016, 1017,\n       1018]), test=array([  0,   1,   2,   3,   4,   5,   6,   7,  ...    195, 196, 197, 198, 199, 200, 201, 202, 203]), verbose=0, parameters={'max_depth': 3, 'min_child_weight': 1}, fit_params={}, return_train_score=True, return_parameters=False, return_n_test_samples=True, return_times=True, error_score='raise')\n    462                              \" make sure that it has been spelled correctly.)\")\n    463 \n    464     else:\n    465         fit_time = time.time() - start_time\n    466         # _score will return dict if is_multimetric is True\n--> 467         test_scores = _score(estimator, X_test, y_test, scorer, is_multimetric)\n        test_scores = {}\n        estimator = XGBRegressor(base_score=0.5, colsample_bylevel=1...e_pos_weight=1, seed=42, silent=0, subsample=0.2)\n        X_test =       LotFrontage  LotArea  Street  LotShape  Ut...                    0  \n\n[204 rows x 305 columns]\n        y_test = 328    12.276\n1026   12.029\n843    11.857\n994   ...977\n1078   11.957\nName: SalePrice, dtype: float64\n        scorer = {'score': make_scorer(roc_auc_score, needs_threshold=True)}\n        is_multimetric = True\n    468         score_time = time.time() - start_time - fit_time\n    469         if return_train_score:\n    470             train_scores = _score(estimator, X_train, y_train, scorer,\n    471                                   is_multimetric)\n\n...........................................................................\n/home/phil/anaconda2/envs/p35/lib/python3.5/site-packages/sklearn/model_selection/_validation.py in _score(estimator=XGBRegressor(base_score=0.5, colsample_bylevel=1...e_pos_weight=1, seed=42, silent=0, subsample=0.2), X_test=      LotFrontage  LotArea  Street  LotShape  Ut...                    0  \n\n[204 rows x 305 columns], y_test=328    12.276\n1026   12.029\n843    11.857\n994   ...977\n1078   11.957\nName: SalePrice, dtype: float64, scorer={'score': make_scorer(roc_auc_score, needs_threshold=True)}, is_multimetric=True)\n    497 \n    498     Will return a single float if is_multimetric is False and a dict of floats,\n    499     if is_multimetric is True\n    500     \"\"\"\n    501     if is_multimetric:\n--> 502         return _multimetric_score(estimator, X_test, y_test, scorer)\n        estimator = XGBRegressor(base_score=0.5, colsample_bylevel=1...e_pos_weight=1, seed=42, silent=0, subsample=0.2)\n        X_test =       LotFrontage  LotArea  Street  LotShape  Ut...                    0  \n\n[204 rows x 305 columns]\n        y_test = 328    12.276\n1026   12.029\n843    11.857\n994   ...977\n1078   11.957\nName: SalePrice, dtype: float64\n        scorer = {'score': make_scorer(roc_auc_score, needs_threshold=True)}\n    503     else:\n    504         if y_test is None:\n    505             score = scorer(estimator, X_test)\n    506         else:\n\n...........................................................................\n/home/phil/anaconda2/envs/p35/lib/python3.5/site-packages/sklearn/model_selection/_validation.py in _multimetric_score(estimator=XGBRegressor(base_score=0.5, colsample_bylevel=1...e_pos_weight=1, seed=42, silent=0, subsample=0.2), X_test=      LotFrontage  LotArea  Street  LotShape  Ut...                    0  \n\n[204 rows x 305 columns], y_test=328    12.276\n1026   12.029\n843    11.857\n994   ...977\n1078   11.957\nName: SalePrice, dtype: float64, scorers={'score': make_scorer(roc_auc_score, needs_threshold=True)})\n    527 \n    528     for name, scorer in scorers.items():\n    529         if y_test is None:\n    530             score = scorer(estimator, X_test)\n    531         else:\n--> 532             score = scorer(estimator, X_test, y_test)\n        score = undefined\n        scorer = make_scorer(roc_auc_score, needs_threshold=True)\n        estimator = XGBRegressor(base_score=0.5, colsample_bylevel=1...e_pos_weight=1, seed=42, silent=0, subsample=0.2)\n        X_test =       LotFrontage  LotArea  Street  LotShape  Ut...                    0  \n\n[204 rows x 305 columns]\n        y_test = 328    12.276\n1026   12.029\n843    11.857\n994   ...977\n1078   11.957\nName: SalePrice, dtype: float64\n    533 \n    534         if hasattr(score, 'item'):\n    535             try:\n    536                 # e.g. unwrap memmapped scalars\n\n...........................................................................\n/home/phil/anaconda2/envs/p35/lib/python3.5/site-packages/sklearn/metrics/scorer.py in __call__(self=make_scorer(roc_auc_score, needs_threshold=True), clf=XGBRegressor(base_score=0.5, colsample_bylevel=1...e_pos_weight=1, seed=42, silent=0, subsample=0.2), X=      LotFrontage  LotArea  Street  LotShape  Ut...                    0  \n\n[204 rows x 305 columns], y=328    12.276\n1026   12.029\n843    11.857\n994   ...977\n1078   11.957\nName: SalePrice, dtype: float64, sample_weight=None)\n    176         \"\"\"\n    177         super(_ThresholdScorer, self).__call__(clf, X, y,\n    178                                                sample_weight=sample_weight)\n    179         y_type = type_of_target(y)\n    180         if y_type not in (\"binary\", \"multilabel-indicator\"):\n--> 181             raise ValueError(\"{0} format is not supported\".format(y_type))\n        y_type = 'continuous'\n    182 \n    183         if is_regressor(clf):\n    184             y_pred = clf.predict(X)\n    185         else:\n\nValueError: continuous format is not supported\n___________________________________________________________________________",
     "output_type": "error",
     "traceback": [
      "\u001b[0;31m---------------------------------------------------------------------------\u001b[0m",
      "\u001b[0;31mRemoteTraceback\u001b[0m                           Traceback (most recent call last)",
      "\u001b[0;31mRemoteTraceback\u001b[0m: \n\"\"\"\nTraceback (most recent call last):\n  File \"/home/phil/anaconda2/envs/p35/lib/python3.5/site-packages/sklearn/externals/joblib/_parallel_backends.py\", line 350, in __call__\n    return self.func(*args, **kwargs)\n  File \"/home/phil/anaconda2/envs/p35/lib/python3.5/site-packages/sklearn/externals/joblib/parallel.py\", line 131, in __call__\n    return [func(*args, **kwargs) for func, args, kwargs in self.items]\n  File \"/home/phil/anaconda2/envs/p35/lib/python3.5/site-packages/sklearn/externals/joblib/parallel.py\", line 131, in <listcomp>\n    return [func(*args, **kwargs) for func, args, kwargs in self.items]\n  File \"/home/phil/anaconda2/envs/p35/lib/python3.5/site-packages/sklearn/model_selection/_validation.py\", line 467, in _fit_and_score\n    test_scores = _score(estimator, X_test, y_test, scorer, is_multimetric)\n  File \"/home/phil/anaconda2/envs/p35/lib/python3.5/site-packages/sklearn/model_selection/_validation.py\", line 502, in _score\n    return _multimetric_score(estimator, X_test, y_test, scorer)\n  File \"/home/phil/anaconda2/envs/p35/lib/python3.5/site-packages/sklearn/model_selection/_validation.py\", line 532, in _multimetric_score\n    score = scorer(estimator, X_test, y_test)\n  File \"/home/phil/anaconda2/envs/p35/lib/python3.5/site-packages/sklearn/metrics/scorer.py\", line 181, in __call__\n    raise ValueError(\"{0} format is not supported\".format(y_type))\nValueError: continuous format is not supported\n\nDuring handling of the above exception, another exception occurred:\n\nTraceback (most recent call last):\n  File \"/home/phil/anaconda2/envs/p35/lib/python3.5/multiprocessing/pool.py\", line 119, in worker\n    result = (True, func(*args, **kwds))\n  File \"/home/phil/anaconda2/envs/p35/lib/python3.5/site-packages/sklearn/externals/joblib/_parallel_backends.py\", line 359, in __call__\n    raise TransportableException(text, e_type)\nsklearn.externals.joblib.my_exceptions.TransportableException: TransportableException\n___________________________________________________________________________\nValueError                                         Sun Oct 29 11:21:54 2017\nPID: 4819            Python 3.5.2: /home/phil/anaconda2/envs/p35/bin/python\n...........................................................................\n/home/phil/anaconda2/envs/p35/lib/python3.5/site-packages/sklearn/externals/joblib/parallel.py in __call__(self=<sklearn.externals.joblib.parallel.BatchedCalls object>)\n    126     def __init__(self, iterator_slice):\n    127         self.items = list(iterator_slice)\n    128         self._size = len(self.items)\n    129 \n    130     def __call__(self):\n--> 131         return [func(*args, **kwargs) for func, args, kwargs in self.items]\n        self.items = [(<function _fit_and_score>, (XGBRegressor(base_score=0.5, colsample_bylevel=1...e_pos_weight=1, seed=42, silent=0, subsample=0.2),       LotFrontage  LotArea  Street  LotShape  Ut...                   0  \n\n[1019 rows x 305 columns], 328    12.276\n1026   12.029\n843    11.857\n994   ...708\n685    12.243\nName: SalePrice, dtype: float64, {'score': make_scorer(roc_auc_score, needs_threshold=True)}, array([ 204,  205,  206,  207,  208,  209,  210,...1012, 1013, 1014, 1015, 1016, 1017,\n       1018]), array([  0,   1,   2,   3,   4,   5,   6,   7,  ...    195, 196, 197, 198, 199, 200, 201, 202, 203]), 0, {'max_depth': 3, 'min_child_weight': 1}), {'error_score': 'raise', 'fit_params': {}, 'return_n_test_samples': True, 'return_parameters': False, 'return_times': True, 'return_train_score': True})]\n    132 \n    133     def __len__(self):\n    134         return self._size\n    135 \n\n...........................................................................\n/home/phil/anaconda2/envs/p35/lib/python3.5/site-packages/sklearn/externals/joblib/parallel.py in <listcomp>(.0=<list_iterator object>)\n    126     def __init__(self, iterator_slice):\n    127         self.items = list(iterator_slice)\n    128         self._size = len(self.items)\n    129 \n    130     def __call__(self):\n--> 131         return [func(*args, **kwargs) for func, args, kwargs in self.items]\n        func = <function _fit_and_score>\n        args = (XGBRegressor(base_score=0.5, colsample_bylevel=1...e_pos_weight=1, seed=42, silent=0, subsample=0.2),       LotFrontage  LotArea  Street  LotShape  Ut...                   0  \n\n[1019 rows x 305 columns], 328    12.276\n1026   12.029\n843    11.857\n994   ...708\n685    12.243\nName: SalePrice, dtype: float64, {'score': make_scorer(roc_auc_score, needs_threshold=True)}, array([ 204,  205,  206,  207,  208,  209,  210,...1012, 1013, 1014, 1015, 1016, 1017,\n       1018]), array([  0,   1,   2,   3,   4,   5,   6,   7,  ...    195, 196, 197, 198, 199, 200, 201, 202, 203]), 0, {'max_depth': 3, 'min_child_weight': 1})\n        kwargs = {'error_score': 'raise', 'fit_params': {}, 'return_n_test_samples': True, 'return_parameters': False, 'return_times': True, 'return_train_score': True}\n    132 \n    133     def __len__(self):\n    134         return self._size\n    135 \n\n...........................................................................\n/home/phil/anaconda2/envs/p35/lib/python3.5/site-packages/sklearn/model_selection/_validation.py in _fit_and_score(estimator=XGBRegressor(base_score=0.5, colsample_bylevel=1...e_pos_weight=1, seed=42, silent=0, subsample=0.2), X=      LotFrontage  LotArea  Street  LotShape  Ut...                   0  \n\n[1019 rows x 305 columns], y=328    12.276\n1026   12.029\n843    11.857\n994   ...708\n685    12.243\nName: SalePrice, dtype: float64, scorer={'score': make_scorer(roc_auc_score, needs_threshold=True)}, train=array([ 204,  205,  206,  207,  208,  209,  210,...1012, 1013, 1014, 1015, 1016, 1017,\n       1018]), test=array([  0,   1,   2,   3,   4,   5,   6,   7,  ...    195, 196, 197, 198, 199, 200, 201, 202, 203]), verbose=0, parameters={'max_depth': 3, 'min_child_weight': 1}, fit_params={}, return_train_score=True, return_parameters=False, return_n_test_samples=True, return_times=True, error_score='raise')\n    462                              \" make sure that it has been spelled correctly.)\")\n    463 \n    464     else:\n    465         fit_time = time.time() - start_time\n    466         # _score will return dict if is_multimetric is True\n--> 467         test_scores = _score(estimator, X_test, y_test, scorer, is_multimetric)\n        test_scores = {}\n        estimator = XGBRegressor(base_score=0.5, colsample_bylevel=1...e_pos_weight=1, seed=42, silent=0, subsample=0.2)\n        X_test =       LotFrontage  LotArea  Street  LotShape  Ut...                    0  \n\n[204 rows x 305 columns]\n        y_test = 328    12.276\n1026   12.029\n843    11.857\n994   ...977\n1078   11.957\nName: SalePrice, dtype: float64\n        scorer = {'score': make_scorer(roc_auc_score, needs_threshold=True)}\n        is_multimetric = True\n    468         score_time = time.time() - start_time - fit_time\n    469         if return_train_score:\n    470             train_scores = _score(estimator, X_train, y_train, scorer,\n    471                                   is_multimetric)\n\n...........................................................................\n/home/phil/anaconda2/envs/p35/lib/python3.5/site-packages/sklearn/model_selection/_validation.py in _score(estimator=XGBRegressor(base_score=0.5, colsample_bylevel=1...e_pos_weight=1, seed=42, silent=0, subsample=0.2), X_test=      LotFrontage  LotArea  Street  LotShape  Ut...                    0  \n\n[204 rows x 305 columns], y_test=328    12.276\n1026   12.029\n843    11.857\n994   ...977\n1078   11.957\nName: SalePrice, dtype: float64, scorer={'score': make_scorer(roc_auc_score, needs_threshold=True)}, is_multimetric=True)\n    497 \n    498     Will return a single float if is_multimetric is False and a dict of floats,\n    499     if is_multimetric is True\n    500     \"\"\"\n    501     if is_multimetric:\n--> 502         return _multimetric_score(estimator, X_test, y_test, scorer)\n        estimator = XGBRegressor(base_score=0.5, colsample_bylevel=1...e_pos_weight=1, seed=42, silent=0, subsample=0.2)\n        X_test =       LotFrontage  LotArea  Street  LotShape  Ut...                    0  \n\n[204 rows x 305 columns]\n        y_test = 328    12.276\n1026   12.029\n843    11.857\n994   ...977\n1078   11.957\nName: SalePrice, dtype: float64\n        scorer = {'score': make_scorer(roc_auc_score, needs_threshold=True)}\n    503     else:\n    504         if y_test is None:\n    505             score = scorer(estimator, X_test)\n    506         else:\n\n...........................................................................\n/home/phil/anaconda2/envs/p35/lib/python3.5/site-packages/sklearn/model_selection/_validation.py in _multimetric_score(estimator=XGBRegressor(base_score=0.5, colsample_bylevel=1...e_pos_weight=1, seed=42, silent=0, subsample=0.2), X_test=      LotFrontage  LotArea  Street  LotShape  Ut...                    0  \n\n[204 rows x 305 columns], y_test=328    12.276\n1026   12.029\n843    11.857\n994   ...977\n1078   11.957\nName: SalePrice, dtype: float64, scorers={'score': make_scorer(roc_auc_score, needs_threshold=True)})\n    527 \n    528     for name, scorer in scorers.items():\n    529         if y_test is None:\n    530             score = scorer(estimator, X_test)\n    531         else:\n--> 532             score = scorer(estimator, X_test, y_test)\n        score = undefined\n        scorer = make_scorer(roc_auc_score, needs_threshold=True)\n        estimator = XGBRegressor(base_score=0.5, colsample_bylevel=1...e_pos_weight=1, seed=42, silent=0, subsample=0.2)\n        X_test =       LotFrontage  LotArea  Street  LotShape  Ut...                    0  \n\n[204 rows x 305 columns]\n        y_test = 328    12.276\n1026   12.029\n843    11.857\n994   ...977\n1078   11.957\nName: SalePrice, dtype: float64\n    533 \n    534         if hasattr(score, 'item'):\n    535             try:\n    536                 # e.g. unwrap memmapped scalars\n\n...........................................................................\n/home/phil/anaconda2/envs/p35/lib/python3.5/site-packages/sklearn/metrics/scorer.py in __call__(self=make_scorer(roc_auc_score, needs_threshold=True), clf=XGBRegressor(base_score=0.5, colsample_bylevel=1...e_pos_weight=1, seed=42, silent=0, subsample=0.2), X=      LotFrontage  LotArea  Street  LotShape  Ut...                    0  \n\n[204 rows x 305 columns], y=328    12.276\n1026   12.029\n843    11.857\n994   ...977\n1078   11.957\nName: SalePrice, dtype: float64, sample_weight=None)\n    176         \"\"\"\n    177         super(_ThresholdScorer, self).__call__(clf, X, y,\n    178                                                sample_weight=sample_weight)\n    179         y_type = type_of_target(y)\n    180         if y_type not in (\"binary\", \"multilabel-indicator\"):\n--> 181             raise ValueError(\"{0} format is not supported\".format(y_type))\n        y_type = 'continuous'\n    182 \n    183         if is_regressor(clf):\n    184             y_pred = clf.predict(X)\n    185         else:\n\nValueError: continuous format is not supported\n___________________________________________________________________________\n\"\"\"",
      "\nThe above exception was the direct cause of the following exception:\n",
      "\u001b[0;31mTransportableException\u001b[0m                    Traceback (most recent call last)",
      "\u001b[0;32m/home/phil/anaconda2/envs/p35/lib/python3.5/site-packages/sklearn/externals/joblib/parallel.py\u001b[0m in \u001b[0;36mretrieve\u001b[0;34m(self)\u001b[0m\n\u001b[1;32m    698\u001b[0m                 \u001b[0;32mif\u001b[0m \u001b[0mgetattr\u001b[0m\u001b[0;34m(\u001b[0m\u001b[0mself\u001b[0m\u001b[0;34m.\u001b[0m\u001b[0m_backend\u001b[0m\u001b[0;34m,\u001b[0m \u001b[0;34m'supports_timeout'\u001b[0m\u001b[0;34m,\u001b[0m \u001b[0;32mFalse\u001b[0m\u001b[0;34m)\u001b[0m\u001b[0;34m:\u001b[0m\u001b[0;34m\u001b[0m\u001b[0m\n\u001b[0;32m--> 699\u001b[0;31m                     \u001b[0mself\u001b[0m\u001b[0;34m.\u001b[0m\u001b[0m_output\u001b[0m\u001b[0;34m.\u001b[0m\u001b[0mextend\u001b[0m\u001b[0;34m(\u001b[0m\u001b[0mjob\u001b[0m\u001b[0;34m.\u001b[0m\u001b[0mget\u001b[0m\u001b[0;34m(\u001b[0m\u001b[0mtimeout\u001b[0m\u001b[0;34m=\u001b[0m\u001b[0mself\u001b[0m\u001b[0;34m.\u001b[0m\u001b[0mtimeout\u001b[0m\u001b[0;34m)\u001b[0m\u001b[0;34m)\u001b[0m\u001b[0;34m\u001b[0m\u001b[0m\n\u001b[0m\u001b[1;32m    700\u001b[0m                 \u001b[0;32melse\u001b[0m\u001b[0;34m:\u001b[0m\u001b[0;34m\u001b[0m\u001b[0m\n",
      "\u001b[0;32m/home/phil/anaconda2/envs/p35/lib/python3.5/multiprocessing/pool.py\u001b[0m in \u001b[0;36mget\u001b[0;34m(self, timeout)\u001b[0m\n\u001b[1;32m    607\u001b[0m         \u001b[0;32melse\u001b[0m\u001b[0;34m:\u001b[0m\u001b[0;34m\u001b[0m\u001b[0m\n\u001b[0;32m--> 608\u001b[0;31m             \u001b[0;32mraise\u001b[0m \u001b[0mself\u001b[0m\u001b[0;34m.\u001b[0m\u001b[0m_value\u001b[0m\u001b[0;34m\u001b[0m\u001b[0m\n\u001b[0m\u001b[1;32m    609\u001b[0m \u001b[0;34m\u001b[0m\u001b[0m\n",
      "\u001b[0;31mTransportableException\u001b[0m: TransportableException\n___________________________________________________________________________\nValueError                                         Sun Oct 29 11:21:54 2017\nPID: 4819            Python 3.5.2: /home/phil/anaconda2/envs/p35/bin/python\n...........................................................................\n/home/phil/anaconda2/envs/p35/lib/python3.5/site-packages/sklearn/externals/joblib/parallel.py in __call__(self=<sklearn.externals.joblib.parallel.BatchedCalls object>)\n    126     def __init__(self, iterator_slice):\n    127         self.items = list(iterator_slice)\n    128         self._size = len(self.items)\n    129 \n    130     def __call__(self):\n--> 131         return [func(*args, **kwargs) for func, args, kwargs in self.items]\n        self.items = [(<function _fit_and_score>, (XGBRegressor(base_score=0.5, colsample_bylevel=1...e_pos_weight=1, seed=42, silent=0, subsample=0.2),       LotFrontage  LotArea  Street  LotShape  Ut...                   0  \n\n[1019 rows x 305 columns], 328    12.276\n1026   12.029\n843    11.857\n994   ...708\n685    12.243\nName: SalePrice, dtype: float64, {'score': make_scorer(roc_auc_score, needs_threshold=True)}, array([ 204,  205,  206,  207,  208,  209,  210,...1012, 1013, 1014, 1015, 1016, 1017,\n       1018]), array([  0,   1,   2,   3,   4,   5,   6,   7,  ...    195, 196, 197, 198, 199, 200, 201, 202, 203]), 0, {'max_depth': 3, 'min_child_weight': 1}), {'error_score': 'raise', 'fit_params': {}, 'return_n_test_samples': True, 'return_parameters': False, 'return_times': True, 'return_train_score': True})]\n    132 \n    133     def __len__(self):\n    134         return self._size\n    135 \n\n...........................................................................\n/home/phil/anaconda2/envs/p35/lib/python3.5/site-packages/sklearn/externals/joblib/parallel.py in <listcomp>(.0=<list_iterator object>)\n    126     def __init__(self, iterator_slice):\n    127         self.items = list(iterator_slice)\n    128         self._size = len(self.items)\n    129 \n    130     def __call__(self):\n--> 131         return [func(*args, **kwargs) for func, args, kwargs in self.items]\n        func = <function _fit_and_score>\n        args = (XGBRegressor(base_score=0.5, colsample_bylevel=1...e_pos_weight=1, seed=42, silent=0, subsample=0.2),       LotFrontage  LotArea  Street  LotShape  Ut...                   0  \n\n[1019 rows x 305 columns], 328    12.276\n1026   12.029\n843    11.857\n994   ...708\n685    12.243\nName: SalePrice, dtype: float64, {'score': make_scorer(roc_auc_score, needs_threshold=True)}, array([ 204,  205,  206,  207,  208,  209,  210,...1012, 1013, 1014, 1015, 1016, 1017,\n       1018]), array([  0,   1,   2,   3,   4,   5,   6,   7,  ...    195, 196, 197, 198, 199, 200, 201, 202, 203]), 0, {'max_depth': 3, 'min_child_weight': 1})\n        kwargs = {'error_score': 'raise', 'fit_params': {}, 'return_n_test_samples': True, 'return_parameters': False, 'return_times': True, 'return_train_score': True}\n    132 \n    133     def __len__(self):\n    134         return self._size\n    135 \n\n...........................................................................\n/home/phil/anaconda2/envs/p35/lib/python3.5/site-packages/sklearn/model_selection/_validation.py in _fit_and_score(estimator=XGBRegressor(base_score=0.5, colsample_bylevel=1...e_pos_weight=1, seed=42, silent=0, subsample=0.2), X=      LotFrontage  LotArea  Street  LotShape  Ut...                   0  \n\n[1019 rows x 305 columns], y=328    12.276\n1026   12.029\n843    11.857\n994   ...708\n685    12.243\nName: SalePrice, dtype: float64, scorer={'score': make_scorer(roc_auc_score, needs_threshold=True)}, train=array([ 204,  205,  206,  207,  208,  209,  210,...1012, 1013, 1014, 1015, 1016, 1017,\n       1018]), test=array([  0,   1,   2,   3,   4,   5,   6,   7,  ...    195, 196, 197, 198, 199, 200, 201, 202, 203]), verbose=0, parameters={'max_depth': 3, 'min_child_weight': 1}, fit_params={}, return_train_score=True, return_parameters=False, return_n_test_samples=True, return_times=True, error_score='raise')\n    462                              \" make sure that it has been spelled correctly.)\")\n    463 \n    464     else:\n    465         fit_time = time.time() - start_time\n    466         # _score will return dict if is_multimetric is True\n--> 467         test_scores = _score(estimator, X_test, y_test, scorer, is_multimetric)\n        test_scores = {}\n        estimator = XGBRegressor(base_score=0.5, colsample_bylevel=1...e_pos_weight=1, seed=42, silent=0, subsample=0.2)\n        X_test =       LotFrontage  LotArea  Street  LotShape  Ut...                    0  \n\n[204 rows x 305 columns]\n        y_test = 328    12.276\n1026   12.029\n843    11.857\n994   ...977\n1078   11.957\nName: SalePrice, dtype: float64\n        scorer = {'score': make_scorer(roc_auc_score, needs_threshold=True)}\n        is_multimetric = True\n    468         score_time = time.time() - start_time - fit_time\n    469         if return_train_score:\n    470             train_scores = _score(estimator, X_train, y_train, scorer,\n    471                                   is_multimetric)\n\n...........................................................................\n/home/phil/anaconda2/envs/p35/lib/python3.5/site-packages/sklearn/model_selection/_validation.py in _score(estimator=XGBRegressor(base_score=0.5, colsample_bylevel=1...e_pos_weight=1, seed=42, silent=0, subsample=0.2), X_test=      LotFrontage  LotArea  Street  LotShape  Ut...                    0  \n\n[204 rows x 305 columns], y_test=328    12.276\n1026   12.029\n843    11.857\n994   ...977\n1078   11.957\nName: SalePrice, dtype: float64, scorer={'score': make_scorer(roc_auc_score, needs_threshold=True)}, is_multimetric=True)\n    497 \n    498     Will return a single float if is_multimetric is False and a dict of floats,\n    499     if is_multimetric is True\n    500     \"\"\"\n    501     if is_multimetric:\n--> 502         return _multimetric_score(estimator, X_test, y_test, scorer)\n        estimator = XGBRegressor(base_score=0.5, colsample_bylevel=1...e_pos_weight=1, seed=42, silent=0, subsample=0.2)\n        X_test =       LotFrontage  LotArea  Street  LotShape  Ut...                    0  \n\n[204 rows x 305 columns]\n        y_test = 328    12.276\n1026   12.029\n843    11.857\n994   ...977\n1078   11.957\nName: SalePrice, dtype: float64\n        scorer = {'score': make_scorer(roc_auc_score, needs_threshold=True)}\n    503     else:\n    504         if y_test is None:\n    505             score = scorer(estimator, X_test)\n    506         else:\n\n...........................................................................\n/home/phil/anaconda2/envs/p35/lib/python3.5/site-packages/sklearn/model_selection/_validation.py in _multimetric_score(estimator=XGBRegressor(base_score=0.5, colsample_bylevel=1...e_pos_weight=1, seed=42, silent=0, subsample=0.2), X_test=      LotFrontage  LotArea  Street  LotShape  Ut...                    0  \n\n[204 rows x 305 columns], y_test=328    12.276\n1026   12.029\n843    11.857\n994   ...977\n1078   11.957\nName: SalePrice, dtype: float64, scorers={'score': make_scorer(roc_auc_score, needs_threshold=True)})\n    527 \n    528     for name, scorer in scorers.items():\n    529         if y_test is None:\n    530             score = scorer(estimator, X_test)\n    531         else:\n--> 532             score = scorer(estimator, X_test, y_test)\n        score = undefined\n        scorer = make_scorer(roc_auc_score, needs_threshold=True)\n        estimator = XGBRegressor(base_score=0.5, colsample_bylevel=1...e_pos_weight=1, seed=42, silent=0, subsample=0.2)\n        X_test =       LotFrontage  LotArea  Street  LotShape  Ut...                    0  \n\n[204 rows x 305 columns]\n        y_test = 328    12.276\n1026   12.029\n843    11.857\n994   ...977\n1078   11.957\nName: SalePrice, dtype: float64\n    533 \n    534         if hasattr(score, 'item'):\n    535             try:\n    536                 # e.g. unwrap memmapped scalars\n\n...........................................................................\n/home/phil/anaconda2/envs/p35/lib/python3.5/site-packages/sklearn/metrics/scorer.py in __call__(self=make_scorer(roc_auc_score, needs_threshold=True), clf=XGBRegressor(base_score=0.5, colsample_bylevel=1...e_pos_weight=1, seed=42, silent=0, subsample=0.2), X=      LotFrontage  LotArea  Street  LotShape  Ut...                    0  \n\n[204 rows x 305 columns], y=328    12.276\n1026   12.029\n843    11.857\n994   ...977\n1078   11.957\nName: SalePrice, dtype: float64, sample_weight=None)\n    176         \"\"\"\n    177         super(_ThresholdScorer, self).__call__(clf, X, y,\n    178                                                sample_weight=sample_weight)\n    179         y_type = type_of_target(y)\n    180         if y_type not in (\"binary\", \"multilabel-indicator\"):\n--> 181             raise ValueError(\"{0} format is not supported\".format(y_type))\n        y_type = 'continuous'\n    182 \n    183         if is_regressor(clf):\n    184             y_pred = clf.predict(X)\n    185         else:\n\nValueError: continuous format is not supported\n___________________________________________________________________________",
      "\nDuring handling of the above exception, another exception occurred:\n",
      "\u001b[0;31mJoblibValueError\u001b[0m                          Traceback (most recent call last)",
      "\u001b[0;32m<ipython-input-78-8e17bc0800de>\u001b[0m in \u001b[0;36m<module>\u001b[0;34m()\u001b[0m\n\u001b[0;32m----> 1\u001b[0;31m \u001b[0mgsearch1\u001b[0m\u001b[0;34m.\u001b[0m\u001b[0mfit\u001b[0m\u001b[0;34m(\u001b[0m\u001b[0mX_train\u001b[0m\u001b[0;34m,\u001b[0m \u001b[0my_train\u001b[0m\u001b[0;34m)\u001b[0m\u001b[0;34m\u001b[0m\u001b[0m\n\u001b[0m\u001b[1;32m      2\u001b[0m \u001b[0mgsearch1\u001b[0m\u001b[0;34m.\u001b[0m\u001b[0mgrid_scores_\u001b[0m\u001b[0;34m,\u001b[0m \u001b[0mgsearch1\u001b[0m\u001b[0;34m.\u001b[0m\u001b[0mbest_params_\u001b[0m\u001b[0;34m,\u001b[0m \u001b[0mgsearch1\u001b[0m\u001b[0;34m.\u001b[0m\u001b[0mbest_score_\u001b[0m\u001b[0;34m\u001b[0m\u001b[0m\n",
      "\u001b[0;32m/home/phil/anaconda2/envs/p35/lib/python3.5/site-packages/sklearn/model_selection/_search.py\u001b[0m in \u001b[0;36mfit\u001b[0;34m(self, X, y, groups, **fit_params)\u001b[0m\n\u001b[1;32m    636\u001b[0m                                   error_score=self.error_score)\n\u001b[1;32m    637\u001b[0m           for parameters, (train, test) in product(candidate_params,\n\u001b[0;32m--> 638\u001b[0;31m                                                    cv.split(X, y, groups)))\n\u001b[0m\u001b[1;32m    639\u001b[0m \u001b[0;34m\u001b[0m\u001b[0m\n\u001b[1;32m    640\u001b[0m         \u001b[0;31m# if one choose to see train score, \"out\" will contain train score info\u001b[0m\u001b[0;34m\u001b[0m\u001b[0;34m\u001b[0m\u001b[0m\n",
      "\u001b[0;32m/home/phil/anaconda2/envs/p35/lib/python3.5/site-packages/sklearn/externals/joblib/parallel.py\u001b[0m in \u001b[0;36m__call__\u001b[0;34m(self, iterable)\u001b[0m\n\u001b[1;32m    787\u001b[0m                 \u001b[0;31m# consumption.\u001b[0m\u001b[0;34m\u001b[0m\u001b[0;34m\u001b[0m\u001b[0m\n\u001b[1;32m    788\u001b[0m                 \u001b[0mself\u001b[0m\u001b[0;34m.\u001b[0m\u001b[0m_iterating\u001b[0m \u001b[0;34m=\u001b[0m \u001b[0;32mFalse\u001b[0m\u001b[0;34m\u001b[0m\u001b[0m\n\u001b[0;32m--> 789\u001b[0;31m             \u001b[0mself\u001b[0m\u001b[0;34m.\u001b[0m\u001b[0mretrieve\u001b[0m\u001b[0;34m(\u001b[0m\u001b[0;34m)\u001b[0m\u001b[0;34m\u001b[0m\u001b[0m\n\u001b[0m\u001b[1;32m    790\u001b[0m             \u001b[0;31m# Make sure that we get a last message telling us we are done\u001b[0m\u001b[0;34m\u001b[0m\u001b[0;34m\u001b[0m\u001b[0m\n\u001b[1;32m    791\u001b[0m             \u001b[0melapsed_time\u001b[0m \u001b[0;34m=\u001b[0m \u001b[0mtime\u001b[0m\u001b[0;34m.\u001b[0m\u001b[0mtime\u001b[0m\u001b[0;34m(\u001b[0m\u001b[0;34m)\u001b[0m \u001b[0;34m-\u001b[0m \u001b[0mself\u001b[0m\u001b[0;34m.\u001b[0m\u001b[0m_start_time\u001b[0m\u001b[0;34m\u001b[0m\u001b[0m\n",
      "\u001b[0;32m/home/phil/anaconda2/envs/p35/lib/python3.5/site-packages/sklearn/externals/joblib/parallel.py\u001b[0m in \u001b[0;36mretrieve\u001b[0;34m(self)\u001b[0m\n\u001b[1;32m    738\u001b[0m                     \u001b[0mexception\u001b[0m \u001b[0;34m=\u001b[0m \u001b[0mexception_type\u001b[0m\u001b[0;34m(\u001b[0m\u001b[0mreport\u001b[0m\u001b[0;34m)\u001b[0m\u001b[0;34m\u001b[0m\u001b[0m\n\u001b[1;32m    739\u001b[0m \u001b[0;34m\u001b[0m\u001b[0m\n\u001b[0;32m--> 740\u001b[0;31m                     \u001b[0;32mraise\u001b[0m \u001b[0mexception\u001b[0m\u001b[0;34m\u001b[0m\u001b[0m\n\u001b[0m\u001b[1;32m    741\u001b[0m \u001b[0;34m\u001b[0m\u001b[0m\n\u001b[1;32m    742\u001b[0m     \u001b[0;32mdef\u001b[0m \u001b[0m__call__\u001b[0m\u001b[0;34m(\u001b[0m\u001b[0mself\u001b[0m\u001b[0;34m,\u001b[0m \u001b[0miterable\u001b[0m\u001b[0;34m)\u001b[0m\u001b[0;34m:\u001b[0m\u001b[0;34m\u001b[0m\u001b[0m\n",
      "\u001b[0;31mJoblibValueError\u001b[0m: JoblibValueError\n___________________________________________________________________________\nMultiprocessing exception:\n...........................................................................\n/home/phil/anaconda2/envs/p35/lib/python3.5/runpy.py in _run_module_as_main(mod_name='ipykernel.__main__', alter_argv=1)\n    179         sys.exit(msg)\n    180     main_globals = sys.modules[\"__main__\"].__dict__\n    181     if alter_argv:\n    182         sys.argv[0] = mod_spec.origin\n    183     return _run_code(code, main_globals, None,\n--> 184                      \"__main__\", mod_spec)\n        mod_spec = ModuleSpec(name='ipykernel.__main__', loader=<_f...b/python3.5/site-packages/ipykernel/__main__.py')\n    185 \n    186 def run_module(mod_name, init_globals=None,\n    187                run_name=None, alter_sys=False):\n    188     \"\"\"Execute a module's code without importing it\n\n...........................................................................\n/home/phil/anaconda2/envs/p35/lib/python3.5/runpy.py in _run_code(code=<code object <module> at 0x7fbfeb4b2f60, file \"/...3.5/site-packages/ipykernel/__main__.py\", line 1>, run_globals={'__builtins__': <module 'builtins' (built-in)>, '__cached__': '/home/phil/anaconda2/envs/p35/lib/python3.5/site...ges/ipykernel/__pycache__/__main__.cpython-35.pyc', '__doc__': None, '__file__': '/home/phil/anaconda2/envs/p35/lib/python3.5/site-packages/ipykernel/__main__.py', '__loader__': <_frozen_importlib_external.SourceFileLoader object>, '__name__': '__main__', '__package__': 'ipykernel', '__spec__': ModuleSpec(name='ipykernel.__main__', loader=<_f...b/python3.5/site-packages/ipykernel/__main__.py'), 'app': <module 'ipykernel.kernelapp' from '/home/phil/a.../python3.5/site-packages/ipykernel/kernelapp.py'>}, init_globals=None, mod_name='__main__', mod_spec=ModuleSpec(name='ipykernel.__main__', loader=<_f...b/python3.5/site-packages/ipykernel/__main__.py'), pkg_name='ipykernel', script_name=None)\n     80                        __cached__ = cached,\n     81                        __doc__ = None,\n     82                        __loader__ = loader,\n     83                        __package__ = pkg_name,\n     84                        __spec__ = mod_spec)\n---> 85     exec(code, run_globals)\n        code = <code object <module> at 0x7fbfeb4b2f60, file \"/...3.5/site-packages/ipykernel/__main__.py\", line 1>\n        run_globals = {'__builtins__': <module 'builtins' (built-in)>, '__cached__': '/home/phil/anaconda2/envs/p35/lib/python3.5/site...ges/ipykernel/__pycache__/__main__.cpython-35.pyc', '__doc__': None, '__file__': '/home/phil/anaconda2/envs/p35/lib/python3.5/site-packages/ipykernel/__main__.py', '__loader__': <_frozen_importlib_external.SourceFileLoader object>, '__name__': '__main__', '__package__': 'ipykernel', '__spec__': ModuleSpec(name='ipykernel.__main__', loader=<_f...b/python3.5/site-packages/ipykernel/__main__.py'), 'app': <module 'ipykernel.kernelapp' from '/home/phil/a.../python3.5/site-packages/ipykernel/kernelapp.py'>}\n     86     return run_globals\n     87 \n     88 def _run_module_code(code, init_globals=None,\n     89                     mod_name=None, mod_spec=None,\n\n...........................................................................\n/home/phil/anaconda2/envs/p35/lib/python3.5/site-packages/ipykernel/__main__.py in <module>()\n      1 if __name__ == '__main__':\n      2     from ipykernel import kernelapp as app\n----> 3     app.launch_new_instance()\n\n...........................................................................\n/home/phil/anaconda2/envs/p35/lib/python3.5/site-packages/traitlets/config/application.py in launch_instance(cls=<class 'ipykernel.kernelapp.IPKernelApp'>, argv=None, **kwargs={})\n    653 \n    654         If a global instance already exists, this reinitializes and starts it\n    655         \"\"\"\n    656         app = cls.instance(**kwargs)\n    657         app.initialize(argv)\n--> 658         app.start()\n        app.start = <bound method IPKernelApp.start of <ipykernel.kernelapp.IPKernelApp object>>\n    659 \n    660 #-----------------------------------------------------------------------------\n    661 # utility functions, for convenience\n    662 #-----------------------------------------------------------------------------\n\n...........................................................................\n/home/phil/anaconda2/envs/p35/lib/python3.5/site-packages/ipykernel/kernelapp.py in start(self=<ipykernel.kernelapp.IPKernelApp object>)\n    469             return self.subapp.start()\n    470         if self.poller is not None:\n    471             self.poller.start()\n    472         self.kernel.start()\n    473         try:\n--> 474             ioloop.IOLoop.instance().start()\n    475         except KeyboardInterrupt:\n    476             pass\n    477 \n    478 launch_new_instance = IPKernelApp.launch_instance\n\n...........................................................................\n/home/phil/anaconda2/envs/p35/lib/python3.5/site-packages/zmq/eventloop/ioloop.py in start(self=<zmq.eventloop.ioloop.ZMQIOLoop object>)\n    172             )\n    173         return loop\n    174     \n    175     def start(self):\n    176         try:\n--> 177             super(ZMQIOLoop, self).start()\n        self.start = <bound method ZMQIOLoop.start of <zmq.eventloop.ioloop.ZMQIOLoop object>>\n    178         except ZMQError as e:\n    179             if e.errno == ETERM:\n    180                 # quietly return on ETERM\n    181                 pass\n\n...........................................................................\n/home/phil/anaconda2/envs/p35/lib/python3.5/site-packages/tornado/ioloop.py in start(self=<zmq.eventloop.ioloop.ZMQIOLoop object>)\n    882                 self._events.update(event_pairs)\n    883                 while self._events:\n    884                     fd, events = self._events.popitem()\n    885                     try:\n    886                         fd_obj, handler_func = self._handlers[fd]\n--> 887                         handler_func(fd_obj, events)\n        handler_func = <function wrap.<locals>.null_wrapper>\n        fd_obj = <zmq.sugar.socket.Socket object>\n        events = 1\n    888                     except (OSError, IOError) as e:\n    889                         if errno_from_exception(e) == errno.EPIPE:\n    890                             # Happens when the client closes the connection\n    891                             pass\n\n...........................................................................\n/home/phil/anaconda2/envs/p35/lib/python3.5/site-packages/tornado/stack_context.py in null_wrapper(*args=(<zmq.sugar.socket.Socket object>, 1), **kwargs={})\n    270         # Fast path when there are no active contexts.\n    271         def null_wrapper(*args, **kwargs):\n    272             try:\n    273                 current_state = _state.contexts\n    274                 _state.contexts = cap_contexts[0]\n--> 275                 return fn(*args, **kwargs)\n        args = (<zmq.sugar.socket.Socket object>, 1)\n        kwargs = {}\n    276             finally:\n    277                 _state.contexts = current_state\n    278         null_wrapper._wrapped = True\n    279         return null_wrapper\n\n...........................................................................\n/home/phil/anaconda2/envs/p35/lib/python3.5/site-packages/zmq/eventloop/zmqstream.py in _handle_events(self=<zmq.eventloop.zmqstream.ZMQStream object>, fd=<zmq.sugar.socket.Socket object>, events=1)\n    435             # dispatch events:\n    436             if events & IOLoop.ERROR:\n    437                 gen_log.error(\"got POLLERR event on ZMQStream, which doesn't make sense\")\n    438                 return\n    439             if events & IOLoop.READ:\n--> 440                 self._handle_recv()\n        self._handle_recv = <bound method ZMQStream._handle_recv of <zmq.eventloop.zmqstream.ZMQStream object>>\n    441                 if not self.socket:\n    442                     return\n    443             if events & IOLoop.WRITE:\n    444                 self._handle_send()\n\n...........................................................................\n/home/phil/anaconda2/envs/p35/lib/python3.5/site-packages/zmq/eventloop/zmqstream.py in _handle_recv(self=<zmq.eventloop.zmqstream.ZMQStream object>)\n    467                 gen_log.error(\"RECV Error: %s\"%zmq.strerror(e.errno))\n    468         else:\n    469             if self._recv_callback:\n    470                 callback = self._recv_callback\n    471                 # self._recv_callback = None\n--> 472                 self._run_callback(callback, msg)\n        self._run_callback = <bound method ZMQStream._run_callback of <zmq.eventloop.zmqstream.ZMQStream object>>\n        callback = <function wrap.<locals>.null_wrapper>\n        msg = [<zmq.sugar.frame.Frame object>, <zmq.sugar.frame.Frame object>, <zmq.sugar.frame.Frame object>, <zmq.sugar.frame.Frame object>, <zmq.sugar.frame.Frame object>, <zmq.sugar.frame.Frame object>, <zmq.sugar.frame.Frame object>]\n    473                 \n    474         # self.update_state()\n    475         \n    476 \n\n...........................................................................\n/home/phil/anaconda2/envs/p35/lib/python3.5/site-packages/zmq/eventloop/zmqstream.py in _run_callback(self=<zmq.eventloop.zmqstream.ZMQStream object>, callback=<function wrap.<locals>.null_wrapper>, *args=([<zmq.sugar.frame.Frame object>, <zmq.sugar.frame.Frame object>, <zmq.sugar.frame.Frame object>, <zmq.sugar.frame.Frame object>, <zmq.sugar.frame.Frame object>, <zmq.sugar.frame.Frame object>, <zmq.sugar.frame.Frame object>],), **kwargs={})\n    409         close our socket.\"\"\"\n    410         try:\n    411             # Use a NullContext to ensure that all StackContexts are run\n    412             # inside our blanket exception handler rather than outside.\n    413             with stack_context.NullContext():\n--> 414                 callback(*args, **kwargs)\n        callback = <function wrap.<locals>.null_wrapper>\n        args = ([<zmq.sugar.frame.Frame object>, <zmq.sugar.frame.Frame object>, <zmq.sugar.frame.Frame object>, <zmq.sugar.frame.Frame object>, <zmq.sugar.frame.Frame object>, <zmq.sugar.frame.Frame object>, <zmq.sugar.frame.Frame object>],)\n        kwargs = {}\n    415         except:\n    416             gen_log.error(\"Uncaught exception, closing connection.\",\n    417                           exc_info=True)\n    418             # Close the socket on an uncaught exception from a user callback\n\n...........................................................................\n/home/phil/anaconda2/envs/p35/lib/python3.5/site-packages/tornado/stack_context.py in null_wrapper(*args=([<zmq.sugar.frame.Frame object>, <zmq.sugar.frame.Frame object>, <zmq.sugar.frame.Frame object>, <zmq.sugar.frame.Frame object>, <zmq.sugar.frame.Frame object>, <zmq.sugar.frame.Frame object>, <zmq.sugar.frame.Frame object>],), **kwargs={})\n    270         # Fast path when there are no active contexts.\n    271         def null_wrapper(*args, **kwargs):\n    272             try:\n    273                 current_state = _state.contexts\n    274                 _state.contexts = cap_contexts[0]\n--> 275                 return fn(*args, **kwargs)\n        args = ([<zmq.sugar.frame.Frame object>, <zmq.sugar.frame.Frame object>, <zmq.sugar.frame.Frame object>, <zmq.sugar.frame.Frame object>, <zmq.sugar.frame.Frame object>, <zmq.sugar.frame.Frame object>, <zmq.sugar.frame.Frame object>],)\n        kwargs = {}\n    276             finally:\n    277                 _state.contexts = current_state\n    278         null_wrapper._wrapped = True\n    279         return null_wrapper\n\n...........................................................................\n/home/phil/anaconda2/envs/p35/lib/python3.5/site-packages/ipykernel/kernelbase.py in dispatcher(msg=[<zmq.sugar.frame.Frame object>, <zmq.sugar.frame.Frame object>, <zmq.sugar.frame.Frame object>, <zmq.sugar.frame.Frame object>, <zmq.sugar.frame.Frame object>, <zmq.sugar.frame.Frame object>, <zmq.sugar.frame.Frame object>])\n    271         if self.control_stream:\n    272             self.control_stream.on_recv(self.dispatch_control, copy=False)\n    273 \n    274         def make_dispatcher(stream):\n    275             def dispatcher(msg):\n--> 276                 return self.dispatch_shell(stream, msg)\n        msg = [<zmq.sugar.frame.Frame object>, <zmq.sugar.frame.Frame object>, <zmq.sugar.frame.Frame object>, <zmq.sugar.frame.Frame object>, <zmq.sugar.frame.Frame object>, <zmq.sugar.frame.Frame object>, <zmq.sugar.frame.Frame object>]\n    277             return dispatcher\n    278 \n    279         for s in self.shell_streams:\n    280             s.on_recv(make_dispatcher(s), copy=False)\n\n...........................................................................\n/home/phil/anaconda2/envs/p35/lib/python3.5/site-packages/ipykernel/kernelbase.py in dispatch_shell(self=<ipykernel.ipkernel.IPythonKernel object>, stream=<zmq.eventloop.zmqstream.ZMQStream object>, msg={'buffers': [], 'content': {'allow_stdin': True, 'code': 'gsearch1.fit(X_train, y_train)\\ngsearch1.grid_scores_, gsearch1.best_params_, gsearch1.best_score_', 'silent': False, 'stop_on_error': True, 'store_history': True, 'user_expressions': {}}, 'header': {'date': '2017-10-29T10:17:28.227015', 'msg_id': '43B219B0D26242489AA70E13B9D58226', 'msg_type': 'execute_request', 'session': '7BEA3922CCCC40B28B692986FBEDDE59', 'username': 'username', 'version': '5.0'}, 'metadata': {}, 'msg_id': '43B219B0D26242489AA70E13B9D58226', 'msg_type': 'execute_request', 'parent_header': {}})\n    223             self.log.error(\"UNKNOWN MESSAGE TYPE: %r\", msg_type)\n    224         else:\n    225             self.log.debug(\"%s: %s\", msg_type, msg)\n    226             self.pre_handler_hook()\n    227             try:\n--> 228                 handler(stream, idents, msg)\n        handler = <bound method Kernel.execute_request of <ipykernel.ipkernel.IPythonKernel object>>\n        stream = <zmq.eventloop.zmqstream.ZMQStream object>\n        idents = [b'7BEA3922CCCC40B28B692986FBEDDE59']\n        msg = {'buffers': [], 'content': {'allow_stdin': True, 'code': 'gsearch1.fit(X_train, y_train)\\ngsearch1.grid_scores_, gsearch1.best_params_, gsearch1.best_score_', 'silent': False, 'stop_on_error': True, 'store_history': True, 'user_expressions': {}}, 'header': {'date': '2017-10-29T10:17:28.227015', 'msg_id': '43B219B0D26242489AA70E13B9D58226', 'msg_type': 'execute_request', 'session': '7BEA3922CCCC40B28B692986FBEDDE59', 'username': 'username', 'version': '5.0'}, 'metadata': {}, 'msg_id': '43B219B0D26242489AA70E13B9D58226', 'msg_type': 'execute_request', 'parent_header': {}}\n    229             except Exception:\n    230                 self.log.error(\"Exception in message handler:\", exc_info=True)\n    231             finally:\n    232                 self.post_handler_hook()\n\n...........................................................................\n/home/phil/anaconda2/envs/p35/lib/python3.5/site-packages/ipykernel/kernelbase.py in execute_request(self=<ipykernel.ipkernel.IPythonKernel object>, stream=<zmq.eventloop.zmqstream.ZMQStream object>, ident=[b'7BEA3922CCCC40B28B692986FBEDDE59'], parent={'buffers': [], 'content': {'allow_stdin': True, 'code': 'gsearch1.fit(X_train, y_train)\\ngsearch1.grid_scores_, gsearch1.best_params_, gsearch1.best_score_', 'silent': False, 'stop_on_error': True, 'store_history': True, 'user_expressions': {}}, 'header': {'date': '2017-10-29T10:17:28.227015', 'msg_id': '43B219B0D26242489AA70E13B9D58226', 'msg_type': 'execute_request', 'session': '7BEA3922CCCC40B28B692986FBEDDE59', 'username': 'username', 'version': '5.0'}, 'metadata': {}, 'msg_id': '43B219B0D26242489AA70E13B9D58226', 'msg_type': 'execute_request', 'parent_header': {}})\n    385         if not silent:\n    386             self.execution_count += 1\n    387             self._publish_execute_input(code, parent, self.execution_count)\n    388 \n    389         reply_content = self.do_execute(code, silent, store_history,\n--> 390                                         user_expressions, allow_stdin)\n        user_expressions = {}\n        allow_stdin = True\n    391 \n    392         # Flush output before sending the reply.\n    393         sys.stdout.flush()\n    394         sys.stderr.flush()\n\n...........................................................................\n/home/phil/anaconda2/envs/p35/lib/python3.5/site-packages/ipykernel/ipkernel.py in do_execute(self=<ipykernel.ipkernel.IPythonKernel object>, code='gsearch1.fit(X_train, y_train)\\ngsearch1.grid_scores_, gsearch1.best_params_, gsearch1.best_score_', silent=False, store_history=True, user_expressions={}, allow_stdin=True)\n    191 \n    192         self._forward_input(allow_stdin)\n    193 \n    194         reply_content = {}\n    195         try:\n--> 196             res = shell.run_cell(code, store_history=store_history, silent=silent)\n        res = undefined\n        shell.run_cell = <bound method ZMQInteractiveShell.run_cell of <ipykernel.zmqshell.ZMQInteractiveShell object>>\n        code = 'gsearch1.fit(X_train, y_train)\\ngsearch1.grid_scores_, gsearch1.best_params_, gsearch1.best_score_'\n        store_history = True\n        silent = False\n    197         finally:\n    198             self._restore_input()\n    199 \n    200         if res.error_before_exec is not None:\n\n...........................................................................\n/home/phil/anaconda2/envs/p35/lib/python3.5/site-packages/ipykernel/zmqshell.py in run_cell(self=<ipykernel.zmqshell.ZMQInteractiveShell object>, *args=('gsearch1.fit(X_train, y_train)\\ngsearch1.grid_scores_, gsearch1.best_params_, gsearch1.best_score_',), **kwargs={'silent': False, 'store_history': True})\n    496             )\n    497         self.payload_manager.write_payload(payload)\n    498 \n    499     def run_cell(self, *args, **kwargs):\n    500         self._last_traceback = None\n--> 501         return super(ZMQInteractiveShell, self).run_cell(*args, **kwargs)\n        self.run_cell = <bound method ZMQInteractiveShell.run_cell of <ipykernel.zmqshell.ZMQInteractiveShell object>>\n        args = ('gsearch1.fit(X_train, y_train)\\ngsearch1.grid_scores_, gsearch1.best_params_, gsearch1.best_score_',)\n        kwargs = {'silent': False, 'store_history': True}\n    502 \n    503     def _showtraceback(self, etype, evalue, stb):\n    504         # try to preserve ordering of tracebacks and print statements\n    505         sys.stdout.flush()\n\n...........................................................................\n/home/phil/anaconda2/envs/p35/lib/python3.5/site-packages/IPython/core/interactiveshell.py in run_cell(self=<ipykernel.zmqshell.ZMQInteractiveShell object>, raw_cell='gsearch1.fit(X_train, y_train)\\ngsearch1.grid_scores_, gsearch1.best_params_, gsearch1.best_score_', store_history=True, silent=False, shell_futures=True)\n   2712                 self.displayhook.exec_result = result\n   2713 \n   2714                 # Execute the user code\n   2715                 interactivity = \"none\" if silent else self.ast_node_interactivity\n   2716                 has_raised = self.run_ast_nodes(code_ast.body, cell_name,\n-> 2717                    interactivity=interactivity, compiler=compiler, result=result)\n        interactivity = 'last_expr'\n        compiler = <IPython.core.compilerop.CachingCompiler object>\n   2718                 \n   2719                 self.last_execution_succeeded = not has_raised\n   2720 \n   2721                 # Reset this so later displayed values do not modify the\n\n...........................................................................\n/home/phil/anaconda2/envs/p35/lib/python3.5/site-packages/IPython/core/interactiveshell.py in run_ast_nodes(self=<ipykernel.zmqshell.ZMQInteractiveShell object>, nodelist=[<_ast.Expr object>, <_ast.Expr object>], cell_name='<ipython-input-78-8e17bc0800de>', interactivity='last', compiler=<IPython.core.compilerop.CachingCompiler object>, result=<ExecutionResult object at 7fbfa639e3c8, executi..._before_exec=None error_in_exec=None result=None>)\n   2816 \n   2817         try:\n   2818             for i, node in enumerate(to_run_exec):\n   2819                 mod = ast.Module([node])\n   2820                 code = compiler(mod, cell_name, \"exec\")\n-> 2821                 if self.run_code(code, result):\n        self.run_code = <bound method InteractiveShell.run_code of <ipykernel.zmqshell.ZMQInteractiveShell object>>\n        code = <code object <module> at 0x7fbfa6772ed0, file \"<ipython-input-78-8e17bc0800de>\", line 1>\n        result = <ExecutionResult object at 7fbfa639e3c8, executi..._before_exec=None error_in_exec=None result=None>\n   2822                     return True\n   2823 \n   2824             for i, node in enumerate(to_run_interactive):\n   2825                 mod = ast.Interactive([node])\n\n...........................................................................\n/home/phil/anaconda2/envs/p35/lib/python3.5/site-packages/IPython/core/interactiveshell.py in run_code(self=<ipykernel.zmqshell.ZMQInteractiveShell object>, code_obj=<code object <module> at 0x7fbfa6772ed0, file \"<ipython-input-78-8e17bc0800de>\", line 1>, result=<ExecutionResult object at 7fbfa639e3c8, executi..._before_exec=None error_in_exec=None result=None>)\n   2876         outflag = 1  # happens in more places, so it's easier as default\n   2877         try:\n   2878             try:\n   2879                 self.hooks.pre_run_code_hook()\n   2880                 #rprint('Running code', repr(code_obj)) # dbg\n-> 2881                 exec(code_obj, self.user_global_ns, self.user_ns)\n        code_obj = <code object <module> at 0x7fbfa6772ed0, file \"<ipython-input-78-8e17bc0800de>\", line 1>\n        self.user_global_ns = {'ElasticNetCV': <class 'sklearn.linear_model.coordinate_descent.ElasticNetCV'>, 'GridSearchCV': <class 'sklearn.model_selection._search.GridSearchCV'>, 'In': ['', '# Imports\\nimport pandas as pd\\nimport numpy as np...s plt\\nimport xgboost as xgb\\nimport seaborn as sns', \"pd.set_option('display.float_format', lambda x: '%.3f' % x)\\nget_ipython().magic('matplotlib inline')\", 'train = pd.read_csv(\"data/train.csv\")\\nprint(\"tra...ata/test.csv\")\\nprint(\"test : \" + str(test.shape))', 'train.head()', 'test.head()', '# Check for train duplicates\\nidsUnique = len(set...s for \" + str(idsTotal) + \" total train entries\")', '# Check for test duplicates\\nidsUnique = len(set(...Ds for \" + str(idsTotal) + \" total test entries\")', 'train.drop(\"Id\", axis = 1, inplace = True)\\ntest_...t[\"Id\"]\\ntest.drop(\"Id\", axis = 1, inplace = True)', '# Looking for outliers, as indicated in https://...plt.show()\\n\\ntrain = train[train.GrLivArea < 4000]', \"sns.distplot(train['SalePrice']);\", '# Log transform the target for official scoring\\n...ice = np.log(train.SalePrice)\\ny = train.SalePrice', \"sns.distplot(train['SalePrice']);\", '# Handle missing values for features where media...odDeckSF\"] = train.loc[:, \"WoodDeckSF\"].fillna(0)', '# Alley : data description says NA means \"no all...oodDeckSF\"] = test.loc[:, \"WoodDeckSF\"].fillna(0)', 'train = train.replace({\"MSSubClass\" : {20 : \"SC2... 11 : \"Nov\", 12 : \"Dec\"}\\n                      })', 'test = test.replace({\"MSSubClass\" : {20 : \"SC20\"... 11 : \"Nov\", 12 : \"Dec\"}\\n                      })', 'train = train.replace({\"Alley\" : {\"Grvl\" : 1, \"P...oSewr\" : 3, \"AllPub\" : 4}}\\n                     )', '# Encode some categorical features as ordered nu...oSewr\" : 3, \"AllPub\" : 4}}\\n                     )', '# Train\\ntrain[\"SimplOverallQual\"] = train.Overal...                                               })', ...], 'LassoCV': <class 'sklearn.linear_model.coordinate_descent.LassoCV'>, 'LinearRegression': <class 'sklearn.linear_model.base.LinearRegression'>, 'Out': {4:    Id  MSSubClass MSZoning  LotFrontage  LotArea...       Normal     250000  \n\n[5 rows x 81 columns], 5:      Id  MSSubClass MSZoning  LotFrontage  LotAr...       WD         Normal  \n\n[5 rows x 80 columns], 23:   MSSubClass MSZoning  LotFrontage  LotArea  Str...       1              0  \n\n[5 rows x 114 columns], 24:   MSSubClass MSZoning  LotFrontage  LotArea  Str...       0              0  \n\n[5 rows x 113 columns], 28:   MSSubClass MSZoning  LotFrontage  LotArea  Str...5480512          50.080  \n\n[5 rows x 144 columns], 29:   MSSubClass MSZoning  LotFrontage  LotArea  Str...832.000          38.962  \n\n[5 rows x 143 columns], 34:   MSSubClass MSZoning  LotFrontage  LotArea  Str...5480512          50.080  \n\n[5 rows x 144 columns], 35:   MSSubClass MSZoning  LotFrontage  LotArea  Str...832.000          38.962  \n\n[5 rows x 143 columns], 41:    LotFrontage  LotArea  Street  LotShape  Utili...                      0  \n\n[5 rows x 319 columns], 42:    LotFrontage  LotArea  Street  LotShape  Utili...                      0  \n\n[5 rows x 306 columns], ...}, 'RidgeCV': <class 'sklearn.linear_model.ridge.RidgeCV'>, 'StandardScaler': <class 'sklearn.preprocessing.data.StandardScaler'>, 'X_test':       LotFrontage  LotArea  Street  LotShape  Ut...                    0  \n\n[437 rows x 305 columns], 'X_train':       LotFrontage  LotArea  Street  LotShape  Ut...                   0  \n\n[1019 rows x 305 columns], ...}\n        self.user_ns = {'ElasticNetCV': <class 'sklearn.linear_model.coordinate_descent.ElasticNetCV'>, 'GridSearchCV': <class 'sklearn.model_selection._search.GridSearchCV'>, 'In': ['', '# Imports\\nimport pandas as pd\\nimport numpy as np...s plt\\nimport xgboost as xgb\\nimport seaborn as sns', \"pd.set_option('display.float_format', lambda x: '%.3f' % x)\\nget_ipython().magic('matplotlib inline')\", 'train = pd.read_csv(\"data/train.csv\")\\nprint(\"tra...ata/test.csv\")\\nprint(\"test : \" + str(test.shape))', 'train.head()', 'test.head()', '# Check for train duplicates\\nidsUnique = len(set...s for \" + str(idsTotal) + \" total train entries\")', '# Check for test duplicates\\nidsUnique = len(set(...Ds for \" + str(idsTotal) + \" total test entries\")', 'train.drop(\"Id\", axis = 1, inplace = True)\\ntest_...t[\"Id\"]\\ntest.drop(\"Id\", axis = 1, inplace = True)', '# Looking for outliers, as indicated in https://...plt.show()\\n\\ntrain = train[train.GrLivArea < 4000]', \"sns.distplot(train['SalePrice']);\", '# Log transform the target for official scoring\\n...ice = np.log(train.SalePrice)\\ny = train.SalePrice', \"sns.distplot(train['SalePrice']);\", '# Handle missing values for features where media...odDeckSF\"] = train.loc[:, \"WoodDeckSF\"].fillna(0)', '# Alley : data description says NA means \"no all...oodDeckSF\"] = test.loc[:, \"WoodDeckSF\"].fillna(0)', 'train = train.replace({\"MSSubClass\" : {20 : \"SC2... 11 : \"Nov\", 12 : \"Dec\"}\\n                      })', 'test = test.replace({\"MSSubClass\" : {20 : \"SC20\"... 11 : \"Nov\", 12 : \"Dec\"}\\n                      })', 'train = train.replace({\"Alley\" : {\"Grvl\" : 1, \"P...oSewr\" : 3, \"AllPub\" : 4}}\\n                     )', '# Encode some categorical features as ordered nu...oSewr\" : 3, \"AllPub\" : 4}}\\n                     )', '# Train\\ntrain[\"SimplOverallQual\"] = train.Overal...                                               })', ...], 'LassoCV': <class 'sklearn.linear_model.coordinate_descent.LassoCV'>, 'LinearRegression': <class 'sklearn.linear_model.base.LinearRegression'>, 'Out': {4:    Id  MSSubClass MSZoning  LotFrontage  LotArea...       Normal     250000  \n\n[5 rows x 81 columns], 5:      Id  MSSubClass MSZoning  LotFrontage  LotAr...       WD         Normal  \n\n[5 rows x 80 columns], 23:   MSSubClass MSZoning  LotFrontage  LotArea  Str...       1              0  \n\n[5 rows x 114 columns], 24:   MSSubClass MSZoning  LotFrontage  LotArea  Str...       0              0  \n\n[5 rows x 113 columns], 28:   MSSubClass MSZoning  LotFrontage  LotArea  Str...5480512          50.080  \n\n[5 rows x 144 columns], 29:   MSSubClass MSZoning  LotFrontage  LotArea  Str...832.000          38.962  \n\n[5 rows x 143 columns], 34:   MSSubClass MSZoning  LotFrontage  LotArea  Str...5480512          50.080  \n\n[5 rows x 144 columns], 35:   MSSubClass MSZoning  LotFrontage  LotArea  Str...832.000          38.962  \n\n[5 rows x 143 columns], 41:    LotFrontage  LotArea  Street  LotShape  Utili...                      0  \n\n[5 rows x 319 columns], 42:    LotFrontage  LotArea  Street  LotShape  Utili...                      0  \n\n[5 rows x 306 columns], ...}, 'RidgeCV': <class 'sklearn.linear_model.ridge.RidgeCV'>, 'StandardScaler': <class 'sklearn.preprocessing.data.StandardScaler'>, 'X_test':       LotFrontage  LotArea  Street  LotShape  Ut...                    0  \n\n[437 rows x 305 columns], 'X_train':       LotFrontage  LotArea  Street  LotShape  Ut...                   0  \n\n[1019 rows x 305 columns], ...}\n   2882             finally:\n   2883                 # Reset our crash handler in place\n   2884                 sys.excepthook = old_excepthook\n   2885         except SystemExit as e:\n\n...........................................................................\n/home/phil/Repos/aymes-house-prices/<ipython-input-78-8e17bc0800de> in <module>()\n----> 1 gsearch1.fit(X_train, y_train)\n      2 gsearch1.grid_scores_, gsearch1.best_params_, gsearch1.best_score_\n\n...........................................................................\n/home/phil/anaconda2/envs/p35/lib/python3.5/site-packages/sklearn/model_selection/_search.py in fit(self=GridSearchCV(cv=5, error_score='raise',\n       e..._score=True,\n       scoring='roc_auc', verbose=0), X=      LotFrontage  LotArea  Street  LotShape  Ut...                   0  \n\n[1019 rows x 305 columns], y=328    12.276\n1026   12.029\n843    11.857\n994   ...708\n685    12.243\nName: SalePrice, dtype: float64, groups=None, **fit_params={})\n    633                                   return_train_score=self.return_train_score,\n    634                                   return_n_test_samples=True,\n    635                                   return_times=True, return_parameters=False,\n    636                                   error_score=self.error_score)\n    637           for parameters, (train, test) in product(candidate_params,\n--> 638                                                    cv.split(X, y, groups)))\n        cv.split = <bound method _BaseKFold.split of KFold(n_splits=5, random_state=None, shuffle=False)>\n        X =       LotFrontage  LotArea  Street  LotShape  Ut...                   0  \n\n[1019 rows x 305 columns]\n        y = 328    12.276\n1026   12.029\n843    11.857\n994   ...708\n685    12.243\nName: SalePrice, dtype: float64\n        groups = None\n    639 \n    640         # if one choose to see train score, \"out\" will contain train score info\n    641         if self.return_train_score:\n    642             (train_score_dicts, test_score_dicts, test_sample_counts, fit_time,\n\n...........................................................................\n/home/phil/anaconda2/envs/p35/lib/python3.5/site-packages/sklearn/externals/joblib/parallel.py in __call__(self=Parallel(n_jobs=4), iterable=<generator object BaseSearchCV.fit.<locals>.<genexpr>>)\n    784             if pre_dispatch == \"all\" or n_jobs == 1:\n    785                 # The iterable was consumed all at once by the above for loop.\n    786                 # No need to wait for async callbacks to trigger to\n    787                 # consumption.\n    788                 self._iterating = False\n--> 789             self.retrieve()\n        self.retrieve = <bound method Parallel.retrieve of Parallel(n_jobs=4)>\n    790             # Make sure that we get a last message telling us we are done\n    791             elapsed_time = time.time() - self._start_time\n    792             self._print('Done %3i out of %3i | elapsed: %s finished',\n    793                         (len(self._output), len(self._output),\n\n---------------------------------------------------------------------------\nSub-process traceback:\n---------------------------------------------------------------------------\nValueError                                         Sun Oct 29 11:21:54 2017\nPID: 4819            Python 3.5.2: /home/phil/anaconda2/envs/p35/bin/python\n...........................................................................\n/home/phil/anaconda2/envs/p35/lib/python3.5/site-packages/sklearn/externals/joblib/parallel.py in __call__(self=<sklearn.externals.joblib.parallel.BatchedCalls object>)\n    126     def __init__(self, iterator_slice):\n    127         self.items = list(iterator_slice)\n    128         self._size = len(self.items)\n    129 \n    130     def __call__(self):\n--> 131         return [func(*args, **kwargs) for func, args, kwargs in self.items]\n        self.items = [(<function _fit_and_score>, (XGBRegressor(base_score=0.5, colsample_bylevel=1...e_pos_weight=1, seed=42, silent=0, subsample=0.2),       LotFrontage  LotArea  Street  LotShape  Ut...                   0  \n\n[1019 rows x 305 columns], 328    12.276\n1026   12.029\n843    11.857\n994   ...708\n685    12.243\nName: SalePrice, dtype: float64, {'score': make_scorer(roc_auc_score, needs_threshold=True)}, array([ 204,  205,  206,  207,  208,  209,  210,...1012, 1013, 1014, 1015, 1016, 1017,\n       1018]), array([  0,   1,   2,   3,   4,   5,   6,   7,  ...    195, 196, 197, 198, 199, 200, 201, 202, 203]), 0, {'max_depth': 3, 'min_child_weight': 1}), {'error_score': 'raise', 'fit_params': {}, 'return_n_test_samples': True, 'return_parameters': False, 'return_times': True, 'return_train_score': True})]\n    132 \n    133     def __len__(self):\n    134         return self._size\n    135 \n\n...........................................................................\n/home/phil/anaconda2/envs/p35/lib/python3.5/site-packages/sklearn/externals/joblib/parallel.py in <listcomp>(.0=<list_iterator object>)\n    126     def __init__(self, iterator_slice):\n    127         self.items = list(iterator_slice)\n    128         self._size = len(self.items)\n    129 \n    130     def __call__(self):\n--> 131         return [func(*args, **kwargs) for func, args, kwargs in self.items]\n        func = <function _fit_and_score>\n        args = (XGBRegressor(base_score=0.5, colsample_bylevel=1...e_pos_weight=1, seed=42, silent=0, subsample=0.2),       LotFrontage  LotArea  Street  LotShape  Ut...                   0  \n\n[1019 rows x 305 columns], 328    12.276\n1026   12.029\n843    11.857\n994   ...708\n685    12.243\nName: SalePrice, dtype: float64, {'score': make_scorer(roc_auc_score, needs_threshold=True)}, array([ 204,  205,  206,  207,  208,  209,  210,...1012, 1013, 1014, 1015, 1016, 1017,\n       1018]), array([  0,   1,   2,   3,   4,   5,   6,   7,  ...    195, 196, 197, 198, 199, 200, 201, 202, 203]), 0, {'max_depth': 3, 'min_child_weight': 1})\n        kwargs = {'error_score': 'raise', 'fit_params': {}, 'return_n_test_samples': True, 'return_parameters': False, 'return_times': True, 'return_train_score': True}\n    132 \n    133     def __len__(self):\n    134         return self._size\n    135 \n\n...........................................................................\n/home/phil/anaconda2/envs/p35/lib/python3.5/site-packages/sklearn/model_selection/_validation.py in _fit_and_score(estimator=XGBRegressor(base_score=0.5, colsample_bylevel=1...e_pos_weight=1, seed=42, silent=0, subsample=0.2), X=      LotFrontage  LotArea  Street  LotShape  Ut...                   0  \n\n[1019 rows x 305 columns], y=328    12.276\n1026   12.029\n843    11.857\n994   ...708\n685    12.243\nName: SalePrice, dtype: float64, scorer={'score': make_scorer(roc_auc_score, needs_threshold=True)}, train=array([ 204,  205,  206,  207,  208,  209,  210,...1012, 1013, 1014, 1015, 1016, 1017,\n       1018]), test=array([  0,   1,   2,   3,   4,   5,   6,   7,  ...    195, 196, 197, 198, 199, 200, 201, 202, 203]), verbose=0, parameters={'max_depth': 3, 'min_child_weight': 1}, fit_params={}, return_train_score=True, return_parameters=False, return_n_test_samples=True, return_times=True, error_score='raise')\n    462                              \" make sure that it has been spelled correctly.)\")\n    463 \n    464     else:\n    465         fit_time = time.time() - start_time\n    466         # _score will return dict if is_multimetric is True\n--> 467         test_scores = _score(estimator, X_test, y_test, scorer, is_multimetric)\n        test_scores = {}\n        estimator = XGBRegressor(base_score=0.5, colsample_bylevel=1...e_pos_weight=1, seed=42, silent=0, subsample=0.2)\n        X_test =       LotFrontage  LotArea  Street  LotShape  Ut...                    0  \n\n[204 rows x 305 columns]\n        y_test = 328    12.276\n1026   12.029\n843    11.857\n994   ...977\n1078   11.957\nName: SalePrice, dtype: float64\n        scorer = {'score': make_scorer(roc_auc_score, needs_threshold=True)}\n        is_multimetric = True\n    468         score_time = time.time() - start_time - fit_time\n    469         if return_train_score:\n    470             train_scores = _score(estimator, X_train, y_train, scorer,\n    471                                   is_multimetric)\n\n...........................................................................\n/home/phil/anaconda2/envs/p35/lib/python3.5/site-packages/sklearn/model_selection/_validation.py in _score(estimator=XGBRegressor(base_score=0.5, colsample_bylevel=1...e_pos_weight=1, seed=42, silent=0, subsample=0.2), X_test=      LotFrontage  LotArea  Street  LotShape  Ut...                    0  \n\n[204 rows x 305 columns], y_test=328    12.276\n1026   12.029\n843    11.857\n994   ...977\n1078   11.957\nName: SalePrice, dtype: float64, scorer={'score': make_scorer(roc_auc_score, needs_threshold=True)}, is_multimetric=True)\n    497 \n    498     Will return a single float if is_multimetric is False and a dict of floats,\n    499     if is_multimetric is True\n    500     \"\"\"\n    501     if is_multimetric:\n--> 502         return _multimetric_score(estimator, X_test, y_test, scorer)\n        estimator = XGBRegressor(base_score=0.5, colsample_bylevel=1...e_pos_weight=1, seed=42, silent=0, subsample=0.2)\n        X_test =       LotFrontage  LotArea  Street  LotShape  Ut...                    0  \n\n[204 rows x 305 columns]\n        y_test = 328    12.276\n1026   12.029\n843    11.857\n994   ...977\n1078   11.957\nName: SalePrice, dtype: float64\n        scorer = {'score': make_scorer(roc_auc_score, needs_threshold=True)}\n    503     else:\n    504         if y_test is None:\n    505             score = scorer(estimator, X_test)\n    506         else:\n\n...........................................................................\n/home/phil/anaconda2/envs/p35/lib/python3.5/site-packages/sklearn/model_selection/_validation.py in _multimetric_score(estimator=XGBRegressor(base_score=0.5, colsample_bylevel=1...e_pos_weight=1, seed=42, silent=0, subsample=0.2), X_test=      LotFrontage  LotArea  Street  LotShape  Ut...                    0  \n\n[204 rows x 305 columns], y_test=328    12.276\n1026   12.029\n843    11.857\n994   ...977\n1078   11.957\nName: SalePrice, dtype: float64, scorers={'score': make_scorer(roc_auc_score, needs_threshold=True)})\n    527 \n    528     for name, scorer in scorers.items():\n    529         if y_test is None:\n    530             score = scorer(estimator, X_test)\n    531         else:\n--> 532             score = scorer(estimator, X_test, y_test)\n        score = undefined\n        scorer = make_scorer(roc_auc_score, needs_threshold=True)\n        estimator = XGBRegressor(base_score=0.5, colsample_bylevel=1...e_pos_weight=1, seed=42, silent=0, subsample=0.2)\n        X_test =       LotFrontage  LotArea  Street  LotShape  Ut...                    0  \n\n[204 rows x 305 columns]\n        y_test = 328    12.276\n1026   12.029\n843    11.857\n994   ...977\n1078   11.957\nName: SalePrice, dtype: float64\n    533 \n    534         if hasattr(score, 'item'):\n    535             try:\n    536                 # e.g. unwrap memmapped scalars\n\n...........................................................................\n/home/phil/anaconda2/envs/p35/lib/python3.5/site-packages/sklearn/metrics/scorer.py in __call__(self=make_scorer(roc_auc_score, needs_threshold=True), clf=XGBRegressor(base_score=0.5, colsample_bylevel=1...e_pos_weight=1, seed=42, silent=0, subsample=0.2), X=      LotFrontage  LotArea  Street  LotShape  Ut...                    0  \n\n[204 rows x 305 columns], y=328    12.276\n1026   12.029\n843    11.857\n994   ...977\n1078   11.957\nName: SalePrice, dtype: float64, sample_weight=None)\n    176         \"\"\"\n    177         super(_ThresholdScorer, self).__call__(clf, X, y,\n    178                                                sample_weight=sample_weight)\n    179         y_type = type_of_target(y)\n    180         if y_type not in (\"binary\", \"multilabel-indicator\"):\n--> 181             raise ValueError(\"{0} format is not supported\".format(y_type))\n        y_type = 'continuous'\n    182 \n    183         if is_regressor(clf):\n    184             y_pred = clf.predict(X)\n    185         else:\n\nValueError: continuous format is not supported\n___________________________________________________________________________"
     ]
    }
   ],
   "source": [
    "gsearch1.fit(X_train, y_train)\n",
    "gsearch1.grid_scores_, gsearch1.best_params_, gsearch1.best_score_"
   ]
  },
  {
   "cell_type": "markdown",
   "metadata": {},
   "source": [
    "Finer grained parameter search based on above results"
   ]
  },
  {
   "cell_type": "code",
   "execution_count": null,
   "metadata": {
    "collapsed": true
   },
   "outputs": [],
   "source": [
    "param_test2 = {\n",
    " 'max_depth':[4,5,6],\n",
    " 'min_child_weight':[4,5,6]\n",
    "}"
   ]
  },
  {
   "cell_type": "code",
   "execution_count": null,
   "metadata": {
    "collapsed": true
   },
   "outputs": [],
   "source": [
    "gsearch2 = GridSearchCV(\n",
    "    estimator = xgb.XGBRegressor( \n",
    "        learning_rate=0.1, \n",
    "        n_estimators=140, \n",
    "        max_depth=5,\n",
    "        min_child_weight=2, \n",
    "        gamma=0, \n",
    "        subsample=0.8, \n",
    "        colsample_bytree=0.8,\n",
    "        objective= 'binary:logistic', \n",
    "        nthread=4, \n",
    "        scale_pos_weight=1,\n",
    "        seed=27), \n",
    "    param_grid = param_test2, scoring='roc_auc',n_jobs=4,iid=False, cv=5)\n"
   ]
  },
  {
   "cell_type": "code",
   "execution_count": null,
   "metadata": {
    "collapsed": true
   },
   "outputs": [],
   "source": [
    "gsearch2.fit(X_train, y_train)\n",
    "gsearch2.grid_scores_, gsearch2.best_params_, gsearch2.best_score_"
   ]
  },
  {
   "cell_type": "code",
   "execution_count": 79,
   "metadata": {
    "collapsed": false
   },
   "outputs": [],
   "source": [
    "xgboostReg = xgb.XGBRegressor(\n",
    "                 colsample_bytree=0.2,\n",
    "                 gamma=0.0,\n",
    "                 learning_rate=0.01,\n",
    "                 max_depth=4,\n",
    "                 min_child_weight=1.5,\n",
    "                 n_estimators=7200,                                                                  \n",
    "                 reg_alpha=0.9,\n",
    "                 reg_lambda=0.6,\n",
    "                 subsample=0.2,\n",
    "                 seed=42,\n",
    "                 silent=0)"
   ]
  },
  {
   "cell_type": "code",
   "execution_count": 80,
   "metadata": {
    "collapsed": false
   },
   "outputs": [
    {
     "data": {
      "text/plain": [
       "XGBRegressor(base_score=0.5, colsample_bylevel=1, colsample_bytree=0.2,\n",
       "       gamma=0.0, learning_rate=0.01, max_delta_step=0, max_depth=4,\n",
       "       min_child_weight=1.5, missing=None, n_estimators=7200, nthread=-1,\n",
       "       objective='reg:linear', reg_alpha=0.9, reg_lambda=0.6,\n",
       "       scale_pos_weight=1, seed=42, silent=0, subsample=0.2)"
      ]
     },
     "execution_count": 80,
     "metadata": {},
     "output_type": "execute_result"
    }
   ],
   "source": [
    "xgboostReg.fit(X_train, y_train)"
   ]
  },
  {
   "cell_type": "code",
   "execution_count": 81,
   "metadata": {
    "collapsed": false
   },
   "outputs": [
    {
     "name": "stdout",
     "output_type": "stream",
     "text": [
      "ElasticNet RMSE on Training set : 0.118305725983\n",
      "ElasticNet RMSE on Test set : 0.121744079534\n"
     ]
    }
   ],
   "source": [
    "print(\"ElasticNet RMSE on Training set :\", rmse_cv(xgboostReg, X_train, y_train).mean())\n",
    "print(\"ElasticNet RMSE on Test set :\", rmse_cv(xgboostReg, X_test, y_test).mean())\n"
   ]
  },
  {
   "cell_type": "code",
   "execution_count": 82,
   "metadata": {
    "collapsed": false
   },
   "outputs": [],
   "source": [
    "\n",
    "# Run prediction on the Kaggle test set.\n",
    "xgboostReg_test_pred = xgboostReg.predict(test)"
   ]
  },
  {
   "cell_type": "markdown",
   "metadata": {},
   "source": [
    "### Merge Results from Models"
   ]
  },
  {
   "cell_type": "code",
   "execution_count": 83,
   "metadata": {
    "collapsed": true
   },
   "outputs": [],
   "source": [
    "test_pred = (xgboostReg_test_pred + elasticNet_test_pred + lasso_test_pred + ridge_test_pred + linear_test_pred) / 2\n"
   ]
  },
  {
   "cell_type": "markdown",
   "metadata": {},
   "source": [
    "### Check Results"
   ]
  },
  {
   "cell_type": "code",
   "execution_count": 84,
   "metadata": {
    "collapsed": false
   },
   "outputs": [
    {
     "data": {
      "text/plain": [
       "array([ 12.23718839,  12.54330675,  12.82143336,  12.50161391,\n",
       "        12.57735176,  12.33149606,  13.03103911,  12.03223467,\n",
       "        11.90762643,  11.73852845,  12.76352958,  12.68044392,\n",
       "        12.22691192,  12.37189576,  12.20246983,  12.19999036,\n",
       "        11.91006119,  12.41156016,  11.59791766,  12.79457856,\n",
       "        12.14930745,  11.87939096,  11.40524938,  11.86702026,\n",
       "        12.53221707,  11.91498026,  12.02936497,  11.89512986,\n",
       "        12.62631138,  12.51197499,  12.16581646,  12.07925331,\n",
       "        12.29008541,  12.13848275,  12.55765026,  11.62404683,\n",
       "        11.79108021,  10.91200346,  11.89370617,  11.90734962,\n",
       "        12.24747194,  11.78434484,  12.04533139,  12.00258655,\n",
       "        12.2738777 ,  12.04320706,  11.37616119,  11.89813432,\n",
       "        11.57511535,  12.06863776])"
      ]
     },
     "execution_count": 84,
     "metadata": {},
     "output_type": "execute_result"
    }
   ],
   "source": [
    "y_test_pred[0:50]"
   ]
  },
  {
   "cell_type": "code",
   "execution_count": 85,
   "metadata": {
    "collapsed": false
   },
   "outputs": [
    {
     "data": {
      "text/plain": [
       "array([ 29.20343877,  30.05275576,  30.26239776, ...,  30.02179548,\n",
       "        29.12891479,  30.66901449])"
      ]
     },
     "execution_count": 85,
     "metadata": {},
     "output_type": "execute_result"
    }
   ],
   "source": [
    "test_pred"
   ]
  },
  {
   "cell_type": "markdown",
   "metadata": {},
   "source": [
    "### Output Results"
   ]
  },
  {
   "cell_type": "code",
   "execution_count": 86,
   "metadata": {
    "collapsed": false
   },
   "outputs": [
    {
     "data": {
      "text/html": [
       "<div>\n",
       "<table border=\"1\" class=\"dataframe\">\n",
       "  <thead>\n",
       "    <tr style=\"text-align: right;\">\n",
       "      <th></th>\n",
       "      <th>SalePrice</th>\n",
       "    </tr>\n",
       "    <tr>\n",
       "      <th>Id</th>\n",
       "      <th></th>\n",
       "    </tr>\n",
       "  </thead>\n",
       "  <tbody>\n",
       "    <tr>\n",
       "      <th>1461</th>\n",
       "      <td>29.203</td>\n",
       "    </tr>\n",
       "    <tr>\n",
       "      <th>1462</th>\n",
       "      <td>30.053</td>\n",
       "    </tr>\n",
       "    <tr>\n",
       "      <th>1463</th>\n",
       "      <td>30.262</td>\n",
       "    </tr>\n",
       "    <tr>\n",
       "      <th>1464</th>\n",
       "      <td>30.470</td>\n",
       "    </tr>\n",
       "    <tr>\n",
       "      <th>1465</th>\n",
       "      <td>30.407</td>\n",
       "    </tr>\n",
       "  </tbody>\n",
       "</table>\n",
       "</div>"
      ],
      "text/plain": [
       "      SalePrice\n",
       "Id             \n",
       "1461     29.203\n",
       "1462     30.053\n",
       "1463     30.262\n",
       "1464     30.470\n",
       "1465     30.407"
      ]
     },
     "execution_count": 86,
     "metadata": {},
     "output_type": "execute_result"
    }
   ],
   "source": [
    "results_df = pd.DataFrame(test_pred, index=test_Id, columns=[\"SalePrice\"])\n",
    "results_df.head()"
   ]
  },
  {
   "cell_type": "code",
   "execution_count": 87,
   "metadata": {
    "collapsed": false
   },
   "outputs": [
    {
     "data": {
      "text/html": [
       "<div>\n",
       "<table border=\"1\" class=\"dataframe\">\n",
       "  <thead>\n",
       "    <tr style=\"text-align: right;\">\n",
       "      <th></th>\n",
       "      <th>SalePrice</th>\n",
       "    </tr>\n",
       "    <tr>\n",
       "      <th>Id</th>\n",
       "      <th></th>\n",
       "    </tr>\n",
       "  </thead>\n",
       "  <tbody>\n",
       "    <tr>\n",
       "      <th>1461</th>\n",
       "      <td>4818283070352.661</td>\n",
       "    </tr>\n",
       "    <tr>\n",
       "      <th>1462</th>\n",
       "      <td>11265383820860.725</td>\n",
       "    </tr>\n",
       "    <tr>\n",
       "      <th>1463</th>\n",
       "      <td>13892882313507.686</td>\n",
       "    </tr>\n",
       "    <tr>\n",
       "      <th>1464</th>\n",
       "      <td>17101136565934.055</td>\n",
       "    </tr>\n",
       "    <tr>\n",
       "      <th>1465</th>\n",
       "      <td>16048388644962.154</td>\n",
       "    </tr>\n",
       "  </tbody>\n",
       "</table>\n",
       "</div>"
      ],
      "text/plain": [
       "              SalePrice\n",
       "Id                     \n",
       "1461  4818283070352.661\n",
       "1462 11265383820860.725\n",
       "1463 13892882313507.686\n",
       "1464 17101136565934.055\n",
       "1465 16048388644962.154"
      ]
     },
     "execution_count": 87,
     "metadata": {},
     "output_type": "execute_result"
    }
   ],
   "source": [
    "results_df[\"SalePrice\"] = np.exp(results_df['SalePrice']);\n",
    "results_df.head()"
   ]
  },
  {
   "cell_type": "code",
   "execution_count": 88,
   "metadata": {
    "collapsed": true
   },
   "outputs": [],
   "source": [
    "results_df.to_csv(\"data/Results.csv\")"
   ]
  },
  {
   "cell_type": "code",
   "execution_count": null,
   "metadata": {
    "collapsed": true
   },
   "outputs": [],
   "source": []
  }
 ],
 "metadata": {
  "kernelspec": {
   "display_name": "Python [p35]",
   "language": "python",
   "name": "Python [p35]"
  },
  "language_info": {
   "codemirror_mode": {
    "name": "ipython",
    "version": 3
   },
   "file_extension": ".py",
   "mimetype": "text/x-python",
   "name": "python",
   "nbconvert_exporter": "python",
   "pygments_lexer": "ipython3",
   "version": "3.5.2"
  }
 },
 "nbformat": 4,
 "nbformat_minor": 2
}
