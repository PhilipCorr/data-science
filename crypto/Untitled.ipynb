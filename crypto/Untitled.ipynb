{
 "cells": [
  {
   "cell_type": "code",
   "execution_count": 45,
   "metadata": {},
   "outputs": [],
   "source": [
    "import pandas as pd\n",
    "import requests\n",
    "import matplotlib.pyplot as plt\n",
    "import datetime\n",
    "\n",
    "%matplotlib inline "
   ]
  },
  {
   "cell_type": "code",
   "execution_count": 5,
   "metadata": {},
   "outputs": [],
   "source": [
    "coin_list = requests.get('https://www.cryptocompare.com/api/data/coinlist/').json()"
   ]
  },
  {
   "cell_type": "code",
   "execution_count": 10,
   "metadata": {},
   "outputs": [
    {
     "data": {
      "text/plain": [
       "{'Algorithm': 'CryptoNight',\n",
       " 'CoinName': 'Monero',\n",
       " 'FullName': 'Monero (XMR)',\n",
       " 'FullyPremined': '0',\n",
       " 'Id': '5038',\n",
       " 'ImageUrl': '/media/19969/xmr.png',\n",
       " 'Name': 'XMR',\n",
       " 'PreMinedValue': 'N/A',\n",
       " 'ProofType': 'PoW',\n",
       " 'SortOrder': '5',\n",
       " 'Sponsored': False,\n",
       " 'Symbol': 'XMR',\n",
       " 'TotalCoinSupply': '0',\n",
       " 'TotalCoinsFreeFloat': 'N/A',\n",
       " 'Url': '/coins/xmr/overview'}"
      ]
     },
     "execution_count": 10,
     "metadata": {},
     "output_type": "execute_result"
    }
   ],
   "source": [
    "coin_list['Data']['XMR']"
   ]
  },
  {
   "cell_type": "code",
   "execution_count": 51,
   "metadata": {},
   "outputs": [
    {
     "name": "stdout",
     "output_type": "stream",
     "text": [
      "{'Id': '5031', 'Url': '/coins/xrp/overview', 'ImageUrl': '/media/19972/ripple.png', 'Name': 'XRP', 'Symbol': 'XRP', 'CoinName': 'Ripple', 'FullName': 'Ripple (XRP)', 'Algorithm': 'N/A', 'ProofType': 'N/A', 'FullyPremined': '1', 'TotalCoinSupply': '38305873865', 'PreMinedValue': 'N/A', 'TotalCoinsFreeFloat': 'N/A', 'SortOrder': '12', 'Sponsored': False}\n"
     ]
    }
   ],
   "source": [
    "for coin in coin_list['Data']:\n",
    "    if coin_list['Data'][coin]['CoinName'] == 'Ripple':\n",
    "        print(coin_list['Data'][coin])\n"
   ]
  },
  {
   "cell_type": "code",
   "execution_count": 69,
   "metadata": {
    "collapsed": true
   },
   "outputs": [],
   "source": [
    "ripple_daily = requests.get('https://min-api.cryptocompare.com/data/histoday?fsym=XRP&tsym=USD&allData&aggregate=3&e=CCCAGG').json()"
   ]
  },
  {
   "cell_type": "code",
   "execution_count": 70,
   "metadata": {},
   "outputs": [
    {
     "data": {
      "text/plain": [
       "{'Aggregated': True,\n",
       " 'ConversionType': {'conversionSymbol': '', 'type': 'direct'},\n",
       " 'Data': [{'close': 1.11,\n",
       "   'high': 1.39,\n",
       "   'low': 1.09,\n",
       "   'open': 1.22,\n",
       "   'time': 1517097600,\n",
       "   'volumefrom': 409824825.35,\n",
       "   'volumeto': 507949403.48},\n",
       "  {'close': 0.8989,\n",
       "   'high': 1.15,\n",
       "   'low': 0.6586,\n",
       "   'open': 1.11,\n",
       "   'time': 1517356800,\n",
       "   'volumefrom': 1007396997.97,\n",
       "   'volumeto': 916023116.39},\n",
       "  {'close': 0.6805,\n",
       "   'high': 1.02,\n",
       "   'low': 0.6392,\n",
       "   'open': 0.8989,\n",
       "   'time': 1517616000,\n",
       "   'volumefrom': 894140408.16,\n",
       "   'volumeto': 732659897.48},\n",
       "  {'close': 0.781,\n",
       "   'high': 0.8132,\n",
       "   'low': 0.5722,\n",
       "   'open': 0.6805,\n",
       "   'time': 1517875200,\n",
       "   'volumefrom': 894981517.55,\n",
       "   'volumeto': 632196242.93},\n",
       "  {'close': 0.9607,\n",
       "   'high': 1.23,\n",
       "   'low': 0.7407,\n",
       "   'open': 0.781,\n",
       "   'time': 1518134400,\n",
       "   'volumefrom': 1090580563.93,\n",
       "   'volumeto': 1068279697.82},\n",
       "  {'close': 1.13,\n",
       "   'high': 1.15,\n",
       "   'low': 0.9574,\n",
       "   'open': 0.9607,\n",
       "   'time': 1518393600,\n",
       "   'volumefrom': 518875240.68,\n",
       "   'volumeto': 538659443.75},\n",
       "  {'close': 1.18,\n",
       "   'high': 1.2,\n",
       "   'low': 1.07,\n",
       "   'open': 1.13,\n",
       "   'time': 1518652800,\n",
       "   'volumefrom': 365895376.21,\n",
       "   'volumeto': 410402222.77},\n",
       "  {'close': 1.03,\n",
       "   'high': 1.18,\n",
       "   'low': 1.01,\n",
       "   'open': 1.18,\n",
       "   'time': 1518912000,\n",
       "   'volumefrom': 275527709.94,\n",
       "   'volumeto': 301542205.02},\n",
       "  {'close': 0.9402,\n",
       "   'high': 1.04,\n",
       "   'low': 0.8529,\n",
       "   'open': 1.03,\n",
       "   'time': 1519171200,\n",
       "   'volumefrom': 387688727.53,\n",
       "   'volumeto': 366515890.55},\n",
       "  {'close': 0.9296,\n",
       "   'high': 0.967,\n",
       "   'low': 0.8709,\n",
       "   'open': 0.9402,\n",
       "   'time': 1519430400,\n",
       "   'volumefrom': 182108076,\n",
       "   'volumeto': 165792529.31},\n",
       "  {'close': 0.9155,\n",
       "   'high': 0.9579,\n",
       "   'low': 0.8754,\n",
       "   'open': 0.9296,\n",
       "   'time': 1519689600,\n",
       "   'volumefrom': 162246365.38,\n",
       "   'volumeto': 149511517.21},\n",
       "  {'close': 1,\n",
       "   'high': 1.03,\n",
       "   'low': 0.8847,\n",
       "   'open': 0.9155,\n",
       "   'time': 1519948800,\n",
       "   'volumefrom': 208938460.61,\n",
       "   'volumeto': 195561823.97},\n",
       "  {'close': 0.8535,\n",
       "   'high': 1.09,\n",
       "   'low': 0.7885,\n",
       "   'open': 1,\n",
       "   'time': 1520208000,\n",
       "   'volumefrom': 553555924.36,\n",
       "   'volumeto': 523906583.87},\n",
       "  {'close': 0.775,\n",
       "   'high': 0.8716,\n",
       "   'low': 0.7325,\n",
       "   'open': 0.8535,\n",
       "   'time': 1520467200,\n",
       "   'volumefrom': 316720234.74,\n",
       "   'volumeto': 254150249.48},\n",
       "  {'close': 0.7777,\n",
       "   'high': 0.8301,\n",
       "   'low': 0.7501,\n",
       "   'open': 0.775,\n",
       "   'time': 1520726400,\n",
       "   'volumefrom': 186626084.8,\n",
       "   'volumeto': 147729636.92},\n",
       "  {'close': 0.6779,\n",
       "   'high': 0.7918,\n",
       "   'low': 0.6293,\n",
       "   'open': 0.7777,\n",
       "   'time': 1520985600,\n",
       "   'volumefrom': 326366614.54,\n",
       "   'volumeto': 225242768.99},\n",
       "  {'close': 0.7203,\n",
       "   'high': 0.7249,\n",
       "   'low': 0.5386,\n",
       "   'open': 0.6779,\n",
       "   'time': 1521244800,\n",
       "   'volumefrom': 437933432.4,\n",
       "   'volumeto': 276705697.3},\n",
       "  {'close': 0.6523,\n",
       "   'high': 0.7203,\n",
       "   'low': 0.622,\n",
       "   'open': 0.7203,\n",
       "   'time': 1521504000,\n",
       "   'volumefrom': 314670689.02,\n",
       "   'volumeto': 214157551.9},\n",
       "  {'close': 0.6341,\n",
       "   'high': 0.6776,\n",
       "   'low': 0.6139,\n",
       "   'open': 0.6523,\n",
       "   'time': 1521763200,\n",
       "   'volumefrom': 174551349.43,\n",
       "   'volumeto': 111319161.49},\n",
       "  {'close': 0.5733,\n",
       "   'high': 0.6377,\n",
       "   'low': 0.5579,\n",
       "   'open': 0.6341,\n",
       "   'time': 1522022400,\n",
       "   'volumefrom': 211685133.2,\n",
       "   'volumeto': 124410676.51},\n",
       "  {'close': 0.5003,\n",
       "   'high': 0.5745,\n",
       "   'low': 0.4715,\n",
       "   'open': 0.5733,\n",
       "   'time': 1522281600,\n",
       "   'volumefrom': 341759625.55,\n",
       "   'volumeto': 174333836.54},\n",
       "  {'close': 0.5473,\n",
       "   'high': 0.5531,\n",
       "   'low': 0.4552,\n",
       "   'open': 0.5003,\n",
       "   'time': 1522540800,\n",
       "   'volumefrom': 246309329.5,\n",
       "   'volumeto': 123610511.19},\n",
       "  {'close': 0.4731,\n",
       "   'high': 0.5523,\n",
       "   'low': 0.4592,\n",
       "   'open': 0.5473,\n",
       "   'time': 1522800000,\n",
       "   'volumefrom': 215355414.03,\n",
       "   'volumeto': 106004531.24},\n",
       "  {'close': 0.4862,\n",
       "   'high': 0.5114,\n",
       "   'low': 0.4713,\n",
       "   'open': 0.4731,\n",
       "   'time': 1523059200,\n",
       "   'volumefrom': 141008326.98,\n",
       "   'volumeto': 69140277.88},\n",
       "  {'close': 0.6416,\n",
       "   'high': 0.6627,\n",
       "   'low': 0.4778,\n",
       "   'open': 0.4862,\n",
       "   'time': 1523318400,\n",
       "   'volumefrom': 366227944.05,\n",
       "   'volumeto': 202834679.96},\n",
       "  {'close': 0.6935,\n",
       "   'high': 0.7077,\n",
       "   'low': 0.6132,\n",
       "   'open': 0.6416,\n",
       "   'time': 1523577600,\n",
       "   'volumefrom': 413219009.12,\n",
       "   'volumeto': 272058230.16},\n",
       "  {'close': 0.7132,\n",
       "   'high': 0.7288,\n",
       "   'low': 0.6349,\n",
       "   'open': 0.6936,\n",
       "   'time': 1523836800,\n",
       "   'volumefrom': 260740936.23,\n",
       "   'volumeto': 176132039.01},\n",
       "  {'close': 0.8655,\n",
       "   'high': 0.9367,\n",
       "   'low': 0.7047,\n",
       "   'open': 0.7132,\n",
       "   'time': 1524096000,\n",
       "   'volumefrom': 584721455.75,\n",
       "   'volumeto': 491221895.71},\n",
       "  {'close': 0.9213,\n",
       "   'high': 0.9643,\n",
       "   'low': 0.8394,\n",
       "   'open': 0.8655,\n",
       "   'time': 1524355200,\n",
       "   'volumefrom': 389437618.05,\n",
       "   'volumeto': 349551150.42},\n",
       "  {'close': 0.8057,\n",
       "   'high': 0.9255,\n",
       "   'low': 0.7618,\n",
       "   'open': 0.9213,\n",
       "   'time': 1524614400,\n",
       "   'volumefrom': 490617501.11,\n",
       "   'volumeto': 404081941.43},\n",
       "  {'close': 0.8636,\n",
       "   'high': 0.8887,\n",
       "   'low': 0.8018,\n",
       "   'open': 0.8057,\n",
       "   'time': 1524873600,\n",
       "   'volumefrom': 81918557.24,\n",
       "   'volumeto': 70005401.45}],\n",
       " 'FirstValueInArray': True,\n",
       " 'Response': 'Success',\n",
       " 'TimeFrom': 1517097600,\n",
       " 'TimeTo': 1524873600,\n",
       " 'Type': 100}"
      ]
     },
     "execution_count": 70,
     "metadata": {},
     "output_type": "execute_result"
    }
   ],
   "source": [
    "ripple_daily"
   ]
  },
  {
   "cell_type": "code",
   "execution_count": 71,
   "metadata": {},
   "outputs": [
    {
     "data": {
      "text/plain": [
       "31"
      ]
     },
     "execution_count": 71,
     "metadata": {},
     "output_type": "execute_result"
    }
   ],
   "source": [
    "len(ripple_daily['Data'])"
   ]
  },
  {
   "cell_type": "code",
   "execution_count": 55,
   "metadata": {},
   "outputs": [],
   "source": [
    "time = []\n",
    "close = []\n",
    "for day in ripple_daily['Data']:\n",
    "    time.append(day['time'])\n",
    "    close.append(day['close'])"
   ]
  },
  {
   "cell_type": "code",
   "execution_count": 56,
   "metadata": {},
   "outputs": [],
   "source": [
    "time = [datetime.datetime.fromtimestamp(int(time_stamp)).strftime('%Y-%m-%d %H:%M:%S') for time_stamp in time]\n"
   ]
  },
  {
   "cell_type": "code",
   "execution_count": 57,
   "metadata": {},
   "outputs": [
    {
     "data": {
      "text/plain": [
       "['2018-01-27 19:00:00',\n",
       " '2018-01-30 19:00:00',\n",
       " '2018-02-02 19:00:00',\n",
       " '2018-02-05 19:00:00',\n",
       " '2018-02-08 19:00:00',\n",
       " '2018-02-11 19:00:00',\n",
       " '2018-02-14 19:00:00',\n",
       " '2018-02-17 19:00:00',\n",
       " '2018-02-20 19:00:00',\n",
       " '2018-02-23 19:00:00',\n",
       " '2018-02-26 19:00:00',\n",
       " '2018-03-01 19:00:00',\n",
       " '2018-03-04 19:00:00',\n",
       " '2018-03-07 19:00:00',\n",
       " '2018-03-10 19:00:00',\n",
       " '2018-03-13 20:00:00',\n",
       " '2018-03-16 20:00:00',\n",
       " '2018-03-19 20:00:00',\n",
       " '2018-03-22 20:00:00',\n",
       " '2018-03-25 20:00:00',\n",
       " '2018-03-28 20:00:00',\n",
       " '2018-03-31 20:00:00',\n",
       " '2018-04-03 20:00:00',\n",
       " '2018-04-06 20:00:00',\n",
       " '2018-04-09 20:00:00',\n",
       " '2018-04-12 20:00:00',\n",
       " '2018-04-15 20:00:00',\n",
       " '2018-04-18 20:00:00',\n",
       " '2018-04-21 20:00:00',\n",
       " '2018-04-24 20:00:00',\n",
       " '2018-04-27 20:00:00']"
      ]
     },
     "execution_count": 57,
     "metadata": {},
     "output_type": "execute_result"
    }
   ],
   "source": [
    "time"
   ]
  },
  {
   "cell_type": "code",
   "execution_count": 59,
   "metadata": {},
   "outputs": [
    {
     "data": {
      "image/png": "[encoded data removed]",
      "text/plain": [
       "<matplotlib.figure.Figure at 0x10f64cb00>"
      ]
     },
     "metadata": {},
     "output_type": "display_data"
    }
   ],
   "source": [
    "plt.figure(figsize=(20,10))\n",
    "plt.plot(time, close)\n",
    "plt.xticks(rotation='vertical')\n",
    "plt.show()"
   ]
  },
  {
   "cell_type": "code",
   "execution_count": null,
   "metadata": {
    "collapsed": true
   },
   "outputs": [],
   "source": []
  }
 ],
 "metadata": {
  "kernelspec": {
   "display_name": "py36",
   "language": "python",
   "name": "py36"
  },
  "language_info": {
   "codemirror_mode": {
    "name": "ipython",
    "version": 3
   },
   "file_extension": ".py",
   "mimetype": "text/x-python",
   "name": "python",
   "nbconvert_exporter": "python",
   "pygments_lexer": "ipython3",
   "version": "3.6.4"
  }
 },
 "nbformat": 4,
 "nbformat_minor": 2
}
