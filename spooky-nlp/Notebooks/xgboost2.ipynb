{
 "cells": [
  {
   "cell_type": "markdown",
   "metadata": {
    "_cell_guid": "02adde30-2633-41f1-a672-af8ff83a1b02",
    "_uuid": "22754d0cc0847be93bf947c7998d7fb65a2817d7"
   },
   "source": [
    "**Objective of the competition:**\n",
    "\n",
    "The competition dataset contains text from works of fiction written by spooky authors of the public domain: \n",
    " 1. Edgar Allan Poe (EAP)\n",
    " 2. HP Lovecraft (HPL)\n",
    " 3. Mary Wollstonecraft Shelley (MWS)\n",
    " \n",
    "The objective  is to accurately identify the author of the sentences in the test set.\n",
    "\n",
    "**Objective of the notebook:**\n",
    "\n",
    "In this notebook, let us try to create different features that will help us in identifying the spooky authors. \n",
    "\n",
    "As a first step, we will do some basic data visualization and cleaning before we delve deep into the feature engineering part."
   ]
  },
  {
   "cell_type": "code",
   "execution_count": 1,
   "metadata": {
    "_cell_guid": "b31f62fb-bde8-410e-972c-3c092f22d497",
    "_uuid": "0fcdf81ce439d2215892af58f839edfc0ca80a91"
   },
   "outputs": [
    {
     "name": "stderr",
     "output_type": "stream",
     "text": [
      "/Users/pcorr/anaconda3/envs/py36/lib/python3.6/site-packages/sklearn/cross_validation.py:41: DeprecationWarning: This module was deprecated in version 0.18 in favor of the model_selection module into which all the refactored classes and functions are moved. Also note that the interface of the new CV iterators are different from that of this module. This module will be removed in 0.20.\n",
      "  \"This module will be removed in 0.20.\", DeprecationWarning)\n"
     ]
    }
   ],
   "source": [
    "import numpy as np # linear algebra\n",
    "import pandas as pd # data processing, CSV file I/O (e.g. pd.read_csv)\n",
    "import matplotlib.pyplot as plt\n",
    "import seaborn as sns\n",
    "import nltk\n",
    "from nltk.corpus import stopwords\n",
    "import string\n",
    "import xgboost as xgb\n",
    "from sklearn.feature_extraction.text import TfidfVectorizer, CountVectorizer\n",
    "from sklearn.decomposition import TruncatedSVD\n",
    "from sklearn import ensemble, metrics, model_selection, naive_bayes\n",
    "color = sns.color_palette()\n",
    "\n",
    "%matplotlib inline\n",
    "\n",
    "eng_stopwords = set(stopwords.words(\"english\"))\n",
    "pd.options.mode.chained_assignment = None"
   ]
  },
  {
   "cell_type": "code",
   "execution_count": 2,
   "metadata": {
    "_cell_guid": "add1b71c-e802-408f-8f62-7ea71ed155cf",
    "_uuid": "ae86f9515b3be4956e223db4c2472c2c0c40d9fb"
   },
   "outputs": [
    {
     "name": "stdout",
     "output_type": "stream",
     "text": [
      "Number of rows in train dataset :  19579\n",
      "Number of rows in test dataset :  8392\n"
     ]
    }
   ],
   "source": [
    "## Read the train and test dataset and check the top few lines ##\n",
    "train_df = pd.read_csv(\"../Data/train.csv\")\n",
    "test_df = pd.read_csv(\"../Data/test.csv\")\n",
    "print(\"Number of rows in train dataset : \",train_df.shape[0])\n",
    "print(\"Number of rows in test dataset : \",test_df.shape[0])"
   ]
  },
  {
   "cell_type": "code",
   "execution_count": 3,
   "metadata": {
    "_cell_guid": "35e22f81-77f9-438e-ba50-803aea15ad14",
    "_uuid": "83a9dfc6af30753f82f07ef6162d3b9ba155b06d"
   },
   "outputs": [
    {
     "data": {
      "text/html": [
       "<div>\n",
       "<style scoped>\n",
       "    .dataframe tbody tr th:only-of-type {\n",
       "        vertical-align: middle;\n",
       "    }\n",
       "\n",
       "    .dataframe tbody tr th {\n",
       "        vertical-align: top;\n",
       "    }\n",
       "\n",
       "    .dataframe thead th {\n",
       "        text-align: right;\n",
       "    }\n",
       "</style>\n",
       "<table border=\"1\" class=\"dataframe\">\n",
       "  <thead>\n",
       "    <tr style=\"text-align: right;\">\n",
       "      <th></th>\n",
       "      <th>id</th>\n",
       "      <th>text</th>\n",
       "      <th>author</th>\n",
       "    </tr>\n",
       "  </thead>\n",
       "  <tbody>\n",
       "    <tr>\n",
       "      <th>0</th>\n",
       "      <td>id26305</td>\n",
       "      <td>This process, however, afforded me no means of...</td>\n",
       "      <td>EAP</td>\n",
       "    </tr>\n",
       "    <tr>\n",
       "      <th>1</th>\n",
       "      <td>id17569</td>\n",
       "      <td>It never once occurred to me that the fumbling...</td>\n",
       "      <td>HPL</td>\n",
       "    </tr>\n",
       "    <tr>\n",
       "      <th>2</th>\n",
       "      <td>id11008</td>\n",
       "      <td>In his left hand was a gold snuff box, from wh...</td>\n",
       "      <td>EAP</td>\n",
       "    </tr>\n",
       "    <tr>\n",
       "      <th>3</th>\n",
       "      <td>id27763</td>\n",
       "      <td>How lovely is spring As we looked from Windsor...</td>\n",
       "      <td>MWS</td>\n",
       "    </tr>\n",
       "    <tr>\n",
       "      <th>4</th>\n",
       "      <td>id12958</td>\n",
       "      <td>Finding nothing else, not even gold, the Super...</td>\n",
       "      <td>HPL</td>\n",
       "    </tr>\n",
       "  </tbody>\n",
       "</table>\n",
       "</div>"
      ],
      "text/plain": [
       "        id                                               text author\n",
       "0  id26305  This process, however, afforded me no means of...    EAP\n",
       "1  id17569  It never once occurred to me that the fumbling...    HPL\n",
       "2  id11008  In his left hand was a gold snuff box, from wh...    EAP\n",
       "3  id27763  How lovely is spring As we looked from Windsor...    MWS\n",
       "4  id12958  Finding nothing else, not even gold, the Super...    HPL"
      ]
     },
     "execution_count": 3,
     "metadata": {},
     "output_type": "execute_result"
    }
   ],
   "source": [
    "train_df.head()"
   ]
  },
  {
   "cell_type": "markdown",
   "metadata": {
    "_cell_guid": "5bee9e9a-5fbf-4ee6-9e92-0c77821fe77d",
    "_uuid": "d7682e0812990e3409db6076e7570ce984e466a1"
   },
   "source": [
    "We can check the number of occurrence of each of the author to see if the classes are balanced. "
   ]
  },
  {
   "cell_type": "code",
   "execution_count": 4,
   "metadata": {
    "_cell_guid": "95529569-3380-4794-8248-caf5e8c67f6a",
    "_uuid": "045fe5712b26a72855dad61f05c947ab829a295b"
   },
   "outputs": [
    {
     "data": {
      "image/png": "[encoded data removed]",
      "text/plain": [
       "<matplotlib.figure.Figure at 0x10bfae588>"
      ]
     },
     "metadata": {},
     "output_type": "display_data"
    }
   ],
   "source": [
    "cnt_srs = train_df['author'].value_counts()\n",
    "\n",
    "plt.figure(figsize=(8,4))\n",
    "sns.barplot(cnt_srs.index, cnt_srs.values, alpha=0.8)\n",
    "plt.ylabel('Number of Occurrences', fontsize=12)\n",
    "plt.xlabel('Author Name', fontsize=12)\n",
    "plt.show()"
   ]
  },
  {
   "cell_type": "markdown",
   "metadata": {
    "_cell_guid": "bff5de3a-b92f-4192-b142-60d0367e1bb2",
    "_uuid": "7b1ddc8bf782ae87ed5c24fdb6edbff986255d60"
   },
   "source": [
    "This looks good. There is not much class imbalance. Let us print some lines of each of the authors to try and understand their writing style if possible."
   ]
  },
  {
   "cell_type": "code",
   "execution_count": 5,
   "metadata": {
    "_cell_guid": "6c85f84f-d0ee-444e-8b5f-2bf62452624a",
    "_uuid": "cc6b841404940a0f84481c76f5c2328b373416e1"
   },
   "outputs": [
    {
     "name": "stdout",
     "output_type": "stream",
     "text": [
      "Author name :  EAP\n",
      "This process, however, afforded me no means of ascertaining the dimensions of my dungeon; as I might make its circuit, and return to the point whence I set out, without being aware of the fact; so perfectly uniform seemed the wall.\n",
      "In his left hand was a gold snuff box, from which, as he capered down the hill, cutting all manner of fantastic steps, he took snuff incessantly with an air of the greatest possible self satisfaction.\n",
      "The astronomer, perhaps, at this point, took refuge in the suggestion of non luminosity; and here analogy was suddenly let fall.\n",
      "The surcingle hung in ribands from my body.\n",
      "I knew that you could not say to yourself 'stereotomy' without being brought to think of atomies, and thus of the theories of Epicurus; and since, when we discussed this subject not very long ago, I mentioned to you how singularly, yet with how little notice, the vague guesses of that noble Greek had met with confirmation in the late nebular cosmogony, I felt that you could not avoid casting your eyes upward to the great nebula in Orion, and I certainly expected that you would do so.\n",
      "\n",
      "\n",
      "Author name :  HPL\n",
      "It never once occurred to me that the fumbling might be a mere mistake.\n",
      "Finding nothing else, not even gold, the Superintendent abandoned his attempts; but a perplexed look occasionally steals over his countenance as he sits thinking at his desk.\n",
      "Herbert West needed fresh bodies because his life work was the reanimation of the dead.\n",
      "The farm like grounds extended back very deeply up the hill, almost to Wheaton Street.\n",
      "His facial aspect, too, was remarkable for its maturity; for though he shared his mother's and grandfather's chinlessness, his firm and precociously shaped nose united with the expression of his large, dark, almost Latin eyes to give him an air of quasi adulthood and well nigh preternatural intelligence.\n",
      "\n",
      "\n",
      "Author name :  MWS\n",
      "How lovely is spring As we looked from Windsor Terrace on the sixteen fertile counties spread beneath, speckled by happy cottages and wealthier towns, all looked as in former years, heart cheering and fair.\n",
      "A youth passed in solitude, my best years spent under your gentle and feminine fosterage, has so refined the groundwork of my character that I cannot overcome an intense distaste to the usual brutality exercised on board ship: I have never believed it to be necessary, and when I heard of a mariner equally noted for his kindliness of heart and the respect and obedience paid to him by his crew, I felt myself peculiarly fortunate in being able to secure his services.\n",
      "I confess that neither the structure of languages, nor the code of governments, nor the politics of various states possessed attractions for me.\n",
      "He shall find that I can feel my injuries; he shall learn to dread my revenge\" A few days after he arrived.\n",
      "He had escaped me, and I must commence a destructive and almost endless journey across the mountainous ices of the ocean, amidst cold that few of the inhabitants could long endure and which I, the native of a genial and sunny climate, could not hope to survive.\n",
      "\n",
      "\n"
     ]
    }
   ],
   "source": [
    "grouped_df = train_df.groupby('author')\n",
    "for name, group in grouped_df:\n",
    "    print(\"Author name : \", name)\n",
    "    cnt = 0\n",
    "    for ind, row in group.iterrows():\n",
    "        print(row[\"text\"])\n",
    "        cnt += 1\n",
    "        if cnt == 5:\n",
    "            break\n",
    "    print(\"\\n\")"
   ]
  },
  {
   "cell_type": "markdown",
   "metadata": {
    "_cell_guid": "84398b75-325f-4259-90ea-bb6293cc5235",
    "_uuid": "d5739c4a5967d2bcb9326d39529f84791c09dfb8"
   },
   "source": [
    "Only thing I can see is that there are quite a few special characters present in the text data. So count of these special characters might be a good feature. Probably we can create them later.\n",
    "\n",
    "Apart from that, I do not have much clue.. In case if you find any interesting styles (features which we can create), please add them in the comments. \n",
    "\n",
    "**Feature Engineering:**\n",
    "\n",
    "Now let us come try to do some feature engineering. This consists of two main parts.\n",
    "\n",
    " 1. Meta features - features that are extracted from the text like number of words, number of stop words, number of punctuations etc\n",
    " 2. Text based features - features directly based on the text / words like frequency, svd, word2vec etc.\n",
    "\n",
    "**Meta Features:**\n",
    "\n",
    "We will start with creating meta featues and see how good are they at predicting the spooky authors. The feature list is as follows:\n",
    "1. Number of words in the text\n",
    "2. Number of unique words in the text\n",
    "3. Number of characters in the text\n",
    "4. Number of stopwords \n",
    "5. Number of punctuations\n",
    "6. Number of upper case words\n",
    "7. Number of title case words\n",
    "8. Average length of the words\n"
   ]
  },
  {
   "cell_type": "code",
   "execution_count": 6,
   "metadata": {
    "_cell_guid": "5758c1ff-ca4d-4c66-8c85-ac1725bd631b",
    "_uuid": "ec015064f318cfd7d0a405bd28cd002f72724bbe"
   },
   "outputs": [],
   "source": [
    "## Number of words in the text ##\n",
    "train_df[\"num_words\"] = train_df[\"text\"].apply(lambda x: len(str(x).split()))\n",
    "test_df[\"num_words\"] = test_df[\"text\"].apply(lambda x: len(str(x).split()))\n",
    "\n",
    "## Number of unique words in the text ##\n",
    "train_df[\"num_unique_words\"] = train_df[\"text\"].apply(lambda x: len(set(str(x).split())))\n",
    "test_df[\"num_unique_words\"] = test_df[\"text\"].apply(lambda x: len(set(str(x).split())))\n",
    "\n",
    "## Number of characters in the text ##\n",
    "train_df[\"num_chars\"] = train_df[\"text\"].apply(lambda x: len(str(x)))\n",
    "test_df[\"num_chars\"] = test_df[\"text\"].apply(lambda x: len(str(x)))\n",
    "\n",
    "## Number of stopwords in the text ##\n",
    "train_df[\"num_stopwords\"] = train_df[\"text\"].apply(lambda x: len([w for w in str(x).lower().split() if w in eng_stopwords]))\n",
    "test_df[\"num_stopwords\"] = test_df[\"text\"].apply(lambda x: len([w for w in str(x).lower().split() if w in eng_stopwords]))\n",
    "\n",
    "## Number of punctuations in the text ##\n",
    "train_df[\"num_punctuations\"] =train_df['text'].apply(lambda x: len([c for c in str(x) if c in string.punctuation]) )\n",
    "test_df[\"num_punctuations\"] =test_df['text'].apply(lambda x: len([c for c in str(x) if c in string.punctuation]) )\n",
    "\n",
    "## Number of title case words in the text ##\n",
    "train_df[\"num_words_upper\"] = train_df[\"text\"].apply(lambda x: len([w for w in str(x).split() if w.isupper()]))\n",
    "test_df[\"num_words_upper\"] = test_df[\"text\"].apply(lambda x: len([w for w in str(x).split() if w.isupper()]))\n",
    "\n",
    "## Number of title case words in the text ##\n",
    "train_df[\"num_words_title\"] = train_df[\"text\"].apply(lambda x: len([w for w in str(x).split() if w.istitle()]))\n",
    "test_df[\"num_words_title\"] = test_df[\"text\"].apply(lambda x: len([w for w in str(x).split() if w.istitle()]))\n",
    "\n",
    "## Average length of the words in the text ##\n",
    "train_df[\"mean_word_len\"] = train_df[\"text\"].apply(lambda x: np.mean([len(w) for w in str(x).split()]))\n",
    "test_df[\"mean_word_len\"] = test_df[\"text\"].apply(lambda x: np.mean([len(w) for w in str(x).split()]))"
   ]
  },
  {
   "cell_type": "markdown",
   "metadata": {
    "_cell_guid": "164b0d54-3d9e-4b58-ae7c-20c447efdc69",
    "_uuid": "d79f96166a7fe609fd8431b341b2d5ad189ca07a"
   },
   "source": [
    "Let us now plot some of our new variables to see of they will be helpful in predictions."
   ]
  },
  {
   "cell_type": "code",
   "execution_count": 7,
   "metadata": {
    "_cell_guid": "fe9a91d9-3df7-4e1b-9e69-f701cc714a15",
    "_uuid": "51962b52791977deefab8b7991d59a51211c8a5e"
   },
   "outputs": [
    {
     "data": {
      "image/png": "[encoded data removed]",
      "text/plain": [
       "<matplotlib.figure.Figure at 0x10610b710>"
      ]
     },
     "metadata": {},
     "output_type": "display_data"
    }
   ],
   "source": [
    "train_df['num_words'].loc[train_df['num_words']>80] = 80 #truncation for better visuals\n",
    "plt.figure(figsize=(12,8))\n",
    "sns.violinplot(x='author', y='num_words', data=train_df)\n",
    "plt.xlabel('Author Name', fontsize=12)\n",
    "plt.ylabel('Number of words in text', fontsize=12)\n",
    "plt.title(\"Number of words by author\", fontsize=15)\n",
    "plt.show()"
   ]
  },
  {
   "cell_type": "markdown",
   "metadata": {
    "_cell_guid": "66833874-08f2-48b8-9561-b54de997071d",
    "_uuid": "abe5dcadd42cd45169e44e3e299c303d5197b8ab",
    "collapsed": true
   },
   "source": [
    "EAP seems slightly lesser number of words than MWS and HPL. "
   ]
  },
  {
   "cell_type": "code",
   "execution_count": 8,
   "metadata": {
    "_cell_guid": "91514e74-d734-4642-a9dd-470cb8a65733",
    "_uuid": "1c4c0950d33e29d270fbc021aa8c5ff0e7ab205b"
   },
   "outputs": [
    {
     "data": {
      "image/png": "[encoded data removed]",
      "text/plain": [
       "<matplotlib.figure.Figure at 0x1061a53c8>"
      ]
     },
     "metadata": {},
     "output_type": "display_data"
    }
   ],
   "source": [
    "train_df['num_punctuations'].loc[train_df['num_punctuations']>10] = 10 #truncation for better visuals\n",
    "plt.figure(figsize=(12,8))\n",
    "sns.violinplot(x='author', y='num_punctuations', data=train_df)\n",
    "plt.xlabel('Author Name', fontsize=12)\n",
    "plt.ylabel('Number of puntuations in text', fontsize=12)\n",
    "plt.title(\"Number of punctuations by author\", fontsize=15)\n",
    "plt.show()"
   ]
  },
  {
   "cell_type": "markdown",
   "metadata": {
    "_cell_guid": "3a622bfc-da8b-4f13-b9d8-a63dd79a5218",
    "_uuid": "240a9ac16cf5d342e6d01cb020f1d8cea670ec84"
   },
   "source": [
    "This also seems to be somewhat useful. Now let us focus on creating some text based features. \n",
    "\n",
    "Let us first build a basic model to see how these meta features  are helping. "
   ]
  },
  {
   "cell_type": "code",
   "execution_count": 9,
   "metadata": {
    "_cell_guid": "d97fc321-32a9-429e-9135-ae52300332ec",
    "_uuid": "c27a85339ef5cf5ac3c87527249f878b615d3996"
   },
   "outputs": [],
   "source": [
    "## Prepare the data for modeling ###\n",
    "author_mapping_dict = {'EAP':0, 'HPL':1, 'MWS':2}\n",
    "train_y = train_df['author'].map(author_mapping_dict)\n",
    "train_id = train_df['id'].values\n",
    "test_id = test_df['id'].values\n",
    "\n",
    "### recompute the trauncated variables again ###\n",
    "train_df[\"num_words\"] = train_df[\"text\"].apply(lambda x: len(str(x).split()))\n",
    "test_df[\"num_words\"] = test_df[\"text\"].apply(lambda x: len(str(x).split()))\n",
    "train_df[\"mean_word_len\"] = train_df[\"text\"].apply(lambda x: np.mean([len(w) for w in str(x).split()]))\n",
    "test_df[\"mean_word_len\"] = test_df[\"text\"].apply(lambda x: np.mean([len(w) for w in str(x).split()]))\n",
    "\n",
    "cols_to_drop = ['id', 'text']\n",
    "train_X = train_df.drop(cols_to_drop+['author'], axis=1)\n",
    "test_X = test_df.drop(cols_to_drop, axis=1)"
   ]
  },
  {
   "cell_type": "markdown",
   "metadata": {
    "_cell_guid": "c4198d3f-5fad-41b1-9bcf-3b2faef2287f",
    "_uuid": "1fddaea1621cba593f86d78851a26e1645f4954e"
   },
   "source": [
    "We can train a simple XGBoost model with these meta features alone."
   ]
  },
  {
   "cell_type": "code",
   "execution_count": 10,
   "metadata": {
    "_cell_guid": "1534f55b-1334-4f1e-a597-d51e4d190fb3",
    "_uuid": "7e736a33d7aefcc49edb0e629e57462f92e86c99"
   },
   "outputs": [],
   "source": [
    "def runXGB(train_X, train_y, test_X, test_y=None, test_X2=None, seed_val=0, child=1, colsample=0.3):\n",
    "    param = {}\n",
    "    param['objective'] = 'multi:softprob'\n",
    "    param['eta'] = 0.1\n",
    "    param['max_depth'] = 3\n",
    "    param['silent'] = 1\n",
    "    param['num_class'] = 3\n",
    "    param['eval_metric'] = \"mlogloss\"\n",
    "    param['min_child_weight'] = child\n",
    "    param['subsample'] = 0.8\n",
    "    param['colsample_bytree'] = colsample\n",
    "    param['seed'] = seed_val\n",
    "    num_rounds = 2000\n",
    "\n",
    "    plst = list(param.items())\n",
    "    xgtrain = xgb.DMatrix(train_X, label=train_y)\n",
    "\n",
    "    if test_y is not None:\n",
    "        xgtest = xgb.DMatrix(test_X, label=test_y)\n",
    "        watchlist = [ (xgtrain,'train'), (xgtest, 'test') ]\n",
    "        model = xgb.train(plst, xgtrain, num_rounds, watchlist, early_stopping_rounds=50, verbose_eval=20)\n",
    "    else:\n",
    "        xgtest = xgb.DMatrix(test_X)\n",
    "        model = xgb.train(plst, xgtrain, num_rounds)\n",
    "\n",
    "    pred_test_y = model.predict(xgtest, ntree_limit = model.best_ntree_limit)\n",
    "    if test_X2 is not None:\n",
    "        xgtest2 = xgb.DMatrix(test_X2)\n",
    "        pred_test_y2 = model.predict(xgtest2, ntree_limit = model.best_ntree_limit)\n",
    "    return pred_test_y, pred_test_y2, model"
   ]
  },
  {
   "cell_type": "markdown",
   "metadata": {
    "_cell_guid": "1effdaf3-faca-455d-a7a2-ae4d81b5c209",
    "_uuid": "607c32af563879d1f7e011a438216ab8bea74ae3"
   },
   "source": [
    "For the sake of kernel run time, we can just check the first fold in the k-fold cross validation for the scores. Please remove the 'break' line while running in local."
   ]
  },
  {
   "cell_type": "code",
   "execution_count": 11,
   "metadata": {
    "_cell_guid": "97965af9-da5a-4ccc-94c5-bc541ed00d49",
    "_uuid": "441491131b9a7272863714494dd1303022c9d630"
   },
   "outputs": [
    {
     "name": "stdout",
     "output_type": "stream",
     "text": [
      "[0]\ttrain-mlogloss:1.09449\ttest-mlogloss:1.09516\n",
      "Multiple eval metrics have been passed: 'test-mlogloss' will be used for early stopping.\n",
      "\n",
      "Will train until test-mlogloss hasn't improved in 50 rounds.\n",
      "[20]\ttrain-mlogloss:1.04432\ttest-mlogloss:1.05531\n",
      "[40]\ttrain-mlogloss:1.02333\ttest-mlogloss:1.03909\n",
      "[60]\ttrain-mlogloss:1.0077\ttest-mlogloss:1.02641\n",
      "[80]\ttrain-mlogloss:0.995189\ttest-mlogloss:1.01622\n",
      "[100]\ttrain-mlogloss:0.987562\ttest-mlogloss:1.01193\n",
      "[120]\ttrain-mlogloss:0.980602\ttest-mlogloss:1.00762\n",
      "[140]\ttrain-mlogloss:0.975115\ttest-mlogloss:1.00435\n",
      "[160]\ttrain-mlogloss:0.970039\ttest-mlogloss:1.00162\n",
      "[180]\ttrain-mlogloss:0.965437\ttest-mlogloss:0.999482\n",
      "[200]\ttrain-mlogloss:0.961197\ttest-mlogloss:0.997566\n",
      "[220]\ttrain-mlogloss:0.957497\ttest-mlogloss:0.996358\n",
      "[240]\ttrain-mlogloss:0.954508\ttest-mlogloss:0.995064\n",
      "[260]\ttrain-mlogloss:0.951444\ttest-mlogloss:0.994385\n",
      "[280]\ttrain-mlogloss:0.947614\ttest-mlogloss:0.99326\n",
      "[300]\ttrain-mlogloss:0.944491\ttest-mlogloss:0.992291\n",
      "[320]\ttrain-mlogloss:0.941174\ttest-mlogloss:0.990842\n",
      "[340]\ttrain-mlogloss:0.938057\ttest-mlogloss:0.989517\n",
      "[360]\ttrain-mlogloss:0.9356\ttest-mlogloss:0.989211\n",
      "[380]\ttrain-mlogloss:0.93295\ttest-mlogloss:0.988505\n",
      "[400]\ttrain-mlogloss:0.930593\ttest-mlogloss:0.988319\n",
      "[420]\ttrain-mlogloss:0.927962\ttest-mlogloss:0.987847\n",
      "[440]\ttrain-mlogloss:0.925591\ttest-mlogloss:0.987498\n",
      "[460]\ttrain-mlogloss:0.923052\ttest-mlogloss:0.987225\n",
      "[480]\ttrain-mlogloss:0.921052\ttest-mlogloss:0.987419\n",
      "[500]\ttrain-mlogloss:0.919184\ttest-mlogloss:0.987374\n",
      "Stopping. Best iteration:\n",
      "[463]\ttrain-mlogloss:0.922716\ttest-mlogloss:0.987117\n",
      "\n",
      "cv scores :  [0.98711690616787273]\n"
     ]
    }
   ],
   "source": [
    "kf = model_selection.KFold(n_splits=5, shuffle=True, random_state=2017)\n",
    "cv_scores = []\n",
    "pred_full_test = 0\n",
    "pred_train = np.zeros([train_df.shape[0], 3])\n",
    "for dev_index, val_index in kf.split(train_X):\n",
    "    dev_X, val_X = train_X.loc[dev_index], train_X.loc[val_index]\n",
    "    dev_y, val_y = train_y[dev_index], train_y[val_index]\n",
    "    pred_val_y, pred_test_y, model = runXGB(dev_X, dev_y, val_X, val_y, test_X, seed_val=0)\n",
    "    pred_full_test = pred_full_test + pred_test_y\n",
    "    pred_train[val_index,:] = pred_val_y\n",
    "    cv_scores.append(metrics.log_loss(val_y, pred_val_y))\n",
    "    break\n",
    "print(\"cv scores : \", cv_scores)"
   ]
  },
  {
   "cell_type": "markdown",
   "metadata": {
    "_cell_guid": "ef5d6aa2-9d59-48e8-87ad-7ab254e0dc8a",
    "_uuid": "6ebaf270a27c8b07455498111bd0a8b2c11b6b16"
   },
   "source": [
    "We are getting a mlogloss of '0.987' using just the meta features. Not a bad score. Now let us see which of these features are important."
   ]
  },
  {
   "cell_type": "code",
   "execution_count": 13,
   "metadata": {
    "_cell_guid": "2856aa57-cce7-4f18-af56-a77ebd52eef7",
    "_uuid": "506938cebfedaad3e70d531e4cad554abe2a3c55"
   },
   "outputs": [],
   "source": [
    "# ### Plot the important variables ###\n",
    "# fig, ax = plt.subplots(figsize=(12,12))\n",
    "# xgb.plot_importance(model, max_num_features=50, height=0.8, ax=ax)\n",
    "# plt.show()"
   ]
  },
  {
   "cell_type": "markdown",
   "metadata": {
    "_cell_guid": "739ce74e-af56-4fd6-a7b3-fe809f33bc54",
    "_uuid": "25225b8d3a5ed46ec90308478b3788760eb5ea1d"
   },
   "source": [
    "Number of characters, mean word length and number of unique words turn out to be the top 3 variables. Now let us focus on creating some text based features. \n",
    "\n",
    "**Text Based Features :**\n",
    "\n",
    "One of the basic features which we could create is tf-idf values of the words present in the text. So we can start with that one.\n"
   ]
  },
  {
   "cell_type": "code",
   "execution_count": 14,
   "metadata": {
    "_cell_guid": "dd89dcab-b7a2-4b11-9564-ac8558f938e0",
    "_uuid": "41b4430c7e9699bd7f430c471009082bf7449928"
   },
   "outputs": [],
   "source": [
    "### Fit transform the tfidf vectorizer ###\n",
    "tfidf_vec = TfidfVectorizer(stop_words='english', ngram_range=(1,3))\n",
    "full_tfidf = tfidf_vec.fit_transform(train_df['text'].values.tolist() + test_df['text'].values.tolist())\n",
    "train_tfidf = tfidf_vec.transform(train_df['text'].values.tolist())\n",
    "test_tfidf = tfidf_vec.transform(test_df['text'].values.tolist())"
   ]
  },
  {
   "cell_type": "markdown",
   "metadata": {
    "_cell_guid": "fb46183a-43b6-4785-823a-f017a0821b78",
    "_uuid": "9c51efb2c3ff436baf8811a298b699b430b812bf"
   },
   "source": [
    "Now that we have got the tfidf vector, here is the tricky part. The tfidf output is a sparse matrix and so if we have to use it with other dense features, we have couple of choices. \n",
    "1. We can choose to get the top 'n' features (depending on the system config) from the tfidf vectorizer, convert it into dense format and concat with other features. \n",
    "2. Build a model using just the sparse features and then use the predictions as one of the features along with other dense features.\n",
    "\n",
    "Based on the dataset, one might perform better than the other. Here we can use the second approach since there are some very [good scoring kernels](https://www.kaggle.com/the1owl/python-tell-tale-tutorial) using all the features of tfidf.\n",
    "\n",
    "Also it seems that, [Naive Bayes is performing better](https://www.kaggle.com/thomasnelson/spooky-simple-naive-bayes-scores-0-399) in this dataset. So we could build a naive bayes model using tfidf features as it is faster to train."
   ]
  },
  {
   "cell_type": "code",
   "execution_count": 15,
   "metadata": {
    "_cell_guid": "7ce26604-5935-41cd-85ac-33e499a186f1",
    "_uuid": "924a649ddf02867e7bd1e68d8cab33d3c36bb83e"
   },
   "outputs": [],
   "source": [
    "def runMNB(train_X, train_y, test_X, test_y, test_X2):\n",
    "    model = naive_bayes.MultinomialNB()\n",
    "    model.fit(train_X, train_y)\n",
    "    pred_test_y = model.predict_proba(test_X)\n",
    "    pred_test_y2 = model.predict_proba(test_X2)\n",
    "    return pred_test_y, pred_test_y2, model"
   ]
  },
  {
   "cell_type": "markdown",
   "metadata": {
    "_cell_guid": "a409c693-6d31-485d-b05f-d98008a1c185",
    "_uuid": "f3ef5dd66afde39552eaa8f59929b263b831b190"
   },
   "source": [
    "**Naive Bayes on Word Tfidf Vectorizer:**"
   ]
  },
  {
   "cell_type": "code",
   "execution_count": 16,
   "metadata": {
    "_cell_guid": "61063815-507a-45f7-8866-5298da11e62d",
    "_uuid": "c0ed8394d5fbcfb833efa2836509583a2ec79de1"
   },
   "outputs": [
    {
     "name": "stdout",
     "output_type": "stream",
     "text": [
      "Mean cv score :  0.842216198361\n"
     ]
    }
   ],
   "source": [
    "cv_scores = []\n",
    "pred_full_test = 0\n",
    "pred_train = np.zeros([train_df.shape[0], 3])\n",
    "kf = model_selection.KFold(n_splits=5, shuffle=True, random_state=2017)\n",
    "for dev_index, val_index in kf.split(train_X):\n",
    "    dev_X, val_X = train_tfidf[dev_index], train_tfidf[val_index]\n",
    "    dev_y, val_y = train_y[dev_index], train_y[val_index]\n",
    "    pred_val_y, pred_test_y, model = runMNB(dev_X, dev_y, val_X, val_y, test_tfidf)\n",
    "    pred_full_test = pred_full_test + pred_test_y\n",
    "    pred_train[val_index,:] = pred_val_y\n",
    "    cv_scores.append(metrics.log_loss(val_y, pred_val_y))\n",
    "print(\"Mean cv score : \", np.mean(cv_scores))\n",
    "pred_full_test = pred_full_test / 5."
   ]
  },
  {
   "cell_type": "markdown",
   "metadata": {
    "_cell_guid": "e40f18ae-9db6-43dd-a010-27a34b1aa33f",
    "_uuid": "1f6da22535edd4c6faf256836f925bb18d18aba0"
   },
   "source": [
    "We are getting a mlogloss of 0.844 using just tfidf vectorizer. Much better than the meta features. Let us look at the confusion matrix."
   ]
  },
  {
   "cell_type": "code",
   "execution_count": 17,
   "metadata": {
    "_cell_guid": "586f6708-8cc1-4422-90dd-6e4bef3cf2c0",
    "_kg_hide-input": true,
    "_uuid": "2bd4a5be4f492f1eb75836a7fbaed8c4374701cf"
   },
   "outputs": [],
   "source": [
    "### Function to create confusion matrix ###\n",
    "import itertools\n",
    "from sklearn.metrics import confusion_matrix\n",
    "\n",
    "### From http://scikit-learn.org/stable/auto_examples/model_selection/plot_confusion_matrix.html#sphx-glr-auto-examples-model-selection-plot-confusion-matrix-py #\n",
    "def plot_confusion_matrix(cm, classes,\n",
    "                          normalize=False,\n",
    "                          title='Confusion matrix',\n",
    "                          cmap=plt.cm.Blues):\n",
    "    \"\"\"\n",
    "    This function prints and plots the confusion matrix.\n",
    "    Normalization can be applied by setting `normalize=True`.\n",
    "    \"\"\"\n",
    "    if normalize:\n",
    "        cm = cm.astype('float') / cm.sum(axis=1)[:, np.newaxis]\n",
    "        #print(\"Normalized confusion matrix\")\n",
    "    #else:\n",
    "    #    print('Confusion matrix, without normalization')\n",
    "\n",
    "    #print(cm)\n",
    "\n",
    "    plt.imshow(cm, interpolation='nearest', cmap=cmap)\n",
    "    plt.title(title)\n",
    "    plt.colorbar()\n",
    "    tick_marks = np.arange(len(classes))\n",
    "    plt.xticks(tick_marks, classes, rotation=45)\n",
    "    plt.yticks(tick_marks, classes)\n",
    "\n",
    "    fmt = '.2f' if normalize else 'd'\n",
    "    thresh = cm.max() / 2.\n",
    "    for i, j in itertools.product(range(cm.shape[0]), range(cm.shape[1])):\n",
    "        plt.text(j, i, format(cm[i, j], fmt),\n",
    "                 horizontalalignment=\"center\",\n",
    "                 color=\"white\" if cm[i, j] > thresh else \"black\")\n",
    "\n",
    "    plt.tight_layout()\n",
    "    plt.ylabel('True label')\n",
    "    plt.xlabel('Predicted label')"
   ]
  },
  {
   "cell_type": "code",
   "execution_count": 18,
   "metadata": {
    "_cell_guid": "800547fa-c070-4bdf-ad1a-1f97e7db3fdf",
    "_kg_hide-input": true,
    "_uuid": "b0792565a816242c8e29a242264c5e77ec90a7eb"
   },
   "outputs": [
    {
     "data": {
      "image/png": "[encoded data removed]",
      "text/plain": [
       "<matplotlib.figure.Figure at 0x114b53dd8>"
      ]
     },
     "metadata": {},
     "output_type": "display_data"
    }
   ],
   "source": [
    "cnf_matrix = confusion_matrix(val_y, np.argmax(pred_val_y,axis=1))\n",
    "np.set_printoptions(precision=2)\n",
    "\n",
    "# Plot non-normalized confusion matrix\n",
    "plt.figure(figsize=(8,8))\n",
    "plot_confusion_matrix(cnf_matrix, classes=['EAP', 'HPL', 'MWS'],\n",
    "                      title='Confusion matrix, without normalization')\n",
    "plt.show()\n"
   ]
  },
  {
   "cell_type": "markdown",
   "metadata": {
    "_cell_guid": "404695a0-c33b-4cba-9dd1-bf2a5e8c12fc",
    "_uuid": "e16c6d867d6bf1bb4e2661cc28841c672091fe0a"
   },
   "source": [
    "So many instances are predicted as EAP and is highly biased towards that class. \n",
    "\n",
    "**SVD on word TFIDF:**\n",
    "\n",
    "Since the tfidf vectors are sparse, one another way of compressing the information and representing it in a much compact way is through SVD. Also generally SVD features have performed well for me in the past text based competitions. So we could created svd features on word tfidf and add them to our feature set."
   ]
  },
  {
   "cell_type": "code",
   "execution_count": 19,
   "metadata": {
    "_cell_guid": "94d49082-2834-4633-8420-10f12f1b16eb",
    "_uuid": "95a7ae438276387fa9f2c4a2b25ee29f9b1f7d2d"
   },
   "outputs": [],
   "source": [
    "n_comp = 20\n",
    "svd_obj = TruncatedSVD(n_components=n_comp, algorithm='arpack')\n",
    "svd_obj.fit(full_tfidf)\n",
    "train_svd = pd.DataFrame(svd_obj.transform(train_tfidf))\n",
    "test_svd = pd.DataFrame(svd_obj.transform(test_tfidf))\n",
    "    \n",
    "train_svd.columns = ['svd_word_'+str(i) for i in range(n_comp)]\n",
    "test_svd.columns = ['svd_word_'+str(i) for i in range(n_comp)]\n",
    "train_df = pd.concat([train_df, train_svd], axis=1)\n",
    "test_df = pd.concat([test_df, test_svd], axis=1)\n",
    "del full_tfidf, train_tfidf, test_tfidf, train_svd, test_svd"
   ]
  },
  {
   "cell_type": "markdown",
   "metadata": {
    "_cell_guid": "77309c44-f947-46f4-814c-7d7a01768293",
    "_uuid": "468ef624b3f6d752737b9c112ae6f0592a929da2"
   },
   "source": [
    "**Naive Bayes on Word Count Vectorizer:**"
   ]
  },
  {
   "cell_type": "code",
   "execution_count": 20,
   "metadata": {
    "_cell_guid": "92ab9f7c-8c2c-4233-a6dc-eaa12ca7d144",
    "_uuid": "9cd43c20764c81a3216b8371c477ae5552e24c7d"
   },
   "outputs": [],
   "source": [
    "### Fit transform the count vectorizer ###\n",
    "tfidf_vec = CountVectorizer(stop_words='english', ngram_range=(1,3))\n",
    "tfidf_vec.fit(train_df['text'].values.tolist() + test_df['text'].values.tolist())\n",
    "train_tfidf = tfidf_vec.transform(train_df['text'].values.tolist())\n",
    "test_tfidf = tfidf_vec.transform(test_df['text'].values.tolist())"
   ]
  },
  {
   "cell_type": "markdown",
   "metadata": {
    "_cell_guid": "48d68a84-6c6d-40b3-9069-d4c324355fc6",
    "_uuid": "2e05fb42bcd850e74c767961f58400b0dac463ec"
   },
   "source": [
    "Now let us build Multinomial NB model using count vectorizer based features.."
   ]
  },
  {
   "cell_type": "code",
   "execution_count": 21,
   "metadata": {
    "_cell_guid": "b7927348-b6b1-4960-b76c-ebf14fae37f0",
    "_uuid": "4f9354473820d59076bf991b5110fc4dd309c204"
   },
   "outputs": [
    {
     "name": "stdout",
     "output_type": "stream",
     "text": [
      "Mean cv score :  0.450918416166\n"
     ]
    }
   ],
   "source": [
    "cv_scores = []\n",
    "pred_full_test = 0\n",
    "pred_train = np.zeros([train_df.shape[0], 3])\n",
    "kf = model_selection.KFold(n_splits=5, shuffle=True, random_state=2017)\n",
    "for dev_index, val_index in kf.split(train_X):\n",
    "    dev_X, val_X = train_tfidf[dev_index], train_tfidf[val_index]\n",
    "    dev_y, val_y = train_y[dev_index], train_y[val_index]\n",
    "    pred_val_y, pred_test_y, model = runMNB(dev_X, dev_y, val_X, val_y, test_tfidf)\n",
    "    pred_full_test = pred_full_test + pred_test_y\n",
    "    pred_train[val_index,:] = pred_val_y\n",
    "    cv_scores.append(metrics.log_loss(val_y, pred_val_y))\n",
    "print(\"Mean cv score : \", np.mean(cv_scores))\n",
    "pred_full_test = pred_full_test / 5.\n",
    "\n",
    "# add the predictions as new features #\n",
    "train_df[\"nb_cvec_eap\"] = pred_train[:,0]\n",
    "train_df[\"nb_cvec_hpl\"] = pred_train[:,1]\n",
    "train_df[\"nb_cvec_mws\"] = pred_train[:,2]\n",
    "test_df[\"nb_cvec_eap\"] = pred_full_test[:,0]\n",
    "test_df[\"nb_cvec_hpl\"] = pred_full_test[:,1]\n",
    "test_df[\"nb_cvec_mws\"] = pred_full_test[:,2]"
   ]
  },
  {
   "cell_type": "code",
   "execution_count": 22,
   "metadata": {
    "_cell_guid": "5d412e2f-8988-4895-9434-33df93c263db",
    "_kg_hide-input": true,
    "_uuid": "75658bb392011311ffefbfc562483ac5e11a0cab"
   },
   "outputs": [
    {
     "data": {
      "image/png": "[encoded data removed]",
      "text/plain": [
       "<matplotlib.figure.Figure at 0x111694860>"
      ]
     },
     "metadata": {},
     "output_type": "display_data"
    }
   ],
   "source": [
    "cnf_matrix = confusion_matrix(val_y, np.argmax(pred_val_y,axis=1))\n",
    "np.set_printoptions(precision=2)\n",
    "\n",
    "# Plot non-normalized confusion matrix\n",
    "plt.figure(figsize=(8,8))\n",
    "plot_confusion_matrix(cnf_matrix, classes=['EAP', 'HPL', 'MWS'],\n",
    "                      title='Confusion matrix of NB on word count, without normalization')\n",
    "plt.show()"
   ]
  },
  {
   "cell_type": "markdown",
   "metadata": {
    "_cell_guid": "5a5d31ea-278c-432a-9840-ca9209410ff7",
    "_uuid": "fb099e48fde5f3960bc2409d323749e855b2e269"
   },
   "source": [
    "Wow. We got a cross validation mlogloss of 0.451 using count vectorizer inplace of tfidf vectorizer. LB score using this model is 0.468. Also the confusion matrix looks much better than the previous one.\n",
    "\n",
    "** Naive Bayes on Character Count Vectorizer:**\n",
    "\n",
    "One idea from the \"data eyeballing\" is that counting the special charaters might help. Instead of just counting the special characters, we can use the count vectorizer at character level to get some features. Again we can run Multinomial NB on top of it."
   ]
  },
  {
   "cell_type": "code",
   "execution_count": 23,
   "metadata": {
    "_cell_guid": "aed10880-e717-4a04-85b9-a77f8f58aee9",
    "_uuid": "d26ba4563285c10418479465e10de172f527f2a5"
   },
   "outputs": [
    {
     "name": "stdout",
     "output_type": "stream",
     "text": [
      "Mean cv score :  3.75076392268\n"
     ]
    }
   ],
   "source": [
    "### Fit transform the tfidf vectorizer ###\n",
    "tfidf_vec = CountVectorizer(ngram_range=(1,7), analyzer='char')\n",
    "tfidf_vec.fit(train_df['text'].values.tolist() + test_df['text'].values.tolist())\n",
    "train_tfidf = tfidf_vec.transform(train_df['text'].values.tolist())\n",
    "test_tfidf = tfidf_vec.transform(test_df['text'].values.tolist())\n",
    "\n",
    "cv_scores = []\n",
    "pred_full_test = 0\n",
    "pred_train = np.zeros([train_df.shape[0], 3])\n",
    "kf = model_selection.KFold(n_splits=5, shuffle=True, random_state=2017)\n",
    "for dev_index, val_index in kf.split(train_X):\n",
    "    dev_X, val_X = train_tfidf[dev_index], train_tfidf[val_index]\n",
    "    dev_y, val_y = train_y[dev_index], train_y[val_index]\n",
    "    pred_val_y, pred_test_y, model = runMNB(dev_X, dev_y, val_X, val_y, test_tfidf)\n",
    "    pred_full_test = pred_full_test + pred_test_y\n",
    "    pred_train[val_index,:] = pred_val_y\n",
    "    cv_scores.append(metrics.log_loss(val_y, pred_val_y))\n",
    "print(\"Mean cv score : \", np.mean(cv_scores))\n",
    "pred_full_test = pred_full_test / 5.\n",
    "\n",
    "# add the predictions as new features #\n",
    "train_df[\"nb_cvec_char_eap\"] = pred_train[:,0]\n",
    "train_df[\"nb_cvec_char_hpl\"] = pred_train[:,1]\n",
    "train_df[\"nb_cvec_char_mws\"] = pred_train[:,2]\n",
    "test_df[\"nb_cvec_char_eap\"] = pred_full_test[:,0]\n",
    "test_df[\"nb_cvec_char_hpl\"] = pred_full_test[:,1]\n",
    "test_df[\"nb_cvec_char_mws\"] = pred_full_test[:,2]"
   ]
  },
  {
   "cell_type": "markdown",
   "metadata": {
    "_cell_guid": "55e95b9a-807b-4e99-bf95-069a11e07a64",
    "_uuid": "227e565a4a8a6aa04dcfb648688bf0deb0853910"
   },
   "source": [
    "The cross val score is very high and is 3.75. But this might add some different information than word level features and so let us use this for the final model as well.\n",
    "\n",
    "**Naive Bayes on Character Tfidf Vectorizer:**\n",
    "\n",
    "Let us also get the naive bayes predictions on the character tfidf vectorizer."
   ]
  },
  {
   "cell_type": "code",
   "execution_count": 24,
   "metadata": {
    "_cell_guid": "a15097b8-f9c7-4b3b-815e-a8f4a5f2558e",
    "_uuid": "bfeaa62ae81e2af3fdb595422f08f560506c1f42"
   },
   "outputs": [
    {
     "name": "stdout",
     "output_type": "stream",
     "text": [
      "Mean cv score :  0.790415258947\n"
     ]
    }
   ],
   "source": [
    "### Fit transform the tfidf vectorizer ###\n",
    "tfidf_vec = TfidfVectorizer(ngram_range=(1,5), analyzer='char')\n",
    "full_tfidf = tfidf_vec.fit_transform(train_df['text'].values.tolist() + test_df['text'].values.tolist())\n",
    "train_tfidf = tfidf_vec.transform(train_df['text'].values.tolist())\n",
    "test_tfidf = tfidf_vec.transform(test_df['text'].values.tolist())\n",
    "\n",
    "cv_scores = []\n",
    "pred_full_test = 0\n",
    "pred_train = np.zeros([train_df.shape[0], 3])\n",
    "kf = model_selection.KFold(n_splits=5, shuffle=True, random_state=2017)\n",
    "for dev_index, val_index in kf.split(train_X):\n",
    "    dev_X, val_X = train_tfidf[dev_index], train_tfidf[val_index]\n",
    "    dev_y, val_y = train_y[dev_index], train_y[val_index]\n",
    "    pred_val_y, pred_test_y, model = runMNB(dev_X, dev_y, val_X, val_y, test_tfidf)\n",
    "    pred_full_test = pred_full_test + pred_test_y\n",
    "    pred_train[val_index,:] = pred_val_y\n",
    "    cv_scores.append(metrics.log_loss(val_y, pred_val_y))\n",
    "print(\"Mean cv score : \", np.mean(cv_scores))\n",
    "pred_full_test = pred_full_test / 5.\n",
    "\n",
    "# add the predictions as new features #\n",
    "train_df[\"nb_tfidf_char_eap\"] = pred_train[:,0]\n",
    "train_df[\"nb_tfidf_char_hpl\"] = pred_train[:,1]\n",
    "train_df[\"nb_tfidf_char_mws\"] = pred_train[:,2]\n",
    "test_df[\"nb_tfidf_char_eap\"] = pred_full_test[:,0]\n",
    "test_df[\"nb_tfidf_char_hpl\"] = pred_full_test[:,1]\n",
    "test_df[\"nb_tfidf_char_mws\"] = pred_full_test[:,2]"
   ]
  },
  {
   "cell_type": "markdown",
   "metadata": {
    "_cell_guid": "c807a434-c6d8-4a6c-a592-76c70bd043fe",
    "_uuid": "af6e2880a16f96304bd6556ed67d9eac5491a3bc"
   },
   "source": [
    "**SVD on Character TFIDF:**\n",
    "\n",
    "We could also create svd features on character tfidf features and used them for modeling."
   ]
  },
  {
   "cell_type": "code",
   "execution_count": 25,
   "metadata": {
    "_cell_guid": "a764f24e-b48d-4460-9f1b-d242599049bd",
    "_uuid": "bd34ef340648d0f9f000a916d8cbcb258dc22838"
   },
   "outputs": [],
   "source": [
    "n_comp = 20\n",
    "svd_obj = TruncatedSVD(n_components=n_comp, algorithm='arpack')\n",
    "svd_obj.fit(full_tfidf)\n",
    "train_svd = pd.DataFrame(svd_obj.transform(train_tfidf))\n",
    "test_svd = pd.DataFrame(svd_obj.transform(test_tfidf))\n",
    "    \n",
    "train_svd.columns = ['svd_char_'+str(i) for i in range(n_comp)]\n",
    "test_svd.columns = ['svd_char_'+str(i) for i in range(n_comp)]\n",
    "train_df = pd.concat([train_df, train_svd], axis=1)\n",
    "test_df = pd.concat([test_df, test_svd], axis=1)\n",
    "del full_tfidf, train_tfidf, test_tfidf, train_svd, test_svd"
   ]
  },
  {
   "cell_type": "markdown",
   "metadata": {
    "_cell_guid": "365abbc9-d630-4075-a2aa-c025d146d6aa",
    "_uuid": "0577ac7e16cd158944d1ee3c27ca92c588e2d10a"
   },
   "source": [
    "**XGBoost model:**\n",
    "\n",
    "Now with these new variables, we can re-run the xgboost model and evaluate the results."
   ]
  },
  {
   "cell_type": "code",
   "execution_count": 26,
   "metadata": {
    "_cell_guid": "7091aede-e589-45d9-9a85-1560af442725",
    "_uuid": "633eb97dc8b15a7959b962c20222697590071af7"
   },
   "outputs": [
    {
     "name": "stdout",
     "output_type": "stream",
     "text": [
      "[0]\ttrain-mlogloss:1.00096\ttest-mlogloss:1.00107\n",
      "Multiple eval metrics have been passed: 'test-mlogloss' will be used for early stopping.\n",
      "\n",
      "Will train until test-mlogloss hasn't improved in 50 rounds.\n",
      "[20]\ttrain-mlogloss:0.409459\ttest-mlogloss:0.415304\n",
      "[40]\ttrain-mlogloss:0.34062\ttest-mlogloss:0.352774\n",
      "[60]\ttrain-mlogloss:0.316677\ttest-mlogloss:0.335778\n",
      "[80]\ttrain-mlogloss:0.300345\ttest-mlogloss:0.326262\n",
      "[100]\ttrain-mlogloss:0.287444\ttest-mlogloss:0.320178\n",
      "[120]\ttrain-mlogloss:0.275705\ttest-mlogloss:0.3153\n",
      "[140]\ttrain-mlogloss:0.266531\ttest-mlogloss:0.311605\n",
      "[160]\ttrain-mlogloss:0.258158\ttest-mlogloss:0.310081\n",
      "[180]\ttrain-mlogloss:0.250423\ttest-mlogloss:0.308635\n",
      "[200]\ttrain-mlogloss:0.242717\ttest-mlogloss:0.308008\n",
      "[220]\ttrain-mlogloss:0.235639\ttest-mlogloss:0.306893\n",
      "[240]\ttrain-mlogloss:0.229308\ttest-mlogloss:0.30615\n",
      "[260]\ttrain-mlogloss:0.222989\ttest-mlogloss:0.305578\n",
      "[280]\ttrain-mlogloss:0.217152\ttest-mlogloss:0.305575\n",
      "[300]\ttrain-mlogloss:0.211179\ttest-mlogloss:0.305237\n",
      "[320]\ttrain-mlogloss:0.205239\ttest-mlogloss:0.305892\n",
      "[340]\ttrain-mlogloss:0.200076\ttest-mlogloss:0.305656\n",
      "Stopping. Best iteration:\n",
      "[300]\ttrain-mlogloss:0.211179\ttest-mlogloss:0.305237\n",
      "\n",
      "cv scores :  [0.30523717654496041]\n"
     ]
    }
   ],
   "source": [
    "cols_to_drop = ['id', 'text']\n",
    "train_X = train_df.drop(cols_to_drop+['author'], axis=1)\n",
    "test_X = test_df.drop(cols_to_drop, axis=1)\n",
    "\n",
    "kf = model_selection.KFold(n_splits=5, shuffle=True, random_state=2017)\n",
    "cv_scores = []\n",
    "pred_full_test = 0\n",
    "pred_train = np.zeros([train_df.shape[0], 3])\n",
    "for dev_index, val_index in kf.split(train_X):\n",
    "    dev_X, val_X = train_X.loc[dev_index], train_X.loc[val_index]\n",
    "    dev_y, val_y = train_y[dev_index], train_y[val_index]\n",
    "    pred_val_y, pred_test_y, model = runXGB(dev_X, dev_y, val_X, val_y, test_X, seed_val=0, colsample=0.7)\n",
    "    pred_full_test = pred_full_test + pred_test_y\n",
    "    pred_train[val_index,:] = pred_val_y\n",
    "    cv_scores.append(metrics.log_loss(val_y, pred_val_y))\n",
    "    break\n",
    "print(\"cv scores : \", cv_scores)\n",
    "\n",
    "out_df = pd.DataFrame(pred_full_test)\n",
    "out_df.columns = ['EAP', 'HPL', 'MWS']\n",
    "out_df.insert(0, 'id', test_id)\n",
    "out_df.to_csv(\"../predictions/xgboost2_pred.csv\", index=False)"
   ]
  },
  {
   "cell_type": "code",
   "execution_count": 33,
   "metadata": {},
   "outputs": [
    {
     "data": {
      "text/html": [
       "<div>\n",
       "<style scoped>\n",
       "    .dataframe tbody tr th:only-of-type {\n",
       "        vertical-align: middle;\n",
       "    }\n",
       "\n",
       "    .dataframe tbody tr th {\n",
       "        vertical-align: top;\n",
       "    }\n",
       "\n",
       "    .dataframe thead th {\n",
       "        text-align: right;\n",
       "    }\n",
       "</style>\n",
       "<table border=\"1\" class=\"dataframe\">\n",
       "  <thead>\n",
       "    <tr style=\"text-align: right;\">\n",
       "      <th></th>\n",
       "      <th>id</th>\n",
       "      <th>EAP</th>\n",
       "      <th>HPL</th>\n",
       "      <th>MWS</th>\n",
       "    </tr>\n",
       "  </thead>\n",
       "  <tbody>\n",
       "    <tr>\n",
       "      <th>0</th>\n",
       "      <td>id02310</td>\n",
       "      <td>0.031252</td>\n",
       "      <td>0.007071</td>\n",
       "      <td>0.961677</td>\n",
       "    </tr>\n",
       "    <tr>\n",
       "      <th>1</th>\n",
       "      <td>id24541</td>\n",
       "      <td>0.998636</td>\n",
       "      <td>0.000810</td>\n",
       "      <td>0.000555</td>\n",
       "    </tr>\n",
       "    <tr>\n",
       "      <th>2</th>\n",
       "      <td>id00134</td>\n",
       "      <td>0.024428</td>\n",
       "      <td>0.971831</td>\n",
       "      <td>0.003741</td>\n",
       "    </tr>\n",
       "    <tr>\n",
       "      <th>3</th>\n",
       "      <td>id27757</td>\n",
       "      <td>0.722790</td>\n",
       "      <td>0.265629</td>\n",
       "      <td>0.011581</td>\n",
       "    </tr>\n",
       "    <tr>\n",
       "      <th>4</th>\n",
       "      <td>id04081</td>\n",
       "      <td>0.931655</td>\n",
       "      <td>0.035305</td>\n",
       "      <td>0.033039</td>\n",
       "    </tr>\n",
       "    <tr>\n",
       "      <th>5</th>\n",
       "      <td>id27337</td>\n",
       "      <td>0.871342</td>\n",
       "      <td>0.110662</td>\n",
       "      <td>0.017996</td>\n",
       "    </tr>\n",
       "    <tr>\n",
       "      <th>6</th>\n",
       "      <td>id24265</td>\n",
       "      <td>0.657520</td>\n",
       "      <td>0.329981</td>\n",
       "      <td>0.012499</td>\n",
       "    </tr>\n",
       "    <tr>\n",
       "      <th>7</th>\n",
       "      <td>id25917</td>\n",
       "      <td>0.011724</td>\n",
       "      <td>0.212272</td>\n",
       "      <td>0.776003</td>\n",
       "    </tr>\n",
       "    <tr>\n",
       "      <th>8</th>\n",
       "      <td>id04951</td>\n",
       "      <td>0.976714</td>\n",
       "      <td>0.021885</td>\n",
       "      <td>0.001401</td>\n",
       "    </tr>\n",
       "    <tr>\n",
       "      <th>9</th>\n",
       "      <td>id14549</td>\n",
       "      <td>0.819014</td>\n",
       "      <td>0.062991</td>\n",
       "      <td>0.117995</td>\n",
       "    </tr>\n",
       "    <tr>\n",
       "      <th>10</th>\n",
       "      <td>id22505</td>\n",
       "      <td>0.015611</td>\n",
       "      <td>0.009043</td>\n",
       "      <td>0.975346</td>\n",
       "    </tr>\n",
       "    <tr>\n",
       "      <th>11</th>\n",
       "      <td>id24002</td>\n",
       "      <td>0.002593</td>\n",
       "      <td>0.996933</td>\n",
       "      <td>0.000474</td>\n",
       "    </tr>\n",
       "    <tr>\n",
       "      <th>12</th>\n",
       "      <td>id18982</td>\n",
       "      <td>0.125379</td>\n",
       "      <td>0.748733</td>\n",
       "      <td>0.125888</td>\n",
       "    </tr>\n",
       "    <tr>\n",
       "      <th>13</th>\n",
       "      <td>id15181</td>\n",
       "      <td>0.000846</td>\n",
       "      <td>0.998935</td>\n",
       "      <td>0.000219</td>\n",
       "    </tr>\n",
       "    <tr>\n",
       "      <th>14</th>\n",
       "      <td>id21888</td>\n",
       "      <td>0.604690</td>\n",
       "      <td>0.134703</td>\n",
       "      <td>0.260607</td>\n",
       "    </tr>\n",
       "    <tr>\n",
       "      <th>15</th>\n",
       "      <td>id12035</td>\n",
       "      <td>0.003090</td>\n",
       "      <td>0.000250</td>\n",
       "      <td>0.996660</td>\n",
       "    </tr>\n",
       "    <tr>\n",
       "      <th>16</th>\n",
       "      <td>id17991</td>\n",
       "      <td>0.431650</td>\n",
       "      <td>0.014871</td>\n",
       "      <td>0.553478</td>\n",
       "    </tr>\n",
       "    <tr>\n",
       "      <th>17</th>\n",
       "      <td>id10707</td>\n",
       "      <td>0.999236</td>\n",
       "      <td>0.000479</td>\n",
       "      <td>0.000285</td>\n",
       "    </tr>\n",
       "    <tr>\n",
       "      <th>18</th>\n",
       "      <td>id07101</td>\n",
       "      <td>0.250216</td>\n",
       "      <td>0.012783</td>\n",
       "      <td>0.737002</td>\n",
       "    </tr>\n",
       "    <tr>\n",
       "      <th>19</th>\n",
       "      <td>id00345</td>\n",
       "      <td>0.054215</td>\n",
       "      <td>0.919804</td>\n",
       "      <td>0.025981</td>\n",
       "    </tr>\n",
       "    <tr>\n",
       "      <th>20</th>\n",
       "      <td>id05912</td>\n",
       "      <td>0.977752</td>\n",
       "      <td>0.015944</td>\n",
       "      <td>0.006304</td>\n",
       "    </tr>\n",
       "    <tr>\n",
       "      <th>21</th>\n",
       "      <td>id13443</td>\n",
       "      <td>0.967882</td>\n",
       "      <td>0.013620</td>\n",
       "      <td>0.018498</td>\n",
       "    </tr>\n",
       "    <tr>\n",
       "      <th>22</th>\n",
       "      <td>id09248</td>\n",
       "      <td>0.348275</td>\n",
       "      <td>0.082275</td>\n",
       "      <td>0.569451</td>\n",
       "    </tr>\n",
       "    <tr>\n",
       "      <th>23</th>\n",
       "      <td>id17542</td>\n",
       "      <td>0.073632</td>\n",
       "      <td>0.902180</td>\n",
       "      <td>0.024187</td>\n",
       "    </tr>\n",
       "    <tr>\n",
       "      <th>24</th>\n",
       "      <td>id06995</td>\n",
       "      <td>0.199545</td>\n",
       "      <td>0.002187</td>\n",
       "      <td>0.798268</td>\n",
       "    </tr>\n",
       "    <tr>\n",
       "      <th>25</th>\n",
       "      <td>id25159</td>\n",
       "      <td>0.718758</td>\n",
       "      <td>0.087473</td>\n",
       "      <td>0.193769</td>\n",
       "    </tr>\n",
       "    <tr>\n",
       "      <th>26</th>\n",
       "      <td>id25729</td>\n",
       "      <td>0.361059</td>\n",
       "      <td>0.629978</td>\n",
       "      <td>0.008962</td>\n",
       "    </tr>\n",
       "    <tr>\n",
       "      <th>27</th>\n",
       "      <td>id26949</td>\n",
       "      <td>0.984983</td>\n",
       "      <td>0.006984</td>\n",
       "      <td>0.008033</td>\n",
       "    </tr>\n",
       "    <tr>\n",
       "      <th>28</th>\n",
       "      <td>id27191</td>\n",
       "      <td>0.201530</td>\n",
       "      <td>0.026417</td>\n",
       "      <td>0.772053</td>\n",
       "    </tr>\n",
       "    <tr>\n",
       "      <th>29</th>\n",
       "      <td>id07668</td>\n",
       "      <td>0.364953</td>\n",
       "      <td>0.002036</td>\n",
       "      <td>0.633011</td>\n",
       "    </tr>\n",
       "    <tr>\n",
       "      <th>...</th>\n",
       "      <td>...</td>\n",
       "      <td>...</td>\n",
       "      <td>...</td>\n",
       "      <td>...</td>\n",
       "    </tr>\n",
       "    <tr>\n",
       "      <th>8362</th>\n",
       "      <td>id22510</td>\n",
       "      <td>0.019195</td>\n",
       "      <td>0.001066</td>\n",
       "      <td>0.979739</td>\n",
       "    </tr>\n",
       "    <tr>\n",
       "      <th>8363</th>\n",
       "      <td>id19204</td>\n",
       "      <td>0.971019</td>\n",
       "      <td>0.006662</td>\n",
       "      <td>0.022319</td>\n",
       "    </tr>\n",
       "    <tr>\n",
       "      <th>8364</th>\n",
       "      <td>id05758</td>\n",
       "      <td>0.030089</td>\n",
       "      <td>0.027573</td>\n",
       "      <td>0.942338</td>\n",
       "    </tr>\n",
       "    <tr>\n",
       "      <th>8365</th>\n",
       "      <td>id27063</td>\n",
       "      <td>0.756382</td>\n",
       "      <td>0.080594</td>\n",
       "      <td>0.163023</td>\n",
       "    </tr>\n",
       "    <tr>\n",
       "      <th>8366</th>\n",
       "      <td>id11773</td>\n",
       "      <td>0.012709</td>\n",
       "      <td>0.000748</td>\n",
       "      <td>0.986543</td>\n",
       "    </tr>\n",
       "    <tr>\n",
       "      <th>8367</th>\n",
       "      <td>id11562</td>\n",
       "      <td>0.927942</td>\n",
       "      <td>0.010095</td>\n",
       "      <td>0.061963</td>\n",
       "    </tr>\n",
       "    <tr>\n",
       "      <th>8368</th>\n",
       "      <td>id16208</td>\n",
       "      <td>0.049853</td>\n",
       "      <td>0.001546</td>\n",
       "      <td>0.948601</td>\n",
       "    </tr>\n",
       "    <tr>\n",
       "      <th>8369</th>\n",
       "      <td>id04036</td>\n",
       "      <td>0.007104</td>\n",
       "      <td>0.026106</td>\n",
       "      <td>0.966790</td>\n",
       "    </tr>\n",
       "    <tr>\n",
       "      <th>8370</th>\n",
       "      <td>id26159</td>\n",
       "      <td>0.939676</td>\n",
       "      <td>0.001328</td>\n",
       "      <td>0.058996</td>\n",
       "    </tr>\n",
       "    <tr>\n",
       "      <th>8371</th>\n",
       "      <td>id26777</td>\n",
       "      <td>0.443765</td>\n",
       "      <td>0.338969</td>\n",
       "      <td>0.217266</td>\n",
       "    </tr>\n",
       "    <tr>\n",
       "      <th>8372</th>\n",
       "      <td>id08501</td>\n",
       "      <td>0.532470</td>\n",
       "      <td>0.082096</td>\n",
       "      <td>0.385435</td>\n",
       "    </tr>\n",
       "    <tr>\n",
       "      <th>8373</th>\n",
       "      <td>id11216</td>\n",
       "      <td>0.000535</td>\n",
       "      <td>0.999285</td>\n",
       "      <td>0.000180</td>\n",
       "    </tr>\n",
       "    <tr>\n",
       "      <th>8374</th>\n",
       "      <td>id03410</td>\n",
       "      <td>0.478373</td>\n",
       "      <td>0.487950</td>\n",
       "      <td>0.033677</td>\n",
       "    </tr>\n",
       "    <tr>\n",
       "      <th>8375</th>\n",
       "      <td>id04537</td>\n",
       "      <td>0.148853</td>\n",
       "      <td>0.002830</td>\n",
       "      <td>0.848318</td>\n",
       "    </tr>\n",
       "    <tr>\n",
       "      <th>8376</th>\n",
       "      <td>id26628</td>\n",
       "      <td>0.952815</td>\n",
       "      <td>0.039970</td>\n",
       "      <td>0.007215</td>\n",
       "    </tr>\n",
       "    <tr>\n",
       "      <th>8377</th>\n",
       "      <td>id01586</td>\n",
       "      <td>0.146951</td>\n",
       "      <td>0.852509</td>\n",
       "      <td>0.000540</td>\n",
       "    </tr>\n",
       "    <tr>\n",
       "      <th>8378</th>\n",
       "      <td>id13421</td>\n",
       "      <td>0.345558</td>\n",
       "      <td>0.165610</td>\n",
       "      <td>0.488832</td>\n",
       "    </tr>\n",
       "    <tr>\n",
       "      <th>8379</th>\n",
       "      <td>id26084</td>\n",
       "      <td>0.051182</td>\n",
       "      <td>0.943685</td>\n",
       "      <td>0.005133</td>\n",
       "    </tr>\n",
       "    <tr>\n",
       "      <th>8380</th>\n",
       "      <td>id05375</td>\n",
       "      <td>0.004095</td>\n",
       "      <td>0.000269</td>\n",
       "      <td>0.995636</td>\n",
       "    </tr>\n",
       "    <tr>\n",
       "      <th>8381</th>\n",
       "      <td>id23212</td>\n",
       "      <td>0.996116</td>\n",
       "      <td>0.002247</td>\n",
       "      <td>0.001636</td>\n",
       "    </tr>\n",
       "    <tr>\n",
       "      <th>8382</th>\n",
       "      <td>id15980</td>\n",
       "      <td>0.840846</td>\n",
       "      <td>0.037929</td>\n",
       "      <td>0.121225</td>\n",
       "    </tr>\n",
       "    <tr>\n",
       "      <th>8383</th>\n",
       "      <td>id11719</td>\n",
       "      <td>0.000591</td>\n",
       "      <td>0.998841</td>\n",
       "      <td>0.000568</td>\n",
       "    </tr>\n",
       "    <tr>\n",
       "      <th>8384</th>\n",
       "      <td>id13109</td>\n",
       "      <td>0.994172</td>\n",
       "      <td>0.003806</td>\n",
       "      <td>0.002021</td>\n",
       "    </tr>\n",
       "    <tr>\n",
       "      <th>8385</th>\n",
       "      <td>id07156</td>\n",
       "      <td>0.998018</td>\n",
       "      <td>0.000926</td>\n",
       "      <td>0.001056</td>\n",
       "    </tr>\n",
       "    <tr>\n",
       "      <th>8386</th>\n",
       "      <td>id04893</td>\n",
       "      <td>0.121409</td>\n",
       "      <td>0.877377</td>\n",
       "      <td>0.001215</td>\n",
       "    </tr>\n",
       "    <tr>\n",
       "      <th>8387</th>\n",
       "      <td>id11749</td>\n",
       "      <td>0.774904</td>\n",
       "      <td>0.012081</td>\n",
       "      <td>0.213014</td>\n",
       "    </tr>\n",
       "    <tr>\n",
       "      <th>8388</th>\n",
       "      <td>id10526</td>\n",
       "      <td>0.079362</td>\n",
       "      <td>0.018787</td>\n",
       "      <td>0.901852</td>\n",
       "    </tr>\n",
       "    <tr>\n",
       "      <th>8389</th>\n",
       "      <td>id13477</td>\n",
       "      <td>0.993513</td>\n",
       "      <td>0.003422</td>\n",
       "      <td>0.003065</td>\n",
       "    </tr>\n",
       "    <tr>\n",
       "      <th>8390</th>\n",
       "      <td>id13761</td>\n",
       "      <td>0.016839</td>\n",
       "      <td>0.008011</td>\n",
       "      <td>0.975150</td>\n",
       "    </tr>\n",
       "    <tr>\n",
       "      <th>8391</th>\n",
       "      <td>id04282</td>\n",
       "      <td>0.008265</td>\n",
       "      <td>0.991263</td>\n",
       "      <td>0.000472</td>\n",
       "    </tr>\n",
       "  </tbody>\n",
       "</table>\n",
       "<p>8392 rows × 4 columns</p>\n",
       "</div>"
      ],
      "text/plain": [
       "           id       EAP       HPL       MWS\n",
       "0     id02310  0.031252  0.007071  0.961677\n",
       "1     id24541  0.998636  0.000810  0.000555\n",
       "2     id00134  0.024428  0.971831  0.003741\n",
       "3     id27757  0.722790  0.265629  0.011581\n",
       "4     id04081  0.931655  0.035305  0.033039\n",
       "5     id27337  0.871342  0.110662  0.017996\n",
       "6     id24265  0.657520  0.329981  0.012499\n",
       "7     id25917  0.011724  0.212272  0.776003\n",
       "8     id04951  0.976714  0.021885  0.001401\n",
       "9     id14549  0.819014  0.062991  0.117995\n",
       "10    id22505  0.015611  0.009043  0.975346\n",
       "11    id24002  0.002593  0.996933  0.000474\n",
       "12    id18982  0.125379  0.748733  0.125888\n",
       "13    id15181  0.000846  0.998935  0.000219\n",
       "14    id21888  0.604690  0.134703  0.260607\n",
       "15    id12035  0.003090  0.000250  0.996660\n",
       "16    id17991  0.431650  0.014871  0.553478\n",
       "17    id10707  0.999236  0.000479  0.000285\n",
       "18    id07101  0.250216  0.012783  0.737002\n",
       "19    id00345  0.054215  0.919804  0.025981\n",
       "20    id05912  0.977752  0.015944  0.006304\n",
       "21    id13443  0.967882  0.013620  0.018498\n",
       "22    id09248  0.348275  0.082275  0.569451\n",
       "23    id17542  0.073632  0.902180  0.024187\n",
       "24    id06995  0.199545  0.002187  0.798268\n",
       "25    id25159  0.718758  0.087473  0.193769\n",
       "26    id25729  0.361059  0.629978  0.008962\n",
       "27    id26949  0.984983  0.006984  0.008033\n",
       "28    id27191  0.201530  0.026417  0.772053\n",
       "29    id07668  0.364953  0.002036  0.633011\n",
       "...       ...       ...       ...       ...\n",
       "8362  id22510  0.019195  0.001066  0.979739\n",
       "8363  id19204  0.971019  0.006662  0.022319\n",
       "8364  id05758  0.030089  0.027573  0.942338\n",
       "8365  id27063  0.756382  0.080594  0.163023\n",
       "8366  id11773  0.012709  0.000748  0.986543\n",
       "8367  id11562  0.927942  0.010095  0.061963\n",
       "8368  id16208  0.049853  0.001546  0.948601\n",
       "8369  id04036  0.007104  0.026106  0.966790\n",
       "8370  id26159  0.939676  0.001328  0.058996\n",
       "8371  id26777  0.443765  0.338969  0.217266\n",
       "8372  id08501  0.532470  0.082096  0.385435\n",
       "8373  id11216  0.000535  0.999285  0.000180\n",
       "8374  id03410  0.478373  0.487950  0.033677\n",
       "8375  id04537  0.148853  0.002830  0.848318\n",
       "8376  id26628  0.952815  0.039970  0.007215\n",
       "8377  id01586  0.146951  0.852509  0.000540\n",
       "8378  id13421  0.345558  0.165610  0.488832\n",
       "8379  id26084  0.051182  0.943685  0.005133\n",
       "8380  id05375  0.004095  0.000269  0.995636\n",
       "8381  id23212  0.996116  0.002247  0.001636\n",
       "8382  id15980  0.840846  0.037929  0.121225\n",
       "8383  id11719  0.000591  0.998841  0.000568\n",
       "8384  id13109  0.994172  0.003806  0.002021\n",
       "8385  id07156  0.998018  0.000926  0.001056\n",
       "8386  id04893  0.121409  0.877377  0.001215\n",
       "8387  id11749  0.774904  0.012081  0.213014\n",
       "8388  id10526  0.079362  0.018787  0.901852\n",
       "8389  id13477  0.993513  0.003422  0.003065\n",
       "8390  id13761  0.016839  0.008011  0.975150\n",
       "8391  id04282  0.008265  0.991263  0.000472\n",
       "\n",
       "[8392 rows x 4 columns]"
      ]
     },
     "execution_count": 33,
     "metadata": {},
     "output_type": "execute_result"
    }
   ],
   "source": [
    "out_df"
   ]
  },
  {
   "cell_type": "markdown",
   "metadata": {
    "_cell_guid": "7d93a2d6-435a-46bb-a522-c4d6b03d84f0",
    "_uuid": "4512493a6527cc244b9c47eb1ed9ff0dbce5eb5a"
   },
   "source": [
    "**This has a val score of 0.3055 and LB score of 0.32xx** Running it on all the folds might give a better score. Now let us check the important variables again."
   ]
  },
  {
   "cell_type": "code",
   "execution_count": 29,
   "metadata": {
    "_cell_guid": "ed36de2b-e0bb-42e6-bed8-bbbdeb513ba5",
    "_uuid": "ddefa6111b588449df9f2abbc541c0ca051174ab"
   },
   "outputs": [],
   "source": [
    "# ### Plot the important variables ###\n",
    "# fig, ax = plt.subplots(figsize=(12,12))\n",
    "# xgb.plot_importance(model, max_num_features=50, height=0.8, ax=ax)\n",
    "# plt.show()"
   ]
  },
  {
   "cell_type": "markdown",
   "metadata": {
    "_cell_guid": "c4b258fe-ac27-4d5b-908c-eda43670fbf7",
    "_uuid": "c818e95a21559bdb4def3aed522b6616eb1a9de8"
   },
   "source": [
    "Naive bayes features are the top features as expected. Now let us get the confusion matrix to see the misclassification errors."
   ]
  },
  {
   "cell_type": "code",
   "execution_count": 30,
   "metadata": {
    "_cell_guid": "2f3aaa7b-396c-426b-89b3-1e66385946fd",
    "_uuid": "c195596cd7dff2de98bddec1453e30d8d5511169"
   },
   "outputs": [
    {
     "data": {
      "image/png": "[encoded data removed]",
      "text/plain": [
       "<matplotlib.figure.Figure at 0x113f83518>"
      ]
     },
     "metadata": {},
     "output_type": "display_data"
    }
   ],
   "source": [
    "cnf_matrix = confusion_matrix(val_y, np.argmax(pred_val_y,axis=1))\n",
    "np.set_printoptions(precision=2)\n",
    "\n",
    "# Plot non-normalized confusion matrix\n",
    "plt.figure(figsize=(8,8))\n",
    "plot_confusion_matrix(cnf_matrix, classes=['EAP', 'HPL', 'MWS'],\n",
    "                      title='Confusion matrix of XGB, without normalization')\n",
    "plt.show()"
   ]
  },
  {
   "cell_type": "markdown",
   "metadata": {
    "_cell_guid": "855a4e2b-d377-4a91-bac9-4202119c8666",
    "_uuid": "5e40512bdaf05ffbd7a1914735c46784d7c33329"
   },
   "source": [
    "EAP and MWS seem to be misclassified more often than others. We could potentially create features which improves the predictions for this pair.\n",
    "\n",
    "**Next steps in this FE notebook:**\n",
    "* Using word embedding based features \n",
    "* Other meta features if any\n",
    "* Sentiment on the sentences"
   ]
  },
  {
   "cell_type": "markdown",
   "metadata": {
    "_cell_guid": "7a43b172-b6b6-4fd2-89d6-7300672cc462",
    "_uuid": "117205aae679d7b6481df1c446cd42f41cf924de"
   },
   "source": [
    "**Ideas for further improvements:**\n",
    "* Parameter tuning for tfidf and count vectorizer\n",
    "* Parameter tuning for naive bayes and XGB models\n",
    "* Ensembling / Stacking with other models"
   ]
  },
  {
   "cell_type": "code",
   "execution_count": null,
   "metadata": {},
   "outputs": [],
   "source": []
  },
  {
   "cell_type": "code",
   "execution_count": null,
   "metadata": {
    "_cell_guid": "22214ed1-d307-4dbe-9345-ed3a65c325d8",
    "_uuid": "64fe31b5bbe8d2463cd38bf1c2d5636adbbfc662"
   },
   "outputs": [],
   "source": [
    "\n",
    "**More to come. Stay tuned.!**"
   ]
  }
 ],
 "metadata": {
  "kernelspec": {
   "display_name": "Python 3",
   "language": "python",
   "name": "python3"
  },
  "language_info": {
   "codemirror_mode": {
    "name": "ipython",
    "version": 3
   },
   "file_extension": ".py",
   "mimetype": "text/x-python",
   "name": "python",
   "nbconvert_exporter": "python",
   "pygments_lexer": "ipython3",
   "version": "3.6.3"
  }
 },
 "nbformat": 4,
 "nbformat_minor": 1
}
